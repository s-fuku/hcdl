{
 "cells": [
  {
   "cell_type": "code",
   "execution_count": null,
   "metadata": {},
   "outputs": [],
   "source": [
    "%matplotlib inline\n",
    "import numpy as np\n",
    "import pandas as pd\n",
    "import networkx as nx\n",
    "\n",
    "import matplotlib.pyplot as plt\n",
    "import seaborn as sns\n",
    "sns.reset_orig()\n",
    "\n",
    "from matplotlib import rc\n",
    "rc('text', usetex=True)\n",
    "rc('font', **{'family' : \"sans-serif\"})\n",
    "params = {'text.latex.preamble' : [r'\\usepackage{siunitx}', r'\\usepackage{amsmath}']}\n",
    "plt.rcParams.update(params)\n",
    "\n",
    "from scipy.stats import bernoulli\n",
    "from scipy.special import loggamma\n",
    "\n",
    "from sklearn.preprocessing import OneHotEncoder\n",
    "\n",
    "import tqdm\n",
    "\n",
    "from rpy2.robjects import numpy2ri\n",
    "from rpy2.robjects.packages import importr"
   ]
  },
  {
   "cell_type": "code",
   "execution_count": null,
   "metadata": {},
   "outputs": [],
   "source": [
    "import os\n",
    "import pickle"
   ]
  },
  {
   "cell_type": "code",
   "execution_count": null,
   "metadata": {},
   "outputs": [],
   "source": [
    "from joblib import Parallel, delayed"
   ]
  },
  {
   "cell_type": "code",
   "execution_count": null,
   "metadata": {},
   "outputs": [],
   "source": [
    "import warnings\n",
    "warnings.resetwarnings()\n",
    "warnings.simplefilter('ignore', UserWarning)"
   ]
  },
  {
   "cell_type": "code",
   "execution_count": null,
   "metadata": {},
   "outputs": [],
   "source": [
    "EPS = np.finfo(np.float).eps"
   ]
  },
  {
   "cell_type": "code",
   "execution_count": null,
   "metadata": {},
   "outputs": [],
   "source": [
    "pd.options.display.max_rows = 200\n",
    "pd.options.display.max_columns = 200"
   ]
  },
  {
   "cell_type": "code",
   "execution_count": null,
   "metadata": {},
   "outputs": [],
   "source": [
    "indir = './data'\n",
    "outdir = './output'\n",
    "if not os.path.exists(outdir):\n",
    "    os.makedirs(outdir)"
   ]
  },
  {
   "cell_type": "code",
   "execution_count": null,
   "metadata": {},
   "outputs": [],
   "source": [
    "# R packages\n",
    "## blockmodels\n",
    "blockmodels = importr(\"blockmodels\")\n",
    "## label.switching\n",
    "label_switching = importr(\"label.switching\")\n",
    "## base\n",
    "base = importr(\"base\")\n",
    "\n",
    "dollar = base.__dict__[\"$\"]"
   ]
  },
  {
   "cell_type": "code",
   "execution_count": null,
   "metadata": {},
   "outputs": [],
   "source": [
    "from functools import lru_cache\n",
    "\n",
    "@lru_cache(maxsize = 10000)\n",
    "def normterm_discrete(n, k):\n",
    "    if n == 1:\n",
    "        return np.log(k)\n",
    "    if k == 1:\n",
    "        return 1.0\n",
    "    elif k == 2:\n",
    "        return np.sum(sorted([ np.exp(loggamma(n+1) - loggamma(t+1) - loggamma(n-t+1) + \n",
    "                               t*(np.log(t) - np.log(n)) + (n-t)*(np.log(n-t) - np.log(n))\n",
    "                        )\n",
    "                        for t in range(1, n)]))\n",
    "    else:\n",
    "        return normterm_discrete(n, k-1) + n/(k-2) * normterm_discrete(n, k-2)"
   ]
  },
  {
   "cell_type": "code",
   "execution_count": 10,
   "metadata": {},
   "outputs": [],
   "source": [
    "def check_latent_index_variable(z):\n",
    "    unique_z = sorted(np.unique(z))\n",
    "    if len(unique_z) == np.max(z) + 1:\n",
    "        return z\n",
    "    new_z = np.zeros(z.shape, dtype=np.int)\n",
    "    for index, current in enumerate(unique_z):\n",
    "        new_z[z == current] = index\n",
    "    return new_z"
   ]
  },
  {
   "cell_type": "code",
   "execution_count": 11,
   "metadata": {},
   "outputs": [],
   "source": [
    "def calc_dnml(X, Z1, Z2, K=3, L=3):    \n",
    "    N = X.shape[0]\n",
    "    \n",
    "    codelen_x_z = 0.0\n",
    "    codelen_z = 0.0\n",
    "\n",
    "    for k in range(K):\n",
    "        for l in range(L):\n",
    "            n_pos = np.sum(X[Z1 == k, :][:, Z2 == l] == 1)\n",
    "            n_neg = np.sum(X[Z1 == k, :][:, Z2 == l] == 0)\n",
    "            n_all = n_pos + n_neg\n",
    "\n",
    "            if n_all >=2:\n",
    "                codelen_x_z += n_all * np.log(n_all)\n",
    "                codelen_x_z += np.log(normterm_discrete(n_all, 2))\n",
    "            \n",
    "            if n_pos >=2:\n",
    "                codelen_x_z -= n_pos * np.log(n_pos)\n",
    "            if n_neg >=2:\n",
    "                codelen_x_z -= n_neg * np.log(n_neg)\n",
    "            \n",
    "        n_k = np.sum(Z1 == k)\n",
    "        if n_k >= 1:\n",
    "            codelen_z += n_k * (np.log(N) - np.log(n_k))\n",
    "\n",
    "    codelen_z += np.log(normterm_discrete(N, K))\n",
    "    \n",
    "    codelen = codelen_x_z + codelen_z\n",
    "\n",
    "    return codelen, codelen_x_z, codelen_z"
   ]
  },
  {
   "cell_type": "code",
   "execution_count": 12,
   "metadata": {},
   "outputs": [],
   "source": [
    "def calc_dnml_by_prob(X, Z, alpha, theta, K=3, L=3, eps=1e-12):    \n",
    "    N = X.shape[0]\n",
    "    \n",
    "    Z1 = np.argmax(Z, axis=1)\n",
    "    \n",
    "    Z1 = check_latent_index_variable(Z1)\n",
    "    Z2 = Z1\n",
    "    \n",
    "    codelen_x_z = 0.0\n",
    "    codelen_z = 0.0\n",
    "        \n",
    "    for k in range(K):\n",
    "        for l in range(L):\n",
    "            n_pos = np.sum(X[Z1 == k, :][:, Z2 == l] == 1)\n",
    "            n_neg = np.sum(X[Z1 == k, :][:, Z2 == l] == 0)\n",
    "            n_all = n_pos + n_neg\n",
    "            \n",
    "            if theta[k, l] < eps:\n",
    "                theta[k, l] = eps\n",
    "            if theta[k, l] > 1.0 - eps:\n",
    "                theta[k, l] = 1.0 - eps\n",
    "            \n",
    "            codelen_x_z += -n_pos * np.ma.log(theta[k, l]) - n_neg * np.ma.log(1.0 - theta[k, l])\n",
    "\n",
    "            if n_all >=2:\n",
    "                codelen_x_z += np.log(normterm_discrete(n_all, 2))\n",
    "    \n",
    "        n_k = np.sum(Z1 == k)\n",
    "        codelen_z += -n_k * np.log(alpha[k])\n",
    "\n",
    "    codelen_z += np.log(normterm_discrete(N, K))\n",
    "\n",
    "    codelen = codelen_x_z + codelen_z\n",
    "\n",
    "    return codelen, codelen_x_z, codelen_z"
   ]
  },
  {
   "cell_type": "code",
   "execution_count": 13,
   "metadata": {},
   "outputs": [],
   "source": [
    "def calc_stats(X, #z, \n",
    "               scores, scores_f, scores_l, h, delta, K=10):\n",
    "    scores = np.array(scores)\n",
    "    scores_f = np.array(scores_f)\n",
    "    scores_l = np.array(scores_l)\n",
    "    \n",
    "    K = scores.shape[2]\n",
    "    N_trial = scores.shape[0]\n",
    "    T = scores.shape[1]\n",
    "    \n",
    "    codelens = np.array([ codelen_integer(k) for k in range(1, K+1)])\n",
    "    \n",
    "    idxes_all = np.argmin(scores + np.tile(codelens[np.newaxis, np.newaxis], (N_trial, T, 1))[0, 0, :], axis=2)\n",
    "    \n",
    "    models_estimated = np.nan * np.ones((N_trial, T), dtype=np.float)\n",
    "    models_former = np.nan * np.ones((N_trial, T), dtype=np.float)\n",
    "    models_latter = np.nan * np.ones((N_trial, T), dtype=np.float)\n",
    "    stats_complete = np.nan * np.ones((N_trial, T), dtype=np.float)\n",
    "    \n",
    "    for trial in range(scores.shape[0]):\n",
    "        n_change = 0  # number of changes so far.\n",
    "        for t in range(h, T-h):\n",
    "            alpha= (n_change+1/2) / (t+1+1)\n",
    "            m_estimated = idxes_all[trial, t]\n",
    "\n",
    "            # Lv.3 change (Model change)\n",
    "            stats_half_t = np.zeros((K, K), dtype=np.float)\n",
    "            for k1 in range(K):\n",
    "                stats_former = scores_f[trial, t, k1]\n",
    "                for k2 in range(K):\n",
    "                    if k1 == k2:\n",
    "                        p = 1.0 - alpha\n",
    "                    else:\n",
    "                        p = alpha/(K-1)\n",
    "                    stats_latter = scores_l[trial, t, k2]\n",
    "                    stats_half_t[k1, k2] = (stats_former + stats_latter) + codelens[k1] - np.log(p)\n",
    "            m_former_estimated, m_latter_estimated = np.unravel_index(np.nanargmin(stats_half_t), (K, K))\n",
    "            models_former[trial, t] = m_former_estimated\n",
    "            models_latter[trial, t] = m_latter_estimated\n",
    "            \n",
    "            stat = 0.5 / h *(scores[trial, t, m_estimated] + codelens[m_estimated] - stats_half_t[m_former_estimated, m_latter_estimated])\n",
    "            stats_complete[trial, t] = stat\n",
    "            \n",
    "            if (m_estimated == m_latter_estimated):\n",
    "                # no model change happened\n",
    "                model_t = m_estimated\n",
    "            else:\n",
    "                model_t = m_latter_estimated\n",
    "            \n",
    "            if t >= 1:\n",
    "                model_prev = models_estimated[trial, t-1]\n",
    "                if model_t != model_prev:\n",
    "                    n_change += 1            \n",
    "            models_estimated[trial, t] = model_t\n",
    "    \n",
    "    return stats_complete, models_estimated, models_former, models_latter"
   ]
  },
  {
   "cell_type": "code",
   "execution_count": 14,
   "metadata": {},
   "outputs": [],
   "source": [
    "def calc_stats_with_modelidx(scores, scores_f, scores_l, idxes_model, idxes_model_f, idxes_model_l, h):\n",
    "    scores = np.array(scores)\n",
    "    scores_f = np.array(scores_f)\n",
    "    scores_l = np.array(scores_l)\n",
    "    \n",
    "    stats_complete = np.nan * np.ones((idxes_model.shape[0], idxes_model.shape[1]), dtype=np.float)\n",
    "    for trial in range(idxes_model.shape[0]):\n",
    "        for t in range(h, idxes_model.shape[1]-h):\n",
    "            stat = 0.5/h * (scores[trial, t, int(idxes_model[trial, t])] - \\\n",
    "                            (scores_f[trial, t, int(idxes_model_f[trial, t])] + \\\n",
    "                            scores_l[trial, t, int(idxes_model_l[trial, t])] ))\n",
    "            stats_complete[trial, t] = stat\n",
    "            \n",
    "    return stats_complete"
   ]
  },
  {
   "cell_type": "code",
   "execution_count": 15,
   "metadata": {},
   "outputs": [],
   "source": [
    "def codelen_integer(k):\n",
    "    codelen = np.log(2.865)\n",
    "    k = np.log(k)\n",
    "    while k >= 0.0:\n",
    "        codelen += k\n",
    "        k = np.log(k)\n",
    "        \n",
    "    return codelen"
   ]
  },
  {
   "cell_type": "code",
   "execution_count": null,
   "metadata": {},
   "outputs": [],
   "source": []
  },
  {
   "cell_type": "code",
   "execution_count": 16,
   "metadata": {},
   "outputs": [],
   "source": [
    "with open(os.path.join(indir, 'X_gradual.pkl'), 'rb') as f:\n",
    "    X_all = pickle.load(f)\n",
    "with open(os.path.join(indir, 'Z_gradual.pkl'), 'rb') as f:\n",
    "    Z_true_all = pickle.load(f)"
   ]
  },
  {
   "cell_type": "code",
   "execution_count": 17,
   "metadata": {},
   "outputs": [
    {
     "data": {
      "text/plain": [
       "(8, 90, 100, 100)"
      ]
     },
     "execution_count": 17,
     "metadata": {},
     "output_type": "execute_result"
    }
   ],
   "source": [
    "X_all.shape"
   ]
  },
  {
   "cell_type": "code",
   "execution_count": 18,
   "metadata": {},
   "outputs": [],
   "source": [
    "def estimate_sbm_each_trial(X, trial, K, T):\n",
    "    pi_list_trial = []\n",
    "    theta_list_trial = []\n",
    "    z_list_trial = []\n",
    "    \n",
    "    for t in tqdm.tqdm(range(T)):\n",
    "        seed = trial * T + t\n",
    "        numpy2ri.activate()\n",
    "        sbm = blockmodels.BM_bernoulli(membership_type=\"SBM\", \n",
    "                                       adj=np.array(X[trial, t, :, :]),\n",
    "                                       verbosity=0,\n",
    "                                       exploration_factor=1.5,\n",
    "                                       explore_min=K,\n",
    "                                       explore_max=K)\n",
    "\n",
    "        estimate = dollar(sbm, \"estimate\")\n",
    "        estimate()\n",
    "\n",
    "        pi_list = []\n",
    "        theta_list = []\n",
    "        z_posterior_list = []\n",
    "        for k in range(K):\n",
    "            n_clusters = k + 1\n",
    "            theta = np.array(dollar(dollar(sbm, \"model_parameters\")[k], \"pi\"))\n",
    "            z_posterior = np.array(dollar(dollar(sbm, \"memberships\")[k], \"Z\"))\n",
    "            pi = np.sum(z_posterior, axis=0) + 10 * EPS\n",
    "            pi /= np.sum(pi)\n",
    "\n",
    "            theta_list.append(theta)\n",
    "            z_posterior_list.append(z_posterior)\n",
    "            pi_list.append(pi)\n",
    "\n",
    "        numpy2ri.deactivate()\n",
    "        \n",
    "        pi_list_trial.append(pi_list)\n",
    "        theta_list_trial.append(theta_list)\n",
    "        z_list_trial.append(z_posterior_list)\n",
    "\n",
    "    return pi_list_trial, theta_list_trial, z_list_trial"
   ]
  },
  {
   "cell_type": "code",
   "execution_count": 19,
   "metadata": {},
   "outputs": [
    {
     "name": "stderr",
     "output_type": "stream",
     "text": [
      "  0%|          | 0/90 [00:00<?, ?it/s]"
     ]
    },
    {
     "name": "stdout",
     "output_type": "stream",
     "text": [
      "\n"
     ]
    },
    {
     "name": "stderr",
     "output_type": "stream",
     "text": [
      "  1%|          | 1/90 [00:10<16:14, 10.94s/it]"
     ]
    },
    {
     "name": "stdout",
     "output_type": "stream",
     "text": [
      "\n"
     ]
    },
    {
     "name": "stderr",
     "output_type": "stream",
     "text": [
      "  2%|▏         | 2/90 [00:19<15:12, 10.37s/it]"
     ]
    },
    {
     "name": "stdout",
     "output_type": "stream",
     "text": [
      "\n"
     ]
    },
    {
     "name": "stderr",
     "output_type": "stream",
     "text": [
      "  3%|▎         | 3/90 [00:28<14:22,  9.91s/it]"
     ]
    },
    {
     "name": "stdout",
     "output_type": "stream",
     "text": [
      "\n",
      "\r"
     ]
    },
    {
     "name": "stderr",
     "output_type": "stream",
     "text": [
      "  4%|▍         | 4/90 [00:36<13:02,  9.10s/it]"
     ]
    },
    {
     "name": "stdout",
     "output_type": "stream",
     "text": [
      "\n"
     ]
    },
    {
     "name": "stderr",
     "output_type": "stream",
     "text": [
      "  6%|▌         | 5/90 [00:43<12:02,  8.50s/it]"
     ]
    },
    {
     "name": "stdout",
     "output_type": "stream",
     "text": [
      "\n",
      "\r"
     ]
    },
    {
     "name": "stderr",
     "output_type": "stream",
     "text": [
      "  7%|▋         | 6/90 [00:51<11:58,  8.56s/it]"
     ]
    },
    {
     "name": "stdout",
     "output_type": "stream",
     "text": [
      "\n"
     ]
    },
    {
     "name": "stderr",
     "output_type": "stream",
     "text": [
      "  8%|▊         | 7/90 [00:59<11:26,  8.28s/it]"
     ]
    },
    {
     "name": "stdout",
     "output_type": "stream",
     "text": [
      "\n"
     ]
    },
    {
     "name": "stderr",
     "output_type": "stream",
     "text": [
      "  9%|▉         | 8/90 [01:04<10:06,  7.40s/it]"
     ]
    },
    {
     "name": "stdout",
     "output_type": "stream",
     "text": [
      "\n"
     ]
    },
    {
     "name": "stderr",
     "output_type": "stream",
     "text": [
      " 10%|█         | 9/90 [01:11<09:53,  7.32s/it]"
     ]
    },
    {
     "name": "stdout",
     "output_type": "stream",
     "text": [
      "\n",
      "\r"
     ]
    },
    {
     "name": "stderr",
     "output_type": "stream",
     "text": [
      " 11%|█         | 10/90 [01:18<09:15,  6.95s/it]"
     ]
    },
    {
     "name": "stdout",
     "output_type": "stream",
     "text": [
      "\n",
      "\r"
     ]
    },
    {
     "name": "stderr",
     "output_type": "stream",
     "text": [
      " 12%|█▏        | 11/90 [01:25<09:22,  7.12s/it]"
     ]
    },
    {
     "name": "stdout",
     "output_type": "stream",
     "text": [
      "\n",
      "\r"
     ]
    },
    {
     "name": "stderr",
     "output_type": "stream",
     "text": [
      " 13%|█▎        | 12/90 [01:33<09:35,  7.37s/it]"
     ]
    },
    {
     "name": "stdout",
     "output_type": "stream",
     "text": [
      "\n",
      "\r"
     ]
    },
    {
     "name": "stderr",
     "output_type": "stream",
     "text": [
      " 14%|█▍        | 13/90 [01:44<10:58,  8.56s/it]"
     ]
    },
    {
     "name": "stdout",
     "output_type": "stream",
     "text": [
      "\n"
     ]
    },
    {
     "name": "stderr",
     "output_type": "stream",
     "text": [
      " 16%|█▌        | 14/90 [01:49<09:27,  7.47s/it]"
     ]
    },
    {
     "name": "stdout",
     "output_type": "stream",
     "text": [
      "\n"
     ]
    },
    {
     "name": "stderr",
     "output_type": "stream",
     "text": [
      " 17%|█▋        | 15/90 [01:56<09:06,  7.29s/it]"
     ]
    },
    {
     "name": "stdout",
     "output_type": "stream",
     "text": [
      "\n"
     ]
    },
    {
     "name": "stderr",
     "output_type": "stream",
     "text": [
      " 18%|█▊        | 16/90 [02:02<08:18,  6.74s/it]"
     ]
    },
    {
     "name": "stdout",
     "output_type": "stream",
     "text": [
      "\n"
     ]
    },
    {
     "name": "stderr",
     "output_type": "stream",
     "text": [
      " 19%|█▉        | 17/90 [02:05<07:08,  5.87s/it]"
     ]
    },
    {
     "name": "stdout",
     "output_type": "stream",
     "text": [
      "\n"
     ]
    },
    {
     "name": "stderr",
     "output_type": "stream",
     "text": [
      " 20%|██        | 18/90 [02:11<06:54,  5.76s/it]"
     ]
    },
    {
     "name": "stdout",
     "output_type": "stream",
     "text": [
      "\n",
      "\r"
     ]
    },
    {
     "name": "stderr",
     "output_type": "stream",
     "text": [
      " 21%|██        | 19/90 [02:15<06:12,  5.24s/it]"
     ]
    },
    {
     "name": "stdout",
     "output_type": "stream",
     "text": [
      "\n",
      "\r"
     ]
    },
    {
     "name": "stderr",
     "output_type": "stream",
     "text": [
      " 22%|██▏       | 20/90 [02:19<05:51,  5.03s/it]"
     ]
    },
    {
     "name": "stdout",
     "output_type": "stream",
     "text": [
      "\n"
     ]
    },
    {
     "name": "stderr",
     "output_type": "stream",
     "text": [
      " 23%|██▎       | 21/90 [02:24<05:37,  4.88s/it]"
     ]
    },
    {
     "name": "stdout",
     "output_type": "stream",
     "text": [
      "\n",
      "\r"
     ]
    },
    {
     "name": "stderr",
     "output_type": "stream",
     "text": [
      " 24%|██▍       | 22/90 [02:29<05:38,  4.97s/it]"
     ]
    },
    {
     "name": "stdout",
     "output_type": "stream",
     "text": [
      "\n"
     ]
    },
    {
     "name": "stderr",
     "output_type": "stream",
     "text": [
      " 26%|██▌       | 23/90 [02:37<06:36,  5.92s/it]"
     ]
    },
    {
     "name": "stdout",
     "output_type": "stream",
     "text": [
      "\n",
      "\r"
     ]
    },
    {
     "name": "stderr",
     "output_type": "stream",
     "text": [
      " 27%|██▋       | 24/90 [02:44<06:51,  6.23s/it]"
     ]
    },
    {
     "name": "stdout",
     "output_type": "stream",
     "text": [
      "\n"
     ]
    },
    {
     "name": "stderr",
     "output_type": "stream",
     "text": [
      " 28%|██▊       | 25/90 [02:50<06:30,  6.00s/it]"
     ]
    },
    {
     "name": "stdout",
     "output_type": "stream",
     "text": [
      "\n"
     ]
    },
    {
     "name": "stderr",
     "output_type": "stream",
     "text": [
      " 29%|██▉       | 26/90 [02:55<06:18,  5.92s/it]"
     ]
    },
    {
     "name": "stdout",
     "output_type": "stream",
     "text": [
      "\n"
     ]
    },
    {
     "name": "stderr",
     "output_type": "stream",
     "text": [
      " 30%|███       | 27/90 [03:02<06:20,  6.03s/it]"
     ]
    },
    {
     "name": "stdout",
     "output_type": "stream",
     "text": [
      "\n",
      "\r"
     ]
    },
    {
     "name": "stderr",
     "output_type": "stream",
     "text": [
      " 31%|███       | 28/90 [03:07<06:03,  5.86s/it]"
     ]
    },
    {
     "name": "stdout",
     "output_type": "stream",
     "text": [
      "\n",
      "\r"
     ]
    },
    {
     "name": "stderr",
     "output_type": "stream",
     "text": [
      " 32%|███▏      | 29/90 [03:14<06:10,  6.08s/it]"
     ]
    },
    {
     "name": "stdout",
     "output_type": "stream",
     "text": [
      "\n"
     ]
    },
    {
     "name": "stderr",
     "output_type": "stream",
     "text": [
      " 33%|███▎      | 30/90 [03:19<05:55,  5.93s/it]"
     ]
    },
    {
     "name": "stdout",
     "output_type": "stream",
     "text": [
      "\n"
     ]
    },
    {
     "name": "stderr",
     "output_type": "stream",
     "text": [
      " 34%|███▍      | 31/90 [03:26<06:05,  6.20s/it]"
     ]
    },
    {
     "name": "stdout",
     "output_type": "stream",
     "text": [
      "\n"
     ]
    },
    {
     "name": "stderr",
     "output_type": "stream",
     "text": [
      " 36%|███▌      | 32/90 [03:36<06:57,  7.20s/it]"
     ]
    },
    {
     "name": "stdout",
     "output_type": "stream",
     "text": [
      "\n",
      "\r"
     ]
    },
    {
     "name": "stderr",
     "output_type": "stream",
     "text": [
      " 37%|███▋      | 33/90 [03:42<06:40,  7.02s/it]"
     ]
    },
    {
     "name": "stdout",
     "output_type": "stream",
     "text": [
      "\n",
      "\r"
     ]
    },
    {
     "name": "stderr",
     "output_type": "stream",
     "text": [
      " 38%|███▊      | 34/90 [03:49<06:29,  6.95s/it]"
     ]
    },
    {
     "name": "stdout",
     "output_type": "stream",
     "text": [
      "\n",
      "\r"
     ]
    },
    {
     "name": "stderr",
     "output_type": "stream",
     "text": [
      " 39%|███▉      | 35/90 [03:54<05:45,  6.28s/it]"
     ]
    },
    {
     "name": "stdout",
     "output_type": "stream",
     "text": [
      "\n",
      "\r"
     ]
    },
    {
     "name": "stderr",
     "output_type": "stream",
     "text": [
      " 40%|████      | 36/90 [03:58<05:07,  5.69s/it]"
     ]
    },
    {
     "name": "stdout",
     "output_type": "stream",
     "text": [
      "\n",
      "\r"
     ]
    },
    {
     "name": "stderr",
     "output_type": "stream",
     "text": [
      " 41%|████      | 37/90 [04:03<04:41,  5.31s/it]"
     ]
    },
    {
     "name": "stdout",
     "output_type": "stream",
     "text": [
      "\n",
      "\r"
     ]
    },
    {
     "name": "stderr",
     "output_type": "stream",
     "text": [
      " 42%|████▏     | 38/90 [04:08<04:29,  5.19s/it]"
     ]
    },
    {
     "name": "stdout",
     "output_type": "stream",
     "text": [
      "\n",
      "\r"
     ]
    },
    {
     "name": "stderr",
     "output_type": "stream",
     "text": [
      " 43%|████▎     | 39/90 [04:12<04:14,  5.00s/it]"
     ]
    },
    {
     "name": "stdout",
     "output_type": "stream",
     "text": [
      "\n"
     ]
    },
    {
     "name": "stderr",
     "output_type": "stream",
     "text": [
      " 44%|████▍     | 40/90 [04:18<04:25,  5.31s/it]"
     ]
    },
    {
     "name": "stdout",
     "output_type": "stream",
     "text": [
      "\n"
     ]
    },
    {
     "name": "stderr",
     "output_type": "stream",
     "text": [
      " 46%|████▌     | 41/90 [04:25<04:48,  5.89s/it]"
     ]
    },
    {
     "name": "stdout",
     "output_type": "stream",
     "text": [
      "\n",
      "\r"
     ]
    },
    {
     "name": "stderr",
     "output_type": "stream",
     "text": [
      " 47%|████▋     | 42/90 [04:31<04:35,  5.74s/it]"
     ]
    },
    {
     "name": "stdout",
     "output_type": "stream",
     "text": [
      "\n"
     ]
    },
    {
     "name": "stderr",
     "output_type": "stream",
     "text": [
      " 48%|████▊     | 43/90 [04:38<04:57,  6.33s/it]"
     ]
    },
    {
     "name": "stdout",
     "output_type": "stream",
     "text": [
      "\n"
     ]
    },
    {
     "name": "stderr",
     "output_type": "stream",
     "text": [
      " 49%|████▉     | 44/90 [04:44<04:46,  6.23s/it]"
     ]
    },
    {
     "name": "stdout",
     "output_type": "stream",
     "text": [
      "\n",
      "\r"
     ]
    },
    {
     "name": "stderr",
     "output_type": "stream",
     "text": [
      " 50%|█████     | 45/90 [04:50<04:29,  5.98s/it]"
     ]
    },
    {
     "name": "stdout",
     "output_type": "stream",
     "text": [
      "\n",
      "\r"
     ]
    },
    {
     "name": "stderr",
     "output_type": "stream",
     "text": [
      " 51%|█████     | 46/90 [04:55<04:07,  5.62s/it]"
     ]
    },
    {
     "name": "stdout",
     "output_type": "stream",
     "text": [
      "\n"
     ]
    },
    {
     "name": "stderr",
     "output_type": "stream",
     "text": [
      " 52%|█████▏    | 47/90 [05:03<04:40,  6.51s/it]"
     ]
    },
    {
     "name": "stdout",
     "output_type": "stream",
     "text": [
      "\n",
      "\r"
     ]
    },
    {
     "name": "stderr",
     "output_type": "stream",
     "text": [
      " 53%|█████▎    | 48/90 [05:08<04:12,  6.02s/it]"
     ]
    },
    {
     "name": "stdout",
     "output_type": "stream",
     "text": [
      "\n",
      "\r"
     ]
    },
    {
     "name": "stderr",
     "output_type": "stream",
     "text": [
      " 54%|█████▍    | 49/90 [05:13<03:57,  5.80s/it]"
     ]
    },
    {
     "name": "stdout",
     "output_type": "stream",
     "text": [
      "\n",
      "\r"
     ]
    },
    {
     "name": "stderr",
     "output_type": "stream",
     "text": [
      " 56%|█████▌    | 50/90 [05:19<03:48,  5.71s/it]"
     ]
    },
    {
     "name": "stdout",
     "output_type": "stream",
     "text": [
      "\n",
      "\r"
     ]
    },
    {
     "name": "stderr",
     "output_type": "stream",
     "text": [
      " 57%|█████▋    | 51/90 [05:25<03:45,  5.79s/it]"
     ]
    },
    {
     "name": "stdout",
     "output_type": "stream",
     "text": [
      "\n",
      "\r"
     ]
    },
    {
     "name": "stderr",
     "output_type": "stream",
     "text": [
      " 58%|█████▊    | 52/90 [05:32<03:52,  6.11s/it]"
     ]
    },
    {
     "name": "stdout",
     "output_type": "stream",
     "text": [
      "\n"
     ]
    },
    {
     "name": "stderr",
     "output_type": "stream",
     "text": [
      " 59%|█████▉    | 53/90 [05:36<03:30,  5.68s/it]"
     ]
    },
    {
     "name": "stdout",
     "output_type": "stream",
     "text": [
      "\n"
     ]
    },
    {
     "name": "stderr",
     "output_type": "stream",
     "text": [
      " 60%|██████    | 54/90 [05:40<03:05,  5.16s/it]"
     ]
    },
    {
     "name": "stdout",
     "output_type": "stream",
     "text": [
      "\n",
      "\r"
     ]
    },
    {
     "name": "stderr",
     "output_type": "stream",
     "text": [
      " 61%|██████    | 55/90 [05:45<03:00,  5.16s/it]"
     ]
    },
    {
     "name": "stdout",
     "output_type": "stream",
     "text": [
      "\n"
     ]
    },
    {
     "name": "stderr",
     "output_type": "stream",
     "text": [
      " 62%|██████▏   | 56/90 [05:53<03:16,  5.79s/it]"
     ]
    },
    {
     "name": "stdout",
     "output_type": "stream",
     "text": [
      "\n"
     ]
    },
    {
     "name": "stderr",
     "output_type": "stream",
     "text": [
      " 63%|██████▎   | 57/90 [06:00<03:29,  6.35s/it]"
     ]
    },
    {
     "name": "stdout",
     "output_type": "stream",
     "text": [
      "\n",
      "\r"
     ]
    },
    {
     "name": "stderr",
     "output_type": "stream",
     "text": [
      " 64%|██████▍   | 58/90 [06:06<03:12,  6.02s/it]"
     ]
    },
    {
     "name": "stdout",
     "output_type": "stream",
     "text": [
      "\n"
     ]
    },
    {
     "name": "stderr",
     "output_type": "stream",
     "text": [
      " 66%|██████▌   | 59/90 [06:11<03:02,  5.90s/it]"
     ]
    },
    {
     "name": "stdout",
     "output_type": "stream",
     "text": [
      "\n"
     ]
    },
    {
     "name": "stderr",
     "output_type": "stream",
     "text": [
      " 67%|██████▋   | 60/90 [06:17<02:53,  5.78s/it]"
     ]
    },
    {
     "name": "stdout",
     "output_type": "stream",
     "text": [
      "\n"
     ]
    },
    {
     "name": "stderr",
     "output_type": "stream",
     "text": [
      " 68%|██████▊   | 61/90 [06:21<02:32,  5.28s/it]"
     ]
    },
    {
     "name": "stdout",
     "output_type": "stream",
     "text": [
      "\n"
     ]
    },
    {
     "name": "stderr",
     "output_type": "stream",
     "text": [
      " 69%|██████▉   | 62/90 [06:27<02:38,  5.67s/it]"
     ]
    },
    {
     "name": "stdout",
     "output_type": "stream",
     "text": [
      "\n",
      "\r"
     ]
    },
    {
     "name": "stderr",
     "output_type": "stream",
     "text": [
      " 70%|███████   | 63/90 [06:31<02:19,  5.17s/it]"
     ]
    },
    {
     "name": "stdout",
     "output_type": "stream",
     "text": [
      "\n",
      "\r"
     ]
    },
    {
     "name": "stderr",
     "output_type": "stream",
     "text": [
      " 71%|███████   | 64/90 [06:36<02:12,  5.11s/it]"
     ]
    },
    {
     "name": "stdout",
     "output_type": "stream",
     "text": [
      "\n"
     ]
    },
    {
     "name": "stderr",
     "output_type": "stream",
     "text": [
      " 72%|███████▏  | 65/90 [06:43<02:18,  5.56s/it]"
     ]
    },
    {
     "name": "stdout",
     "output_type": "stream",
     "text": [
      "\n"
     ]
    },
    {
     "name": "stderr",
     "output_type": "stream",
     "text": [
      " 73%|███████▎  | 66/90 [06:51<02:28,  6.19s/it]"
     ]
    },
    {
     "name": "stdout",
     "output_type": "stream",
     "text": [
      "\n"
     ]
    },
    {
     "name": "stderr",
     "output_type": "stream",
     "text": [
      " 74%|███████▍  | 67/90 [06:59<02:39,  6.94s/it]"
     ]
    },
    {
     "name": "stdout",
     "output_type": "stream",
     "text": [
      "\n",
      "\r"
     ]
    },
    {
     "name": "stderr",
     "output_type": "stream",
     "text": [
      " 76%|███████▌  | 68/90 [07:04<02:19,  6.33s/it]"
     ]
    },
    {
     "name": "stdout",
     "output_type": "stream",
     "text": [
      "\n",
      "\r"
     ]
    },
    {
     "name": "stderr",
     "output_type": "stream",
     "text": [
      " 77%|███████▋  | 69/90 [07:09<02:05,  5.98s/it]"
     ]
    },
    {
     "name": "stdout",
     "output_type": "stream",
     "text": [
      "\n",
      "\r"
     ]
    },
    {
     "name": "stderr",
     "output_type": "stream",
     "text": [
      " 78%|███████▊  | 70/90 [07:14<01:50,  5.54s/it]"
     ]
    },
    {
     "name": "stdout",
     "output_type": "stream",
     "text": [
      "\n"
     ]
    },
    {
     "name": "stderr",
     "output_type": "stream",
     "text": [
      " 79%|███████▉  | 71/90 [07:20<01:47,  5.64s/it]"
     ]
    },
    {
     "name": "stdout",
     "output_type": "stream",
     "text": [
      "\n"
     ]
    },
    {
     "name": "stderr",
     "output_type": "stream",
     "text": [
      " 80%|████████  | 72/90 [07:26<01:43,  5.74s/it]"
     ]
    },
    {
     "name": "stdout",
     "output_type": "stream",
     "text": [
      "\n"
     ]
    },
    {
     "name": "stderr",
     "output_type": "stream",
     "text": [
      " 81%|████████  | 73/90 [07:32<01:40,  5.90s/it]"
     ]
    },
    {
     "name": "stdout",
     "output_type": "stream",
     "text": [
      "\n"
     ]
    },
    {
     "name": "stderr",
     "output_type": "stream",
     "text": [
      " 82%|████████▏ | 74/90 [07:37<01:31,  5.74s/it]"
     ]
    },
    {
     "name": "stdout",
     "output_type": "stream",
     "text": [
      "\n"
     ]
    },
    {
     "name": "stderr",
     "output_type": "stream",
     "text": [
      " 83%|████████▎ | 75/90 [07:43<01:24,  5.61s/it]"
     ]
    },
    {
     "name": "stdout",
     "output_type": "stream",
     "text": [
      "\n",
      "\r"
     ]
    },
    {
     "name": "stderr",
     "output_type": "stream",
     "text": [
      " 84%|████████▍ | 76/90 [07:49<01:22,  5.88s/it]"
     ]
    },
    {
     "name": "stdout",
     "output_type": "stream",
     "text": [
      "\n"
     ]
    },
    {
     "name": "stderr",
     "output_type": "stream",
     "text": [
      " 86%|████████▌ | 77/90 [07:55<01:14,  5.74s/it]"
     ]
    },
    {
     "name": "stdout",
     "output_type": "stream",
     "text": [
      "\n",
      "\r"
     ]
    },
    {
     "name": "stderr",
     "output_type": "stream",
     "text": [
      " 87%|████████▋ | 78/90 [08:03<01:19,  6.60s/it]"
     ]
    },
    {
     "name": "stdout",
     "output_type": "stream",
     "text": [
      "\n",
      "\r"
     ]
    },
    {
     "name": "stderr",
     "output_type": "stream",
     "text": [
      " 88%|████████▊ | 79/90 [08:07<01:01,  5.62s/it]"
     ]
    },
    {
     "name": "stdout",
     "output_type": "stream",
     "text": [
      "\n",
      "\r"
     ]
    },
    {
     "name": "stderr",
     "output_type": "stream",
     "text": [
      " 89%|████████▉ | 80/90 [08:13<00:59,  5.94s/it]"
     ]
    },
    {
     "name": "stdout",
     "output_type": "stream",
     "text": [
      "\n",
      "\r"
     ]
    },
    {
     "name": "stderr",
     "output_type": "stream",
     "text": [
      " 90%|█████████ | 81/90 [08:18<00:49,  5.48s/it]"
     ]
    },
    {
     "name": "stdout",
     "output_type": "stream",
     "text": [
      "\n",
      "\r"
     ]
    },
    {
     "name": "stderr",
     "output_type": "stream",
     "text": [
      " 91%|█████████ | 82/90 [08:23<00:43,  5.43s/it]"
     ]
    },
    {
     "name": "stdout",
     "output_type": "stream",
     "text": [
      "\n",
      "\r"
     ]
    },
    {
     "name": "stderr",
     "output_type": "stream",
     "text": [
      " 92%|█████████▏| 83/90 [08:28<00:36,  5.25s/it]"
     ]
    },
    {
     "name": "stdout",
     "output_type": "stream",
     "text": [
      "\n",
      "\r"
     ]
    },
    {
     "name": "stderr",
     "output_type": "stream",
     "text": [
      " 93%|█████████▎| 84/90 [08:32<00:28,  4.76s/it]"
     ]
    },
    {
     "name": "stdout",
     "output_type": "stream",
     "text": [
      "\n",
      "\r"
     ]
    },
    {
     "name": "stderr",
     "output_type": "stream",
     "text": [
      " 94%|█████████▍| 85/90 [08:36<00:23,  4.66s/it]"
     ]
    },
    {
     "name": "stdout",
     "output_type": "stream",
     "text": [
      "\n"
     ]
    },
    {
     "name": "stderr",
     "output_type": "stream",
     "text": [
      " 96%|█████████▌| 86/90 [08:42<00:19,  4.99s/it]"
     ]
    },
    {
     "name": "stdout",
     "output_type": "stream",
     "text": [
      "\n",
      "\r"
     ]
    },
    {
     "name": "stderr",
     "output_type": "stream",
     "text": [
      " 97%|█████████▋| 87/90 [08:48<00:16,  5.45s/it]"
     ]
    },
    {
     "name": "stdout",
     "output_type": "stream",
     "text": [
      "\n",
      "\r"
     ]
    },
    {
     "name": "stderr",
     "output_type": "stream",
     "text": [
      " 98%|█████████▊| 88/90 [08:54<00:10,  5.43s/it]"
     ]
    },
    {
     "name": "stdout",
     "output_type": "stream",
     "text": [
      "\n"
     ]
    },
    {
     "name": "stderr",
     "output_type": "stream",
     "text": [
      " 99%|█████████▉| 89/90 [09:00<00:05,  5.61s/it]"
     ]
    },
    {
     "name": "stdout",
     "output_type": "stream",
     "text": [
      "\n"
     ]
    },
    {
     "name": "stderr",
     "output_type": "stream",
     "text": [
      "100%|██████████| 90/90 [09:08<00:00,  6.10s/it]\n",
      "  0%|          | 0/90 [00:00<?, ?it/s]"
     ]
    },
    {
     "name": "stdout",
     "output_type": "stream",
     "text": [
      "\n",
      "\r"
     ]
    },
    {
     "name": "stderr",
     "output_type": "stream",
     "text": [
      "  1%|          | 1/90 [00:08<13:03,  8.81s/it]"
     ]
    },
    {
     "name": "stdout",
     "output_type": "stream",
     "text": [
      "\n",
      "\r"
     ]
    },
    {
     "name": "stderr",
     "output_type": "stream",
     "text": [
      "  2%|▏         | 2/90 [00:14<11:43,  7.99s/it]"
     ]
    },
    {
     "name": "stdout",
     "output_type": "stream",
     "text": [
      "\n"
     ]
    },
    {
     "name": "stderr",
     "output_type": "stream",
     "text": [
      "  3%|▎         | 3/90 [00:24<12:24,  8.55s/it]"
     ]
    },
    {
     "name": "stdout",
     "output_type": "stream",
     "text": [
      "\n"
     ]
    },
    {
     "name": "stderr",
     "output_type": "stream",
     "text": [
      "  4%|▍         | 4/90 [00:30<10:51,  7.58s/it]"
     ]
    },
    {
     "name": "stdout",
     "output_type": "stream",
     "text": [
      "\n"
     ]
    },
    {
     "name": "stderr",
     "output_type": "stream",
     "text": [
      "  6%|▌         | 5/90 [00:35<09:46,  6.89s/it]"
     ]
    },
    {
     "name": "stdout",
     "output_type": "stream",
     "text": [
      "\n"
     ]
    },
    {
     "name": "stderr",
     "output_type": "stream",
     "text": [
      "  7%|▋         | 6/90 [00:43<10:18,  7.36s/it]"
     ]
    },
    {
     "name": "stdout",
     "output_type": "stream",
     "text": [
      "\n",
      "\r"
     ]
    },
    {
     "name": "stderr",
     "output_type": "stream",
     "text": [
      "  8%|▊         | 7/90 [00:47<08:46,  6.34s/it]"
     ]
    },
    {
     "name": "stdout",
     "output_type": "stream",
     "text": [
      "\n"
     ]
    },
    {
     "name": "stderr",
     "output_type": "stream",
     "text": [
      "  9%|▉         | 8/90 [00:54<08:52,  6.50s/it]"
     ]
    },
    {
     "name": "stdout",
     "output_type": "stream",
     "text": [
      "\n",
      "\r"
     ]
    },
    {
     "name": "stderr",
     "output_type": "stream",
     "text": [
      " 10%|█         | 9/90 [00:58<07:33,  5.60s/it]"
     ]
    },
    {
     "name": "stdout",
     "output_type": "stream",
     "text": [
      "\n"
     ]
    },
    {
     "name": "stderr",
     "output_type": "stream",
     "text": [
      " 11%|█         | 10/90 [01:04<07:57,  5.97s/it]"
     ]
    },
    {
     "name": "stdout",
     "output_type": "stream",
     "text": [
      "\n",
      "\r"
     ]
    },
    {
     "name": "stderr",
     "output_type": "stream",
     "text": [
      " 12%|█▏        | 11/90 [01:11<08:14,  6.26s/it]"
     ]
    },
    {
     "name": "stdout",
     "output_type": "stream",
     "text": [
      "\n"
     ]
    },
    {
     "name": "stderr",
     "output_type": "stream",
     "text": [
      " 13%|█▎        | 12/90 [01:17<08:02,  6.18s/it]"
     ]
    },
    {
     "name": "stdout",
     "output_type": "stream",
     "text": [
      "\n"
     ]
    },
    {
     "name": "stderr",
     "output_type": "stream",
     "text": [
      " 14%|█▍        | 13/90 [01:23<07:49,  6.10s/it]"
     ]
    },
    {
     "name": "stdout",
     "output_type": "stream",
     "text": [
      "\n",
      "\r"
     ]
    },
    {
     "name": "stderr",
     "output_type": "stream",
     "text": [
      " 16%|█▌        | 14/90 [01:30<07:50,  6.19s/it]"
     ]
    },
    {
     "name": "stdout",
     "output_type": "stream",
     "text": [
      "\n",
      "\r"
     ]
    },
    {
     "name": "stderr",
     "output_type": "stream",
     "text": [
      " 17%|█▋        | 15/90 [01:34<07:04,  5.67s/it]"
     ]
    },
    {
     "name": "stdout",
     "output_type": "stream",
     "text": [
      "\n",
      "\r"
     ]
    },
    {
     "name": "stderr",
     "output_type": "stream",
     "text": [
      " 18%|█▊        | 16/90 [01:38<06:14,  5.06s/it]"
     ]
    },
    {
     "name": "stdout",
     "output_type": "stream",
     "text": [
      "\n",
      "\r"
     ]
    },
    {
     "name": "stderr",
     "output_type": "stream",
     "text": [
      " 19%|█▉        | 17/90 [01:44<06:42,  5.51s/it]"
     ]
    },
    {
     "name": "stdout",
     "output_type": "stream",
     "text": [
      "\n"
     ]
    },
    {
     "name": "stderr",
     "output_type": "stream",
     "text": [
      " 20%|██        | 18/90 [01:50<06:49,  5.68s/it]"
     ]
    },
    {
     "name": "stdout",
     "output_type": "stream",
     "text": [
      "\n"
     ]
    },
    {
     "name": "stderr",
     "output_type": "stream",
     "text": [
      " 21%|██        | 19/90 [01:59<07:51,  6.65s/it]"
     ]
    },
    {
     "name": "stdout",
     "output_type": "stream",
     "text": [
      "\n"
     ]
    },
    {
     "name": "stderr",
     "output_type": "stream",
     "text": [
      " 22%|██▏       | 20/90 [02:09<08:45,  7.51s/it]"
     ]
    },
    {
     "name": "stdout",
     "output_type": "stream",
     "text": [
      "\n"
     ]
    },
    {
     "name": "stderr",
     "output_type": "stream",
     "text": [
      " 23%|██▎       | 21/90 [02:18<09:14,  8.03s/it]"
     ]
    },
    {
     "name": "stdout",
     "output_type": "stream",
     "text": [
      "\n",
      "\r"
     ]
    },
    {
     "name": "stderr",
     "output_type": "stream",
     "text": [
      " 24%|██▍       | 22/90 [02:27<09:21,  8.25s/it]"
     ]
    },
    {
     "name": "stdout",
     "output_type": "stream",
     "text": [
      "\n",
      "\r"
     ]
    },
    {
     "name": "stderr",
     "output_type": "stream",
     "text": [
      " 26%|██▌       | 23/90 [02:40<10:49,  9.70s/it]"
     ]
    },
    {
     "name": "stdout",
     "output_type": "stream",
     "text": [
      "\n",
      "\r"
     ]
    },
    {
     "name": "stderr",
     "output_type": "stream",
     "text": [
      " 27%|██▋       | 24/90 [02:45<09:04,  8.24s/it]"
     ]
    },
    {
     "name": "stdout",
     "output_type": "stream",
     "text": [
      "\n",
      "\r"
     ]
    },
    {
     "name": "stderr",
     "output_type": "stream",
     "text": [
      " 28%|██▊       | 25/90 [02:54<09:07,  8.42s/it]"
     ]
    },
    {
     "name": "stdout",
     "output_type": "stream",
     "text": [
      "\n",
      "\r"
     ]
    },
    {
     "name": "stderr",
     "output_type": "stream",
     "text": [
      " 29%|██▉       | 26/90 [02:58<07:49,  7.34s/it]"
     ]
    },
    {
     "name": "stdout",
     "output_type": "stream",
     "text": [
      "\n"
     ]
    },
    {
     "name": "stderr",
     "output_type": "stream",
     "text": [
      " 30%|███       | 27/90 [03:04<07:09,  6.82s/it]"
     ]
    },
    {
     "name": "stdout",
     "output_type": "stream",
     "text": [
      "\n",
      "\r"
     ]
    },
    {
     "name": "stderr",
     "output_type": "stream",
     "text": [
      " 31%|███       | 28/90 [03:10<06:48,  6.59s/it]"
     ]
    },
    {
     "name": "stdout",
     "output_type": "stream",
     "text": [
      "\n",
      "\r"
     ]
    },
    {
     "name": "stderr",
     "output_type": "stream",
     "text": [
      " 32%|███▏      | 29/90 [03:22<08:20,  8.21s/it]"
     ]
    },
    {
     "name": "stdout",
     "output_type": "stream",
     "text": [
      "\n",
      "\r"
     ]
    },
    {
     "name": "stderr",
     "output_type": "stream",
     "text": [
      " 33%|███▎      | 30/90 [03:29<07:46,  7.78s/it]"
     ]
    },
    {
     "name": "stdout",
     "output_type": "stream",
     "text": [
      "\n",
      "\r"
     ]
    },
    {
     "name": "stderr",
     "output_type": "stream",
     "text": [
      " 34%|███▍      | 31/90 [03:40<08:40,  8.83s/it]"
     ]
    },
    {
     "name": "stdout",
     "output_type": "stream",
     "text": [
      "\n",
      "\r"
     ]
    },
    {
     "name": "stderr",
     "output_type": "stream",
     "text": [
      " 36%|███▌      | 32/90 [03:47<07:51,  8.12s/it]"
     ]
    },
    {
     "name": "stdout",
     "output_type": "stream",
     "text": [
      "\n"
     ]
    },
    {
     "name": "stderr",
     "output_type": "stream",
     "text": [
      " 37%|███▋      | 33/90 [03:54<07:24,  7.79s/it]"
     ]
    },
    {
     "name": "stdout",
     "output_type": "stream",
     "text": [
      "\n"
     ]
    },
    {
     "name": "stderr",
     "output_type": "stream",
     "text": [
      " 38%|███▊      | 34/90 [04:06<08:27,  9.07s/it]"
     ]
    },
    {
     "name": "stdout",
     "output_type": "stream",
     "text": [
      "\n",
      "\r"
     ]
    },
    {
     "name": "stderr",
     "output_type": "stream",
     "text": [
      " 39%|███▉      | 35/90 [04:12<07:38,  8.34s/it]"
     ]
    },
    {
     "name": "stdout",
     "output_type": "stream",
     "text": [
      "\n"
     ]
    },
    {
     "name": "stderr",
     "output_type": "stream",
     "text": [
      " 40%|████      | 36/90 [04:19<07:00,  7.78s/it]"
     ]
    },
    {
     "name": "stdout",
     "output_type": "stream",
     "text": [
      "\n",
      "\r"
     ]
    },
    {
     "name": "stderr",
     "output_type": "stream",
     "text": [
      " 41%|████      | 37/90 [04:24<06:17,  7.12s/it]"
     ]
    },
    {
     "name": "stdout",
     "output_type": "stream",
     "text": [
      "\n",
      "\r"
     ]
    },
    {
     "name": "stderr",
     "output_type": "stream",
     "text": [
      " 42%|████▏     | 38/90 [04:29<05:26,  6.27s/it]"
     ]
    },
    {
     "name": "stdout",
     "output_type": "stream",
     "text": [
      "\n"
     ]
    },
    {
     "name": "stderr",
     "output_type": "stream",
     "text": [
      " 43%|████▎     | 39/90 [04:36<05:28,  6.45s/it]"
     ]
    },
    {
     "name": "stdout",
     "output_type": "stream",
     "text": [
      "\n"
     ]
    },
    {
     "name": "stderr",
     "output_type": "stream",
     "text": [
      " 44%|████▍     | 40/90 [04:42<05:17,  6.36s/it]"
     ]
    },
    {
     "name": "stdout",
     "output_type": "stream",
     "text": [
      "\n"
     ]
    },
    {
     "name": "stderr",
     "output_type": "stream",
     "text": [
      " 46%|████▌     | 41/90 [04:50<05:38,  6.91s/it]"
     ]
    },
    {
     "name": "stdout",
     "output_type": "stream",
     "text": [
      "\n"
     ]
    },
    {
     "name": "stderr",
     "output_type": "stream",
     "text": [
      " 47%|████▋     | 42/90 [04:55<05:02,  6.30s/it]"
     ]
    },
    {
     "name": "stdout",
     "output_type": "stream",
     "text": [
      "\n",
      "\r"
     ]
    },
    {
     "name": "stderr",
     "output_type": "stream",
     "text": [
      " 48%|████▊     | 43/90 [05:02<05:07,  6.55s/it]"
     ]
    },
    {
     "name": "stdout",
     "output_type": "stream",
     "text": [
      "\n"
     ]
    },
    {
     "name": "stderr",
     "output_type": "stream",
     "text": [
      " 49%|████▉     | 44/90 [05:10<05:19,  6.95s/it]"
     ]
    },
    {
     "name": "stdout",
     "output_type": "stream",
     "text": [
      "\n",
      "\r"
     ]
    },
    {
     "name": "stderr",
     "output_type": "stream",
     "text": [
      " 50%|█████     | 45/90 [05:19<05:45,  7.68s/it]"
     ]
    },
    {
     "name": "stdout",
     "output_type": "stream",
     "text": [
      "\n",
      "\r"
     ]
    },
    {
     "name": "stderr",
     "output_type": "stream",
     "text": [
      " 51%|█████     | 46/90 [05:29<06:00,  8.18s/it]"
     ]
    },
    {
     "name": "stdout",
     "output_type": "stream",
     "text": [
      "\n"
     ]
    },
    {
     "name": "stderr",
     "output_type": "stream",
     "text": [
      " 52%|█████▏    | 47/90 [05:38<06:05,  8.50s/it]"
     ]
    },
    {
     "name": "stdout",
     "output_type": "stream",
     "text": [
      "\n",
      "\r"
     ]
    },
    {
     "name": "stderr",
     "output_type": "stream",
     "text": [
      " 53%|█████▎    | 48/90 [05:42<05:01,  7.19s/it]"
     ]
    },
    {
     "name": "stdout",
     "output_type": "stream",
     "text": [
      "\n",
      "\r"
     ]
    },
    {
     "name": "stderr",
     "output_type": "stream",
     "text": [
      " 54%|█████▍    | 49/90 [05:46<04:14,  6.20s/it]"
     ]
    },
    {
     "name": "stdout",
     "output_type": "stream",
     "text": [
      "\n"
     ]
    },
    {
     "name": "stderr",
     "output_type": "stream",
     "text": [
      " 56%|█████▌    | 50/90 [05:50<03:38,  5.46s/it]"
     ]
    },
    {
     "name": "stdout",
     "output_type": "stream",
     "text": [
      "\n"
     ]
    },
    {
     "name": "stderr",
     "output_type": "stream",
     "text": [
      " 57%|█████▋    | 51/90 [05:57<03:55,  6.05s/it]"
     ]
    },
    {
     "name": "stdout",
     "output_type": "stream",
     "text": [
      "\n"
     ]
    },
    {
     "name": "stderr",
     "output_type": "stream",
     "text": [
      " 58%|█████▊    | 52/90 [06:05<04:15,  6.71s/it]"
     ]
    },
    {
     "name": "stdout",
     "output_type": "stream",
     "text": [
      "\n",
      "\r"
     ]
    },
    {
     "name": "stderr",
     "output_type": "stream",
     "text": [
      " 59%|█████▉    | 53/90 [06:10<03:50,  6.24s/it]"
     ]
    },
    {
     "name": "stdout",
     "output_type": "stream",
     "text": [
      "\n"
     ]
    },
    {
     "name": "stderr",
     "output_type": "stream",
     "text": [
      " 60%|██████    | 54/90 [06:17<03:45,  6.26s/it]"
     ]
    },
    {
     "name": "stdout",
     "output_type": "stream",
     "text": [
      "\n"
     ]
    },
    {
     "name": "stderr",
     "output_type": "stream",
     "text": [
      " 61%|██████    | 55/90 [06:25<04:03,  6.95s/it]"
     ]
    },
    {
     "name": "stdout",
     "output_type": "stream",
     "text": [
      "\n",
      "\r"
     ]
    },
    {
     "name": "stderr",
     "output_type": "stream",
     "text": [
      " 62%|██████▏   | 56/90 [06:33<04:05,  7.22s/it]"
     ]
    },
    {
     "name": "stdout",
     "output_type": "stream",
     "text": [
      "\n"
     ]
    },
    {
     "name": "stderr",
     "output_type": "stream",
     "text": [
      " 63%|██████▎   | 57/90 [06:43<04:27,  8.11s/it]"
     ]
    },
    {
     "name": "stdout",
     "output_type": "stream",
     "text": [
      "\n",
      "\r"
     ]
    },
    {
     "name": "stderr",
     "output_type": "stream",
     "text": [
      " 64%|██████▍   | 58/90 [06:50<04:04,  7.65s/it]"
     ]
    },
    {
     "name": "stdout",
     "output_type": "stream",
     "text": [
      "\n",
      "\r"
     ]
    },
    {
     "name": "stderr",
     "output_type": "stream",
     "text": [
      " 66%|██████▌   | 59/90 [06:55<03:32,  6.84s/it]"
     ]
    },
    {
     "name": "stdout",
     "output_type": "stream",
     "text": [
      "\n",
      "\r"
     ]
    },
    {
     "name": "stderr",
     "output_type": "stream",
     "text": [
      " 67%|██████▋   | 60/90 [06:58<02:56,  5.88s/it]"
     ]
    },
    {
     "name": "stdout",
     "output_type": "stream",
     "text": [
      "\n"
     ]
    },
    {
     "name": "stderr",
     "output_type": "stream",
     "text": [
      " 68%|██████▊   | 61/90 [07:04<02:44,  5.68s/it]"
     ]
    },
    {
     "name": "stdout",
     "output_type": "stream",
     "text": [
      "\n"
     ]
    },
    {
     "name": "stderr",
     "output_type": "stream",
     "text": [
      " 69%|██████▉   | 62/90 [07:12<03:03,  6.55s/it]"
     ]
    },
    {
     "name": "stdout",
     "output_type": "stream",
     "text": [
      "\n",
      "\r"
     ]
    },
    {
     "name": "stderr",
     "output_type": "stream",
     "text": [
      " 70%|███████   | 63/90 [07:19<03:00,  6.68s/it]"
     ]
    },
    {
     "name": "stdout",
     "output_type": "stream",
     "text": [
      "\n",
      "\r"
     ]
    },
    {
     "name": "stderr",
     "output_type": "stream",
     "text": [
      " 71%|███████   | 64/90 [07:25<02:46,  6.39s/it]"
     ]
    },
    {
     "name": "stdout",
     "output_type": "stream",
     "text": [
      "\n",
      "\r"
     ]
    },
    {
     "name": "stderr",
     "output_type": "stream",
     "text": [
      " 72%|███████▏  | 65/90 [07:30<02:26,  5.85s/it]"
     ]
    },
    {
     "name": "stdout",
     "output_type": "stream",
     "text": [
      "\n",
      "\r"
     ]
    },
    {
     "name": "stderr",
     "output_type": "stream",
     "text": [
      " 73%|███████▎  | 66/90 [07:36<02:28,  6.17s/it]"
     ]
    },
    {
     "name": "stdout",
     "output_type": "stream",
     "text": [
      "\n",
      "\r"
     ]
    },
    {
     "name": "stderr",
     "output_type": "stream",
     "text": [
      " 74%|███████▍  | 67/90 [07:43<02:24,  6.27s/it]"
     ]
    },
    {
     "name": "stdout",
     "output_type": "stream",
     "text": [
      "\n",
      "\r"
     ]
    },
    {
     "name": "stderr",
     "output_type": "stream",
     "text": [
      " 76%|███████▌  | 68/90 [07:48<02:10,  5.93s/it]"
     ]
    },
    {
     "name": "stdout",
     "output_type": "stream",
     "text": [
      "\n",
      "\r"
     ]
    },
    {
     "name": "stderr",
     "output_type": "stream",
     "text": [
      " 77%|███████▋  | 69/90 [07:53<01:58,  5.62s/it]"
     ]
    },
    {
     "name": "stdout",
     "output_type": "stream",
     "text": [
      "\n"
     ]
    },
    {
     "name": "stderr",
     "output_type": "stream",
     "text": [
      " 78%|███████▊  | 70/90 [07:59<01:52,  5.63s/it]"
     ]
    },
    {
     "name": "stdout",
     "output_type": "stream",
     "text": [
      "\n",
      "\r"
     ]
    },
    {
     "name": "stderr",
     "output_type": "stream",
     "text": [
      " 79%|███████▉  | 71/90 [08:03<01:37,  5.13s/it]"
     ]
    },
    {
     "name": "stdout",
     "output_type": "stream",
     "text": [
      "\n",
      "\r"
     ]
    },
    {
     "name": "stderr",
     "output_type": "stream",
     "text": [
      " 80%|████████  | 72/90 [08:07<01:27,  4.89s/it]"
     ]
    },
    {
     "name": "stdout",
     "output_type": "stream",
     "text": [
      "\n",
      "\r"
     ]
    },
    {
     "name": "stderr",
     "output_type": "stream",
     "text": [
      " 81%|████████  | 73/90 [08:11<01:19,  4.67s/it]"
     ]
    },
    {
     "name": "stdout",
     "output_type": "stream",
     "text": [
      "\n"
     ]
    },
    {
     "name": "stderr",
     "output_type": "stream",
     "text": [
      " 82%|████████▏ | 74/90 [08:16<01:14,  4.67s/it]"
     ]
    },
    {
     "name": "stdout",
     "output_type": "stream",
     "text": [
      "\n"
     ]
    },
    {
     "name": "stderr",
     "output_type": "stream",
     "text": [
      " 83%|████████▎ | 75/90 [08:22<01:17,  5.14s/it]"
     ]
    },
    {
     "name": "stdout",
     "output_type": "stream",
     "text": [
      "\n"
     ]
    },
    {
     "name": "stderr",
     "output_type": "stream",
     "text": [
      " 84%|████████▍ | 76/90 [08:28<01:13,  5.26s/it]"
     ]
    },
    {
     "name": "stdout",
     "output_type": "stream",
     "text": [
      "\n",
      "\r"
     ]
    },
    {
     "name": "stderr",
     "output_type": "stream",
     "text": [
      " 86%|████████▌ | 77/90 [08:32<01:05,  5.07s/it]"
     ]
    },
    {
     "name": "stdout",
     "output_type": "stream",
     "text": [
      "\n",
      "\r"
     ]
    },
    {
     "name": "stderr",
     "output_type": "stream",
     "text": [
      " 87%|████████▋ | 78/90 [08:40<01:11,  5.97s/it]"
     ]
    },
    {
     "name": "stdout",
     "output_type": "stream",
     "text": [
      "\n"
     ]
    },
    {
     "name": "stderr",
     "output_type": "stream",
     "text": [
      " 88%|████████▊ | 79/90 [08:46<01:04,  5.83s/it]"
     ]
    },
    {
     "name": "stdout",
     "output_type": "stream",
     "text": [
      "\n",
      "\r"
     ]
    },
    {
     "name": "stderr",
     "output_type": "stream",
     "text": [
      " 89%|████████▉ | 80/90 [08:50<00:53,  5.40s/it]"
     ]
    },
    {
     "name": "stdout",
     "output_type": "stream",
     "text": [
      "\n",
      "\r"
     ]
    },
    {
     "name": "stderr",
     "output_type": "stream",
     "text": [
      " 90%|█████████ | 81/90 [08:55<00:47,  5.25s/it]"
     ]
    },
    {
     "name": "stdout",
     "output_type": "stream",
     "text": [
      "\n"
     ]
    },
    {
     "name": "stderr",
     "output_type": "stream",
     "text": [
      " 91%|█████████ | 82/90 [08:59<00:39,  4.88s/it]"
     ]
    },
    {
     "name": "stdout",
     "output_type": "stream",
     "text": [
      "\n"
     ]
    },
    {
     "name": "stderr",
     "output_type": "stream",
     "text": [
      " 92%|█████████▏| 83/90 [09:04<00:33,  4.84s/it]"
     ]
    },
    {
     "name": "stdout",
     "output_type": "stream",
     "text": [
      "\n",
      "\r"
     ]
    },
    {
     "name": "stderr",
     "output_type": "stream",
     "text": [
      " 93%|█████████▎| 84/90 [09:11<00:34,  5.68s/it]"
     ]
    },
    {
     "name": "stdout",
     "output_type": "stream",
     "text": [
      "\n",
      "\r"
     ]
    },
    {
     "name": "stderr",
     "output_type": "stream",
     "text": [
      " 94%|█████████▍| 85/90 [09:18<00:29,  5.92s/it]"
     ]
    },
    {
     "name": "stdout",
     "output_type": "stream",
     "text": [
      "\n",
      "\r"
     ]
    },
    {
     "name": "stderr",
     "output_type": "stream",
     "text": [
      " 96%|█████████▌| 86/90 [09:28<00:28,  7.12s/it]"
     ]
    },
    {
     "name": "stdout",
     "output_type": "stream",
     "text": [
      "\n"
     ]
    },
    {
     "name": "stderr",
     "output_type": "stream",
     "text": [
      " 97%|█████████▋| 87/90 [09:32<00:19,  6.35s/it]"
     ]
    },
    {
     "name": "stdout",
     "output_type": "stream",
     "text": [
      "\n"
     ]
    },
    {
     "name": "stderr",
     "output_type": "stream",
     "text": [
      " 98%|█████████▊| 88/90 [09:37<00:11,  5.90s/it]"
     ]
    },
    {
     "name": "stdout",
     "output_type": "stream",
     "text": [
      "\n"
     ]
    },
    {
     "name": "stderr",
     "output_type": "stream",
     "text": [
      " 99%|█████████▉| 89/90 [09:42<00:05,  5.58s/it]"
     ]
    },
    {
     "name": "stdout",
     "output_type": "stream",
     "text": [
      "\n",
      "\r"
     ]
    },
    {
     "name": "stderr",
     "output_type": "stream",
     "text": [
      "100%|██████████| 90/90 [09:48<00:00,  6.54s/it]\n",
      "  0%|          | 0/90 [00:00<?, ?it/s]"
     ]
    },
    {
     "name": "stdout",
     "output_type": "stream",
     "text": [
      "\n"
     ]
    },
    {
     "name": "stderr",
     "output_type": "stream",
     "text": [
      "  1%|          | 1/90 [00:04<06:41,  4.51s/it]"
     ]
    },
    {
     "name": "stdout",
     "output_type": "stream",
     "text": [
      "\n"
     ]
    },
    {
     "name": "stderr",
     "output_type": "stream",
     "text": [
      "  2%|▏         | 2/90 [00:10<07:16,  4.96s/it]"
     ]
    },
    {
     "name": "stdout",
     "output_type": "stream",
     "text": [
      "\n"
     ]
    },
    {
     "name": "stderr",
     "output_type": "stream",
     "text": [
      "  3%|▎         | 3/90 [00:14<06:50,  4.72s/it]"
     ]
    },
    {
     "name": "stdout",
     "output_type": "stream",
     "text": [
      "\n"
     ]
    },
    {
     "name": "stderr",
     "output_type": "stream",
     "text": [
      "  4%|▍         | 4/90 [00:31<11:56,  8.34s/it]"
     ]
    },
    {
     "name": "stdout",
     "output_type": "stream",
     "text": [
      "\n"
     ]
    },
    {
     "name": "stderr",
     "output_type": "stream",
     "text": [
      "  6%|▌         | 5/90 [00:38<11:25,  8.07s/it]"
     ]
    },
    {
     "name": "stdout",
     "output_type": "stream",
     "text": [
      "\n"
     ]
    },
    {
     "name": "stderr",
     "output_type": "stream",
     "text": [
      "  7%|▋         | 6/90 [00:43<10:00,  7.14s/it]"
     ]
    },
    {
     "name": "stdout",
     "output_type": "stream",
     "text": [
      "\n",
      "\r"
     ]
    },
    {
     "name": "stderr",
     "output_type": "stream",
     "text": [
      "  8%|▊         | 7/90 [00:49<09:24,  6.80s/it]"
     ]
    },
    {
     "name": "stdout",
     "output_type": "stream",
     "text": [
      "\n"
     ]
    },
    {
     "name": "stderr",
     "output_type": "stream",
     "text": [
      "  9%|▉         | 8/90 [00:57<09:49,  7.19s/it]"
     ]
    },
    {
     "name": "stdout",
     "output_type": "stream",
     "text": [
      "\n"
     ]
    },
    {
     "name": "stderr",
     "output_type": "stream",
     "text": [
      " 10%|█         | 9/90 [01:03<09:05,  6.73s/it]"
     ]
    },
    {
     "name": "stdout",
     "output_type": "stream",
     "text": [
      "\n",
      "\r"
     ]
    },
    {
     "name": "stderr",
     "output_type": "stream",
     "text": [
      " 11%|█         | 10/90 [01:09<08:31,  6.39s/it]"
     ]
    },
    {
     "name": "stdout",
     "output_type": "stream",
     "text": [
      "\n",
      "\r"
     ]
    },
    {
     "name": "stderr",
     "output_type": "stream",
     "text": [
      " 12%|█▏        | 11/90 [01:15<08:32,  6.49s/it]"
     ]
    },
    {
     "name": "stdout",
     "output_type": "stream",
     "text": [
      "\n",
      "\r"
     ]
    },
    {
     "name": "stderr",
     "output_type": "stream",
     "text": [
      " 13%|█▎        | 12/90 [01:20<07:45,  5.97s/it]"
     ]
    },
    {
     "name": "stdout",
     "output_type": "stream",
     "text": [
      "\n",
      "\r"
     ]
    },
    {
     "name": "stderr",
     "output_type": "stream",
     "text": [
      " 14%|█▍        | 13/90 [01:27<07:47,  6.07s/it]"
     ]
    },
    {
     "name": "stdout",
     "output_type": "stream",
     "text": [
      "\n"
     ]
    },
    {
     "name": "stderr",
     "output_type": "stream",
     "text": [
      " 16%|█▌        | 14/90 [01:34<08:08,  6.43s/it]"
     ]
    },
    {
     "name": "stdout",
     "output_type": "stream",
     "text": [
      "\n",
      "\r"
     ]
    },
    {
     "name": "stderr",
     "output_type": "stream",
     "text": [
      " 17%|█▋        | 15/90 [01:41<08:14,  6.59s/it]"
     ]
    },
    {
     "name": "stdout",
     "output_type": "stream",
     "text": [
      "\n",
      "\r"
     ]
    },
    {
     "name": "stderr",
     "output_type": "stream",
     "text": [
      " 18%|█▊        | 16/90 [01:47<08:07,  6.59s/it]"
     ]
    },
    {
     "name": "stdout",
     "output_type": "stream",
     "text": [
      "\n"
     ]
    },
    {
     "name": "stderr",
     "output_type": "stream",
     "text": [
      " 19%|█▉        | 17/90 [01:55<08:28,  6.97s/it]"
     ]
    },
    {
     "name": "stdout",
     "output_type": "stream",
     "text": [
      "\n",
      "\r"
     ]
    },
    {
     "name": "stderr",
     "output_type": "stream",
     "text": [
      " 20%|██        | 18/90 [02:00<07:40,  6.40s/it]"
     ]
    },
    {
     "name": "stdout",
     "output_type": "stream",
     "text": [
      "\n"
     ]
    },
    {
     "name": "stderr",
     "output_type": "stream",
     "text": [
      " 21%|██        | 19/90 [02:09<08:14,  6.97s/it]"
     ]
    },
    {
     "name": "stdout",
     "output_type": "stream",
     "text": [
      "\n",
      "\r"
     ]
    },
    {
     "name": "stderr",
     "output_type": "stream",
     "text": [
      " 22%|██▏       | 20/90 [02:14<07:45,  6.64s/it]"
     ]
    },
    {
     "name": "stdout",
     "output_type": "stream",
     "text": [
      "\n",
      "\r"
     ]
    },
    {
     "name": "stderr",
     "output_type": "stream",
     "text": [
      " 23%|██▎       | 21/90 [02:19<06:57,  6.06s/it]"
     ]
    },
    {
     "name": "stdout",
     "output_type": "stream",
     "text": [
      "\n"
     ]
    },
    {
     "name": "stderr",
     "output_type": "stream",
     "text": [
      " 24%|██▍       | 22/90 [02:23<06:13,  5.49s/it]"
     ]
    },
    {
     "name": "stdout",
     "output_type": "stream",
     "text": [
      "\n",
      "\r"
     ]
    },
    {
     "name": "stderr",
     "output_type": "stream",
     "text": [
      " 26%|██▌       | 23/90 [02:29<06:18,  5.65s/it]"
     ]
    },
    {
     "name": "stdout",
     "output_type": "stream",
     "text": [
      "\n",
      "\r"
     ]
    },
    {
     "name": "stderr",
     "output_type": "stream",
     "text": [
      " 27%|██▋       | 24/90 [02:35<06:11,  5.63s/it]"
     ]
    },
    {
     "name": "stdout",
     "output_type": "stream",
     "text": [
      "\n"
     ]
    },
    {
     "name": "stderr",
     "output_type": "stream",
     "text": [
      " 28%|██▊       | 25/90 [02:40<06:05,  5.62s/it]"
     ]
    },
    {
     "name": "stdout",
     "output_type": "stream",
     "text": [
      "\n"
     ]
    },
    {
     "name": "stderr",
     "output_type": "stream",
     "text": [
      " 29%|██▉       | 26/90 [02:50<07:07,  6.68s/it]"
     ]
    },
    {
     "name": "stdout",
     "output_type": "stream",
     "text": [
      "\n"
     ]
    },
    {
     "name": "stderr",
     "output_type": "stream",
     "text": [
      " 30%|███       | 27/90 [02:58<07:33,  7.20s/it]"
     ]
    },
    {
     "name": "stdout",
     "output_type": "stream",
     "text": [
      "\n",
      "\r"
     ]
    },
    {
     "name": "stderr",
     "output_type": "stream",
     "text": [
      " 31%|███       | 28/90 [03:07<07:53,  7.64s/it]"
     ]
    },
    {
     "name": "stdout",
     "output_type": "stream",
     "text": [
      "\n"
     ]
    },
    {
     "name": "stderr",
     "output_type": "stream",
     "text": [
      " 32%|███▏      | 29/90 [03:16<08:17,  8.15s/it]"
     ]
    },
    {
     "name": "stdout",
     "output_type": "stream",
     "text": [
      "\n",
      "\r"
     ]
    },
    {
     "name": "stderr",
     "output_type": "stream",
     "text": [
      " 33%|███▎      | 30/90 [03:23<07:38,  7.64s/it]"
     ]
    },
    {
     "name": "stdout",
     "output_type": "stream",
     "text": [
      "\n",
      "\r"
     ]
    },
    {
     "name": "stderr",
     "output_type": "stream",
     "text": [
      " 34%|███▍      | 31/90 [03:32<08:06,  8.25s/it]"
     ]
    },
    {
     "name": "stdout",
     "output_type": "stream",
     "text": [
      "\n",
      "\r"
     ]
    },
    {
     "name": "stderr",
     "output_type": "stream",
     "text": [
      " 36%|███▌      | 32/90 [03:37<06:58,  7.21s/it]"
     ]
    },
    {
     "name": "stdout",
     "output_type": "stream",
     "text": [
      "\n"
     ]
    },
    {
     "name": "stderr",
     "output_type": "stream",
     "text": [
      " 37%|███▋      | 33/90 [03:45<07:08,  7.51s/it]"
     ]
    },
    {
     "name": "stdout",
     "output_type": "stream",
     "text": [
      "\n",
      "\r"
     ]
    },
    {
     "name": "stderr",
     "output_type": "stream",
     "text": [
      " 38%|███▊      | 34/90 [03:52<06:50,  7.32s/it]"
     ]
    },
    {
     "name": "stdout",
     "output_type": "stream",
     "text": [
      "\n"
     ]
    },
    {
     "name": "stderr",
     "output_type": "stream",
     "text": [
      " 39%|███▉      | 35/90 [03:59<06:41,  7.30s/it]"
     ]
    },
    {
     "name": "stdout",
     "output_type": "stream",
     "text": [
      "\n"
     ]
    },
    {
     "name": "stderr",
     "output_type": "stream",
     "text": [
      " 40%|████      | 36/90 [04:04<05:57,  6.62s/it]"
     ]
    },
    {
     "name": "stdout",
     "output_type": "stream",
     "text": [
      "\n"
     ]
    },
    {
     "name": "stderr",
     "output_type": "stream",
     "text": [
      " 41%|████      | 37/90 [04:10<05:33,  6.29s/it]"
     ]
    },
    {
     "name": "stdout",
     "output_type": "stream",
     "text": [
      "\n"
     ]
    },
    {
     "name": "stderr",
     "output_type": "stream",
     "text": [
      " 42%|████▏     | 38/90 [04:22<06:59,  8.06s/it]"
     ]
    },
    {
     "name": "stdout",
     "output_type": "stream",
     "text": [
      "\n",
      "\r"
     ]
    },
    {
     "name": "stderr",
     "output_type": "stream",
     "text": [
      " 43%|████▎     | 39/90 [04:30<06:45,  7.96s/it]"
     ]
    },
    {
     "name": "stdout",
     "output_type": "stream",
     "text": [
      "\n",
      "\r"
     ]
    },
    {
     "name": "stderr",
     "output_type": "stream",
     "text": [
      " 44%|████▍     | 40/90 [04:39<06:57,  8.35s/it]"
     ]
    },
    {
     "name": "stdout",
     "output_type": "stream",
     "text": [
      "\n",
      "\r"
     ]
    },
    {
     "name": "stderr",
     "output_type": "stream",
     "text": [
      " 46%|████▌     | 41/90 [04:48<06:55,  8.48s/it]"
     ]
    },
    {
     "name": "stdout",
     "output_type": "stream",
     "text": [
      "\n"
     ]
    },
    {
     "name": "stderr",
     "output_type": "stream",
     "text": [
      " 47%|████▋     | 42/90 [04:53<06:00,  7.50s/it]"
     ]
    },
    {
     "name": "stdout",
     "output_type": "stream",
     "text": [
      "\n"
     ]
    },
    {
     "name": "stderr",
     "output_type": "stream",
     "text": [
      " 48%|████▊     | 43/90 [05:01<06:04,  7.75s/it]"
     ]
    },
    {
     "name": "stdout",
     "output_type": "stream",
     "text": [
      "\n"
     ]
    },
    {
     "name": "stderr",
     "output_type": "stream",
     "text": [
      " 49%|████▉     | 44/90 [05:05<05:03,  6.60s/it]"
     ]
    },
    {
     "name": "stdout",
     "output_type": "stream",
     "text": [
      "\n",
      "\r"
     ]
    },
    {
     "name": "stderr",
     "output_type": "stream",
     "text": [
      " 50%|█████     | 45/90 [05:10<04:35,  6.13s/it]"
     ]
    },
    {
     "name": "stdout",
     "output_type": "stream",
     "text": [
      "\n"
     ]
    },
    {
     "name": "stderr",
     "output_type": "stream",
     "text": [
      " 51%|█████     | 46/90 [05:17<04:31,  6.17s/it]"
     ]
    },
    {
     "name": "stdout",
     "output_type": "stream",
     "text": [
      "\n"
     ]
    },
    {
     "name": "stderr",
     "output_type": "stream",
     "text": [
      " 52%|█████▏    | 47/90 [05:25<04:47,  6.70s/it]"
     ]
    },
    {
     "name": "stdout",
     "output_type": "stream",
     "text": [
      "\n",
      "\r"
     ]
    },
    {
     "name": "stderr",
     "output_type": "stream",
     "text": [
      " 53%|█████▎    | 48/90 [05:32<04:57,  7.07s/it]"
     ]
    },
    {
     "name": "stdout",
     "output_type": "stream",
     "text": [
      "\n"
     ]
    },
    {
     "name": "stderr",
     "output_type": "stream",
     "text": [
      " 54%|█████▍    | 49/90 [05:38<04:31,  6.63s/it]"
     ]
    },
    {
     "name": "stdout",
     "output_type": "stream",
     "text": [
      "\n"
     ]
    },
    {
     "name": "stderr",
     "output_type": "stream",
     "text": [
      " 56%|█████▌    | 50/90 [05:47<04:51,  7.30s/it]"
     ]
    },
    {
     "name": "stdout",
     "output_type": "stream",
     "text": [
      "\n"
     ]
    },
    {
     "name": "stderr",
     "output_type": "stream",
     "text": [
      " 57%|█████▋    | 51/90 [05:54<04:39,  7.18s/it]"
     ]
    },
    {
     "name": "stdout",
     "output_type": "stream",
     "text": [
      "\n",
      "\r"
     ]
    },
    {
     "name": "stderr",
     "output_type": "stream",
     "text": [
      " 58%|█████▊    | 52/90 [06:00<04:22,  6.92s/it]"
     ]
    },
    {
     "name": "stdout",
     "output_type": "stream",
     "text": [
      "\n"
     ]
    },
    {
     "name": "stderr",
     "output_type": "stream",
     "text": [
      " 59%|█████▉    | 53/90 [06:07<04:13,  6.86s/it]"
     ]
    },
    {
     "name": "stdout",
     "output_type": "stream",
     "text": [
      "\n",
      "\r"
     ]
    },
    {
     "name": "stderr",
     "output_type": "stream",
     "text": [
      " 60%|██████    | 54/90 [06:13<03:54,  6.51s/it]"
     ]
    },
    {
     "name": "stdout",
     "output_type": "stream",
     "text": [
      "\n",
      "\r"
     ]
    },
    {
     "name": "stderr",
     "output_type": "stream",
     "text": [
      " 61%|██████    | 55/90 [06:23<04:27,  7.65s/it]"
     ]
    },
    {
     "name": "stdout",
     "output_type": "stream",
     "text": [
      "\n"
     ]
    },
    {
     "name": "stderr",
     "output_type": "stream",
     "text": [
      " 62%|██████▏   | 56/90 [06:30<04:12,  7.43s/it]"
     ]
    },
    {
     "name": "stdout",
     "output_type": "stream",
     "text": [
      "\n"
     ]
    },
    {
     "name": "stderr",
     "output_type": "stream",
     "text": [
      " 63%|██████▎   | 57/90 [06:35<03:42,  6.75s/it]"
     ]
    },
    {
     "name": "stdout",
     "output_type": "stream",
     "text": [
      "\n"
     ]
    },
    {
     "name": "stderr",
     "output_type": "stream",
     "text": [
      " 64%|██████▍   | 58/90 [06:40<03:23,  6.34s/it]"
     ]
    },
    {
     "name": "stdout",
     "output_type": "stream",
     "text": [
      "\n",
      "\r"
     ]
    },
    {
     "name": "stderr",
     "output_type": "stream",
     "text": [
      " 66%|██████▌   | 59/90 [06:48<03:32,  6.86s/it]"
     ]
    },
    {
     "name": "stdout",
     "output_type": "stream",
     "text": [
      "\n"
     ]
    },
    {
     "name": "stderr",
     "output_type": "stream",
     "text": [
      " 67%|██████▋   | 60/90 [06:53<03:02,  6.10s/it]"
     ]
    },
    {
     "name": "stdout",
     "output_type": "stream",
     "text": [
      "\n"
     ]
    },
    {
     "name": "stderr",
     "output_type": "stream",
     "text": [
      " 68%|██████▊   | 61/90 [06:59<02:57,  6.11s/it]"
     ]
    },
    {
     "name": "stdout",
     "output_type": "stream",
     "text": [
      "\n"
     ]
    },
    {
     "name": "stderr",
     "output_type": "stream",
     "text": [
      " 69%|██████▉   | 62/90 [07:04<02:38,  5.67s/it]"
     ]
    },
    {
     "name": "stdout",
     "output_type": "stream",
     "text": [
      "\n"
     ]
    },
    {
     "name": "stderr",
     "output_type": "stream",
     "text": [
      " 70%|███████   | 63/90 [07:09<02:30,  5.57s/it]"
     ]
    },
    {
     "name": "stdout",
     "output_type": "stream",
     "text": [
      "\n",
      "\r"
     ]
    },
    {
     "name": "stderr",
     "output_type": "stream",
     "text": [
      " 71%|███████   | 64/90 [07:15<02:32,  5.87s/it]"
     ]
    },
    {
     "name": "stdout",
     "output_type": "stream",
     "text": [
      "\n"
     ]
    },
    {
     "name": "stderr",
     "output_type": "stream",
     "text": [
      " 72%|███████▏  | 65/90 [07:21<02:22,  5.69s/it]"
     ]
    },
    {
     "name": "stdout",
     "output_type": "stream",
     "text": [
      "\n",
      "\r"
     ]
    },
    {
     "name": "stderr",
     "output_type": "stream",
     "text": [
      " 73%|███████▎  | 66/90 [07:25<02:06,  5.27s/it]"
     ]
    },
    {
     "name": "stdout",
     "output_type": "stream",
     "text": [
      "\n",
      "\r"
     ]
    },
    {
     "name": "stderr",
     "output_type": "stream",
     "text": [
      " 74%|███████▍  | 67/90 [07:30<02:00,  5.26s/it]"
     ]
    },
    {
     "name": "stdout",
     "output_type": "stream",
     "text": [
      "\n"
     ]
    },
    {
     "name": "stderr",
     "output_type": "stream",
     "text": [
      " 76%|███████▌  | 68/90 [07:36<01:55,  5.27s/it]"
     ]
    },
    {
     "name": "stdout",
     "output_type": "stream",
     "text": [
      "\n"
     ]
    },
    {
     "name": "stderr",
     "output_type": "stream",
     "text": [
      " 77%|███████▋  | 69/90 [07:42<01:56,  5.57s/it]"
     ]
    },
    {
     "name": "stdout",
     "output_type": "stream",
     "text": [
      "\n"
     ]
    },
    {
     "name": "stderr",
     "output_type": "stream",
     "text": [
      " 78%|███████▊  | 70/90 [07:49<02:03,  6.17s/it]"
     ]
    },
    {
     "name": "stdout",
     "output_type": "stream",
     "text": [
      "\n"
     ]
    },
    {
     "name": "stderr",
     "output_type": "stream",
     "text": [
      " 79%|███████▉  | 71/90 [07:57<02:03,  6.52s/it]"
     ]
    },
    {
     "name": "stdout",
     "output_type": "stream",
     "text": [
      "\n",
      "\r"
     ]
    },
    {
     "name": "stderr",
     "output_type": "stream",
     "text": [
      " 80%|████████  | 72/90 [08:01<01:45,  5.88s/it]"
     ]
    },
    {
     "name": "stdout",
     "output_type": "stream",
     "text": [
      "\n"
     ]
    },
    {
     "name": "stderr",
     "output_type": "stream",
     "text": [
      " 81%|████████  | 73/90 [08:11<02:01,  7.15s/it]"
     ]
    },
    {
     "name": "stdout",
     "output_type": "stream",
     "text": [
      "\n"
     ]
    },
    {
     "name": "stderr",
     "output_type": "stream",
     "text": [
      " 82%|████████▏ | 74/90 [08:15<01:37,  6.09s/it]"
     ]
    },
    {
     "name": "stdout",
     "output_type": "stream",
     "text": [
      "\n",
      "\r"
     ]
    },
    {
     "name": "stderr",
     "output_type": "stream",
     "text": [
      " 83%|████████▎ | 75/90 [08:26<01:54,  7.60s/it]"
     ]
    },
    {
     "name": "stdout",
     "output_type": "stream",
     "text": [
      "\n",
      "\r"
     ]
    },
    {
     "name": "stderr",
     "output_type": "stream",
     "text": [
      " 84%|████████▍ | 76/90 [08:33<01:44,  7.46s/it]"
     ]
    },
    {
     "name": "stdout",
     "output_type": "stream",
     "text": [
      "\n"
     ]
    },
    {
     "name": "stderr",
     "output_type": "stream",
     "text": [
      " 86%|████████▌ | 77/90 [08:37<01:22,  6.38s/it]"
     ]
    },
    {
     "name": "stdout",
     "output_type": "stream",
     "text": [
      "\n",
      "\r"
     ]
    },
    {
     "name": "stderr",
     "output_type": "stream",
     "text": [
      " 87%|████████▋ | 78/90 [08:44<01:19,  6.65s/it]"
     ]
    },
    {
     "name": "stdout",
     "output_type": "stream",
     "text": [
      "\n",
      "\r"
     ]
    },
    {
     "name": "stderr",
     "output_type": "stream",
     "text": [
      " 88%|████████▊ | 79/90 [08:55<01:26,  7.85s/it]"
     ]
    },
    {
     "name": "stdout",
     "output_type": "stream",
     "text": [
      "\n"
     ]
    },
    {
     "name": "stderr",
     "output_type": "stream",
     "text": [
      " 89%|████████▉ | 80/90 [09:04<01:22,  8.25s/it]"
     ]
    },
    {
     "name": "stdout",
     "output_type": "stream",
     "text": [
      "\n",
      "\r"
     ]
    },
    {
     "name": "stderr",
     "output_type": "stream",
     "text": [
      " 90%|█████████ | 81/90 [09:12<01:13,  8.20s/it]"
     ]
    },
    {
     "name": "stdout",
     "output_type": "stream",
     "text": [
      "\n"
     ]
    },
    {
     "name": "stderr",
     "output_type": "stream",
     "text": [
      " 91%|█████████ | 82/90 [09:25<01:17,  9.75s/it]"
     ]
    },
    {
     "name": "stdout",
     "output_type": "stream",
     "text": [
      "\n",
      "\r"
     ]
    },
    {
     "name": "stderr",
     "output_type": "stream",
     "text": [
      " 92%|█████████▏| 83/90 [09:33<01:04,  9.20s/it]"
     ]
    },
    {
     "name": "stdout",
     "output_type": "stream",
     "text": [
      "\n",
      "\r"
     ]
    },
    {
     "name": "stderr",
     "output_type": "stream",
     "text": [
      " 93%|█████████▎| 84/90 [09:40<00:50,  8.36s/it]"
     ]
    },
    {
     "name": "stdout",
     "output_type": "stream",
     "text": [
      "\n"
     ]
    },
    {
     "name": "stderr",
     "output_type": "stream",
     "text": [
      " 94%|█████████▍| 85/90 [09:49<00:42,  8.56s/it]"
     ]
    },
    {
     "name": "stdout",
     "output_type": "stream",
     "text": [
      "\n"
     ]
    },
    {
     "name": "stderr",
     "output_type": "stream",
     "text": [
      " 96%|█████████▌| 86/90 [09:55<00:31,  7.78s/it]"
     ]
    },
    {
     "name": "stdout",
     "output_type": "stream",
     "text": [
      "\n"
     ]
    },
    {
     "name": "stderr",
     "output_type": "stream",
     "text": [
      " 97%|█████████▋| 87/90 [10:01<00:22,  7.41s/it]"
     ]
    },
    {
     "name": "stdout",
     "output_type": "stream",
     "text": [
      "\n"
     ]
    },
    {
     "name": "stderr",
     "output_type": "stream",
     "text": [
      " 98%|█████████▊| 88/90 [10:07<00:13,  6.83s/it]"
     ]
    },
    {
     "name": "stdout",
     "output_type": "stream",
     "text": [
      "\n"
     ]
    },
    {
     "name": "stderr",
     "output_type": "stream",
     "text": [
      " 99%|█████████▉| 89/90 [10:11<00:05,  5.98s/it]"
     ]
    },
    {
     "name": "stdout",
     "output_type": "stream",
     "text": [
      "\n"
     ]
    },
    {
     "name": "stderr",
     "output_type": "stream",
     "text": [
      "100%|██████████| 90/90 [10:15<00:00,  6.84s/it]\n",
      "  0%|          | 0/90 [00:00<?, ?it/s]"
     ]
    },
    {
     "name": "stdout",
     "output_type": "stream",
     "text": [
      "\n"
     ]
    },
    {
     "name": "stderr",
     "output_type": "stream",
     "text": [
      "  1%|          | 1/90 [00:06<10:11,  6.87s/it]"
     ]
    },
    {
     "name": "stdout",
     "output_type": "stream",
     "text": [
      "\n"
     ]
    },
    {
     "name": "stderr",
     "output_type": "stream",
     "text": [
      "  2%|▏         | 2/90 [00:11<09:16,  6.32s/it]"
     ]
    },
    {
     "name": "stdout",
     "output_type": "stream",
     "text": [
      "\n"
     ]
    },
    {
     "name": "stderr",
     "output_type": "stream",
     "text": [
      "  3%|▎         | 3/90 [00:19<09:35,  6.62s/it]"
     ]
    },
    {
     "name": "stdout",
     "output_type": "stream",
     "text": [
      "\n",
      "\r"
     ]
    },
    {
     "name": "stderr",
     "output_type": "stream",
     "text": [
      "  4%|▍         | 4/90 [00:25<09:32,  6.66s/it]"
     ]
    },
    {
     "name": "stdout",
     "output_type": "stream",
     "text": [
      "\n",
      "\r"
     ]
    },
    {
     "name": "stderr",
     "output_type": "stream",
     "text": [
      "  6%|▌         | 5/90 [00:35<10:28,  7.39s/it]"
     ]
    },
    {
     "name": "stdout",
     "output_type": "stream",
     "text": [
      "\n",
      "\r"
     ]
    },
    {
     "name": "stderr",
     "output_type": "stream",
     "text": [
      "  7%|▋         | 6/90 [00:42<10:14,  7.32s/it]"
     ]
    },
    {
     "name": "stdout",
     "output_type": "stream",
     "text": [
      "\n"
     ]
    },
    {
     "name": "stderr",
     "output_type": "stream",
     "text": [
      "  8%|▊         | 7/90 [00:46<08:59,  6.50s/it]"
     ]
    },
    {
     "name": "stdout",
     "output_type": "stream",
     "text": [
      "\n"
     ]
    },
    {
     "name": "stderr",
     "output_type": "stream",
     "text": [
      "  9%|▉         | 8/90 [00:51<08:16,  6.05s/it]"
     ]
    },
    {
     "name": "stdout",
     "output_type": "stream",
     "text": [
      "\n",
      "\r"
     ]
    },
    {
     "name": "stderr",
     "output_type": "stream",
     "text": [
      " 10%|█         | 9/90 [00:57<08:01,  5.94s/it]"
     ]
    },
    {
     "name": "stdout",
     "output_type": "stream",
     "text": [
      "\n",
      "\r"
     ]
    },
    {
     "name": "stderr",
     "output_type": "stream",
     "text": [
      " 11%|█         | 10/90 [01:05<08:37,  6.47s/it]"
     ]
    },
    {
     "name": "stdout",
     "output_type": "stream",
     "text": [
      "\n"
     ]
    },
    {
     "name": "stderr",
     "output_type": "stream",
     "text": [
      " 12%|█▏        | 11/90 [01:09<07:46,  5.90s/it]"
     ]
    },
    {
     "name": "stdout",
     "output_type": "stream",
     "text": [
      "\n"
     ]
    },
    {
     "name": "stderr",
     "output_type": "stream",
     "text": [
      " 13%|█▎        | 12/90 [01:15<07:25,  5.71s/it]"
     ]
    },
    {
     "name": "stdout",
     "output_type": "stream",
     "text": [
      "\n"
     ]
    },
    {
     "name": "stderr",
     "output_type": "stream",
     "text": [
      " 14%|█▍        | 13/90 [01:22<08:05,  6.30s/it]"
     ]
    },
    {
     "name": "stdout",
     "output_type": "stream",
     "text": [
      "\n"
     ]
    },
    {
     "name": "stderr",
     "output_type": "stream",
     "text": [
      " 16%|█▌        | 14/90 [01:30<08:21,  6.60s/it]"
     ]
    },
    {
     "name": "stdout",
     "output_type": "stream",
     "text": [
      "\n",
      "\r"
     ]
    },
    {
     "name": "stderr",
     "output_type": "stream",
     "text": [
      " 17%|█▋        | 15/90 [01:40<09:34,  7.66s/it]"
     ]
    },
    {
     "name": "stdout",
     "output_type": "stream",
     "text": [
      "\n"
     ]
    },
    {
     "name": "stderr",
     "output_type": "stream",
     "text": [
      " 18%|█▊        | 16/90 [01:45<08:31,  6.91s/it]"
     ]
    },
    {
     "name": "stdout",
     "output_type": "stream",
     "text": [
      "\n"
     ]
    },
    {
     "name": "stderr",
     "output_type": "stream",
     "text": [
      " 19%|█▉        | 17/90 [01:53<08:54,  7.32s/it]"
     ]
    },
    {
     "name": "stdout",
     "output_type": "stream",
     "text": [
      "\n"
     ]
    },
    {
     "name": "stderr",
     "output_type": "stream",
     "text": [
      " 20%|██        | 18/90 [01:59<08:20,  6.95s/it]"
     ]
    },
    {
     "name": "stdout",
     "output_type": "stream",
     "text": [
      "\n"
     ]
    },
    {
     "name": "stderr",
     "output_type": "stream",
     "text": [
      " 21%|██        | 19/90 [02:13<10:42,  9.05s/it]"
     ]
    },
    {
     "name": "stdout",
     "output_type": "stream",
     "text": [
      "\n"
     ]
    },
    {
     "name": "stderr",
     "output_type": "stream",
     "text": [
      " 22%|██▏       | 20/90 [02:18<09:10,  7.87s/it]"
     ]
    },
    {
     "name": "stdout",
     "output_type": "stream",
     "text": [
      "\n",
      "\r"
     ]
    },
    {
     "name": "stderr",
     "output_type": "stream",
     "text": [
      " 23%|██▎       | 21/90 [02:26<09:09,  7.96s/it]"
     ]
    },
    {
     "name": "stdout",
     "output_type": "stream",
     "text": [
      "\n"
     ]
    },
    {
     "name": "stderr",
     "output_type": "stream",
     "text": [
      " 24%|██▍       | 22/90 [02:35<09:21,  8.26s/it]"
     ]
    },
    {
     "name": "stdout",
     "output_type": "stream",
     "text": [
      "\n",
      "\r"
     ]
    },
    {
     "name": "stderr",
     "output_type": "stream",
     "text": [
      " 26%|██▌       | 23/90 [02:45<09:46,  8.75s/it]"
     ]
    },
    {
     "name": "stdout",
     "output_type": "stream",
     "text": [
      "\n"
     ]
    },
    {
     "name": "stderr",
     "output_type": "stream",
     "text": [
      " 27%|██▋       | 24/90 [02:52<09:06,  8.28s/it]"
     ]
    },
    {
     "name": "stdout",
     "output_type": "stream",
     "text": [
      "\n"
     ]
    },
    {
     "name": "stderr",
     "output_type": "stream",
     "text": [
      " 28%|██▊       | 25/90 [02:56<07:25,  6.85s/it]"
     ]
    },
    {
     "name": "stdout",
     "output_type": "stream",
     "text": [
      "\n",
      "\r"
     ]
    },
    {
     "name": "stderr",
     "output_type": "stream",
     "text": [
      " 29%|██▉       | 26/90 [03:03<07:13,  6.77s/it]"
     ]
    },
    {
     "name": "stdout",
     "output_type": "stream",
     "text": [
      "\n"
     ]
    },
    {
     "name": "stderr",
     "output_type": "stream",
     "text": [
      " 30%|███       | 27/90 [03:10<07:27,  7.10s/it]"
     ]
    },
    {
     "name": "stdout",
     "output_type": "stream",
     "text": [
      "\n",
      "\r"
     ]
    },
    {
     "name": "stderr",
     "output_type": "stream",
     "text": [
      " 31%|███       | 28/90 [03:16<06:54,  6.68s/it]"
     ]
    },
    {
     "name": "stdout",
     "output_type": "stream",
     "text": [
      "\n",
      "\r"
     ]
    },
    {
     "name": "stderr",
     "output_type": "stream",
     "text": [
      " 32%|███▏      | 29/90 [03:24<07:14,  7.12s/it]"
     ]
    },
    {
     "name": "stdout",
     "output_type": "stream",
     "text": [
      "\n"
     ]
    },
    {
     "name": "stderr",
     "output_type": "stream",
     "text": [
      " 33%|███▎      | 30/90 [03:32<07:23,  7.39s/it]"
     ]
    },
    {
     "name": "stdout",
     "output_type": "stream",
     "text": [
      "\n"
     ]
    },
    {
     "name": "stderr",
     "output_type": "stream",
     "text": [
      " 34%|███▍      | 31/90 [03:37<06:34,  6.68s/it]"
     ]
    },
    {
     "name": "stdout",
     "output_type": "stream",
     "text": [
      "\n",
      "\r"
     ]
    },
    {
     "name": "stderr",
     "output_type": "stream",
     "text": [
      " 36%|███▌      | 32/90 [03:45<06:37,  6.86s/it]"
     ]
    },
    {
     "name": "stdout",
     "output_type": "stream",
     "text": [
      "\n",
      "\r"
     ]
    },
    {
     "name": "stderr",
     "output_type": "stream",
     "text": [
      " 37%|███▋      | 33/90 [03:49<05:56,  6.25s/it]"
     ]
    },
    {
     "name": "stdout",
     "output_type": "stream",
     "text": [
      "\n"
     ]
    },
    {
     "name": "stderr",
     "output_type": "stream",
     "text": [
      " 38%|███▊      | 34/90 [03:54<05:22,  5.75s/it]"
     ]
    },
    {
     "name": "stdout",
     "output_type": "stream",
     "text": [
      "\n"
     ]
    },
    {
     "name": "stderr",
     "output_type": "stream",
     "text": [
      " 39%|███▉      | 35/90 [04:02<05:50,  6.38s/it]"
     ]
    },
    {
     "name": "stdout",
     "output_type": "stream",
     "text": [
      "\n",
      "\r"
     ]
    },
    {
     "name": "stderr",
     "output_type": "stream",
     "text": [
      " 40%|████      | 36/90 [04:08<05:35,  6.22s/it]"
     ]
    },
    {
     "name": "stdout",
     "output_type": "stream",
     "text": [
      "\n",
      "\r"
     ]
    },
    {
     "name": "stderr",
     "output_type": "stream",
     "text": [
      " 41%|████      | 37/90 [04:13<05:13,  5.92s/it]"
     ]
    },
    {
     "name": "stdout",
     "output_type": "stream",
     "text": [
      "\n",
      "\r"
     ]
    },
    {
     "name": "stderr",
     "output_type": "stream",
     "text": [
      " 42%|████▏     | 38/90 [04:19<05:04,  5.85s/it]"
     ]
    },
    {
     "name": "stdout",
     "output_type": "stream",
     "text": [
      "\n",
      "\r"
     ]
    },
    {
     "name": "stderr",
     "output_type": "stream",
     "text": [
      " 43%|████▎     | 39/90 [04:24<04:49,  5.68s/it]"
     ]
    },
    {
     "name": "stdout",
     "output_type": "stream",
     "text": [
      "\n"
     ]
    },
    {
     "name": "stderr",
     "output_type": "stream",
     "text": [
      " 44%|████▍     | 40/90 [04:29<04:37,  5.54s/it]"
     ]
    },
    {
     "name": "stdout",
     "output_type": "stream",
     "text": [
      "\n"
     ]
    },
    {
     "name": "stderr",
     "output_type": "stream",
     "text": [
      " 46%|████▌     | 41/90 [04:35<04:30,  5.53s/it]"
     ]
    },
    {
     "name": "stdout",
     "output_type": "stream",
     "text": [
      "\n",
      "\r"
     ]
    },
    {
     "name": "stderr",
     "output_type": "stream",
     "text": [
      " 47%|████▋     | 42/90 [04:43<05:06,  6.39s/it]"
     ]
    },
    {
     "name": "stdout",
     "output_type": "stream",
     "text": [
      "\n"
     ]
    },
    {
     "name": "stderr",
     "output_type": "stream",
     "text": [
      " 48%|████▊     | 43/90 [04:48<04:44,  6.06s/it]"
     ]
    },
    {
     "name": "stdout",
     "output_type": "stream",
     "text": [
      "\n",
      "\r"
     ]
    },
    {
     "name": "stderr",
     "output_type": "stream",
     "text": [
      " 49%|████▉     | 44/90 [04:54<04:37,  6.04s/it]"
     ]
    },
    {
     "name": "stdout",
     "output_type": "stream",
     "text": [
      "\n",
      "\r"
     ]
    },
    {
     "name": "stderr",
     "output_type": "stream",
     "text": [
      " 50%|█████     | 45/90 [05:04<05:15,  7.02s/it]"
     ]
    },
    {
     "name": "stdout",
     "output_type": "stream",
     "text": [
      "\n",
      "\r"
     ]
    },
    {
     "name": "stderr",
     "output_type": "stream",
     "text": [
      " 51%|█████     | 46/90 [05:12<05:27,  7.44s/it]"
     ]
    },
    {
     "name": "stdout",
     "output_type": "stream",
     "text": [
      "\n",
      "\r"
     ]
    },
    {
     "name": "stderr",
     "output_type": "stream",
     "text": [
      " 52%|█████▏    | 47/90 [05:17<04:51,  6.79s/it]"
     ]
    },
    {
     "name": "stdout",
     "output_type": "stream",
     "text": [
      "\n"
     ]
    },
    {
     "name": "stderr",
     "output_type": "stream",
     "text": [
      " 53%|█████▎    | 48/90 [05:28<05:31,  7.90s/it]"
     ]
    },
    {
     "name": "stdout",
     "output_type": "stream",
     "text": [
      "\n"
     ]
    },
    {
     "name": "stderr",
     "output_type": "stream",
     "text": [
      " 54%|█████▍    | 49/90 [05:34<04:58,  7.28s/it]"
     ]
    },
    {
     "name": "stdout",
     "output_type": "stream",
     "text": [
      "\n",
      "\r"
     ]
    },
    {
     "name": "stderr",
     "output_type": "stream",
     "text": [
      " 56%|█████▌    | 50/90 [05:40<04:42,  7.05s/it]"
     ]
    },
    {
     "name": "stdout",
     "output_type": "stream",
     "text": [
      "\n"
     ]
    },
    {
     "name": "stderr",
     "output_type": "stream",
     "text": [
      " 57%|█████▋    | 51/90 [05:48<04:39,  7.16s/it]"
     ]
    },
    {
     "name": "stdout",
     "output_type": "stream",
     "text": [
      "\n"
     ]
    },
    {
     "name": "stderr",
     "output_type": "stream",
     "text": [
      " 58%|█████▊    | 52/90 [05:56<04:42,  7.42s/it]"
     ]
    },
    {
     "name": "stdout",
     "output_type": "stream",
     "text": [
      "\n"
     ]
    },
    {
     "name": "stderr",
     "output_type": "stream",
     "text": [
      " 59%|█████▉    | 53/90 [06:01<04:11,  6.81s/it]"
     ]
    },
    {
     "name": "stdout",
     "output_type": "stream",
     "text": [
      "\n"
     ]
    },
    {
     "name": "stderr",
     "output_type": "stream",
     "text": [
      " 60%|██████    | 54/90 [06:08<04:04,  6.78s/it]"
     ]
    },
    {
     "name": "stdout",
     "output_type": "stream",
     "text": [
      "\n",
      "\r"
     ]
    },
    {
     "name": "stderr",
     "output_type": "stream",
     "text": [
      " 61%|██████    | 55/90 [06:11<03:25,  5.88s/it]"
     ]
    },
    {
     "name": "stdout",
     "output_type": "stream",
     "text": [
      "\n"
     ]
    },
    {
     "name": "stderr",
     "output_type": "stream",
     "text": [
      " 62%|██████▏   | 56/90 [06:20<03:52,  6.83s/it]"
     ]
    },
    {
     "name": "stdout",
     "output_type": "stream",
     "text": [
      "\n",
      "\r"
     ]
    },
    {
     "name": "stderr",
     "output_type": "stream",
     "text": [
      " 63%|██████▎   | 57/90 [06:27<03:39,  6.65s/it]"
     ]
    },
    {
     "name": "stdout",
     "output_type": "stream",
     "text": [
      "\n"
     ]
    },
    {
     "name": "stderr",
     "output_type": "stream",
     "text": [
      " 64%|██████▍   | 58/90 [06:32<03:23,  6.37s/it]"
     ]
    },
    {
     "name": "stdout",
     "output_type": "stream",
     "text": [
      "\n"
     ]
    },
    {
     "name": "stderr",
     "output_type": "stream",
     "text": [
      " 66%|██████▌   | 59/90 [06:40<03:24,  6.58s/it]"
     ]
    },
    {
     "name": "stdout",
     "output_type": "stream",
     "text": [
      "\n",
      "\r"
     ]
    },
    {
     "name": "stderr",
     "output_type": "stream",
     "text": [
      " 67%|██████▋   | 60/90 [06:44<03:02,  6.09s/it]"
     ]
    },
    {
     "name": "stdout",
     "output_type": "stream",
     "text": [
      "\n",
      "\r"
     ]
    },
    {
     "name": "stderr",
     "output_type": "stream",
     "text": [
      " 68%|██████▊   | 61/90 [06:50<02:47,  5.78s/it]"
     ]
    },
    {
     "name": "stdout",
     "output_type": "stream",
     "text": [
      "\n",
      "\r"
     ]
    },
    {
     "name": "stderr",
     "output_type": "stream",
     "text": [
      " 69%|██████▉   | 62/90 [06:54<02:27,  5.27s/it]"
     ]
    },
    {
     "name": "stdout",
     "output_type": "stream",
     "text": [
      "\n"
     ]
    },
    {
     "name": "stderr",
     "output_type": "stream",
     "text": [
      " 70%|███████   | 63/90 [06:58<02:16,  5.05s/it]"
     ]
    },
    {
     "name": "stdout",
     "output_type": "stream",
     "text": [
      "\n"
     ]
    },
    {
     "name": "stderr",
     "output_type": "stream",
     "text": [
      " 71%|███████   | 64/90 [07:02<02:01,  4.68s/it]"
     ]
    },
    {
     "name": "stdout",
     "output_type": "stream",
     "text": [
      "\n",
      "\r"
     ]
    },
    {
     "name": "stderr",
     "output_type": "stream",
     "text": [
      " 72%|███████▏  | 65/90 [07:07<02:01,  4.87s/it]"
     ]
    },
    {
     "name": "stdout",
     "output_type": "stream",
     "text": [
      "\n"
     ]
    },
    {
     "name": "stderr",
     "output_type": "stream",
     "text": [
      " 73%|███████▎  | 66/90 [07:13<02:06,  5.27s/it]"
     ]
    },
    {
     "name": "stdout",
     "output_type": "stream",
     "text": [
      "\n",
      "\r"
     ]
    },
    {
     "name": "stderr",
     "output_type": "stream",
     "text": [
      " 74%|███████▍  | 67/90 [07:19<02:00,  5.23s/it]"
     ]
    },
    {
     "name": "stdout",
     "output_type": "stream",
     "text": [
      "\n",
      "\r"
     ]
    },
    {
     "name": "stderr",
     "output_type": "stream",
     "text": [
      " 76%|███████▌  | 68/90 [07:23<01:50,  5.04s/it]"
     ]
    },
    {
     "name": "stdout",
     "output_type": "stream",
     "text": [
      "\n",
      "\r"
     ]
    },
    {
     "name": "stderr",
     "output_type": "stream",
     "text": [
      " 77%|███████▋  | 69/90 [07:27<01:38,  4.67s/it]"
     ]
    },
    {
     "name": "stdout",
     "output_type": "stream",
     "text": [
      "\n",
      "\r"
     ]
    },
    {
     "name": "stderr",
     "output_type": "stream",
     "text": [
      " 78%|███████▊  | 70/90 [07:32<01:38,  4.91s/it]"
     ]
    },
    {
     "name": "stdout",
     "output_type": "stream",
     "text": [
      "\n",
      "\r"
     ]
    },
    {
     "name": "stderr",
     "output_type": "stream",
     "text": [
      " 79%|███████▉  | 71/90 [07:38<01:37,  5.13s/it]"
     ]
    },
    {
     "name": "stdout",
     "output_type": "stream",
     "text": [
      "\n"
     ]
    },
    {
     "name": "stderr",
     "output_type": "stream",
     "text": [
      " 80%|████████  | 72/90 [07:41<01:22,  4.58s/it]"
     ]
    },
    {
     "name": "stdout",
     "output_type": "stream",
     "text": [
      "\n"
     ]
    },
    {
     "name": "stderr",
     "output_type": "stream",
     "text": [
      " 81%|████████  | 73/90 [07:45<01:13,  4.31s/it]"
     ]
    },
    {
     "name": "stdout",
     "output_type": "stream",
     "text": [
      "\n",
      "\r"
     ]
    },
    {
     "name": "stderr",
     "output_type": "stream",
     "text": [
      " 82%|████████▏ | 74/90 [07:53<01:25,  5.37s/it]"
     ]
    },
    {
     "name": "stdout",
     "output_type": "stream",
     "text": [
      "\n",
      "\r"
     ]
    },
    {
     "name": "stderr",
     "output_type": "stream",
     "text": [
      " 83%|████████▎ | 75/90 [07:58<01:20,  5.39s/it]"
     ]
    },
    {
     "name": "stdout",
     "output_type": "stream",
     "text": [
      "\n"
     ]
    },
    {
     "name": "stderr",
     "output_type": "stream",
     "text": [
      " 84%|████████▍ | 76/90 [08:02<01:09,  4.99s/it]"
     ]
    },
    {
     "name": "stdout",
     "output_type": "stream",
     "text": [
      "\n",
      "\r"
     ]
    },
    {
     "name": "stderr",
     "output_type": "stream",
     "text": [
      " 86%|████████▌ | 77/90 [08:06<01:00,  4.63s/it]"
     ]
    },
    {
     "name": "stdout",
     "output_type": "stream",
     "text": [
      "\n"
     ]
    },
    {
     "name": "stderr",
     "output_type": "stream",
     "text": [
      " 87%|████████▋ | 78/90 [08:13<01:04,  5.39s/it]"
     ]
    },
    {
     "name": "stdout",
     "output_type": "stream",
     "text": [
      "\n",
      "\r"
     ]
    },
    {
     "name": "stderr",
     "output_type": "stream",
     "text": [
      " 88%|████████▊ | 79/90 [08:17<00:54,  4.92s/it]"
     ]
    },
    {
     "name": "stdout",
     "output_type": "stream",
     "text": [
      "\n",
      "\r"
     ]
    },
    {
     "name": "stderr",
     "output_type": "stream",
     "text": [
      " 89%|████████▉ | 80/90 [08:23<00:50,  5.08s/it]"
     ]
    },
    {
     "name": "stdout",
     "output_type": "stream",
     "text": [
      "\n",
      "\r"
     ]
    },
    {
     "name": "stderr",
     "output_type": "stream",
     "text": [
      " 90%|█████████ | 81/90 [08:28<00:46,  5.20s/it]"
     ]
    },
    {
     "name": "stdout",
     "output_type": "stream",
     "text": [
      "\n",
      "\r"
     ]
    },
    {
     "name": "stderr",
     "output_type": "stream",
     "text": [
      " 91%|█████████ | 82/90 [08:33<00:40,  5.11s/it]"
     ]
    },
    {
     "name": "stdout",
     "output_type": "stream",
     "text": [
      "\n"
     ]
    },
    {
     "name": "stderr",
     "output_type": "stream",
     "text": [
      " 92%|█████████▏| 83/90 [08:38<00:36,  5.21s/it]"
     ]
    },
    {
     "name": "stdout",
     "output_type": "stream",
     "text": [
      "\n"
     ]
    },
    {
     "name": "stderr",
     "output_type": "stream",
     "text": [
      " 93%|█████████▎| 84/90 [08:43<00:29,  4.86s/it]"
     ]
    },
    {
     "name": "stdout",
     "output_type": "stream",
     "text": [
      "\n",
      "\r"
     ]
    },
    {
     "name": "stderr",
     "output_type": "stream",
     "text": [
      " 94%|█████████▍| 85/90 [08:48<00:25,  5.12s/it]"
     ]
    },
    {
     "name": "stdout",
     "output_type": "stream",
     "text": [
      "\n",
      "\r"
     ]
    },
    {
     "name": "stderr",
     "output_type": "stream",
     "text": [
      " 96%|█████████▌| 86/90 [08:56<00:24,  6.04s/it]"
     ]
    },
    {
     "name": "stdout",
     "output_type": "stream",
     "text": [
      "\n"
     ]
    },
    {
     "name": "stderr",
     "output_type": "stream",
     "text": [
      " 97%|█████████▋| 87/90 [09:05<00:20,  6.86s/it]"
     ]
    },
    {
     "name": "stdout",
     "output_type": "stream",
     "text": [
      "\n"
     ]
    },
    {
     "name": "stderr",
     "output_type": "stream",
     "text": [
      " 98%|█████████▊| 88/90 [09:15<00:15,  7.79s/it]"
     ]
    },
    {
     "name": "stdout",
     "output_type": "stream",
     "text": [
      "\n"
     ]
    },
    {
     "name": "stderr",
     "output_type": "stream",
     "text": [
      " 99%|█████████▉| 89/90 [09:22<00:07,  7.44s/it]"
     ]
    },
    {
     "name": "stdout",
     "output_type": "stream",
     "text": [
      "\n"
     ]
    },
    {
     "name": "stderr",
     "output_type": "stream",
     "text": [
      "100%|██████████| 90/90 [09:30<00:00,  6.34s/it]\n",
      "  0%|          | 0/90 [00:00<?, ?it/s]"
     ]
    },
    {
     "name": "stdout",
     "output_type": "stream",
     "text": [
      "\n",
      "\r"
     ]
    },
    {
     "name": "stderr",
     "output_type": "stream",
     "text": [
      "  1%|          | 1/90 [00:08<12:44,  8.60s/it]"
     ]
    },
    {
     "name": "stdout",
     "output_type": "stream",
     "text": [
      "\n"
     ]
    },
    {
     "name": "stderr",
     "output_type": "stream",
     "text": [
      "  2%|▏         | 2/90 [00:17<12:37,  8.60s/it]"
     ]
    },
    {
     "name": "stdout",
     "output_type": "stream",
     "text": [
      "\n"
     ]
    },
    {
     "name": "stderr",
     "output_type": "stream",
     "text": [
      "  3%|▎         | 3/90 [00:26<12:47,  8.82s/it]"
     ]
    },
    {
     "name": "stdout",
     "output_type": "stream",
     "text": [
      "\n"
     ]
    },
    {
     "name": "stderr",
     "output_type": "stream",
     "text": [
      "  4%|▍         | 4/90 [00:31<11:09,  7.79s/it]"
     ]
    },
    {
     "name": "stdout",
     "output_type": "stream",
     "text": [
      "\n",
      "\r"
     ]
    },
    {
     "name": "stderr",
     "output_type": "stream",
     "text": [
      "  6%|▌         | 5/90 [00:43<12:43,  8.98s/it]"
     ]
    },
    {
     "name": "stdout",
     "output_type": "stream",
     "text": [
      "\n"
     ]
    },
    {
     "name": "stderr",
     "output_type": "stream",
     "text": [
      "  7%|▋         | 6/90 [00:49<11:06,  7.93s/it]"
     ]
    },
    {
     "name": "stdout",
     "output_type": "stream",
     "text": [
      "\n"
     ]
    },
    {
     "name": "stderr",
     "output_type": "stream",
     "text": [
      "  8%|▊         | 7/90 [00:54<09:56,  7.19s/it]"
     ]
    },
    {
     "name": "stdout",
     "output_type": "stream",
     "text": [
      "\n"
     ]
    },
    {
     "name": "stderr",
     "output_type": "stream",
     "text": [
      "  9%|▉         | 8/90 [01:06<11:47,  8.63s/it]"
     ]
    },
    {
     "name": "stdout",
     "output_type": "stream",
     "text": [
      "\n"
     ]
    },
    {
     "name": "stderr",
     "output_type": "stream",
     "text": [
      " 10%|█         | 9/90 [01:13<11:03,  8.19s/it]"
     ]
    },
    {
     "name": "stdout",
     "output_type": "stream",
     "text": [
      "\n",
      "\r"
     ]
    },
    {
     "name": "stderr",
     "output_type": "stream",
     "text": [
      " 11%|█         | 10/90 [01:18<09:19,  7.00s/it]"
     ]
    },
    {
     "name": "stdout",
     "output_type": "stream",
     "text": [
      "\n"
     ]
    },
    {
     "name": "stderr",
     "output_type": "stream",
     "text": [
      " 12%|█▏        | 11/90 [01:22<08:22,  6.36s/it]"
     ]
    },
    {
     "name": "stdout",
     "output_type": "stream",
     "text": [
      "\n"
     ]
    },
    {
     "name": "stderr",
     "output_type": "stream",
     "text": [
      " 13%|█▎        | 12/90 [01:28<07:49,  6.01s/it]"
     ]
    },
    {
     "name": "stdout",
     "output_type": "stream",
     "text": [
      "\n",
      "\r"
     ]
    },
    {
     "name": "stderr",
     "output_type": "stream",
     "text": [
      " 14%|█▍        | 13/90 [01:35<08:07,  6.33s/it]"
     ]
    },
    {
     "name": "stdout",
     "output_type": "stream",
     "text": [
      "\n",
      "\r"
     ]
    },
    {
     "name": "stderr",
     "output_type": "stream",
     "text": [
      " 16%|█▌        | 14/90 [01:41<07:56,  6.28s/it]"
     ]
    },
    {
     "name": "stdout",
     "output_type": "stream",
     "text": [
      "\n",
      "\r"
     ]
    },
    {
     "name": "stderr",
     "output_type": "stream",
     "text": [
      " 17%|█▋        | 15/90 [01:47<07:41,  6.16s/it]"
     ]
    },
    {
     "name": "stdout",
     "output_type": "stream",
     "text": [
      "\n",
      "\r"
     ]
    },
    {
     "name": "stderr",
     "output_type": "stream",
     "text": [
      " 18%|█▊        | 16/90 [01:55<08:24,  6.82s/it]"
     ]
    },
    {
     "name": "stdout",
     "output_type": "stream",
     "text": [
      "\n",
      "\r"
     ]
    },
    {
     "name": "stderr",
     "output_type": "stream",
     "text": [
      " 19%|█▉        | 17/90 [02:00<07:42,  6.34s/it]"
     ]
    },
    {
     "name": "stdout",
     "output_type": "stream",
     "text": [
      "\n"
     ]
    },
    {
     "name": "stderr",
     "output_type": "stream",
     "text": [
      " 20%|██        | 18/90 [02:08<08:05,  6.74s/it]"
     ]
    },
    {
     "name": "stdout",
     "output_type": "stream",
     "text": [
      "\n",
      "\r"
     ]
    },
    {
     "name": "stderr",
     "output_type": "stream",
     "text": [
      " 21%|██        | 19/90 [02:13<07:18,  6.18s/it]"
     ]
    },
    {
     "name": "stdout",
     "output_type": "stream",
     "text": [
      "\n"
     ]
    },
    {
     "name": "stderr",
     "output_type": "stream",
     "text": [
      " 22%|██▏       | 20/90 [02:21<07:52,  6.74s/it]"
     ]
    },
    {
     "name": "stdout",
     "output_type": "stream",
     "text": [
      "\n"
     ]
    },
    {
     "name": "stderr",
     "output_type": "stream",
     "text": [
      " 23%|██▎       | 21/90 [02:26<07:16,  6.33s/it]"
     ]
    },
    {
     "name": "stdout",
     "output_type": "stream",
     "text": [
      "\n"
     ]
    },
    {
     "name": "stderr",
     "output_type": "stream",
     "text": [
      " 24%|██▍       | 22/90 [02:35<07:52,  6.95s/it]"
     ]
    },
    {
     "name": "stdout",
     "output_type": "stream",
     "text": [
      "\n",
      "\r"
     ]
    },
    {
     "name": "stderr",
     "output_type": "stream",
     "text": [
      " 26%|██▌       | 23/90 [02:43<08:05,  7.25s/it]"
     ]
    },
    {
     "name": "stdout",
     "output_type": "stream",
     "text": [
      "\n",
      "\r"
     ]
    },
    {
     "name": "stderr",
     "output_type": "stream",
     "text": [
      " 27%|██▋       | 24/90 [02:49<07:51,  7.14s/it]"
     ]
    },
    {
     "name": "stdout",
     "output_type": "stream",
     "text": [
      "\n",
      "\r"
     ]
    },
    {
     "name": "stderr",
     "output_type": "stream",
     "text": [
      " 28%|██▊       | 25/90 [02:58<08:04,  7.45s/it]"
     ]
    },
    {
     "name": "stdout",
     "output_type": "stream",
     "text": [
      "\n",
      "\r"
     ]
    },
    {
     "name": "stderr",
     "output_type": "stream",
     "text": [
      " 29%|██▉       | 26/90 [03:06<08:20,  7.82s/it]"
     ]
    },
    {
     "name": "stdout",
     "output_type": "stream",
     "text": [
      "\n"
     ]
    },
    {
     "name": "stderr",
     "output_type": "stream",
     "text": [
      " 30%|███       | 27/90 [03:12<07:35,  7.23s/it]"
     ]
    },
    {
     "name": "stdout",
     "output_type": "stream",
     "text": [
      "\n",
      "\r"
     ]
    },
    {
     "name": "stderr",
     "output_type": "stream",
     "text": [
      " 31%|███       | 28/90 [03:19<07:18,  7.08s/it]"
     ]
    },
    {
     "name": "stdout",
     "output_type": "stream",
     "text": [
      "\n",
      "\r"
     ]
    },
    {
     "name": "stderr",
     "output_type": "stream",
     "text": [
      " 32%|███▏      | 29/90 [03:24<06:34,  6.47s/it]"
     ]
    },
    {
     "name": "stdout",
     "output_type": "stream",
     "text": [
      "\n"
     ]
    },
    {
     "name": "stderr",
     "output_type": "stream",
     "text": [
      " 33%|███▎      | 30/90 [03:33<07:05,  7.10s/it]"
     ]
    },
    {
     "name": "stdout",
     "output_type": "stream",
     "text": [
      "\n",
      "\r"
     ]
    },
    {
     "name": "stderr",
     "output_type": "stream",
     "text": [
      " 34%|███▍      | 31/90 [03:39<06:39,  6.77s/it]"
     ]
    },
    {
     "name": "stdout",
     "output_type": "stream",
     "text": [
      "\n",
      "\r"
     ]
    },
    {
     "name": "stderr",
     "output_type": "stream",
     "text": [
      " 36%|███▌      | 32/90 [03:45<06:36,  6.83s/it]"
     ]
    },
    {
     "name": "stdout",
     "output_type": "stream",
     "text": [
      "\n"
     ]
    },
    {
     "name": "stderr",
     "output_type": "stream",
     "text": [
      " 37%|███▋      | 33/90 [03:55<07:14,  7.61s/it]"
     ]
    },
    {
     "name": "stdout",
     "output_type": "stream",
     "text": [
      "\n",
      "\r"
     ]
    },
    {
     "name": "stderr",
     "output_type": "stream",
     "text": [
      " 38%|███▊      | 34/90 [04:01<06:35,  7.06s/it]"
     ]
    },
    {
     "name": "stdout",
     "output_type": "stream",
     "text": [
      "\n",
      "\r"
     ]
    },
    {
     "name": "stderr",
     "output_type": "stream",
     "text": [
      " 39%|███▉      | 35/90 [04:05<05:35,  6.11s/it]"
     ]
    },
    {
     "name": "stdout",
     "output_type": "stream",
     "text": [
      "\n"
     ]
    },
    {
     "name": "stderr",
     "output_type": "stream",
     "text": [
      " 40%|████      | 36/90 [04:14<06:18,  7.01s/it]"
     ]
    },
    {
     "name": "stdout",
     "output_type": "stream",
     "text": [
      "\n"
     ]
    },
    {
     "name": "stderr",
     "output_type": "stream",
     "text": [
      " 41%|████      | 37/90 [04:25<07:11,  8.15s/it]"
     ]
    },
    {
     "name": "stdout",
     "output_type": "stream",
     "text": [
      "\n",
      "\r"
     ]
    },
    {
     "name": "stderr",
     "output_type": "stream",
     "text": [
      " 42%|████▏     | 38/90 [04:36<07:51,  9.07s/it]"
     ]
    },
    {
     "name": "stdout",
     "output_type": "stream",
     "text": [
      "\n",
      "\r"
     ]
    },
    {
     "name": "stderr",
     "output_type": "stream",
     "text": [
      " 43%|████▎     | 39/90 [04:42<06:53,  8.11s/it]"
     ]
    },
    {
     "name": "stdout",
     "output_type": "stream",
     "text": [
      "\n",
      "\r"
     ]
    },
    {
     "name": "stderr",
     "output_type": "stream",
     "text": [
      " 44%|████▍     | 40/90 [04:49<06:33,  7.86s/it]"
     ]
    },
    {
     "name": "stdout",
     "output_type": "stream",
     "text": [
      "\n"
     ]
    },
    {
     "name": "stderr",
     "output_type": "stream",
     "text": [
      " 46%|████▌     | 41/90 [04:54<05:47,  7.10s/it]"
     ]
    },
    {
     "name": "stdout",
     "output_type": "stream",
     "text": [
      "\n"
     ]
    },
    {
     "name": "stderr",
     "output_type": "stream",
     "text": [
      " 47%|████▋     | 42/90 [05:02<05:51,  7.32s/it]"
     ]
    },
    {
     "name": "stdout",
     "output_type": "stream",
     "text": [
      "\n"
     ]
    },
    {
     "name": "stderr",
     "output_type": "stream",
     "text": [
      " 48%|████▊     | 43/90 [05:07<05:04,  6.49s/it]"
     ]
    },
    {
     "name": "stdout",
     "output_type": "stream",
     "text": [
      "\n"
     ]
    },
    {
     "name": "stderr",
     "output_type": "stream",
     "text": [
      " 49%|████▉     | 44/90 [05:11<04:29,  5.86s/it]"
     ]
    },
    {
     "name": "stdout",
     "output_type": "stream",
     "text": [
      "\n",
      "\r"
     ]
    },
    {
     "name": "stderr",
     "output_type": "stream",
     "text": [
      " 50%|█████     | 45/90 [05:16<04:06,  5.47s/it]"
     ]
    },
    {
     "name": "stdout",
     "output_type": "stream",
     "text": [
      "\n"
     ]
    },
    {
     "name": "stderr",
     "output_type": "stream",
     "text": [
      " 51%|█████     | 46/90 [05:23<04:23,  5.98s/it]"
     ]
    },
    {
     "name": "stdout",
     "output_type": "stream",
     "text": [
      "\n"
     ]
    },
    {
     "name": "stderr",
     "output_type": "stream",
     "text": [
      " 52%|█████▏    | 47/90 [05:32<04:53,  6.83s/it]"
     ]
    },
    {
     "name": "stdout",
     "output_type": "stream",
     "text": [
      "\n",
      "\r"
     ]
    },
    {
     "name": "stderr",
     "output_type": "stream",
     "text": [
      " 53%|█████▎    | 48/90 [05:41<05:14,  7.49s/it]"
     ]
    },
    {
     "name": "stdout",
     "output_type": "stream",
     "text": [
      "\n"
     ]
    },
    {
     "name": "stderr",
     "output_type": "stream",
     "text": [
      " 54%|█████▍    | 49/90 [05:49<05:16,  7.71s/it]"
     ]
    },
    {
     "name": "stdout",
     "output_type": "stream",
     "text": [
      "\n",
      "\r"
     ]
    },
    {
     "name": "stderr",
     "output_type": "stream",
     "text": [
      " 56%|█████▌    | 50/90 [05:54<04:36,  6.91s/it]"
     ]
    },
    {
     "name": "stdout",
     "output_type": "stream",
     "text": [
      "\n",
      "\r"
     ]
    },
    {
     "name": "stderr",
     "output_type": "stream",
     "text": [
      " 57%|█████▋    | 51/90 [06:00<04:22,  6.73s/it]"
     ]
    },
    {
     "name": "stdout",
     "output_type": "stream",
     "text": [
      "\n",
      "\r"
     ]
    },
    {
     "name": "stderr",
     "output_type": "stream",
     "text": [
      " 58%|█████▊    | 52/90 [06:07<04:12,  6.66s/it]"
     ]
    },
    {
     "name": "stdout",
     "output_type": "stream",
     "text": [
      "\n"
     ]
    },
    {
     "name": "stderr",
     "output_type": "stream",
     "text": [
      " 59%|█████▉    | 53/90 [06:15<04:27,  7.22s/it]"
     ]
    },
    {
     "name": "stdout",
     "output_type": "stream",
     "text": [
      "\n"
     ]
    },
    {
     "name": "stderr",
     "output_type": "stream",
     "text": [
      " 60%|██████    | 54/90 [06:23<04:22,  7.28s/it]"
     ]
    },
    {
     "name": "stdout",
     "output_type": "stream",
     "text": [
      "\n",
      "\r"
     ]
    },
    {
     "name": "stderr",
     "output_type": "stream",
     "text": [
      " 61%|██████    | 55/90 [06:35<05:10,  8.86s/it]"
     ]
    },
    {
     "name": "stdout",
     "output_type": "stream",
     "text": [
      "\n"
     ]
    },
    {
     "name": "stderr",
     "output_type": "stream",
     "text": [
      " 62%|██████▏   | 56/90 [06:41<04:26,  7.85s/it]"
     ]
    },
    {
     "name": "stdout",
     "output_type": "stream",
     "text": [
      "\n"
     ]
    },
    {
     "name": "stderr",
     "output_type": "stream",
     "text": [
      " 63%|██████▎   | 57/90 [06:49<04:19,  7.86s/it]"
     ]
    },
    {
     "name": "stdout",
     "output_type": "stream",
     "text": [
      "\n"
     ]
    },
    {
     "name": "stderr",
     "output_type": "stream",
     "text": [
      " 64%|██████▍   | 58/90 [07:01<04:56,  9.25s/it]"
     ]
    },
    {
     "name": "stdout",
     "output_type": "stream",
     "text": [
      "\n",
      "\r"
     ]
    },
    {
     "name": "stderr",
     "output_type": "stream",
     "text": [
      " 66%|██████▌   | 59/90 [07:07<04:17,  8.31s/it]"
     ]
    },
    {
     "name": "stdout",
     "output_type": "stream",
     "text": [
      "\n"
     ]
    },
    {
     "name": "stderr",
     "output_type": "stream",
     "text": [
      " 67%|██████▋   | 60/90 [07:11<03:28,  6.94s/it]"
     ]
    },
    {
     "name": "stdout",
     "output_type": "stream",
     "text": [
      "\n"
     ]
    },
    {
     "name": "stderr",
     "output_type": "stream",
     "text": [
      " 68%|██████▊   | 61/90 [07:17<03:13,  6.67s/it]"
     ]
    },
    {
     "name": "stdout",
     "output_type": "stream",
     "text": [
      "\n"
     ]
    },
    {
     "name": "stderr",
     "output_type": "stream",
     "text": [
      " 69%|██████▉   | 62/90 [07:25<03:18,  7.08s/it]"
     ]
    },
    {
     "name": "stdout",
     "output_type": "stream",
     "text": [
      "\n",
      "\r"
     ]
    },
    {
     "name": "stderr",
     "output_type": "stream",
     "text": [
      " 70%|███████   | 63/90 [07:35<03:38,  8.09s/it]"
     ]
    },
    {
     "name": "stdout",
     "output_type": "stream",
     "text": [
      "\n"
     ]
    },
    {
     "name": "stderr",
     "output_type": "stream",
     "text": [
      " 71%|███████   | 64/90 [07:42<03:22,  7.77s/it]"
     ]
    },
    {
     "name": "stdout",
     "output_type": "stream",
     "text": [
      "\n"
     ]
    },
    {
     "name": "stderr",
     "output_type": "stream",
     "text": [
      " 72%|███████▏  | 65/90 [07:50<03:10,  7.60s/it]"
     ]
    },
    {
     "name": "stdout",
     "output_type": "stream",
     "text": [
      "\n",
      "\r"
     ]
    },
    {
     "name": "stderr",
     "output_type": "stream",
     "text": [
      " 73%|███████▎  | 66/90 [07:55<02:49,  7.08s/it]"
     ]
    },
    {
     "name": "stdout",
     "output_type": "stream",
     "text": [
      "\n",
      "\r"
     ]
    },
    {
     "name": "stderr",
     "output_type": "stream",
     "text": [
      " 74%|███████▍  | 67/90 [08:02<02:39,  6.95s/it]"
     ]
    },
    {
     "name": "stdout",
     "output_type": "stream",
     "text": [
      "\n"
     ]
    },
    {
     "name": "stderr",
     "output_type": "stream",
     "text": [
      " 76%|███████▌  | 68/90 [08:14<03:04,  8.37s/it]"
     ]
    },
    {
     "name": "stdout",
     "output_type": "stream",
     "text": [
      "\n"
     ]
    },
    {
     "name": "stderr",
     "output_type": "stream",
     "text": [
      " 77%|███████▋  | 69/90 [08:19<02:34,  7.35s/it]"
     ]
    },
    {
     "name": "stdout",
     "output_type": "stream",
     "text": [
      "\n"
     ]
    },
    {
     "name": "stderr",
     "output_type": "stream",
     "text": [
      " 78%|███████▊  | 70/90 [08:29<02:45,  8.27s/it]"
     ]
    },
    {
     "name": "stdout",
     "output_type": "stream",
     "text": [
      "\n"
     ]
    },
    {
     "name": "stderr",
     "output_type": "stream",
     "text": [
      " 79%|███████▉  | 71/90 [08:34<02:19,  7.35s/it]"
     ]
    },
    {
     "name": "stdout",
     "output_type": "stream",
     "text": [
      "\n",
      "\r"
     ]
    },
    {
     "name": "stderr",
     "output_type": "stream",
     "text": [
      " 80%|████████  | 72/90 [08:38<01:53,  6.32s/it]"
     ]
    },
    {
     "name": "stdout",
     "output_type": "stream",
     "text": [
      "\n"
     ]
    },
    {
     "name": "stderr",
     "output_type": "stream",
     "text": [
      " 81%|████████  | 73/90 [08:43<01:36,  5.70s/it]"
     ]
    },
    {
     "name": "stdout",
     "output_type": "stream",
     "text": [
      "\n",
      "\r"
     ]
    },
    {
     "name": "stderr",
     "output_type": "stream",
     "text": [
      " 82%|████████▏ | 74/90 [08:50<01:40,  6.30s/it]"
     ]
    },
    {
     "name": "stdout",
     "output_type": "stream",
     "text": [
      "\n",
      "\r"
     ]
    },
    {
     "name": "stderr",
     "output_type": "stream",
     "text": [
      " 83%|████████▎ | 75/90 [08:56<01:31,  6.07s/it]"
     ]
    },
    {
     "name": "stdout",
     "output_type": "stream",
     "text": [
      "\n",
      "\r"
     ]
    },
    {
     "name": "stderr",
     "output_type": "stream",
     "text": [
      " 84%|████████▍ | 76/90 [09:01<01:21,  5.82s/it]"
     ]
    },
    {
     "name": "stdout",
     "output_type": "stream",
     "text": [
      "\n",
      "\r"
     ]
    },
    {
     "name": "stderr",
     "output_type": "stream",
     "text": [
      " 86%|████████▌ | 77/90 [09:06<01:10,  5.43s/it]"
     ]
    },
    {
     "name": "stdout",
     "output_type": "stream",
     "text": [
      "\n",
      "\r"
     ]
    },
    {
     "name": "stderr",
     "output_type": "stream",
     "text": [
      " 87%|████████▋ | 78/90 [09:11<01:04,  5.35s/it]"
     ]
    },
    {
     "name": "stdout",
     "output_type": "stream",
     "text": [
      "\n",
      "\r"
     ]
    },
    {
     "name": "stderr",
     "output_type": "stream",
     "text": [
      " 88%|████████▊ | 79/90 [09:15<00:56,  5.13s/it]"
     ]
    },
    {
     "name": "stdout",
     "output_type": "stream",
     "text": [
      "\n",
      "\r"
     ]
    },
    {
     "name": "stderr",
     "output_type": "stream",
     "text": [
      " 89%|████████▉ | 80/90 [09:19<00:47,  4.71s/it]"
     ]
    },
    {
     "name": "stdout",
     "output_type": "stream",
     "text": [
      "\n"
     ]
    },
    {
     "name": "stderr",
     "output_type": "stream",
     "text": [
      " 90%|█████████ | 81/90 [09:26<00:47,  5.26s/it]"
     ]
    },
    {
     "name": "stdout",
     "output_type": "stream",
     "text": [
      "\n"
     ]
    },
    {
     "name": "stderr",
     "output_type": "stream",
     "text": [
      " 91%|█████████ | 82/90 [09:32<00:45,  5.70s/it]"
     ]
    },
    {
     "name": "stdout",
     "output_type": "stream",
     "text": [
      "\n"
     ]
    },
    {
     "name": "stderr",
     "output_type": "stream",
     "text": [
      " 92%|█████████▏| 83/90 [09:47<00:57,  8.26s/it]"
     ]
    },
    {
     "name": "stdout",
     "output_type": "stream",
     "text": [
      "\n",
      "\r"
     ]
    },
    {
     "name": "stderr",
     "output_type": "stream",
     "text": [
      " 93%|█████████▎| 84/90 [09:54<00:48,  8.08s/it]"
     ]
    },
    {
     "name": "stdout",
     "output_type": "stream",
     "text": [
      "\n"
     ]
    },
    {
     "name": "stderr",
     "output_type": "stream",
     "text": [
      " 94%|█████████▍| 85/90 [10:02<00:39,  7.93s/it]"
     ]
    },
    {
     "name": "stdout",
     "output_type": "stream",
     "text": [
      "\n"
     ]
    },
    {
     "name": "stderr",
     "output_type": "stream",
     "text": [
      " 96%|█████████▌| 86/90 [10:08<00:29,  7.42s/it]"
     ]
    },
    {
     "name": "stdout",
     "output_type": "stream",
     "text": [
      "\n",
      "\r"
     ]
    },
    {
     "name": "stderr",
     "output_type": "stream",
     "text": [
      " 97%|█████████▋| 87/90 [10:16<00:22,  7.54s/it]"
     ]
    },
    {
     "name": "stdout",
     "output_type": "stream",
     "text": [
      "\n"
     ]
    },
    {
     "name": "stderr",
     "output_type": "stream",
     "text": [
      " 98%|█████████▊| 88/90 [10:23<00:14,  7.35s/it]"
     ]
    },
    {
     "name": "stdout",
     "output_type": "stream",
     "text": [
      "\n",
      "\r"
     ]
    },
    {
     "name": "stderr",
     "output_type": "stream",
     "text": [
      " 99%|█████████▉| 89/90 [10:27<00:06,  6.53s/it]"
     ]
    },
    {
     "name": "stdout",
     "output_type": "stream",
     "text": [
      "\n"
     ]
    },
    {
     "name": "stderr",
     "output_type": "stream",
     "text": [
      "100%|██████████| 90/90 [10:32<00:00,  7.03s/it]\n",
      "  0%|          | 0/90 [00:00<?, ?it/s]"
     ]
    },
    {
     "name": "stdout",
     "output_type": "stream",
     "text": [
      "\n",
      "\r"
     ]
    },
    {
     "name": "stderr",
     "output_type": "stream",
     "text": [
      "  1%|          | 1/90 [00:08<13:11,  8.90s/it]"
     ]
    },
    {
     "name": "stdout",
     "output_type": "stream",
     "text": [
      "\n"
     ]
    },
    {
     "name": "stderr",
     "output_type": "stream",
     "text": [
      "  2%|▏         | 2/90 [00:15<12:13,  8.33s/it]"
     ]
    },
    {
     "name": "stdout",
     "output_type": "stream",
     "text": [
      "\n"
     ]
    },
    {
     "name": "stderr",
     "output_type": "stream",
     "text": [
      "  3%|▎         | 3/90 [00:22<11:08,  7.69s/it]"
     ]
    },
    {
     "name": "stdout",
     "output_type": "stream",
     "text": [
      "\n",
      "\r"
     ]
    },
    {
     "name": "stderr",
     "output_type": "stream",
     "text": [
      "  4%|▍         | 4/90 [00:27<09:57,  6.95s/it]"
     ]
    },
    {
     "name": "stdout",
     "output_type": "stream",
     "text": [
      "\n",
      "\r"
     ]
    },
    {
     "name": "stderr",
     "output_type": "stream",
     "text": [
      "  6%|▌         | 5/90 [00:32<08:57,  6.33s/it]"
     ]
    },
    {
     "name": "stdout",
     "output_type": "stream",
     "text": [
      "\n",
      "\r"
     ]
    },
    {
     "name": "stderr",
     "output_type": "stream",
     "text": [
      "  7%|▋         | 6/90 [00:38<08:44,  6.24s/it]"
     ]
    },
    {
     "name": "stdout",
     "output_type": "stream",
     "text": [
      "\n",
      "\r"
     ]
    },
    {
     "name": "stderr",
     "output_type": "stream",
     "text": [
      "  8%|▊         | 7/90 [00:44<08:47,  6.35s/it]"
     ]
    },
    {
     "name": "stdout",
     "output_type": "stream",
     "text": [
      "\n",
      "\r"
     ]
    },
    {
     "name": "stderr",
     "output_type": "stream",
     "text": [
      "  9%|▉         | 8/90 [00:49<08:05,  5.92s/it]"
     ]
    },
    {
     "name": "stdout",
     "output_type": "stream",
     "text": [
      "\n"
     ]
    },
    {
     "name": "stderr",
     "output_type": "stream",
     "text": [
      " 10%|█         | 9/90 [00:57<08:52,  6.58s/it]"
     ]
    },
    {
     "name": "stdout",
     "output_type": "stream",
     "text": [
      "\n"
     ]
    },
    {
     "name": "stderr",
     "output_type": "stream",
     "text": [
      " 11%|█         | 10/90 [01:03<08:20,  6.25s/it]"
     ]
    },
    {
     "name": "stdout",
     "output_type": "stream",
     "text": [
      "\n"
     ]
    },
    {
     "name": "stderr",
     "output_type": "stream",
     "text": [
      " 12%|█▏        | 11/90 [01:07<07:24,  5.62s/it]"
     ]
    },
    {
     "name": "stdout",
     "output_type": "stream",
     "text": [
      "\n",
      "\r"
     ]
    },
    {
     "name": "stderr",
     "output_type": "stream",
     "text": [
      " 13%|█▎        | 12/90 [01:11<06:43,  5.17s/it]"
     ]
    },
    {
     "name": "stdout",
     "output_type": "stream",
     "text": [
      "\n",
      "\r"
     ]
    },
    {
     "name": "stderr",
     "output_type": "stream",
     "text": [
      " 14%|█▍        | 13/90 [01:20<08:01,  6.25s/it]"
     ]
    },
    {
     "name": "stdout",
     "output_type": "stream",
     "text": [
      "\n",
      "\r"
     ]
    },
    {
     "name": "stderr",
     "output_type": "stream",
     "text": [
      " 16%|█▌        | 14/90 [01:29<09:01,  7.12s/it]"
     ]
    },
    {
     "name": "stdout",
     "output_type": "stream",
     "text": [
      "\n",
      "\r"
     ]
    },
    {
     "name": "stderr",
     "output_type": "stream",
     "text": [
      " 17%|█▋        | 15/90 [01:34<08:06,  6.49s/it]"
     ]
    },
    {
     "name": "stdout",
     "output_type": "stream",
     "text": [
      "\n"
     ]
    },
    {
     "name": "stderr",
     "output_type": "stream",
     "text": [
      " 18%|█▊        | 16/90 [01:43<08:55,  7.23s/it]"
     ]
    },
    {
     "name": "stdout",
     "output_type": "stream",
     "text": [
      "\n",
      "\r"
     ]
    },
    {
     "name": "stderr",
     "output_type": "stream",
     "text": [
      " 19%|█▉        | 17/90 [01:49<08:15,  6.79s/it]"
     ]
    },
    {
     "name": "stdout",
     "output_type": "stream",
     "text": [
      "\n"
     ]
    },
    {
     "name": "stderr",
     "output_type": "stream",
     "text": [
      " 20%|██        | 18/90 [01:53<07:20,  6.12s/it]"
     ]
    },
    {
     "name": "stdout",
     "output_type": "stream",
     "text": [
      "\n"
     ]
    },
    {
     "name": "stderr",
     "output_type": "stream",
     "text": [
      " 21%|██        | 19/90 [02:00<07:25,  6.27s/it]"
     ]
    },
    {
     "name": "stdout",
     "output_type": "stream",
     "text": [
      "\n"
     ]
    },
    {
     "name": "stderr",
     "output_type": "stream",
     "text": [
      " 22%|██▏       | 20/90 [02:04<06:31,  5.59s/it]"
     ]
    },
    {
     "name": "stdout",
     "output_type": "stream",
     "text": [
      "\n",
      "\r"
     ]
    },
    {
     "name": "stderr",
     "output_type": "stream",
     "text": [
      " 23%|██▎       | 21/90 [02:11<06:47,  5.90s/it]"
     ]
    },
    {
     "name": "stdout",
     "output_type": "stream",
     "text": [
      "\n"
     ]
    },
    {
     "name": "stderr",
     "output_type": "stream",
     "text": [
      " 24%|██▍       | 22/90 [02:22<08:29,  7.49s/it]"
     ]
    },
    {
     "name": "stdout",
     "output_type": "stream",
     "text": [
      "\n"
     ]
    },
    {
     "name": "stderr",
     "output_type": "stream",
     "text": [
      " 26%|██▌       | 23/90 [02:29<08:24,  7.52s/it]"
     ]
    },
    {
     "name": "stdout",
     "output_type": "stream",
     "text": [
      "\n",
      "\r"
     ]
    },
    {
     "name": "stderr",
     "output_type": "stream",
     "text": [
      " 27%|██▋       | 24/90 [02:37<08:08,  7.40s/it]"
     ]
    },
    {
     "name": "stdout",
     "output_type": "stream",
     "text": [
      "\n",
      "\r"
     ]
    },
    {
     "name": "stderr",
     "output_type": "stream",
     "text": [
      " 28%|██▊       | 25/90 [02:44<08:05,  7.47s/it]"
     ]
    },
    {
     "name": "stdout",
     "output_type": "stream",
     "text": [
      "\n"
     ]
    },
    {
     "name": "stderr",
     "output_type": "stream",
     "text": [
      " 29%|██▉       | 26/90 [02:53<08:32,  8.00s/it]"
     ]
    },
    {
     "name": "stdout",
     "output_type": "stream",
     "text": [
      "\n",
      "\r"
     ]
    },
    {
     "name": "stderr",
     "output_type": "stream",
     "text": [
      " 30%|███       | 27/90 [02:59<07:43,  7.36s/it]"
     ]
    },
    {
     "name": "stdout",
     "output_type": "stream",
     "text": [
      "\n",
      "\r"
     ]
    },
    {
     "name": "stderr",
     "output_type": "stream",
     "text": [
      " 31%|███       | 28/90 [03:08<07:55,  7.68s/it]"
     ]
    },
    {
     "name": "stdout",
     "output_type": "stream",
     "text": [
      "\n"
     ]
    },
    {
     "name": "stderr",
     "output_type": "stream",
     "text": [
      " 32%|███▏      | 29/90 [03:17<08:22,  8.24s/it]"
     ]
    },
    {
     "name": "stdout",
     "output_type": "stream",
     "text": [
      "\n",
      "\r"
     ]
    },
    {
     "name": "stderr",
     "output_type": "stream",
     "text": [
      " 33%|███▎      | 30/90 [03:24<07:55,  7.92s/it]"
     ]
    },
    {
     "name": "stdout",
     "output_type": "stream",
     "text": [
      "\n",
      "\r"
     ]
    },
    {
     "name": "stderr",
     "output_type": "stream",
     "text": [
      " 34%|███▍      | 31/90 [03:33<07:52,  8.01s/it]"
     ]
    },
    {
     "name": "stdout",
     "output_type": "stream",
     "text": [
      "\n",
      "\r"
     ]
    },
    {
     "name": "stderr",
     "output_type": "stream",
     "text": [
      " 36%|███▌      | 32/90 [03:41<07:59,  8.27s/it]"
     ]
    },
    {
     "name": "stdout",
     "output_type": "stream",
     "text": [
      "\n"
     ]
    },
    {
     "name": "stderr",
     "output_type": "stream",
     "text": [
      " 37%|███▋      | 33/90 [03:48<07:21,  7.74s/it]"
     ]
    },
    {
     "name": "stdout",
     "output_type": "stream",
     "text": [
      "\n",
      "\r"
     ]
    },
    {
     "name": "stderr",
     "output_type": "stream",
     "text": [
      " 38%|███▊      | 34/90 [03:52<06:14,  6.68s/it]"
     ]
    },
    {
     "name": "stdout",
     "output_type": "stream",
     "text": [
      "\n",
      "\r"
     ]
    },
    {
     "name": "stderr",
     "output_type": "stream",
     "text": [
      " 39%|███▉      | 35/90 [03:57<05:36,  6.11s/it]"
     ]
    },
    {
     "name": "stdout",
     "output_type": "stream",
     "text": [
      "\n",
      "\r"
     ]
    },
    {
     "name": "stderr",
     "output_type": "stream",
     "text": [
      " 40%|████      | 36/90 [04:03<05:24,  6.01s/it]"
     ]
    },
    {
     "name": "stdout",
     "output_type": "stream",
     "text": [
      "\n",
      "\r"
     ]
    },
    {
     "name": "stderr",
     "output_type": "stream",
     "text": [
      " 41%|████      | 37/90 [04:08<05:01,  5.69s/it]"
     ]
    },
    {
     "name": "stdout",
     "output_type": "stream",
     "text": [
      "\n",
      "\r"
     ]
    },
    {
     "name": "stderr",
     "output_type": "stream",
     "text": [
      " 42%|████▏     | 38/90 [04:13<04:53,  5.65s/it]"
     ]
    },
    {
     "name": "stdout",
     "output_type": "stream",
     "text": [
      "\n",
      "\r"
     ]
    },
    {
     "name": "stderr",
     "output_type": "stream",
     "text": [
      " 43%|████▎     | 39/90 [04:18<04:34,  5.38s/it]"
     ]
    },
    {
     "name": "stdout",
     "output_type": "stream",
     "text": [
      "\n",
      "\r"
     ]
    },
    {
     "name": "stderr",
     "output_type": "stream",
     "text": [
      " 44%|████▍     | 40/90 [04:24<04:34,  5.49s/it]"
     ]
    },
    {
     "name": "stdout",
     "output_type": "stream",
     "text": [
      "\n",
      "\r"
     ]
    },
    {
     "name": "stderr",
     "output_type": "stream",
     "text": [
      " 46%|████▌     | 41/90 [04:30<04:36,  5.64s/it]"
     ]
    },
    {
     "name": "stdout",
     "output_type": "stream",
     "text": [
      "\n"
     ]
    },
    {
     "name": "stderr",
     "output_type": "stream",
     "text": [
      " 47%|████▋     | 42/90 [04:35<04:31,  5.66s/it]"
     ]
    },
    {
     "name": "stdout",
     "output_type": "stream",
     "text": [
      "\n"
     ]
    },
    {
     "name": "stderr",
     "output_type": "stream",
     "text": [
      " 48%|████▊     | 43/90 [04:44<05:00,  6.40s/it]"
     ]
    },
    {
     "name": "stdout",
     "output_type": "stream",
     "text": [
      "\n",
      "\r"
     ]
    },
    {
     "name": "stderr",
     "output_type": "stream",
     "text": [
      " 49%|████▉     | 44/90 [04:52<05:22,  7.01s/it]"
     ]
    },
    {
     "name": "stdout",
     "output_type": "stream",
     "text": [
      "\n"
     ]
    },
    {
     "name": "stderr",
     "output_type": "stream",
     "text": [
      " 50%|█████     | 45/90 [04:57<04:53,  6.52s/it]"
     ]
    },
    {
     "name": "stdout",
     "output_type": "stream",
     "text": [
      "\n"
     ]
    },
    {
     "name": "stderr",
     "output_type": "stream",
     "text": [
      " 51%|█████     | 46/90 [05:02<04:18,  5.88s/it]"
     ]
    },
    {
     "name": "stdout",
     "output_type": "stream",
     "text": [
      "\n",
      "\r"
     ]
    },
    {
     "name": "stderr",
     "output_type": "stream",
     "text": [
      " 52%|█████▏    | 47/90 [05:06<03:47,  5.28s/it]"
     ]
    },
    {
     "name": "stdout",
     "output_type": "stream",
     "text": [
      "\n"
     ]
    },
    {
     "name": "stderr",
     "output_type": "stream",
     "text": [
      " 53%|█████▎    | 48/90 [05:13<04:13,  6.03s/it]"
     ]
    },
    {
     "name": "stdout",
     "output_type": "stream",
     "text": [
      "\n",
      "\r"
     ]
    },
    {
     "name": "stderr",
     "output_type": "stream",
     "text": [
      " 54%|█████▍    | 49/90 [05:19<04:03,  5.94s/it]"
     ]
    },
    {
     "name": "stdout",
     "output_type": "stream",
     "text": [
      "\n",
      "\r"
     ]
    },
    {
     "name": "stderr",
     "output_type": "stream",
     "text": [
      " 56%|█████▌    | 50/90 [05:27<04:22,  6.56s/it]"
     ]
    },
    {
     "name": "stdout",
     "output_type": "stream",
     "text": [
      "\n"
     ]
    },
    {
     "name": "stderr",
     "output_type": "stream",
     "text": [
      " 57%|█████▋    | 51/90 [05:41<05:36,  8.64s/it]"
     ]
    },
    {
     "name": "stdout",
     "output_type": "stream",
     "text": [
      "\n",
      "\r"
     ]
    },
    {
     "name": "stderr",
     "output_type": "stream",
     "text": [
      " 58%|█████▊    | 52/90 [05:47<05:04,  8.01s/it]"
     ]
    },
    {
     "name": "stdout",
     "output_type": "stream",
     "text": [
      "\n"
     ]
    },
    {
     "name": "stderr",
     "output_type": "stream",
     "text": [
      " 59%|█████▉    | 53/90 [05:54<04:42,  7.64s/it]"
     ]
    },
    {
     "name": "stdout",
     "output_type": "stream",
     "text": [
      "\n",
      "\r"
     ]
    },
    {
     "name": "stderr",
     "output_type": "stream",
     "text": [
      " 60%|██████    | 54/90 [06:02<04:38,  7.73s/it]"
     ]
    },
    {
     "name": "stdout",
     "output_type": "stream",
     "text": [
      "\n"
     ]
    },
    {
     "name": "stderr",
     "output_type": "stream",
     "text": [
      " 61%|██████    | 55/90 [06:07<04:01,  6.91s/it]"
     ]
    },
    {
     "name": "stdout",
     "output_type": "stream",
     "text": [
      "\n",
      "\r"
     ]
    },
    {
     "name": "stderr",
     "output_type": "stream",
     "text": [
      " 62%|██████▏   | 56/90 [06:13<03:44,  6.61s/it]"
     ]
    },
    {
     "name": "stdout",
     "output_type": "stream",
     "text": [
      "\n"
     ]
    },
    {
     "name": "stderr",
     "output_type": "stream",
     "text": [
      " 63%|██████▎   | 57/90 [06:22<04:05,  7.44s/it]"
     ]
    },
    {
     "name": "stdout",
     "output_type": "stream",
     "text": [
      "\n"
     ]
    },
    {
     "name": "stderr",
     "output_type": "stream",
     "text": [
      " 64%|██████▍   | 58/90 [06:29<03:53,  7.31s/it]"
     ]
    },
    {
     "name": "stdout",
     "output_type": "stream",
     "text": [
      "\n",
      "\r"
     ]
    },
    {
     "name": "stderr",
     "output_type": "stream",
     "text": [
      " 66%|██████▌   | 59/90 [06:35<03:29,  6.76s/it]"
     ]
    },
    {
     "name": "stdout",
     "output_type": "stream",
     "text": [
      "\n",
      "\r"
     ]
    },
    {
     "name": "stderr",
     "output_type": "stream",
     "text": [
      " 67%|██████▋   | 60/90 [06:41<03:17,  6.59s/it]"
     ]
    },
    {
     "name": "stdout",
     "output_type": "stream",
     "text": [
      "\n",
      "\r"
     ]
    },
    {
     "name": "stderr",
     "output_type": "stream",
     "text": [
      " 68%|██████▊   | 61/90 [06:46<02:55,  6.05s/it]"
     ]
    },
    {
     "name": "stdout",
     "output_type": "stream",
     "text": [
      "\n"
     ]
    },
    {
     "name": "stderr",
     "output_type": "stream",
     "text": [
      " 69%|██████▉   | 62/90 [06:52<02:49,  6.04s/it]"
     ]
    },
    {
     "name": "stdout",
     "output_type": "stream",
     "text": [
      "\n"
     ]
    },
    {
     "name": "stderr",
     "output_type": "stream",
     "text": [
      " 70%|███████   | 63/90 [06:56<02:27,  5.46s/it]"
     ]
    },
    {
     "name": "stdout",
     "output_type": "stream",
     "text": [
      "\n"
     ]
    },
    {
     "name": "stderr",
     "output_type": "stream",
     "text": [
      " 71%|███████   | 64/90 [07:03<02:39,  6.12s/it]"
     ]
    },
    {
     "name": "stdout",
     "output_type": "stream",
     "text": [
      "\n",
      "\r"
     ]
    },
    {
     "name": "stderr",
     "output_type": "stream",
     "text": [
      " 72%|███████▏  | 65/90 [07:09<02:30,  6.02s/it]"
     ]
    },
    {
     "name": "stdout",
     "output_type": "stream",
     "text": [
      "\n",
      "\r"
     ]
    },
    {
     "name": "stderr",
     "output_type": "stream",
     "text": [
      " 73%|███████▎  | 66/90 [07:14<02:18,  5.76s/it]"
     ]
    },
    {
     "name": "stdout",
     "output_type": "stream",
     "text": [
      "\n",
      "\r"
     ]
    },
    {
     "name": "stderr",
     "output_type": "stream",
     "text": [
      " 74%|███████▍  | 67/90 [07:20<02:14,  5.83s/it]"
     ]
    },
    {
     "name": "stdout",
     "output_type": "stream",
     "text": [
      "\n",
      "\r"
     ]
    },
    {
     "name": "stderr",
     "output_type": "stream",
     "text": [
      " 76%|███████▌  | 68/90 [07:27<02:10,  5.94s/it]"
     ]
    },
    {
     "name": "stdout",
     "output_type": "stream",
     "text": [
      "\n",
      "\r"
     ]
    },
    {
     "name": "stderr",
     "output_type": "stream",
     "text": [
      " 77%|███████▋  | 69/90 [07:32<02:01,  5.79s/it]"
     ]
    },
    {
     "name": "stdout",
     "output_type": "stream",
     "text": [
      "\n"
     ]
    },
    {
     "name": "stderr",
     "output_type": "stream",
     "text": [
      " 78%|███████▊  | 70/90 [07:36<01:44,  5.21s/it]"
     ]
    },
    {
     "name": "stdout",
     "output_type": "stream",
     "text": [
      "\n",
      "\r"
     ]
    },
    {
     "name": "stderr",
     "output_type": "stream",
     "text": [
      " 79%|███████▉  | 71/90 [07:40<01:33,  4.91s/it]"
     ]
    },
    {
     "name": "stdout",
     "output_type": "stream",
     "text": [
      "\n",
      "\r"
     ]
    },
    {
     "name": "stderr",
     "output_type": "stream",
     "text": [
      " 80%|████████  | 72/90 [07:44<01:22,  4.61s/it]"
     ]
    },
    {
     "name": "stdout",
     "output_type": "stream",
     "text": [
      "\n",
      "\r"
     ]
    },
    {
     "name": "stderr",
     "output_type": "stream",
     "text": [
      " 81%|████████  | 73/90 [07:50<01:25,  5.05s/it]"
     ]
    },
    {
     "name": "stdout",
     "output_type": "stream",
     "text": [
      "\n"
     ]
    },
    {
     "name": "stderr",
     "output_type": "stream",
     "text": [
      " 82%|████████▏ | 74/90 [07:56<01:24,  5.26s/it]"
     ]
    },
    {
     "name": "stdout",
     "output_type": "stream",
     "text": [
      "\n",
      "\r"
     ]
    },
    {
     "name": "stderr",
     "output_type": "stream",
     "text": [
      " 83%|████████▎ | 75/90 [08:00<01:13,  4.92s/it]"
     ]
    },
    {
     "name": "stdout",
     "output_type": "stream",
     "text": [
      "\n",
      "\r"
     ]
    },
    {
     "name": "stderr",
     "output_type": "stream",
     "text": [
      " 84%|████████▍ | 76/90 [08:06<01:14,  5.30s/it]"
     ]
    },
    {
     "name": "stdout",
     "output_type": "stream",
     "text": [
      "\n",
      "\r"
     ]
    },
    {
     "name": "stderr",
     "output_type": "stream",
     "text": [
      " 86%|████████▌ | 77/90 [08:12<01:11,  5.50s/it]"
     ]
    },
    {
     "name": "stdout",
     "output_type": "stream",
     "text": [
      "\n"
     ]
    },
    {
     "name": "stderr",
     "output_type": "stream",
     "text": [
      " 87%|████████▋ | 78/90 [08:16<01:01,  5.12s/it]"
     ]
    },
    {
     "name": "stdout",
     "output_type": "stream",
     "text": [
      "\n",
      "\r"
     ]
    },
    {
     "name": "stderr",
     "output_type": "stream",
     "text": [
      " 88%|████████▊ | 79/90 [08:21<00:55,  5.05s/it]"
     ]
    },
    {
     "name": "stdout",
     "output_type": "stream",
     "text": [
      "\n"
     ]
    },
    {
     "name": "stderr",
     "output_type": "stream",
     "text": [
      " 89%|████████▉ | 80/90 [08:25<00:46,  4.69s/it]"
     ]
    },
    {
     "name": "stdout",
     "output_type": "stream",
     "text": [
      "\n"
     ]
    },
    {
     "name": "stderr",
     "output_type": "stream",
     "text": [
      " 90%|█████████ | 81/90 [08:30<00:41,  4.63s/it]"
     ]
    },
    {
     "name": "stdout",
     "output_type": "stream",
     "text": [
      "\n"
     ]
    },
    {
     "name": "stderr",
     "output_type": "stream",
     "text": [
      " 91%|█████████ | 82/90 [08:34<00:35,  4.45s/it]"
     ]
    },
    {
     "name": "stdout",
     "output_type": "stream",
     "text": [
      "\n",
      "\r"
     ]
    },
    {
     "name": "stderr",
     "output_type": "stream",
     "text": [
      " 92%|█████████▏| 83/90 [08:38<00:32,  4.57s/it]"
     ]
    },
    {
     "name": "stdout",
     "output_type": "stream",
     "text": [
      "\n"
     ]
    },
    {
     "name": "stderr",
     "output_type": "stream",
     "text": [
      " 93%|█████████▎| 84/90 [08:45<00:30,  5.16s/it]"
     ]
    },
    {
     "name": "stdout",
     "output_type": "stream",
     "text": [
      "\n"
     ]
    },
    {
     "name": "stderr",
     "output_type": "stream",
     "text": [
      " 94%|█████████▍| 85/90 [08:49<00:24,  4.83s/it]"
     ]
    },
    {
     "name": "stdout",
     "output_type": "stream",
     "text": [
      "\n"
     ]
    },
    {
     "name": "stderr",
     "output_type": "stream",
     "text": [
      " 96%|█████████▌| 86/90 [08:54<00:19,  4.88s/it]"
     ]
    },
    {
     "name": "stdout",
     "output_type": "stream",
     "text": [
      "\n",
      "\r"
     ]
    },
    {
     "name": "stderr",
     "output_type": "stream",
     "text": [
      " 97%|█████████▋| 87/90 [08:59<00:14,  4.81s/it]"
     ]
    },
    {
     "name": "stdout",
     "output_type": "stream",
     "text": [
      "\n"
     ]
    },
    {
     "name": "stderr",
     "output_type": "stream",
     "text": [
      " 98%|█████████▊| 88/90 [09:06<00:10,  5.47s/it]"
     ]
    },
    {
     "name": "stdout",
     "output_type": "stream",
     "text": [
      "\n"
     ]
    },
    {
     "name": "stderr",
     "output_type": "stream",
     "text": [
      " 99%|█████████▉| 89/90 [09:13<00:06,  6.14s/it]"
     ]
    },
    {
     "name": "stdout",
     "output_type": "stream",
     "text": [
      "\n"
     ]
    },
    {
     "name": "stderr",
     "output_type": "stream",
     "text": [
      "100%|██████████| 90/90 [09:19<00:00,  6.21s/it]\n",
      "  0%|          | 0/90 [00:00<?, ?it/s]"
     ]
    },
    {
     "name": "stdout",
     "output_type": "stream",
     "text": [
      "\n"
     ]
    },
    {
     "name": "stderr",
     "output_type": "stream",
     "text": [
      "  1%|          | 1/90 [00:08<12:32,  8.45s/it]"
     ]
    },
    {
     "name": "stdout",
     "output_type": "stream",
     "text": [
      "\n",
      "\r"
     ]
    },
    {
     "name": "stderr",
     "output_type": "stream",
     "text": [
      "  2%|▏         | 2/90 [00:14<11:21,  7.74s/it]"
     ]
    },
    {
     "name": "stdout",
     "output_type": "stream",
     "text": [
      "\n",
      "\r"
     ]
    },
    {
     "name": "stderr",
     "output_type": "stream",
     "text": [
      "  3%|▎         | 3/90 [00:19<10:13,  7.05s/it]"
     ]
    },
    {
     "name": "stdout",
     "output_type": "stream",
     "text": [
      "\n",
      "\r"
     ]
    },
    {
     "name": "stderr",
     "output_type": "stream",
     "text": [
      "  4%|▍         | 4/90 [00:28<10:42,  7.47s/it]"
     ]
    },
    {
     "name": "stdout",
     "output_type": "stream",
     "text": [
      "\n",
      "\r"
     ]
    },
    {
     "name": "stderr",
     "output_type": "stream",
     "text": [
      "  6%|▌         | 5/90 [00:34<09:49,  6.94s/it]"
     ]
    },
    {
     "name": "stdout",
     "output_type": "stream",
     "text": [
      "\n",
      "\r"
     ]
    },
    {
     "name": "stderr",
     "output_type": "stream",
     "text": [
      "  7%|▋         | 6/90 [00:39<08:54,  6.37s/it]"
     ]
    },
    {
     "name": "stdout",
     "output_type": "stream",
     "text": [
      "\n"
     ]
    },
    {
     "name": "stderr",
     "output_type": "stream",
     "text": [
      "  8%|▊         | 7/90 [00:45<08:49,  6.39s/it]"
     ]
    },
    {
     "name": "stdout",
     "output_type": "stream",
     "text": [
      "\n",
      "\r"
     ]
    },
    {
     "name": "stderr",
     "output_type": "stream",
     "text": [
      "  9%|▉         | 8/90 [00:54<09:40,  7.08s/it]"
     ]
    },
    {
     "name": "stdout",
     "output_type": "stream",
     "text": [
      "\n",
      "\r"
     ]
    },
    {
     "name": "stderr",
     "output_type": "stream",
     "text": [
      " 10%|█         | 9/90 [01:03<10:20,  7.66s/it]"
     ]
    },
    {
     "name": "stdout",
     "output_type": "stream",
     "text": [
      "\n",
      "\r"
     ]
    },
    {
     "name": "stderr",
     "output_type": "stream",
     "text": [
      " 11%|█         | 10/90 [01:08<09:05,  6.81s/it]"
     ]
    },
    {
     "name": "stdout",
     "output_type": "stream",
     "text": [
      "\n"
     ]
    },
    {
     "name": "stderr",
     "output_type": "stream",
     "text": [
      " 12%|█▏        | 11/90 [01:14<08:39,  6.57s/it]"
     ]
    },
    {
     "name": "stdout",
     "output_type": "stream",
     "text": [
      "\n"
     ]
    },
    {
     "name": "stderr",
     "output_type": "stream",
     "text": [
      " 13%|█▎        | 12/90 [01:22<09:23,  7.23s/it]"
     ]
    },
    {
     "name": "stdout",
     "output_type": "stream",
     "text": [
      "\n",
      "\r"
     ]
    },
    {
     "name": "stderr",
     "output_type": "stream",
     "text": [
      " 14%|█▍        | 13/90 [01:29<08:51,  6.90s/it]"
     ]
    },
    {
     "name": "stdout",
     "output_type": "stream",
     "text": [
      "\n",
      "\r"
     ]
    },
    {
     "name": "stderr",
     "output_type": "stream",
     "text": [
      " 16%|█▌        | 14/90 [01:36<08:49,  6.96s/it]"
     ]
    },
    {
     "name": "stdout",
     "output_type": "stream",
     "text": [
      "\n",
      "\r"
     ]
    },
    {
     "name": "stderr",
     "output_type": "stream",
     "text": [
      " 17%|█▋        | 15/90 [01:43<08:55,  7.14s/it]"
     ]
    },
    {
     "name": "stdout",
     "output_type": "stream",
     "text": [
      "\n"
     ]
    },
    {
     "name": "stderr",
     "output_type": "stream",
     "text": [
      " 18%|█▊        | 16/90 [01:47<07:43,  6.26s/it]"
     ]
    },
    {
     "name": "stdout",
     "output_type": "stream",
     "text": [
      "\n"
     ]
    },
    {
     "name": "stderr",
     "output_type": "stream",
     "text": [
      " 19%|█▉        | 17/90 [01:54<07:48,  6.41s/it]"
     ]
    },
    {
     "name": "stdout",
     "output_type": "stream",
     "text": [
      "\n"
     ]
    },
    {
     "name": "stderr",
     "output_type": "stream",
     "text": [
      " 20%|██        | 18/90 [02:01<07:41,  6.41s/it]"
     ]
    },
    {
     "name": "stdout",
     "output_type": "stream",
     "text": [
      "\n"
     ]
    },
    {
     "name": "stderr",
     "output_type": "stream",
     "text": [
      " 21%|██        | 19/90 [02:06<07:23,  6.25s/it]"
     ]
    },
    {
     "name": "stdout",
     "output_type": "stream",
     "text": [
      "\n",
      "\r"
     ]
    },
    {
     "name": "stderr",
     "output_type": "stream",
     "text": [
      " 22%|██▏       | 20/90 [02:16<08:26,  7.23s/it]"
     ]
    },
    {
     "name": "stdout",
     "output_type": "stream",
     "text": [
      "\n"
     ]
    },
    {
     "name": "stderr",
     "output_type": "stream",
     "text": [
      " 23%|██▎       | 21/90 [02:23<08:19,  7.23s/it]"
     ]
    },
    {
     "name": "stdout",
     "output_type": "stream",
     "text": [
      "\n"
     ]
    },
    {
     "name": "stderr",
     "output_type": "stream",
     "text": [
      " 24%|██▍       | 22/90 [02:29<07:44,  6.84s/it]"
     ]
    },
    {
     "name": "stdout",
     "output_type": "stream",
     "text": [
      "\n",
      "\r"
     ]
    },
    {
     "name": "stderr",
     "output_type": "stream",
     "text": [
      " 26%|██▌       | 23/90 [02:34<06:51,  6.15s/it]"
     ]
    },
    {
     "name": "stdout",
     "output_type": "stream",
     "text": [
      "\n"
     ]
    },
    {
     "name": "stderr",
     "output_type": "stream",
     "text": [
      " 27%|██▋       | 24/90 [02:42<07:27,  6.79s/it]"
     ]
    },
    {
     "name": "stdout",
     "output_type": "stream",
     "text": [
      "\n",
      "\r"
     ]
    },
    {
     "name": "stderr",
     "output_type": "stream",
     "text": [
      " 28%|██▊       | 25/90 [02:47<06:39,  6.15s/it]"
     ]
    },
    {
     "name": "stdout",
     "output_type": "stream",
     "text": [
      "\n",
      "\r"
     ]
    },
    {
     "name": "stderr",
     "output_type": "stream",
     "text": [
      " 29%|██▉       | 26/90 [02:56<07:29,  7.02s/it]"
     ]
    },
    {
     "name": "stdout",
     "output_type": "stream",
     "text": [
      "\n"
     ]
    },
    {
     "name": "stderr",
     "output_type": "stream",
     "text": [
      " 30%|███       | 27/90 [03:01<06:48,  6.49s/it]"
     ]
    },
    {
     "name": "stdout",
     "output_type": "stream",
     "text": [
      "\n",
      "\r"
     ]
    },
    {
     "name": "stderr",
     "output_type": "stream",
     "text": [
      " 31%|███       | 28/90 [03:08<06:52,  6.65s/it]"
     ]
    },
    {
     "name": "stdout",
     "output_type": "stream",
     "text": [
      "\n"
     ]
    },
    {
     "name": "stderr",
     "output_type": "stream",
     "text": [
      " 32%|███▏      | 29/90 [03:13<06:15,  6.16s/it]"
     ]
    },
    {
     "name": "stdout",
     "output_type": "stream",
     "text": [
      "\n"
     ]
    },
    {
     "name": "stderr",
     "output_type": "stream",
     "text": [
      " 33%|███▎      | 30/90 [03:18<05:51,  5.86s/it]"
     ]
    },
    {
     "name": "stdout",
     "output_type": "stream",
     "text": [
      "\n"
     ]
    },
    {
     "name": "stderr",
     "output_type": "stream",
     "text": [
      " 34%|███▍      | 31/90 [03:23<05:26,  5.53s/it]"
     ]
    },
    {
     "name": "stdout",
     "output_type": "stream",
     "text": [
      "\n"
     ]
    },
    {
     "name": "stderr",
     "output_type": "stream",
     "text": [
      " 36%|███▌      | 32/90 [03:29<05:32,  5.73s/it]"
     ]
    },
    {
     "name": "stdout",
     "output_type": "stream",
     "text": [
      "\n",
      "\r"
     ]
    },
    {
     "name": "stderr",
     "output_type": "stream",
     "text": [
      " 37%|███▋      | 33/90 [03:36<05:45,  6.06s/it]"
     ]
    },
    {
     "name": "stdout",
     "output_type": "stream",
     "text": [
      "\n"
     ]
    },
    {
     "name": "stderr",
     "output_type": "stream",
     "text": [
      " 38%|███▊      | 34/90 [03:40<05:02,  5.41s/it]"
     ]
    },
    {
     "name": "stdout",
     "output_type": "stream",
     "text": [
      "\n"
     ]
    },
    {
     "name": "stderr",
     "output_type": "stream",
     "text": [
      " 39%|███▉      | 35/90 [03:45<04:58,  5.43s/it]"
     ]
    },
    {
     "name": "stdout",
     "output_type": "stream",
     "text": [
      "\n",
      "\r"
     ]
    },
    {
     "name": "stderr",
     "output_type": "stream",
     "text": [
      " 40%|████      | 36/90 [03:52<05:17,  5.89s/it]"
     ]
    },
    {
     "name": "stdout",
     "output_type": "stream",
     "text": [
      "\n"
     ]
    },
    {
     "name": "stderr",
     "output_type": "stream",
     "text": [
      " 41%|████      | 37/90 [03:57<04:55,  5.57s/it]"
     ]
    },
    {
     "name": "stdout",
     "output_type": "stream",
     "text": [
      "\n",
      "\r"
     ]
    },
    {
     "name": "stderr",
     "output_type": "stream",
     "text": [
      " 42%|████▏     | 38/90 [04:01<04:26,  5.12s/it]"
     ]
    },
    {
     "name": "stdout",
     "output_type": "stream",
     "text": [
      "\n"
     ]
    },
    {
     "name": "stderr",
     "output_type": "stream",
     "text": [
      " 43%|████▎     | 39/90 [04:06<04:18,  5.07s/it]"
     ]
    },
    {
     "name": "stdout",
     "output_type": "stream",
     "text": [
      "\n",
      "\r"
     ]
    },
    {
     "name": "stderr",
     "output_type": "stream",
     "text": [
      " 44%|████▍     | 40/90 [04:10<03:55,  4.70s/it]"
     ]
    },
    {
     "name": "stdout",
     "output_type": "stream",
     "text": [
      "\n"
     ]
    },
    {
     "name": "stderr",
     "output_type": "stream",
     "text": [
      " 46%|████▌     | 41/90 [04:16<04:07,  5.06s/it]"
     ]
    },
    {
     "name": "stdout",
     "output_type": "stream",
     "text": [
      "\n"
     ]
    },
    {
     "name": "stderr",
     "output_type": "stream",
     "text": [
      " 47%|████▋     | 42/90 [04:25<04:59,  6.24s/it]"
     ]
    },
    {
     "name": "stdout",
     "output_type": "stream",
     "text": [
      "\n",
      "\r"
     ]
    },
    {
     "name": "stderr",
     "output_type": "stream",
     "text": [
      " 48%|████▊     | 43/90 [04:34<05:37,  7.18s/it]"
     ]
    },
    {
     "name": "stdout",
     "output_type": "stream",
     "text": [
      "\n",
      "\r"
     ]
    },
    {
     "name": "stderr",
     "output_type": "stream",
     "text": [
      " 49%|████▉     | 44/90 [04:39<04:59,  6.51s/it]"
     ]
    },
    {
     "name": "stdout",
     "output_type": "stream",
     "text": [
      "\n",
      "\r"
     ]
    },
    {
     "name": "stderr",
     "output_type": "stream",
     "text": [
      " 50%|█████     | 45/90 [04:46<05:00,  6.67s/it]"
     ]
    },
    {
     "name": "stdout",
     "output_type": "stream",
     "text": [
      "\n",
      "\r"
     ]
    },
    {
     "name": "stderr",
     "output_type": "stream",
     "text": [
      " 51%|█████     | 46/90 [04:50<04:13,  5.75s/it]"
     ]
    },
    {
     "name": "stdout",
     "output_type": "stream",
     "text": [
      "\n"
     ]
    },
    {
     "name": "stderr",
     "output_type": "stream",
     "text": [
      " 52%|█████▏    | 47/90 [04:54<03:42,  5.17s/it]"
     ]
    },
    {
     "name": "stdout",
     "output_type": "stream",
     "text": [
      "\n",
      "\r"
     ]
    },
    {
     "name": "stderr",
     "output_type": "stream",
     "text": [
      " 53%|█████▎    | 48/90 [04:59<03:40,  5.24s/it]"
     ]
    },
    {
     "name": "stdout",
     "output_type": "stream",
     "text": [
      "\n"
     ]
    },
    {
     "name": "stderr",
     "output_type": "stream",
     "text": [
      " 54%|█████▍    | 49/90 [05:08<04:26,  6.51s/it]"
     ]
    },
    {
     "name": "stdout",
     "output_type": "stream",
     "text": [
      "\n",
      "\r"
     ]
    },
    {
     "name": "stderr",
     "output_type": "stream",
     "text": [
      " 56%|█████▌    | 50/90 [05:14<04:05,  6.14s/it]"
     ]
    },
    {
     "name": "stdout",
     "output_type": "stream",
     "text": [
      "\n",
      "\r"
     ]
    },
    {
     "name": "stderr",
     "output_type": "stream",
     "text": [
      " 57%|█████▋    | 51/90 [05:21<04:09,  6.40s/it]"
     ]
    },
    {
     "name": "stdout",
     "output_type": "stream",
     "text": [
      "\n",
      "\r"
     ]
    },
    {
     "name": "stderr",
     "output_type": "stream",
     "text": [
      " 58%|█████▊    | 52/90 [05:28<04:08,  6.53s/it]"
     ]
    },
    {
     "name": "stdout",
     "output_type": "stream",
     "text": [
      "\n"
     ]
    },
    {
     "name": "stderr",
     "output_type": "stream",
     "text": [
      " 59%|█████▉    | 53/90 [05:32<03:41,  5.99s/it]"
     ]
    },
    {
     "name": "stdout",
     "output_type": "stream",
     "text": [
      "\n",
      "\r"
     ]
    },
    {
     "name": "stderr",
     "output_type": "stream",
     "text": [
      " 60%|██████    | 54/90 [05:39<03:44,  6.23s/it]"
     ]
    },
    {
     "name": "stdout",
     "output_type": "stream",
     "text": [
      "\n",
      "\r"
     ]
    },
    {
     "name": "stderr",
     "output_type": "stream",
     "text": [
      " 61%|██████    | 55/90 [05:45<03:36,  6.20s/it]"
     ]
    },
    {
     "name": "stdout",
     "output_type": "stream",
     "text": [
      "\n",
      "\r"
     ]
    },
    {
     "name": "stderr",
     "output_type": "stream",
     "text": [
      " 62%|██████▏   | 56/90 [05:51<03:27,  6.10s/it]"
     ]
    },
    {
     "name": "stdout",
     "output_type": "stream",
     "text": [
      "\n",
      "\r"
     ]
    },
    {
     "name": "stderr",
     "output_type": "stream",
     "text": [
      " 63%|██████▎   | 57/90 [05:58<03:25,  6.24s/it]"
     ]
    },
    {
     "name": "stdout",
     "output_type": "stream",
     "text": [
      "\n"
     ]
    },
    {
     "name": "stderr",
     "output_type": "stream",
     "text": [
      " 64%|██████▍   | 58/90 [06:03<03:12,  6.01s/it]"
     ]
    },
    {
     "name": "stdout",
     "output_type": "stream",
     "text": [
      "\n",
      "\r"
     ]
    },
    {
     "name": "stderr",
     "output_type": "stream",
     "text": [
      " 66%|██████▌   | 59/90 [06:07<02:50,  5.49s/it]"
     ]
    },
    {
     "name": "stdout",
     "output_type": "stream",
     "text": [
      "\n",
      "\r"
     ]
    },
    {
     "name": "stderr",
     "output_type": "stream",
     "text": [
      " 67%|██████▋   | 60/90 [06:14<02:51,  5.72s/it]"
     ]
    },
    {
     "name": "stdout",
     "output_type": "stream",
     "text": [
      "\n",
      "\r"
     ]
    },
    {
     "name": "stderr",
     "output_type": "stream",
     "text": [
      " 68%|██████▊   | 61/90 [06:21<02:55,  6.06s/it]"
     ]
    },
    {
     "name": "stdout",
     "output_type": "stream",
     "text": [
      "\n"
     ]
    },
    {
     "name": "stderr",
     "output_type": "stream",
     "text": [
      " 69%|██████▉   | 62/90 [06:26<02:48,  6.02s/it]"
     ]
    },
    {
     "name": "stdout",
     "output_type": "stream",
     "text": [
      "\n"
     ]
    },
    {
     "name": "stderr",
     "output_type": "stream",
     "text": [
      " 70%|███████   | 63/90 [06:31<02:30,  5.57s/it]"
     ]
    },
    {
     "name": "stdout",
     "output_type": "stream",
     "text": [
      "\n"
     ]
    },
    {
     "name": "stderr",
     "output_type": "stream",
     "text": [
      " 71%|███████   | 64/90 [06:40<02:50,  6.57s/it]"
     ]
    },
    {
     "name": "stdout",
     "output_type": "stream",
     "text": [
      "\n"
     ]
    },
    {
     "name": "stderr",
     "output_type": "stream",
     "text": [
      " 72%|███████▏  | 65/90 [06:47<02:49,  6.76s/it]"
     ]
    },
    {
     "name": "stdout",
     "output_type": "stream",
     "text": [
      "\n"
     ]
    },
    {
     "name": "stderr",
     "output_type": "stream",
     "text": [
      " 73%|███████▎  | 66/90 [06:52<02:28,  6.20s/it]"
     ]
    },
    {
     "name": "stdout",
     "output_type": "stream",
     "text": [
      "\n"
     ]
    },
    {
     "name": "stderr",
     "output_type": "stream",
     "text": [
      " 74%|███████▍  | 67/90 [07:00<02:32,  6.63s/it]"
     ]
    },
    {
     "name": "stdout",
     "output_type": "stream",
     "text": [
      "\n",
      "\r"
     ]
    },
    {
     "name": "stderr",
     "output_type": "stream",
     "text": [
      " 76%|███████▌  | 68/90 [07:04<02:12,  6.03s/it]"
     ]
    },
    {
     "name": "stdout",
     "output_type": "stream",
     "text": [
      "\n"
     ]
    },
    {
     "name": "stderr",
     "output_type": "stream",
     "text": [
      " 77%|███████▋  | 69/90 [07:11<02:14,  6.39s/it]"
     ]
    },
    {
     "name": "stdout",
     "output_type": "stream",
     "text": [
      "\n"
     ]
    },
    {
     "name": "stderr",
     "output_type": "stream",
     "text": [
      " 78%|███████▊  | 70/90 [07:17<02:03,  6.15s/it]"
     ]
    },
    {
     "name": "stdout",
     "output_type": "stream",
     "text": [
      "\n"
     ]
    },
    {
     "name": "stderr",
     "output_type": "stream",
     "text": [
      " 79%|███████▉  | 71/90 [07:20<01:39,  5.23s/it]"
     ]
    },
    {
     "name": "stdout",
     "output_type": "stream",
     "text": [
      "\n",
      "\r"
     ]
    },
    {
     "name": "stderr",
     "output_type": "stream",
     "text": [
      " 80%|████████  | 72/90 [07:25<01:29,  5.00s/it]"
     ]
    },
    {
     "name": "stdout",
     "output_type": "stream",
     "text": [
      "\n"
     ]
    },
    {
     "name": "stderr",
     "output_type": "stream",
     "text": [
      " 81%|████████  | 73/90 [07:29<01:21,  4.80s/it]"
     ]
    },
    {
     "name": "stdout",
     "output_type": "stream",
     "text": [
      "\n",
      "\r"
     ]
    },
    {
     "name": "stderr",
     "output_type": "stream",
     "text": [
      " 82%|████████▏ | 74/90 [07:34<01:17,  4.87s/it]"
     ]
    },
    {
     "name": "stdout",
     "output_type": "stream",
     "text": [
      "\n",
      "\r"
     ]
    },
    {
     "name": "stderr",
     "output_type": "stream",
     "text": [
      " 83%|████████▎ | 75/90 [07:39<01:14,  5.00s/it]"
     ]
    },
    {
     "name": "stdout",
     "output_type": "stream",
     "text": [
      "\n",
      "\r"
     ]
    },
    {
     "name": "stderr",
     "output_type": "stream",
     "text": [
      " 84%|████████▍ | 76/90 [07:44<01:07,  4.83s/it]"
     ]
    },
    {
     "name": "stdout",
     "output_type": "stream",
     "text": [
      "\n",
      "\r"
     ]
    },
    {
     "name": "stderr",
     "output_type": "stream",
     "text": [
      " 86%|████████▌ | 77/90 [07:47<00:58,  4.51s/it]"
     ]
    },
    {
     "name": "stdout",
     "output_type": "stream",
     "text": [
      "\n",
      "\r"
     ]
    },
    {
     "name": "stderr",
     "output_type": "stream",
     "text": [
      " 87%|████████▋ | 78/90 [07:52<00:55,  4.60s/it]"
     ]
    },
    {
     "name": "stdout",
     "output_type": "stream",
     "text": [
      "\n"
     ]
    },
    {
     "name": "stderr",
     "output_type": "stream",
     "text": [
      " 88%|████████▊ | 79/90 [07:57<00:51,  4.68s/it]"
     ]
    },
    {
     "name": "stdout",
     "output_type": "stream",
     "text": [
      "\n",
      "\r"
     ]
    },
    {
     "name": "stderr",
     "output_type": "stream",
     "text": [
      " 89%|████████▉ | 80/90 [08:01<00:43,  4.38s/it]"
     ]
    },
    {
     "name": "stdout",
     "output_type": "stream",
     "text": [
      "\n",
      "\r"
     ]
    },
    {
     "name": "stderr",
     "output_type": "stream",
     "text": [
      " 90%|█████████ | 81/90 [08:06<00:40,  4.49s/it]"
     ]
    },
    {
     "name": "stdout",
     "output_type": "stream",
     "text": [
      "\n",
      "\r"
     ]
    },
    {
     "name": "stderr",
     "output_type": "stream",
     "text": [
      " 91%|█████████ | 82/90 [08:10<00:35,  4.44s/it]"
     ]
    },
    {
     "name": "stdout",
     "output_type": "stream",
     "text": [
      "\n"
     ]
    },
    {
     "name": "stderr",
     "output_type": "stream",
     "text": [
      " 92%|█████████▏| 83/90 [08:16<00:33,  4.82s/it]"
     ]
    },
    {
     "name": "stdout",
     "output_type": "stream",
     "text": [
      "\n"
     ]
    },
    {
     "name": "stderr",
     "output_type": "stream",
     "text": [
      " 93%|█████████▎| 84/90 [08:24<00:34,  5.79s/it]"
     ]
    },
    {
     "name": "stdout",
     "output_type": "stream",
     "text": [
      "\n",
      "\r"
     ]
    },
    {
     "name": "stderr",
     "output_type": "stream",
     "text": [
      " 94%|█████████▍| 85/90 [08:28<00:27,  5.42s/it]"
     ]
    },
    {
     "name": "stdout",
     "output_type": "stream",
     "text": [
      "\n"
     ]
    },
    {
     "name": "stderr",
     "output_type": "stream",
     "text": [
      " 96%|█████████▌| 86/90 [08:34<00:22,  5.51s/it]"
     ]
    },
    {
     "name": "stdout",
     "output_type": "stream",
     "text": [
      "\n"
     ]
    },
    {
     "name": "stderr",
     "output_type": "stream",
     "text": [
      " 97%|█████████▋| 87/90 [08:39<00:15,  5.26s/it]"
     ]
    },
    {
     "name": "stdout",
     "output_type": "stream",
     "text": [
      "\n"
     ]
    },
    {
     "name": "stderr",
     "output_type": "stream",
     "text": [
      " 98%|█████████▊| 88/90 [08:43<00:10,  5.12s/it]"
     ]
    },
    {
     "name": "stdout",
     "output_type": "stream",
     "text": [
      "\n",
      "\r"
     ]
    },
    {
     "name": "stderr",
     "output_type": "stream",
     "text": [
      " 99%|█████████▉| 89/90 [08:51<00:05,  5.88s/it]"
     ]
    },
    {
     "name": "stdout",
     "output_type": "stream",
     "text": [
      "\n"
     ]
    },
    {
     "name": "stderr",
     "output_type": "stream",
     "text": [
      "100%|██████████| 90/90 [08:56<00:00,  5.97s/it]\n",
      "  0%|          | 0/90 [00:00<?, ?it/s]"
     ]
    },
    {
     "name": "stdout",
     "output_type": "stream",
     "text": [
      "\n"
     ]
    },
    {
     "name": "stderr",
     "output_type": "stream",
     "text": [
      "  1%|          | 1/90 [00:08<12:58,  8.75s/it]"
     ]
    },
    {
     "name": "stdout",
     "output_type": "stream",
     "text": [
      "\n",
      "\r"
     ]
    },
    {
     "name": "stderr",
     "output_type": "stream",
     "text": [
      "  2%|▏         | 2/90 [00:17<12:57,  8.84s/it]"
     ]
    },
    {
     "name": "stdout",
     "output_type": "stream",
     "text": [
      "\n"
     ]
    },
    {
     "name": "stderr",
     "output_type": "stream",
     "text": [
      "  3%|▎         | 3/90 [00:22<10:56,  7.55s/it]"
     ]
    },
    {
     "name": "stdout",
     "output_type": "stream",
     "text": [
      "\n"
     ]
    },
    {
     "name": "stderr",
     "output_type": "stream",
     "text": [
      "  4%|▍         | 4/90 [00:28<10:20,  7.22s/it]"
     ]
    },
    {
     "name": "stdout",
     "output_type": "stream",
     "text": [
      "\n"
     ]
    },
    {
     "name": "stderr",
     "output_type": "stream",
     "text": [
      "  6%|▌         | 5/90 [00:36<10:20,  7.30s/it]"
     ]
    },
    {
     "name": "stdout",
     "output_type": "stream",
     "text": [
      "\n"
     ]
    },
    {
     "name": "stderr",
     "output_type": "stream",
     "text": [
      "  7%|▋         | 6/90 [00:45<10:51,  7.76s/it]"
     ]
    },
    {
     "name": "stdout",
     "output_type": "stream",
     "text": [
      "\n",
      "\r"
     ]
    },
    {
     "name": "stderr",
     "output_type": "stream",
     "text": [
      "  8%|▊         | 7/90 [00:54<11:20,  8.20s/it]"
     ]
    },
    {
     "name": "stdout",
     "output_type": "stream",
     "text": [
      "\n"
     ]
    },
    {
     "name": "stderr",
     "output_type": "stream",
     "text": [
      "  9%|▉         | 8/90 [01:03<11:47,  8.63s/it]"
     ]
    },
    {
     "name": "stdout",
     "output_type": "stream",
     "text": [
      "\n",
      "\r"
     ]
    },
    {
     "name": "stderr",
     "output_type": "stream",
     "text": [
      " 10%|█         | 9/90 [01:07<09:39,  7.16s/it]"
     ]
    },
    {
     "name": "stdout",
     "output_type": "stream",
     "text": [
      "\n",
      "\r"
     ]
    },
    {
     "name": "stderr",
     "output_type": "stream",
     "text": [
      " 11%|█         | 10/90 [01:14<09:20,  7.00s/it]"
     ]
    },
    {
     "name": "stdout",
     "output_type": "stream",
     "text": [
      "\n"
     ]
    },
    {
     "name": "stderr",
     "output_type": "stream",
     "text": [
      " 12%|█▏        | 11/90 [01:21<09:24,  7.14s/it]"
     ]
    },
    {
     "name": "stdout",
     "output_type": "stream",
     "text": [
      "\n",
      "\r"
     ]
    },
    {
     "name": "stderr",
     "output_type": "stream",
     "text": [
      " 13%|█▎        | 12/90 [01:29<09:37,  7.40s/it]"
     ]
    },
    {
     "name": "stdout",
     "output_type": "stream",
     "text": [
      "\n",
      "\r"
     ]
    },
    {
     "name": "stderr",
     "output_type": "stream",
     "text": [
      " 14%|█▍        | 13/90 [01:36<09:18,  7.25s/it]"
     ]
    },
    {
     "name": "stdout",
     "output_type": "stream",
     "text": [
      "\n",
      "\r"
     ]
    },
    {
     "name": "stderr",
     "output_type": "stream",
     "text": [
      " 16%|█▌        | 14/90 [01:41<08:12,  6.47s/it]"
     ]
    },
    {
     "name": "stdout",
     "output_type": "stream",
     "text": [
      "\n",
      "\r"
     ]
    },
    {
     "name": "stderr",
     "output_type": "stream",
     "text": [
      " 17%|█▋        | 15/90 [01:47<07:51,  6.29s/it]"
     ]
    },
    {
     "name": "stdout",
     "output_type": "stream",
     "text": [
      "\n",
      "\r"
     ]
    },
    {
     "name": "stderr",
     "output_type": "stream",
     "text": [
      " 18%|█▊        | 16/90 [01:52<07:31,  6.11s/it]"
     ]
    },
    {
     "name": "stdout",
     "output_type": "stream",
     "text": [
      "\n",
      "\r"
     ]
    },
    {
     "name": "stderr",
     "output_type": "stream",
     "text": [
      " 19%|█▉        | 17/90 [01:59<07:44,  6.36s/it]"
     ]
    },
    {
     "name": "stdout",
     "output_type": "stream",
     "text": [
      "\n"
     ]
    },
    {
     "name": "stderr",
     "output_type": "stream",
     "text": [
      " 20%|██        | 18/90 [02:08<08:24,  7.01s/it]"
     ]
    },
    {
     "name": "stdout",
     "output_type": "stream",
     "text": [
      "\n"
     ]
    },
    {
     "name": "stderr",
     "output_type": "stream",
     "text": [
      " 21%|██        | 19/90 [02:15<08:11,  6.92s/it]"
     ]
    },
    {
     "name": "stdout",
     "output_type": "stream",
     "text": [
      "\n"
     ]
    },
    {
     "name": "stderr",
     "output_type": "stream",
     "text": [
      " 22%|██▏       | 20/90 [02:20<07:37,  6.54s/it]"
     ]
    },
    {
     "name": "stdout",
     "output_type": "stream",
     "text": [
      "\n",
      "\r"
     ]
    },
    {
     "name": "stderr",
     "output_type": "stream",
     "text": [
      " 23%|██▎       | 21/90 [02:32<09:25,  8.20s/it]"
     ]
    },
    {
     "name": "stdout",
     "output_type": "stream",
     "text": [
      "\n"
     ]
    },
    {
     "name": "stderr",
     "output_type": "stream",
     "text": [
      " 24%|██▍       | 22/90 [02:37<08:13,  7.26s/it]"
     ]
    },
    {
     "name": "stdout",
     "output_type": "stream",
     "text": [
      "\n",
      "\r"
     ]
    },
    {
     "name": "stderr",
     "output_type": "stream",
     "text": [
      " 26%|██▌       | 23/90 [02:45<08:14,  7.38s/it]"
     ]
    },
    {
     "name": "stdout",
     "output_type": "stream",
     "text": [
      "\n"
     ]
    },
    {
     "name": "stderr",
     "output_type": "stream",
     "text": [
      " 27%|██▋       | 24/90 [02:52<07:57,  7.24s/it]"
     ]
    },
    {
     "name": "stdout",
     "output_type": "stream",
     "text": [
      "\n",
      "\r"
     ]
    },
    {
     "name": "stderr",
     "output_type": "stream",
     "text": [
      " 28%|██▊       | 25/90 [02:59<07:45,  7.16s/it]"
     ]
    },
    {
     "name": "stdout",
     "output_type": "stream",
     "text": [
      "\n",
      "\r"
     ]
    },
    {
     "name": "stderr",
     "output_type": "stream",
     "text": [
      " 29%|██▉       | 26/90 [03:03<06:43,  6.31s/it]"
     ]
    },
    {
     "name": "stdout",
     "output_type": "stream",
     "text": [
      "\n"
     ]
    },
    {
     "name": "stderr",
     "output_type": "stream",
     "text": [
      " 30%|███       | 27/90 [03:12<07:15,  6.91s/it]"
     ]
    },
    {
     "name": "stdout",
     "output_type": "stream",
     "text": [
      "\n"
     ]
    },
    {
     "name": "stderr",
     "output_type": "stream",
     "text": [
      " 31%|███       | 28/90 [03:17<06:45,  6.54s/it]"
     ]
    },
    {
     "name": "stdout",
     "output_type": "stream",
     "text": [
      "\n",
      "\r"
     ]
    },
    {
     "name": "stderr",
     "output_type": "stream",
     "text": [
      " 32%|███▏      | 29/90 [03:25<07:01,  6.92s/it]"
     ]
    },
    {
     "name": "stdout",
     "output_type": "stream",
     "text": [
      "\n",
      "\r"
     ]
    },
    {
     "name": "stderr",
     "output_type": "stream",
     "text": [
      " 33%|███▎      | 30/90 [03:30<06:27,  6.46s/it]"
     ]
    },
    {
     "name": "stdout",
     "output_type": "stream",
     "text": [
      "\n",
      "\r"
     ]
    },
    {
     "name": "stderr",
     "output_type": "stream",
     "text": [
      " 34%|███▍      | 31/90 [03:38<06:46,  6.89s/it]"
     ]
    },
    {
     "name": "stdout",
     "output_type": "stream",
     "text": [
      "\n",
      "\r"
     ]
    },
    {
     "name": "stderr",
     "output_type": "stream",
     "text": [
      " 36%|███▌      | 32/90 [03:45<06:30,  6.74s/it]"
     ]
    },
    {
     "name": "stdout",
     "output_type": "stream",
     "text": [
      "\n"
     ]
    },
    {
     "name": "stderr",
     "output_type": "stream",
     "text": [
      " 37%|███▋      | 33/90 [03:55<07:20,  7.73s/it]"
     ]
    },
    {
     "name": "stdout",
     "output_type": "stream",
     "text": [
      "\n",
      "\r"
     ]
    },
    {
     "name": "stderr",
     "output_type": "stream",
     "text": [
      " 38%|███▊      | 34/90 [04:05<07:52,  8.44s/it]"
     ]
    },
    {
     "name": "stdout",
     "output_type": "stream",
     "text": [
      "\n",
      "\r"
     ]
    },
    {
     "name": "stderr",
     "output_type": "stream",
     "text": [
      " 39%|███▉      | 35/90 [04:14<07:57,  8.68s/it]"
     ]
    },
    {
     "name": "stdout",
     "output_type": "stream",
     "text": [
      "\n"
     ]
    },
    {
     "name": "stderr",
     "output_type": "stream",
     "text": [
      " 40%|████      | 36/90 [04:21<07:20,  8.15s/it]"
     ]
    },
    {
     "name": "stdout",
     "output_type": "stream",
     "text": [
      "\n",
      "\r"
     ]
    },
    {
     "name": "stderr",
     "output_type": "stream",
     "text": [
      " 41%|████      | 37/90 [04:25<06:08,  6.96s/it]"
     ]
    },
    {
     "name": "stdout",
     "output_type": "stream",
     "text": [
      "\n",
      "\r"
     ]
    },
    {
     "name": "stderr",
     "output_type": "stream",
     "text": [
      " 42%|████▏     | 38/90 [04:34<06:31,  7.53s/it]"
     ]
    },
    {
     "name": "stdout",
     "output_type": "stream",
     "text": [
      "\n",
      "\r"
     ]
    },
    {
     "name": "stderr",
     "output_type": "stream",
     "text": [
      " 43%|████▎     | 39/90 [04:44<07:03,  8.30s/it]"
     ]
    },
    {
     "name": "stdout",
     "output_type": "stream",
     "text": [
      "\n",
      "\r"
     ]
    },
    {
     "name": "stderr",
     "output_type": "stream",
     "text": [
      " 44%|████▍     | 40/90 [04:50<06:13,  7.48s/it]"
     ]
    },
    {
     "name": "stdout",
     "output_type": "stream",
     "text": [
      "\n",
      "\r"
     ]
    },
    {
     "name": "stderr",
     "output_type": "stream",
     "text": [
      " 46%|████▌     | 41/90 [04:54<05:25,  6.64s/it]"
     ]
    },
    {
     "name": "stdout",
     "output_type": "stream",
     "text": [
      "\n",
      "\r"
     ]
    },
    {
     "name": "stderr",
     "output_type": "stream",
     "text": [
      " 47%|████▋     | 42/90 [05:02<05:26,  6.80s/it]"
     ]
    },
    {
     "name": "stdout",
     "output_type": "stream",
     "text": [
      "\n"
     ]
    },
    {
     "name": "stderr",
     "output_type": "stream",
     "text": [
      " 48%|████▊     | 43/90 [05:07<05:00,  6.39s/it]"
     ]
    },
    {
     "name": "stdout",
     "output_type": "stream",
     "text": [
      "\n"
     ]
    },
    {
     "name": "stderr",
     "output_type": "stream",
     "text": [
      " 49%|████▉     | 44/90 [05:14<05:07,  6.69s/it]"
     ]
    },
    {
     "name": "stdout",
     "output_type": "stream",
     "text": [
      "\n"
     ]
    },
    {
     "name": "stderr",
     "output_type": "stream",
     "text": [
      " 50%|█████     | 45/90 [05:22<05:19,  7.11s/it]"
     ]
    },
    {
     "name": "stdout",
     "output_type": "stream",
     "text": [
      "\n",
      "\r"
     ]
    },
    {
     "name": "stderr",
     "output_type": "stream",
     "text": [
      " 51%|█████     | 46/90 [05:27<04:37,  6.32s/it]"
     ]
    },
    {
     "name": "stdout",
     "output_type": "stream",
     "text": [
      "\n"
     ]
    },
    {
     "name": "stderr",
     "output_type": "stream",
     "text": [
      " 52%|█████▏    | 47/90 [05:33<04:24,  6.16s/it]"
     ]
    },
    {
     "name": "stdout",
     "output_type": "stream",
     "text": [
      "\n"
     ]
    },
    {
     "name": "stderr",
     "output_type": "stream",
     "text": [
      " 53%|█████▎    | 48/90 [05:40<04:28,  6.39s/it]"
     ]
    },
    {
     "name": "stdout",
     "output_type": "stream",
     "text": [
      "\n"
     ]
    },
    {
     "name": "stderr",
     "output_type": "stream",
     "text": [
      " 54%|█████▍    | 49/90 [05:46<04:23,  6.42s/it]"
     ]
    },
    {
     "name": "stdout",
     "output_type": "stream",
     "text": [
      "\n",
      "\r"
     ]
    },
    {
     "name": "stderr",
     "output_type": "stream",
     "text": [
      " 56%|█████▌    | 50/90 [05:55<04:42,  7.07s/it]"
     ]
    },
    {
     "name": "stdout",
     "output_type": "stream",
     "text": [
      "\n",
      "\r"
     ]
    },
    {
     "name": "stderr",
     "output_type": "stream",
     "text": [
      " 57%|█████▋    | 51/90 [06:02<04:38,  7.14s/it]"
     ]
    },
    {
     "name": "stdout",
     "output_type": "stream",
     "text": [
      "\n",
      "\r"
     ]
    },
    {
     "name": "stderr",
     "output_type": "stream",
     "text": [
      " 58%|█████▊    | 52/90 [06:07<04:09,  6.56s/it]"
     ]
    },
    {
     "name": "stdout",
     "output_type": "stream",
     "text": [
      "\n"
     ]
    },
    {
     "name": "stderr",
     "output_type": "stream",
     "text": [
      " 59%|█████▉    | 53/90 [06:11<03:35,  5.81s/it]"
     ]
    },
    {
     "name": "stdout",
     "output_type": "stream",
     "text": [
      "\n",
      "\r"
     ]
    },
    {
     "name": "stderr",
     "output_type": "stream",
     "text": [
      " 60%|██████    | 54/90 [06:17<03:31,  5.88s/it]"
     ]
    },
    {
     "name": "stdout",
     "output_type": "stream",
     "text": [
      "\n"
     ]
    },
    {
     "name": "stderr",
     "output_type": "stream",
     "text": [
      " 61%|██████    | 55/90 [06:23<03:23,  5.81s/it]"
     ]
    },
    {
     "name": "stdout",
     "output_type": "stream",
     "text": [
      "\n"
     ]
    },
    {
     "name": "stderr",
     "output_type": "stream",
     "text": [
      " 62%|██████▏   | 56/90 [06:29<03:20,  5.91s/it]"
     ]
    },
    {
     "name": "stdout",
     "output_type": "stream",
     "text": [
      "\n",
      "\r"
     ]
    },
    {
     "name": "stderr",
     "output_type": "stream",
     "text": [
      " 63%|██████▎   | 57/90 [06:38<03:42,  6.74s/it]"
     ]
    },
    {
     "name": "stdout",
     "output_type": "stream",
     "text": [
      "\n",
      "\r"
     ]
    },
    {
     "name": "stderr",
     "output_type": "stream",
     "text": [
      " 64%|██████▍   | 58/90 [06:45<03:42,  6.94s/it]"
     ]
    },
    {
     "name": "stdout",
     "output_type": "stream",
     "text": [
      "\n"
     ]
    },
    {
     "name": "stderr",
     "output_type": "stream",
     "text": [
      " 66%|██████▌   | 59/90 [06:51<03:28,  6.73s/it]"
     ]
    },
    {
     "name": "stdout",
     "output_type": "stream",
     "text": [
      "\n"
     ]
    },
    {
     "name": "stderr",
     "output_type": "stream",
     "text": [
      " 67%|██████▋   | 60/90 [06:56<02:59,  6.00s/it]"
     ]
    },
    {
     "name": "stdout",
     "output_type": "stream",
     "text": [
      "\n",
      "\r"
     ]
    },
    {
     "name": "stderr",
     "output_type": "stream",
     "text": [
      " 68%|██████▊   | 61/90 [07:02<02:57,  6.10s/it]"
     ]
    },
    {
     "name": "stdout",
     "output_type": "stream",
     "text": [
      "\n"
     ]
    },
    {
     "name": "stderr",
     "output_type": "stream",
     "text": [
      " 69%|██████▉   | 62/90 [07:12<03:22,  7.23s/it]"
     ]
    },
    {
     "name": "stdout",
     "output_type": "stream",
     "text": [
      "\n"
     ]
    },
    {
     "name": "stderr",
     "output_type": "stream",
     "text": [
      " 70%|███████   | 63/90 [07:16<02:50,  6.32s/it]"
     ]
    },
    {
     "name": "stdout",
     "output_type": "stream",
     "text": [
      "\n"
     ]
    },
    {
     "name": "stderr",
     "output_type": "stream",
     "text": [
      " 71%|███████   | 64/90 [07:23<02:51,  6.60s/it]"
     ]
    },
    {
     "name": "stdout",
     "output_type": "stream",
     "text": [
      "\n"
     ]
    },
    {
     "name": "stderr",
     "output_type": "stream",
     "text": [
      " 72%|███████▏  | 65/90 [07:29<02:36,  6.24s/it]"
     ]
    },
    {
     "name": "stdout",
     "output_type": "stream",
     "text": [
      "\n",
      "\r"
     ]
    },
    {
     "name": "stderr",
     "output_type": "stream",
     "text": [
      " 73%|███████▎  | 66/90 [07:35<02:32,  6.35s/it]"
     ]
    },
    {
     "name": "stdout",
     "output_type": "stream",
     "text": [
      "\n"
     ]
    },
    {
     "name": "stderr",
     "output_type": "stream",
     "text": [
      " 74%|███████▍  | 67/90 [07:40<02:13,  5.79s/it]"
     ]
    },
    {
     "name": "stdout",
     "output_type": "stream",
     "text": [
      "\n",
      "\r"
     ]
    },
    {
     "name": "stderr",
     "output_type": "stream",
     "text": [
      " 76%|███████▌  | 68/90 [07:47<02:15,  6.18s/it]"
     ]
    },
    {
     "name": "stdout",
     "output_type": "stream",
     "text": [
      "\n",
      "\r"
     ]
    },
    {
     "name": "stderr",
     "output_type": "stream",
     "text": [
      " 77%|███████▋  | 69/90 [07:56<02:24,  6.88s/it]"
     ]
    },
    {
     "name": "stdout",
     "output_type": "stream",
     "text": [
      "\n",
      "\r"
     ]
    },
    {
     "name": "stderr",
     "output_type": "stream",
     "text": [
      " 78%|███████▊  | 70/90 [08:01<02:07,  6.39s/it]"
     ]
    },
    {
     "name": "stdout",
     "output_type": "stream",
     "text": [
      "\n",
      "\r"
     ]
    },
    {
     "name": "stderr",
     "output_type": "stream",
     "text": [
      " 79%|███████▉  | 71/90 [08:05<01:49,  5.77s/it]"
     ]
    },
    {
     "name": "stdout",
     "output_type": "stream",
     "text": [
      "\n",
      "\r"
     ]
    },
    {
     "name": "stderr",
     "output_type": "stream",
     "text": [
      " 80%|████████  | 72/90 [08:12<01:48,  6.04s/it]"
     ]
    },
    {
     "name": "stdout",
     "output_type": "stream",
     "text": [
      "\n"
     ]
    },
    {
     "name": "stderr",
     "output_type": "stream",
     "text": [
      " 81%|████████  | 73/90 [08:16<01:35,  5.64s/it]"
     ]
    },
    {
     "name": "stdout",
     "output_type": "stream",
     "text": [
      "\n",
      "\r"
     ]
    },
    {
     "name": "stderr",
     "output_type": "stream",
     "text": [
      " 82%|████████▏ | 74/90 [08:22<01:29,  5.62s/it]"
     ]
    },
    {
     "name": "stdout",
     "output_type": "stream",
     "text": [
      "\n",
      "\r"
     ]
    },
    {
     "name": "stderr",
     "output_type": "stream",
     "text": [
      " 83%|████████▎ | 75/90 [08:26<01:16,  5.07s/it]"
     ]
    },
    {
     "name": "stdout",
     "output_type": "stream",
     "text": [
      "\n"
     ]
    },
    {
     "name": "stderr",
     "output_type": "stream",
     "text": [
      " 84%|████████▍ | 76/90 [08:31<01:09,  4.99s/it]"
     ]
    },
    {
     "name": "stdout",
     "output_type": "stream",
     "text": [
      "\n",
      "\r"
     ]
    },
    {
     "name": "stderr",
     "output_type": "stream",
     "text": [
      " 86%|████████▌ | 77/90 [08:35<01:02,  4.81s/it]"
     ]
    },
    {
     "name": "stdout",
     "output_type": "stream",
     "text": [
      "\n"
     ]
    },
    {
     "name": "stderr",
     "output_type": "stream",
     "text": [
      " 87%|████████▋ | 78/90 [08:39<00:54,  4.56s/it]"
     ]
    },
    {
     "name": "stdout",
     "output_type": "stream",
     "text": [
      "\n"
     ]
    },
    {
     "name": "stderr",
     "output_type": "stream",
     "text": [
      " 88%|████████▊ | 79/90 [08:43<00:47,  4.34s/it]"
     ]
    },
    {
     "name": "stdout",
     "output_type": "stream",
     "text": [
      "\n"
     ]
    },
    {
     "name": "stderr",
     "output_type": "stream",
     "text": [
      " 89%|████████▉ | 80/90 [08:51<00:53,  5.34s/it]"
     ]
    },
    {
     "name": "stdout",
     "output_type": "stream",
     "text": [
      "\n"
     ]
    },
    {
     "name": "stderr",
     "output_type": "stream",
     "text": [
      " 90%|█████████ | 81/90 [08:57<00:51,  5.73s/it]"
     ]
    },
    {
     "name": "stdout",
     "output_type": "stream",
     "text": [
      "\n",
      "\r"
     ]
    },
    {
     "name": "stderr",
     "output_type": "stream",
     "text": [
      " 91%|█████████ | 82/90 [09:02<00:43,  5.38s/it]"
     ]
    },
    {
     "name": "stdout",
     "output_type": "stream",
     "text": [
      "\n",
      "\r"
     ]
    },
    {
     "name": "stderr",
     "output_type": "stream",
     "text": [
      " 92%|█████████▏| 83/90 [09:05<00:33,  4.85s/it]"
     ]
    },
    {
     "name": "stdout",
     "output_type": "stream",
     "text": [
      "\n",
      "\r"
     ]
    },
    {
     "name": "stderr",
     "output_type": "stream",
     "text": [
      " 93%|█████████▎| 84/90 [09:09<00:26,  4.35s/it]"
     ]
    },
    {
     "name": "stdout",
     "output_type": "stream",
     "text": [
      "\n"
     ]
    },
    {
     "name": "stderr",
     "output_type": "stream",
     "text": [
      " 94%|█████████▍| 85/90 [09:16<00:27,  5.40s/it]"
     ]
    },
    {
     "name": "stdout",
     "output_type": "stream",
     "text": [
      "\n"
     ]
    },
    {
     "name": "stderr",
     "output_type": "stream",
     "text": [
      " 96%|█████████▌| 86/90 [09:21<00:21,  5.26s/it]"
     ]
    },
    {
     "name": "stdout",
     "output_type": "stream",
     "text": [
      "\n"
     ]
    },
    {
     "name": "stderr",
     "output_type": "stream",
     "text": [
      " 97%|█████████▋| 87/90 [09:30<00:18,  6.17s/it]"
     ]
    },
    {
     "name": "stdout",
     "output_type": "stream",
     "text": [
      "\n",
      "\r"
     ]
    },
    {
     "name": "stderr",
     "output_type": "stream",
     "text": [
      " 98%|█████████▊| 88/90 [09:35<00:11,  5.86s/it]"
     ]
    },
    {
     "name": "stdout",
     "output_type": "stream",
     "text": [
      "\n"
     ]
    },
    {
     "name": "stderr",
     "output_type": "stream",
     "text": [
      " 99%|█████████▉| 89/90 [09:43<00:06,  6.59s/it]"
     ]
    },
    {
     "name": "stdout",
     "output_type": "stream",
     "text": [
      "\n"
     ]
    },
    {
     "name": "stderr",
     "output_type": "stream",
     "text": [
      "100%|██████████| 90/90 [09:50<00:00,  6.57s/it]\n"
     ]
    }
   ],
   "source": [
    "EPS = np.finfo(np.float).eps\n",
    "\n",
    "N_trial = X_all.shape[0]\n",
    "T = X_all.shape[1]\n",
    "\n",
    "K = 10\n",
    "\n",
    "pi1 = None\n",
    "pi2 = None\n",
    "a0 = 1.0\n",
    "b0 = 1.0\n",
    "ratio = 0.02\n",
    "\n",
    "pi_all = []\n",
    "theta_all = []\n",
    "z_all = []\n",
    "\n",
    "for trial in range(N_trial):\n",
    "    pi1 = None\n",
    "    pi2 = None\n",
    "    theta = None\n",
    "    \n",
    "    pi_list_trial = []\n",
    "    theta_list_trial = []\n",
    "    z_list_trial = []\n",
    "    \n",
    "    numpy2ri.activate()    \n",
    "    \n",
    "    for t in tqdm.tqdm(range(T)):\n",
    "        seed = trial*T + t\n",
    "        \n",
    "        X = X_all[trial, t, :, :]\n",
    "            \n",
    "        sbm = blockmodels.BM_bernoulli(membership_type=\"SBM\", adj=np.array(X),\n",
    "                                           verbosity=0,\n",
    "                                           exploration_factor=1.5,\n",
    "                                           explore_min=K,\n",
    "                                           explore_max=K)\n",
    "\n",
    "        estimate = dollar(sbm, \"estimate\")\n",
    "        estimate()\n",
    "\n",
    "        theta_list = []\n",
    "        pi_list = []\n",
    "        z_posterior_list = []\n",
    "        for k in range(K):\n",
    "            n_clusters = k + 1\n",
    "            theta = np.array(dollar(dollar(sbm, \"model_parameters\")[k], \"pi\"))\n",
    "            z_posterior = np.array(dollar(dollar(sbm, \"memberships\")[k], \"Z\"))\n",
    "            pi = np.sum(z_posterior, axis=0) + 10 * EPS\n",
    "            pi /= np.sum(pi)\n",
    "\n",
    "            theta_list.append(theta)\n",
    "            z_posterior_list.append(z_posterior)\n",
    "            pi_list.append(pi)\n",
    "        \n",
    "        pi_list_trial.append(pi_list)\n",
    "        theta_list_trial.append(theta_list)\n",
    "        z_list_trial.append(z_posterior_list)\n",
    "        \n",
    "    numpy2ri.deactivate()\n",
    "\n",
    "    pi_all.append(pi_list_trial)\n",
    "    theta_all.append(theta_list_trial)\n",
    "    z_all.append(z_list_trial)\n",
    "\n",
    "    with open(os.path.join(outdir, 'pi_gradual.pkl'), 'wb') as f:\n",
    "        pickle.dump(pi_all, f)\n",
    "    with open(os.path.join(outdir, 'theta_gradual.pkl'), 'wb') as f:\n",
    "        pickle.dump(theta_all, f)\n",
    "    with open(os.path.join(outdir, 'z_gradual.pkl'), 'wb') as f:\n",
    "        pickle.dump(z_all, f)"
   ]
  },
  {
   "cell_type": "code",
   "execution_count": 20,
   "metadata": {},
   "outputs": [],
   "source": [
    "with open(os.path.join(outdir, 'pi_gradual.pkl'), 'rb') as f:\n",
    "    pi_all = pickle.load(f)\n",
    "with open(os.path.join(outdir, 'theta_gradual.pkl'), 'rb') as f:\n",
    "    theta_all = pickle.load(f)\n",
    "with open(os.path.join(outdir, 'z_gradual.pkl'), 'rb') as f:\n",
    "    Z_all = pickle.load(f)"
   ]
  },
  {
   "cell_type": "code",
   "execution_count": 21,
   "metadata": {},
   "outputs": [
    {
     "data": {
      "text/plain": [
       "(8, 90, 100, 100)"
      ]
     },
     "execution_count": 21,
     "metadata": {},
     "output_type": "execute_result"
    }
   ],
   "source": [
    "X_all.shape"
   ]
  },
  {
   "cell_type": "code",
   "execution_count": 22,
   "metadata": {},
   "outputs": [
    {
     "name": "stderr",
     "output_type": "stream",
     "text": [
      "100%|██████████| 8/8 [00:24<00:00,  3.10s/it]\n"
     ]
    }
   ],
   "source": [
    "# relabeling\n",
    "N_trial = X_all.shape[0]\n",
    "K = 10\n",
    "T = X_all.shape[1]\n",
    "\n",
    "numpy2ri.activate()\n",
    "for trial in tqdm.tqdm(range(N_trial)):\n",
    "    for k in range(1, K):\n",
    "        run = label_switching.ecr_iterative_2(\n",
    "            z=np.vstack([\n",
    "                  np.argmax(Z_all[trial][t][k], axis=1).reshape(1, -1) for t in range(10)\n",
    "            ]) + 1,\n",
    "            K=k+1,\n",
    "            p=np.stack([Z_all[trial][t][k] for t in range(10)])\n",
    "        )        \n",
    "        permutations = np.array(dollar(run, \"permutations\"))\n",
    "        for t in range(10):\n",
    "            Z_all[trial][t][k] = Z_all[trial][t][k][:, permutations[t, :]-1]\n",
    "\n",
    "        run = label_switching.ecr_iterative_2(\n",
    "            z=np.vstack([\n",
    "                  np.argmax(Z_all[trial][t][k], axis=1).reshape(1, -1) for t in range(9, 14)\n",
    "            ]) + 1,\n",
    "            K=k+1,\n",
    "            p=np.stack([Z_all[trial][t][k] for t in range(9, 14)])\n",
    "        )\n",
    "        permutations = np.array(dollar(run, \"permutations\"))\n",
    "        for i, t in enumerate(range(9, 14)):\n",
    "            if t == 9:\n",
    "                for tt in range(10):\n",
    "                    Z_all[trial][tt][k] = Z_all[trial][tt][k][:, permutations[i, :]-1]\n",
    "            else:\n",
    "                Z_all[trial][t][k] = Z_all[trial][t][k][:, permutations[i, :]-1]\n",
    "        \n",
    "        run = label_switching.ecr_iterative_2(\n",
    "            z=np.vstack([\n",
    "                  np.argmax(Z_all[trial][t][k], axis=1).reshape(1, -1) for t in range(13, 35)\n",
    "            ]) + 1,\n",
    "            K=k+1,\n",
    "            p=np.stack([Z_all[trial][t][k] for t in range(13, 35)])\n",
    "        )\n",
    "        permutations = np.array(dollar(run, \"permutations\"))\n",
    "        for i, t in enumerate(range(13, 35)):\n",
    "            if t == 13:\n",
    "                for tt in range(14):\n",
    "                    Z_all[trial][tt][k] = Z_all[trial][tt][k][:, permutations[i, :]-1]\n",
    "            else:\n",
    "                Z_all[trial][t][k] = Z_all[trial][t][k][:, permutations[i, :]-1]\n",
    "\n",
    "        run = label_switching.ecr_iterative_2(\n",
    "            z=np.vstack([\n",
    "                  np.argmax(Z_all[trial][t][k], axis=1).reshape(1, -1) for t in range(34, 40)\n",
    "            ]) + 1,\n",
    "            K=k+1,\n",
    "            p=np.stack([Z_all[trial][t][k] for t in range(34, 40)])\n",
    "        )\n",
    "        permutations = np.array(dollar(run, \"permutations\"))\n",
    "        for i, t in enumerate(range(34, 40)):\n",
    "            if t == 34:\n",
    "                for tt in range(35):\n",
    "                    Z_all[trial][tt][k] = Z_all[trial][tt][k][:, permutations[i, :]-1]\n",
    "            else:\n",
    "                Z_all[trial][t][k] = Z_all[trial][t][k][:, permutations[i, :]-1]\n",
    "\n",
    "        run = label_switching.ecr_iterative_2(\n",
    "            z=np.vstack([\n",
    "                  np.argmax(Z_all[trial][t][k], axis=1).reshape(1, -1) for t in range(39, 59)\n",
    "            ]) + 1,\n",
    "            K=k+1,\n",
    "            p=np.stack([Z_all[trial][t][k] for t in range(39, 59)])\n",
    "        )\n",
    "        permutations = np.array(dollar(run, \"permutations\"))\n",
    "        for i, t in enumerate(range(39, 59)):\n",
    "            if t == 39:\n",
    "                for tt in range(40):\n",
    "                    Z_all[trial][tt][k] = Z_all[trial][tt][k][:, permutations[i, :]-1]\n",
    "            else:\n",
    "                Z_all[trial][t][k] = Z_all[trial][t][k][:, permutations[i, :]-1]\n",
    "\n",
    "        run = label_switching.ecr_iterative_2(\n",
    "            z=np.vstack([\n",
    "                  np.argmax(Z_all[trial][t][k], axis=1).reshape(1, -1) for t in range(58, 69)\n",
    "            ]) + 1,\n",
    "            K=k+1,\n",
    "            p=np.stack([Z_all[trial][t][k] for t in range(58, 69)])\n",
    "        )\n",
    "        permutations = np.array(dollar(run, \"permutations\"))\n",
    "        for i, t in enumerate(range(58, 69)):\n",
    "            if t == 58:\n",
    "                for tt in range(59):\n",
    "                    Z_all[trial][tt][k] = Z_all[trial][tt][k][:, permutations[i, :]-1]\n",
    "            else:\n",
    "                Z_all[trial][t][k] = Z_all[trial][t][k][:, permutations[i, :]-1]\n",
    "\n",
    "        run = label_switching.ecr_iterative_2(\n",
    "            z=np.vstack([\n",
    "                  np.argmax(Z_all[trial][t][k], axis=1).reshape(1, -1) for t in range(68, 90)\n",
    "            ]) + 1,\n",
    "            K=k+1,\n",
    "            p=np.stack([Z_all[trial][t][k] for t in range(68, 90)])\n",
    "        )\n",
    "        permutations = np.array(dollar(run, \"permutations\"))\n",
    "        for i, t in enumerate(range(68, 90)):\n",
    "            if t == 68:\n",
    "                for tt in range(69):\n",
    "                    Z_all[trial][tt][k] = Z_all[trial][tt][k][:, permutations[i, :]-1]\n",
    "            else:\n",
    "                Z_all[trial][t][k] = Z_all[trial][t][k][:, permutations[i, :]-1]\n",
    "            \n",
    "numpy2ri.deactivate()"
   ]
  },
  {
   "cell_type": "code",
   "execution_count": 23,
   "metadata": {},
   "outputs": [],
   "source": [
    "with open(os.path.join(outdir, 'z_gradual.pkl'), 'wb') as f:\n",
    "    pickle.dump(Z_all, f)"
   ]
  },
  {
   "cell_type": "code",
   "execution_count": 24,
   "metadata": {},
   "outputs": [
    {
     "name": "stderr",
     "output_type": "stream",
     "text": [
      "  0%|          | 0/8 [00:00<?, ?it/s]\n",
      "  0%|          | 0/88 [00:00<?, ?it/s]\u001b[A\n",
      "  1%|          | 1/88 [00:01<02:44,  1.89s/it]\u001b[A\n",
      "  2%|▏         | 2/88 [00:02<02:06,  1.47s/it]\u001b[A\n",
      "  3%|▎         | 3/88 [00:02<01:37,  1.15s/it]\u001b[A\n",
      "  5%|▍         | 4/88 [00:03<01:21,  1.04it/s]\u001b[A\n",
      "  6%|▌         | 5/88 [00:03<01:10,  1.18it/s]\u001b[A\n",
      "  7%|▋         | 6/88 [00:04<01:02,  1.31it/s]\u001b[A\n",
      "  8%|▊         | 7/88 [00:04<00:55,  1.47it/s]\u001b[A\n",
      "  9%|▉         | 8/88 [00:05<00:47,  1.67it/s]\u001b[A\n",
      " 10%|█         | 9/88 [00:05<00:46,  1.68it/s]\u001b[A\n",
      " 11%|█▏        | 10/88 [00:06<00:43,  1.78it/s]\u001b[A\n",
      " 12%|█▎        | 11/88 [00:06<00:37,  2.03it/s]\u001b[A\n",
      " 14%|█▎        | 12/88 [00:07<00:33,  2.26it/s]\u001b[A\n",
      " 15%|█▍        | 13/88 [00:07<00:32,  2.34it/s]\u001b[A\n",
      " 16%|█▌        | 14/88 [00:07<00:32,  2.28it/s]\u001b[A\n",
      " 17%|█▋        | 15/88 [00:08<00:29,  2.44it/s]\u001b[A\n",
      " 18%|█▊        | 16/88 [00:08<00:27,  2.59it/s]\u001b[A\n",
      " 19%|█▉        | 17/88 [00:08<00:25,  2.80it/s]\u001b[A\n",
      " 20%|██        | 18/88 [00:09<00:23,  2.97it/s]\u001b[A\n",
      " 22%|██▏       | 19/88 [00:09<00:25,  2.72it/s]\u001b[A\n",
      " 23%|██▎       | 20/88 [00:10<00:30,  2.26it/s]\u001b[A\n",
      " 24%|██▍       | 21/88 [00:10<00:30,  2.17it/s]\u001b[A\n",
      " 25%|██▌       | 22/88 [00:11<00:27,  2.44it/s]\u001b[A\n",
      " 26%|██▌       | 23/88 [00:11<00:25,  2.58it/s]\u001b[A\n",
      " 27%|██▋       | 24/88 [00:11<00:24,  2.62it/s]\u001b[A\n",
      " 28%|██▊       | 25/88 [00:12<00:22,  2.74it/s]\u001b[A\n",
      " 30%|██▉       | 26/88 [00:12<00:21,  2.84it/s]\u001b[A\n",
      " 31%|███       | 27/88 [00:12<00:20,  2.98it/s]\u001b[A\n",
      " 32%|███▏      | 28/88 [00:12<00:19,  3.10it/s]\u001b[A\n",
      " 33%|███▎      | 29/88 [00:13<00:18,  3.19it/s]\u001b[A\n",
      " 34%|███▍      | 30/88 [00:13<00:22,  2.61it/s]\u001b[A\n",
      " 35%|███▌      | 31/88 [00:14<00:21,  2.67it/s]\u001b[A\n",
      " 36%|███▋      | 32/88 [00:14<00:20,  2.68it/s]\u001b[A\n",
      " 38%|███▊      | 33/88 [00:15<00:22,  2.45it/s]\u001b[A\n",
      " 39%|███▊      | 34/88 [00:15<00:26,  2.01it/s]\u001b[A\n",
      " 40%|███▉      | 35/88 [00:16<00:25,  2.11it/s]\u001b[A\n",
      " 41%|████      | 36/88 [00:16<00:23,  2.26it/s]\u001b[A\n",
      " 42%|████▏     | 37/88 [00:16<00:20,  2.47it/s]\u001b[A\n",
      " 43%|████▎     | 38/88 [00:17<00:19,  2.57it/s]\u001b[A\n",
      " 44%|████▍     | 39/88 [00:17<00:20,  2.39it/s]\u001b[A\n",
      " 45%|████▌     | 40/88 [00:18<00:18,  2.54it/s]\u001b[A\n",
      " 47%|████▋     | 41/88 [00:18<00:20,  2.26it/s]\u001b[A\n",
      " 48%|████▊     | 42/88 [00:19<00:20,  2.20it/s]\u001b[A\n",
      " 49%|████▉     | 43/88 [00:19<00:18,  2.41it/s]\u001b[A\n",
      " 50%|█████     | 44/88 [00:19<00:17,  2.49it/s]\u001b[A\n",
      " 51%|█████     | 45/88 [00:20<00:17,  2.47it/s]\u001b[A\n",
      " 52%|█████▏    | 46/88 [00:20<00:16,  2.57it/s]\u001b[A\n",
      " 53%|█████▎    | 47/88 [00:20<00:16,  2.55it/s]\u001b[A\n",
      " 55%|█████▍    | 48/88 [00:21<00:14,  2.83it/s]\u001b[A\n",
      " 56%|█████▌    | 49/88 [00:21<00:13,  2.96it/s]\u001b[A\n",
      " 57%|█████▋    | 50/88 [00:21<00:12,  2.97it/s]\u001b[A\n",
      " 58%|█████▊    | 51/88 [00:22<00:12,  2.89it/s]\u001b[A\n",
      " 59%|█████▉    | 52/88 [00:22<00:12,  2.87it/s]\u001b[A\n",
      " 60%|██████    | 53/88 [00:22<00:13,  2.61it/s]\u001b[A\n",
      " 61%|██████▏   | 54/88 [00:23<00:13,  2.57it/s]\u001b[A\n",
      " 62%|██████▎   | 55/88 [00:23<00:13,  2.38it/s]\u001b[A\n",
      " 64%|██████▎   | 56/88 [00:24<00:12,  2.51it/s]\u001b[A\n",
      " 65%|██████▍   | 57/88 [00:24<00:12,  2.55it/s]\u001b[A\n",
      " 66%|██████▌   | 58/88 [00:24<00:11,  2.56it/s]\u001b[A\n",
      " 67%|██████▋   | 59/88 [00:25<00:11,  2.48it/s]\u001b[A\n",
      " 68%|██████▊   | 60/88 [00:25<00:10,  2.62it/s]\u001b[A\n",
      " 69%|██████▉   | 61/88 [00:26<00:09,  2.84it/s]\u001b[A\n",
      " 70%|███████   | 62/88 [00:26<00:09,  2.85it/s]\u001b[A\n",
      " 72%|███████▏  | 63/88 [00:26<00:08,  2.93it/s]\u001b[A\n",
      " 73%|███████▎  | 64/88 [00:27<00:07,  3.01it/s]\u001b[A\n",
      " 74%|███████▍  | 65/88 [00:27<00:07,  2.91it/s]\u001b[A\n",
      " 75%|███████▌  | 66/88 [00:27<00:07,  3.03it/s]\u001b[A\n",
      " 76%|███████▌  | 67/88 [00:28<00:08,  2.61it/s]\u001b[A\n",
      " 77%|███████▋  | 68/88 [00:28<00:07,  2.77it/s]\u001b[A\n",
      " 78%|███████▊  | 69/88 [00:28<00:07,  2.59it/s]\u001b[A\n",
      " 80%|███████▉  | 70/88 [00:29<00:07,  2.42it/s]\u001b[A\n",
      " 81%|████████  | 71/88 [00:29<00:07,  2.42it/s]\u001b[A\n",
      " 82%|████████▏ | 72/88 [00:30<00:06,  2.55it/s]\u001b[A\n",
      " 83%|████████▎ | 73/88 [00:30<00:05,  2.59it/s]\u001b[A\n",
      " 84%|████████▍ | 74/88 [00:30<00:05,  2.79it/s]\u001b[A\n",
      " 85%|████████▌ | 75/88 [00:31<00:04,  2.67it/s]\u001b[A\n",
      " 86%|████████▋ | 76/88 [00:31<00:04,  2.84it/s]\u001b[A\n",
      " 88%|████████▊ | 77/88 [00:31<00:04,  2.66it/s]\u001b[A\n",
      " 89%|████████▊ | 78/88 [00:32<00:03,  2.69it/s]\u001b[A\n",
      " 90%|████████▉ | 79/88 [00:32<00:03,  2.69it/s]\u001b[A\n",
      " 91%|█████████ | 80/88 [00:33<00:03,  2.66it/s]\u001b[A\n",
      " 92%|█████████▏| 81/88 [00:33<00:02,  2.74it/s]\u001b[A\n",
      " 93%|█████████▎| 82/88 [00:33<00:02,  2.56it/s]\u001b[A\n",
      " 94%|█████████▍| 83/88 [00:34<00:01,  2.65it/s]\u001b[A\n",
      " 95%|█████████▌| 84/88 [00:34<00:01,  2.90it/s]\u001b[A\n",
      " 97%|█████████▋| 85/88 [00:34<00:01,  2.89it/s]\u001b[A\n",
      " 98%|█████████▊| 86/88 [00:35<00:00,  2.88it/s]\u001b[A\n",
      " 99%|█████████▉| 87/88 [00:35<00:00,  2.82it/s]\u001b[A\n",
      "100%|██████████| 88/88 [00:36<00:00,  2.44it/s]\u001b[A\n",
      " 12%|█▎        | 1/8 [00:36<04:12, 36.03s/it]\n",
      "  0%|          | 0/88 [00:00<?, ?it/s]\u001b[A\n",
      "  1%|          | 1/88 [00:01<01:47,  1.24s/it]\u001b[A\n",
      "  2%|▏         | 2/88 [00:01<01:26,  1.01s/it]\u001b[A\n",
      "  3%|▎         | 3/88 [00:02<01:16,  1.11it/s]\u001b[A\n",
      "  5%|▍         | 4/88 [00:02<01:04,  1.30it/s]\u001b[A\n",
      "  6%|▌         | 5/88 [00:03<00:56,  1.46it/s]\u001b[A\n",
      "  7%|▋         | 6/88 [00:03<00:53,  1.52it/s]\u001b[A\n",
      "  8%|▊         | 7/88 [00:04<00:49,  1.63it/s]\u001b[A/Users/shi-fukushima/.pyenv/versions/anaconda3-5.3.1/lib/python3.7/site-packages/ipykernel_launcher.py:95: RuntimeWarning: invalid value encountered in true_divide\n",
      "\n",
      "  9%|▉         | 8/88 [00:04<00:43,  1.85it/s]\u001b[A/Users/shi-fukushima/.pyenv/versions/anaconda3-5.3.1/lib/python3.7/site-packages/ipykernel_launcher.py:31: RuntimeWarning: invalid value encountered in true_divide\n",
      "/Users/shi-fukushima/.pyenv/versions/anaconda3-5.3.1/lib/python3.7/site-packages/ipykernel_launcher.py:63: RuntimeWarning: invalid value encountered in true_divide\n",
      "\n",
      " 10%|█         | 9/88 [00:05<00:36,  2.15it/s]\u001b[A\n",
      " 11%|█▏        | 10/88 [00:05<00:34,  2.27it/s]\u001b[A\n",
      " 12%|█▎        | 11/88 [00:05<00:33,  2.27it/s]\u001b[A\n",
      " 14%|█▎        | 12/88 [00:06<00:32,  2.34it/s]\u001b[A\n",
      " 15%|█▍        | 13/88 [00:06<00:31,  2.37it/s]\u001b[A\n",
      " 16%|█▌        | 14/88 [00:07<00:30,  2.42it/s]\u001b[A\n",
      " 17%|█▋        | 15/88 [00:07<00:33,  2.17it/s]\u001b[A\n",
      " 18%|█▊        | 16/88 [00:08<00:30,  2.33it/s]\u001b[A\n",
      " 19%|█▉        | 17/88 [00:08<00:33,  2.14it/s]\u001b[A\n",
      " 20%|██        | 18/88 [00:09<00:35,  1.99it/s]\u001b[A\n",
      " 22%|██▏       | 19/88 [00:09<00:32,  2.10it/s]\u001b[A\n",
      " 23%|██▎       | 20/88 [00:09<00:30,  2.21it/s]\u001b[A\n",
      " 24%|██▍       | 21/88 [00:10<00:27,  2.47it/s]\u001b[A\n",
      " 25%|██▌       | 22/88 [00:10<00:24,  2.66it/s]\u001b[A\n",
      " 26%|██▌       | 23/88 [00:10<00:23,  2.79it/s]\u001b[A\n",
      " 27%|██▋       | 24/88 [00:11<00:24,  2.56it/s]\u001b[A\n",
      " 28%|██▊       | 25/88 [00:11<00:28,  2.20it/s]\u001b[A\n",
      " 30%|██▉       | 26/88 [00:12<00:28,  2.20it/s]\u001b[A\n",
      " 31%|███       | 27/88 [00:12<00:26,  2.33it/s]\u001b[A\n",
      " 32%|███▏      | 28/88 [00:13<00:26,  2.26it/s]\u001b[A\n",
      " 33%|███▎      | 29/88 [00:13<00:24,  2.39it/s]\u001b[A\n",
      " 34%|███▍      | 30/88 [00:13<00:22,  2.53it/s]\u001b[A\n",
      " 35%|███▌      | 31/88 [00:14<00:24,  2.33it/s]\u001b[A\n",
      " 36%|███▋      | 32/88 [00:14<00:23,  2.39it/s]\u001b[A\n",
      " 38%|███▊      | 33/88 [00:15<00:22,  2.44it/s]\u001b[A\n",
      " 39%|███▊      | 34/88 [00:15<00:24,  2.22it/s]\u001b[A\n",
      " 40%|███▉      | 35/88 [00:16<00:24,  2.19it/s]\u001b[A\n",
      " 41%|████      | 36/88 [00:16<00:24,  2.16it/s]\u001b[A\n",
      " 42%|████▏     | 37/88 [00:17<00:25,  2.04it/s]\u001b[A\n",
      " 43%|████▎     | 38/88 [00:17<00:21,  2.30it/s]\u001b[A\n",
      " 44%|████▍     | 39/88 [00:18<00:23,  2.08it/s]\u001b[A\n",
      " 45%|████▌     | 40/88 [00:18<00:23,  2.01it/s]\u001b[A\n",
      " 47%|████▋     | 41/88 [00:19<00:22,  2.10it/s]\u001b[A\n",
      " 48%|████▊     | 42/88 [00:19<00:19,  2.35it/s]\u001b[A\n",
      " 49%|████▉     | 43/88 [00:19<00:19,  2.31it/s]\u001b[A\n",
      " 50%|█████     | 44/88 [00:20<00:18,  2.44it/s]\u001b[A\n",
      " 51%|█████     | 45/88 [00:20<00:19,  2.21it/s]\u001b[A\n",
      " 52%|█████▏    | 46/88 [00:21<00:17,  2.39it/s]\u001b[A\n",
      " 53%|█████▎    | 47/88 [00:21<00:17,  2.35it/s]\u001b[A\n",
      " 55%|█████▍    | 48/88 [00:22<00:16,  2.37it/s]\u001b[A\n",
      " 56%|█████▌    | 49/88 [00:22<00:17,  2.29it/s]\u001b[A\n",
      " 57%|█████▋    | 50/88 [00:22<00:16,  2.31it/s]\u001b[A\n",
      " 58%|█████▊    | 51/88 [00:23<00:15,  2.44it/s]\u001b[A\n",
      " 59%|█████▉    | 52/88 [00:23<00:14,  2.43it/s]\u001b[A\n",
      " 60%|██████    | 53/88 [00:24<00:14,  2.35it/s]\u001b[A\n",
      " 61%|██████▏   | 54/88 [00:24<00:14,  2.39it/s]\u001b[A\n",
      " 62%|██████▎   | 55/88 [00:24<00:12,  2.61it/s]\u001b[A\n",
      " 64%|██████▎   | 56/88 [00:25<00:11,  2.69it/s]\u001b[A\n",
      " 65%|██████▍   | 57/88 [00:25<00:11,  2.74it/s]\u001b[A\n",
      " 66%|██████▌   | 58/88 [00:25<00:11,  2.61it/s]\u001b[A\n",
      " 67%|██████▋   | 59/88 [00:26<00:14,  2.02it/s]\u001b[A\n",
      " 68%|██████▊   | 60/88 [00:27<00:12,  2.17it/s]\u001b[A\n",
      " 69%|██████▉   | 61/88 [00:27<00:11,  2.30it/s]\u001b[A\n",
      " 70%|███████   | 62/88 [00:27<00:11,  2.31it/s]\u001b[A\n",
      " 72%|███████▏  | 63/88 [00:28<00:11,  2.15it/s]\u001b[A\n",
      " 73%|███████▎  | 64/88 [00:29<00:11,  2.03it/s]\u001b[A\n",
      " 74%|███████▍  | 65/88 [00:29<00:11,  1.96it/s]\u001b[A\n",
      " 75%|███████▌  | 66/88 [00:29<00:10,  2.10it/s]\u001b[A\n",
      " 76%|███████▌  | 67/88 [00:30<00:10,  2.02it/s]\u001b[A\n",
      " 77%|███████▋  | 68/88 [00:30<00:09,  2.12it/s]\u001b[A\n",
      " 78%|███████▊  | 69/88 [00:31<00:08,  2.35it/s]\u001b[A\n",
      " 80%|███████▉  | 70/88 [00:31<00:07,  2.56it/s]\u001b[A\n",
      " 81%|████████  | 71/88 [00:31<00:06,  2.76it/s]\u001b[A\n",
      " 82%|████████▏ | 72/88 [00:32<00:05,  2.74it/s]\u001b[A\n",
      " 83%|████████▎ | 73/88 [00:32<00:05,  2.85it/s]\u001b[A\n",
      " 84%|████████▍ | 74/88 [00:32<00:04,  2.98it/s]\u001b[A\n",
      " 85%|████████▌ | 75/88 [00:33<00:04,  2.90it/s]\u001b[A\n",
      " 86%|████████▋ | 76/88 [00:33<00:04,  2.69it/s]\u001b[A\n",
      " 88%|████████▊ | 77/88 [00:34<00:04,  2.61it/s]\u001b[A\n",
      " 89%|████████▊ | 78/88 [00:34<00:03,  2.58it/s]\u001b[A\n",
      " 90%|████████▉ | 79/88 [00:34<00:03,  2.45it/s]\u001b[A\n",
      " 91%|█████████ | 80/88 [00:35<00:03,  2.41it/s]\u001b[A\n",
      " 92%|█████████▏| 81/88 [00:35<00:02,  2.47it/s]\u001b[A\n",
      " 93%|█████████▎| 82/88 [00:36<00:02,  2.53it/s]\u001b[A\n",
      " 94%|█████████▍| 83/88 [00:36<00:01,  2.68it/s]\u001b[A\n",
      " 95%|█████████▌| 84/88 [00:36<00:01,  2.93it/s]\u001b[A\n",
      " 97%|█████████▋| 85/88 [00:36<00:01,  2.97it/s]\u001b[A\n",
      " 98%|█████████▊| 86/88 [00:37<00:00,  3.00it/s]\u001b[A\n",
      " 99%|█████████▉| 87/88 [00:37<00:00,  2.61it/s]\u001b[A\n",
      "100%|██████████| 88/88 [00:38<00:00,  2.31it/s]\u001b[A\n",
      " 25%|██▌       | 2/8 [01:14<03:40, 36.67s/it]\n",
      "  0%|          | 0/88 [00:00<?, ?it/s]\u001b[A\n",
      "  1%|          | 1/88 [00:00<01:11,  1.22it/s]\u001b[A\n",
      "  2%|▏         | 2/88 [00:01<00:57,  1.49it/s]\u001b[A\n",
      "  3%|▎         | 3/88 [00:01<00:48,  1.76it/s]\u001b[A\n",
      "  5%|▍         | 4/88 [00:02<00:47,  1.78it/s]\u001b[A\n",
      "  6%|▌         | 5/88 [00:02<00:45,  1.81it/s]\u001b[A\n",
      "  7%|▋         | 6/88 [00:03<00:43,  1.89it/s]\u001b[A\n",
      "  8%|▊         | 7/88 [00:03<00:45,  1.79it/s]\u001b[A\n",
      "  9%|▉         | 8/88 [00:04<00:43,  1.84it/s]\u001b[A\n",
      " 10%|█         | 9/88 [00:04<00:40,  1.95it/s]\u001b[A\n",
      " 11%|█▏        | 10/88 [00:05<00:40,  1.94it/s]\u001b[A\n",
      " 12%|█▎        | 11/88 [00:05<00:40,  1.89it/s]\u001b[A\n",
      " 14%|█▎        | 12/88 [00:06<00:37,  2.04it/s]\u001b[A\n",
      " 15%|█▍        | 13/88 [00:06<00:38,  1.96it/s]\u001b[A\n",
      " 16%|█▌        | 14/88 [00:06<00:34,  2.17it/s]\u001b[A\n",
      " 17%|█▋        | 15/88 [00:07<00:32,  2.23it/s]\u001b[A\n",
      " 18%|█▊        | 16/88 [00:07<00:30,  2.35it/s]\u001b[A\n",
      " 19%|█▉        | 17/88 [00:08<00:30,  2.36it/s]\u001b[A\n",
      " 20%|██        | 18/88 [00:08<00:29,  2.39it/s]\u001b[A\n",
      " 22%|██▏       | 19/88 [00:09<00:30,  2.23it/s]\u001b[A\n",
      " 23%|██▎       | 20/88 [00:09<00:37,  1.83it/s]\u001b[A\n",
      " 24%|██▍       | 21/88 [00:10<00:34,  1.95it/s]\u001b[A\n",
      " 25%|██▌       | 22/88 [00:10<00:30,  2.18it/s]\u001b[A\n",
      " 26%|██▌       | 23/88 [00:11<00:28,  2.27it/s]\u001b[A\n",
      " 27%|██▋       | 24/88 [00:11<00:26,  2.40it/s]\u001b[A\n",
      " 28%|██▊       | 25/88 [00:11<00:24,  2.62it/s]\u001b[A\n",
      " 30%|██▉       | 26/88 [00:12<00:22,  2.80it/s]\u001b[A\n",
      " 31%|███       | 27/88 [00:12<00:24,  2.52it/s]\u001b[A\n",
      " 32%|███▏      | 28/88 [00:12<00:22,  2.69it/s]\u001b[A\n",
      " 33%|███▎      | 29/88 [00:13<00:21,  2.74it/s]\u001b[A\n",
      " 34%|███▍      | 30/88 [00:13<00:20,  2.79it/s]\u001b[A\n",
      " 35%|███▌      | 31/88 [00:13<00:21,  2.63it/s]\u001b[A\n",
      " 36%|███▋      | 32/88 [00:14<00:22,  2.48it/s]\u001b[A\n",
      " 38%|███▊      | 33/88 [00:14<00:23,  2.33it/s]\u001b[A\n",
      " 39%|███▊      | 34/88 [00:15<00:23,  2.31it/s]\u001b[A\n",
      " 40%|███▉      | 35/88 [00:15<00:26,  1.99it/s]\u001b[A\n",
      " 41%|████      | 36/88 [00:16<00:26,  1.97it/s]\u001b[A\n",
      " 42%|████▏     | 37/88 [00:17<00:27,  1.83it/s]\u001b[A\n",
      " 43%|████▎     | 38/88 [00:17<00:25,  1.96it/s]\u001b[A\n",
      " 44%|████▍     | 39/88 [00:17<00:23,  2.10it/s]\u001b[A\n",
      " 45%|████▌     | 40/88 [00:18<00:27,  1.77it/s]\u001b[A\n",
      " 47%|████▋     | 41/88 [00:19<00:23,  2.01it/s]\u001b[A\n",
      " 48%|████▊     | 42/88 [00:19<00:23,  1.99it/s]\u001b[A\n",
      " 49%|████▉     | 43/88 [00:20<00:22,  2.00it/s]\u001b[A\n",
      " 50%|█████     | 44/88 [00:20<00:21,  2.09it/s]\u001b[A\n",
      " 51%|█████     | 45/88 [00:20<00:19,  2.15it/s]\u001b[A\n",
      " 52%|█████▏    | 46/88 [00:21<00:18,  2.30it/s]\u001b[A\n",
      " 53%|█████▎    | 47/88 [00:21<00:17,  2.37it/s]\u001b[A\n",
      " 55%|█████▍    | 48/88 [00:22<00:17,  2.33it/s]\u001b[A\n",
      " 56%|█████▌    | 49/88 [00:22<00:15,  2.58it/s]\u001b[A\n",
      " 57%|█████▋    | 50/88 [00:22<00:13,  2.78it/s]\u001b[A\n",
      " 58%|█████▊    | 51/88 [00:23<00:12,  2.93it/s]\u001b[A\n",
      " 59%|█████▉    | 52/88 [00:23<00:12,  2.96it/s]\u001b[A\n",
      " 60%|██████    | 53/88 [00:23<00:11,  2.98it/s]\u001b[A\n",
      " 61%|██████▏   | 54/88 [00:24<00:11,  2.92it/s]\u001b[A\n",
      " 62%|██████▎   | 55/88 [00:24<00:11,  2.91it/s]\u001b[A\n",
      " 64%|██████▎   | 56/88 [00:24<00:12,  2.65it/s]\u001b[A\n",
      " 65%|██████▍   | 57/88 [00:25<00:12,  2.57it/s]\u001b[A\n",
      " 66%|██████▌   | 58/88 [00:25<00:12,  2.46it/s]\u001b[A\n",
      " 67%|██████▋   | 59/88 [00:26<00:12,  2.23it/s]\u001b[A\n",
      " 68%|██████▊   | 60/88 [00:26<00:12,  2.28it/s]\u001b[A\n",
      " 69%|██████▉   | 61/88 [00:27<00:11,  2.33it/s]\u001b[A\n",
      " 70%|███████   | 62/88 [00:27<00:10,  2.54it/s]\u001b[A\n",
      " 72%|███████▏  | 63/88 [00:27<00:09,  2.69it/s]\u001b[A\n",
      " 73%|███████▎  | 64/88 [00:28<00:08,  2.75it/s]\u001b[A\n",
      " 74%|███████▍  | 65/88 [00:28<00:08,  2.72it/s]\u001b[A\n",
      " 75%|███████▌  | 66/88 [00:29<00:09,  2.37it/s]\u001b[A\n",
      " 76%|███████▌  | 67/88 [00:29<00:10,  1.97it/s]\u001b[A\n",
      " 77%|███████▋  | 68/88 [00:30<00:10,  1.95it/s]\u001b[A\n",
      " 78%|███████▊  | 69/88 [00:30<00:09,  2.04it/s]\u001b[A\n",
      " 80%|███████▉  | 70/88 [00:31<00:08,  2.18it/s]\u001b[A\n",
      " 81%|████████  | 71/88 [00:31<00:07,  2.40it/s]\u001b[A\n",
      " 82%|████████▏ | 72/88 [00:31<00:06,  2.43it/s]\u001b[A\n",
      " 83%|████████▎ | 73/88 [00:32<00:05,  2.50it/s]\u001b[A\n",
      " 84%|████████▍ | 74/88 [00:32<00:06,  2.05it/s]\u001b[A\n",
      " 85%|████████▌ | 75/88 [00:33<00:06,  2.00it/s]\u001b[A\n",
      " 86%|████████▋ | 76/88 [00:33<00:05,  2.19it/s]\u001b[A\n",
      " 88%|████████▊ | 77/88 [00:34<00:04,  2.33it/s]\u001b[A\n",
      " 89%|████████▊ | 78/88 [00:34<00:04,  2.47it/s]\u001b[A\n",
      " 90%|████████▉ | 79/88 [00:34<00:03,  2.74it/s]\u001b[A\n",
      " 91%|█████████ | 80/88 [00:35<00:02,  2.83it/s]\u001b[A\n",
      " 92%|█████████▏| 81/88 [00:35<00:02,  2.94it/s]\u001b[A\n",
      " 93%|█████████▎| 82/88 [00:35<00:02,  2.90it/s]\u001b[A\n",
      " 94%|█████████▍| 83/88 [00:36<00:01,  2.57it/s]\u001b[A\n",
      " 95%|█████████▌| 84/88 [00:36<00:01,  2.24it/s]\u001b[A\n",
      " 97%|█████████▋| 85/88 [00:37<00:01,  2.46it/s]\u001b[A\n",
      " 98%|█████████▊| 86/88 [00:37<00:00,  2.59it/s]\u001b[A\n",
      " 99%|█████████▉| 87/88 [00:37<00:00,  2.37it/s]\u001b[A\n",
      "100%|██████████| 88/88 [00:38<00:00,  2.30it/s]\u001b[A\n",
      " 38%|███▊      | 3/8 [01:52<03:05, 37.16s/it]\n",
      "  0%|          | 0/88 [00:00<?, ?it/s]\u001b[A\n",
      "  1%|          | 1/88 [00:00<00:38,  2.28it/s]\u001b[A\n",
      "  2%|▏         | 2/88 [00:00<00:35,  2.43it/s]\u001b[A\n",
      "  3%|▎         | 3/88 [00:01<00:37,  2.26it/s]\u001b[A\n",
      "  5%|▍         | 4/88 [00:01<00:36,  2.28it/s]\u001b[A\n",
      "  6%|▌         | 5/88 [00:02<00:37,  2.23it/s]\u001b[A\n",
      "  7%|▋         | 6/88 [00:02<00:33,  2.41it/s]\u001b[A\n",
      "  8%|▊         | 7/88 [00:02<00:32,  2.50it/s]\u001b[A\n",
      "  9%|▉         | 8/88 [00:03<00:30,  2.58it/s]\u001b[A\n",
      " 10%|█         | 9/88 [00:03<00:28,  2.77it/s]\u001b[A\n",
      " 11%|█▏        | 10/88 [00:03<00:26,  2.99it/s]\u001b[A\n",
      " 12%|█▎        | 11/88 [00:04<00:24,  3.12it/s]\u001b[A\n",
      " 14%|█▎        | 12/88 [00:04<00:25,  3.00it/s]\u001b[A\n",
      " 15%|█▍        | 13/88 [00:04<00:23,  3.18it/s]\u001b[A\n",
      " 16%|█▌        | 14/88 [00:05<00:23,  3.15it/s]\u001b[A\n",
      " 17%|█▋        | 15/88 [00:05<00:22,  3.27it/s]\u001b[A\n",
      " 18%|█▊        | 16/88 [00:05<00:22,  3.26it/s]\u001b[A\n",
      " 19%|█▉        | 17/88 [00:06<00:23,  2.96it/s]\u001b[A\n",
      " 20%|██        | 18/88 [00:06<00:23,  2.93it/s]\u001b[A\n",
      " 22%|██▏       | 19/88 [00:06<00:24,  2.82it/s]\u001b[A\n",
      " 23%|██▎       | 20/88 [00:07<00:22,  3.01it/s]\u001b[A\n",
      " 24%|██▍       | 21/88 [00:07<00:22,  2.97it/s]\u001b[A\n",
      " 25%|██▌       | 22/88 [00:07<00:22,  2.94it/s]\u001b[A\n",
      " 26%|██▌       | 23/88 [00:08<00:21,  3.06it/s]\u001b[A\n",
      " 27%|██▋       | 24/88 [00:08<00:20,  3.16it/s]\u001b[A\n",
      " 28%|██▊       | 25/88 [00:08<00:22,  2.76it/s]\u001b[A\n",
      " 30%|██▉       | 26/88 [00:09<00:23,  2.67it/s]\u001b[A\n",
      " 31%|███       | 27/88 [00:09<00:23,  2.62it/s]\u001b[A\n",
      " 32%|███▏      | 28/88 [00:09<00:22,  2.68it/s]\u001b[A\n",
      " 33%|███▎      | 29/88 [00:10<00:21,  2.78it/s]\u001b[A\n",
      " 34%|███▍      | 30/88 [00:10<00:19,  3.02it/s]\u001b[A\n",
      " 35%|███▌      | 31/88 [00:10<00:18,  3.16it/s]\u001b[A\n",
      " 36%|███▋      | 32/88 [00:11<00:17,  3.25it/s]\u001b[A\n",
      " 38%|███▊      | 33/88 [00:11<00:16,  3.32it/s]\u001b[A\n",
      " 39%|███▊      | 34/88 [00:11<00:16,  3.29it/s]\u001b[A\n",
      " 40%|███▉      | 35/88 [00:12<00:16,  3.30it/s]\u001b[A\n",
      " 41%|████      | 36/88 [00:12<00:14,  3.49it/s]\u001b[A\n",
      " 42%|████▏     | 37/88 [00:12<00:15,  3.34it/s]\u001b[A\n",
      " 43%|████▎     | 38/88 [00:12<00:15,  3.22it/s]\u001b[A\n",
      " 44%|████▍     | 39/88 [00:13<00:14,  3.27it/s]\u001b[A\n",
      " 45%|████▌     | 40/88 [00:13<00:14,  3.22it/s]\u001b[A\n",
      " 47%|████▋     | 41/88 [00:13<00:14,  3.19it/s]\u001b[A\n",
      " 48%|████▊     | 42/88 [00:14<00:15,  3.05it/s]\u001b[A\n",
      " 49%|████▉     | 43/88 [00:14<00:15,  2.89it/s]\u001b[A\n",
      " 50%|█████     | 44/88 [00:14<00:14,  3.05it/s]\u001b[A\n",
      " 51%|█████     | 45/88 [00:15<00:14,  2.95it/s]\u001b[A\n",
      " 52%|█████▏    | 46/88 [00:15<00:14,  2.92it/s]\u001b[A\n",
      " 53%|█████▎    | 47/88 [00:16<00:14,  2.92it/s]\u001b[A\n",
      " 55%|█████▍    | 48/88 [00:16<00:14,  2.75it/s]\u001b[A\n",
      " 56%|█████▌    | 49/88 [00:16<00:14,  2.78it/s]\u001b[A\n",
      " 57%|█████▋    | 50/88 [00:17<00:13,  2.74it/s]\u001b[A\n",
      " 58%|█████▊    | 51/88 [00:17<00:13,  2.80it/s]\u001b[A\n",
      " 59%|█████▉    | 52/88 [00:17<00:12,  2.87it/s]\u001b[A\n",
      " 60%|██████    | 53/88 [00:18<00:11,  2.94it/s]\u001b[A\n",
      " 61%|██████▏   | 54/88 [00:18<00:11,  3.02it/s]\u001b[A\n",
      " 62%|██████▎   | 55/88 [00:18<00:11,  2.94it/s]\u001b[A\n",
      " 64%|██████▎   | 56/88 [00:19<00:11,  2.83it/s]\u001b[A\n",
      " 65%|██████▍   | 57/88 [00:19<00:10,  2.94it/s]\u001b[A\n",
      " 66%|██████▌   | 58/88 [00:19<00:09,  3.00it/s]\u001b[A\n",
      " 67%|██████▋   | 59/88 [00:20<00:09,  3.15it/s]\u001b[A\n",
      " 68%|██████▊   | 60/88 [00:20<00:08,  3.24it/s]\u001b[A\n",
      " 69%|██████▉   | 61/88 [00:20<00:08,  3.24it/s]\u001b[A\n",
      " 70%|███████   | 62/88 [00:21<00:09,  2.88it/s]\u001b[A\n",
      " 72%|███████▏  | 63/88 [00:21<00:08,  2.93it/s]\u001b[A\n",
      " 73%|███████▎  | 64/88 [00:21<00:08,  2.82it/s]\u001b[A\n",
      " 74%|███████▍  | 65/88 [00:22<00:08,  2.68it/s]\u001b[A\n",
      " 75%|███████▌  | 66/88 [00:22<00:08,  2.54it/s]\u001b[A\n",
      " 76%|███████▌  | 67/88 [00:23<00:08,  2.58it/s]\u001b[A\n",
      " 77%|███████▋  | 68/88 [00:23<00:07,  2.66it/s]\u001b[A\n",
      " 78%|███████▊  | 69/88 [00:23<00:06,  2.88it/s]\u001b[A\n",
      " 80%|███████▉  | 70/88 [00:23<00:05,  3.08it/s]\u001b[A\n",
      " 81%|████████  | 71/88 [00:24<00:05,  3.13it/s]\u001b[A\n",
      " 82%|████████▏ | 72/88 [00:24<00:05,  2.77it/s]\u001b[A\n",
      " 83%|████████▎ | 73/88 [00:25<00:05,  2.91it/s]\u001b[A\n",
      " 84%|████████▍ | 74/88 [00:25<00:05,  2.74it/s]\u001b[A\n",
      " 85%|████████▌ | 75/88 [00:25<00:05,  2.56it/s]\u001b[A\n",
      " 86%|████████▋ | 76/88 [00:26<00:04,  2.57it/s]\u001b[A\n",
      " 88%|████████▊ | 77/88 [00:26<00:04,  2.53it/s]\u001b[A\n",
      " 89%|████████▊ | 78/88 [00:27<00:03,  2.72it/s]\u001b[A\n",
      " 90%|████████▉ | 79/88 [00:27<00:03,  2.91it/s]\u001b[A\n",
      " 91%|█████████ | 80/88 [00:27<00:02,  3.06it/s]\u001b[A\n",
      " 92%|█████████▏| 81/88 [00:27<00:02,  3.20it/s]\u001b[A\n",
      " 93%|█████████▎| 82/88 [00:28<00:01,  3.23it/s]\u001b[A\n",
      " 94%|█████████▍| 83/88 [00:28<00:01,  3.23it/s]\u001b[A\n",
      " 95%|█████████▌| 84/88 [00:28<00:01,  3.35it/s]\u001b[A\n",
      " 97%|█████████▋| 85/88 [00:29<00:00,  3.06it/s]\u001b[A\n",
      " 98%|█████████▊| 86/88 [00:29<00:00,  2.93it/s]\u001b[A\n",
      " 99%|█████████▉| 87/88 [00:29<00:00,  2.80it/s]\u001b[A\n",
      "100%|██████████| 88/88 [00:30<00:00,  2.90it/s]\u001b[A\n",
      " 50%|█████     | 4/8 [02:22<02:20, 35.11s/it]\n",
      "  0%|          | 0/88 [00:00<?, ?it/s]\u001b[A\n",
      "  1%|          | 1/88 [00:00<00:56,  1.55it/s]\u001b[A\n",
      "  2%|▏         | 2/88 [00:01<00:49,  1.73it/s]\u001b[A\n",
      "  3%|▎         | 3/88 [00:01<00:43,  1.94it/s]\u001b[A\n",
      "  5%|▍         | 4/88 [00:01<00:39,  2.13it/s]\u001b[A\n",
      "  6%|▌         | 5/88 [00:02<00:37,  2.24it/s]\u001b[A\n",
      "  7%|▋         | 6/88 [00:02<00:32,  2.54it/s]\u001b[A\n",
      "  8%|▊         | 7/88 [00:02<00:30,  2.70it/s]\u001b[A\n",
      "  9%|▉         | 8/88 [00:03<00:27,  2.87it/s]\u001b[A\n",
      " 10%|█         | 9/88 [00:03<00:28,  2.81it/s]\u001b[A\n",
      " 11%|█▏        | 10/88 [00:03<00:29,  2.66it/s]\u001b[A\n",
      " 12%|█▎        | 11/88 [00:04<00:28,  2.68it/s]\u001b[A\n",
      " 14%|█▎        | 12/88 [00:04<00:27,  2.79it/s]\u001b[A\n",
      " 15%|█▍        | 13/88 [00:05<00:28,  2.61it/s]\u001b[A\n",
      " 16%|█▌        | 14/88 [00:05<00:30,  2.41it/s]\u001b[A\n",
      " 17%|█▋        | 15/88 [00:05<00:28,  2.54it/s]\u001b[A\n",
      " 18%|█▊        | 16/88 [00:06<00:27,  2.65it/s]\u001b[A\n",
      " 19%|█▉        | 17/88 [00:06<00:27,  2.60it/s]\u001b[A\n",
      " 20%|██        | 18/88 [00:06<00:26,  2.62it/s]\u001b[A\n",
      " 22%|██▏       | 19/88 [00:07<00:27,  2.52it/s]\u001b[A\n",
      " 23%|██▎       | 20/88 [00:07<00:26,  2.60it/s]\u001b[A\n",
      " 24%|██▍       | 21/88 [00:08<00:25,  2.65it/s]\u001b[A\n",
      " 25%|██▌       | 22/88 [00:08<00:23,  2.79it/s]\u001b[A\n",
      " 26%|██▌       | 23/88 [00:08<00:23,  2.74it/s]\u001b[A\n",
      " 27%|██▋       | 24/88 [00:09<00:23,  2.68it/s]\u001b[A\n",
      " 28%|██▊       | 25/88 [00:09<00:24,  2.53it/s]\u001b[A\n",
      " 30%|██▉       | 26/88 [00:10<00:26,  2.31it/s]\u001b[A\n",
      " 31%|███       | 27/88 [00:10<00:26,  2.27it/s]\u001b[A\n",
      " 32%|███▏      | 28/88 [00:11<00:25,  2.34it/s]\u001b[A\n",
      " 33%|███▎      | 29/88 [00:11<00:23,  2.52it/s]\u001b[A\n",
      " 34%|███▍      | 30/88 [00:11<00:21,  2.64it/s]\u001b[A\n",
      " 35%|███▌      | 31/88 [00:11<00:19,  2.92it/s]\u001b[A\n",
      " 36%|███▋      | 32/88 [00:12<00:17,  3.12it/s]\u001b[A\n",
      " 38%|███▊      | 33/88 [00:12<00:17,  3.15it/s]\u001b[A\n",
      " 39%|███▊      | 34/88 [00:12<00:18,  2.96it/s]\u001b[A\n",
      " 40%|███▉      | 35/88 [00:13<00:20,  2.56it/s]\u001b[A\n",
      " 41%|████      | 36/88 [00:13<00:21,  2.46it/s]\u001b[A\n",
      " 42%|████▏     | 37/88 [00:14<00:21,  2.40it/s]\u001b[A\n",
      " 43%|████▎     | 38/88 [00:14<00:20,  2.46it/s]\u001b[A\n",
      " 44%|████▍     | 39/88 [00:15<00:20,  2.41it/s]\u001b[A\n",
      " 45%|████▌     | 40/88 [00:15<00:19,  2.45it/s]\u001b[A\n",
      " 47%|████▋     | 41/88 [00:15<00:19,  2.46it/s]\u001b[A\n",
      " 48%|████▊     | 42/88 [00:16<00:18,  2.48it/s]\u001b[A\n",
      " 49%|████▉     | 43/88 [00:16<00:17,  2.64it/s]\u001b[A\n",
      " 50%|█████     | 44/88 [00:17<00:17,  2.51it/s]\u001b[A\n",
      " 51%|█████     | 45/88 [00:17<00:16,  2.66it/s]\u001b[A\n",
      " 52%|█████▏    | 46/88 [00:17<00:15,  2.73it/s]\u001b[A\n",
      " 53%|█████▎    | 47/88 [00:18<00:14,  2.78it/s]\u001b[A\n",
      " 55%|█████▍    | 48/88 [00:18<00:14,  2.72it/s]\u001b[A\n",
      " 56%|█████▌    | 49/88 [00:18<00:13,  3.00it/s]\u001b[A\n",
      " 57%|█████▋    | 50/88 [00:18<00:11,  3.18it/s]\u001b[A\n",
      " 58%|█████▊    | 51/88 [00:19<00:11,  3.36it/s]\u001b[A\n",
      " 59%|█████▉    | 52/88 [00:19<00:10,  3.57it/s]\u001b[A\n",
      " 60%|██████    | 53/88 [00:19<00:09,  3.62it/s]\u001b[A\n",
      " 61%|██████▏   | 54/88 [00:20<00:09,  3.40it/s]\u001b[A\n",
      " 62%|██████▎   | 55/88 [00:20<00:11,  2.97it/s]\u001b[A\n",
      " 64%|██████▎   | 56/88 [00:20<00:11,  2.77it/s]\u001b[A\n",
      " 65%|██████▍   | 57/88 [00:21<00:11,  2.68it/s]\u001b[A\n",
      " 66%|██████▌   | 58/88 [00:21<00:11,  2.66it/s]\u001b[A\n",
      " 67%|██████▋   | 59/88 [00:22<00:12,  2.36it/s]\u001b[A\n",
      " 68%|██████▊   | 60/88 [00:22<00:12,  2.33it/s]\u001b[A\n",
      " 69%|██████▉   | 61/88 [00:23<00:11,  2.26it/s]\u001b[A\n",
      " 70%|███████   | 62/88 [00:23<00:10,  2.54it/s]\u001b[A\n",
      " 72%|███████▏  | 63/88 [00:23<00:08,  2.78it/s]\u001b[A\n",
      " 73%|███████▎  | 64/88 [00:24<00:08,  2.73it/s]\u001b[A\n",
      " 74%|███████▍  | 65/88 [00:24<00:09,  2.48it/s]\u001b[A\n",
      " 75%|███████▌  | 66/88 [00:25<00:09,  2.40it/s]\u001b[A\n",
      " 76%|███████▌  | 67/88 [00:25<00:08,  2.46it/s]\u001b[A\n",
      " 77%|███████▋  | 68/88 [00:25<00:08,  2.43it/s]\u001b[A\n",
      " 78%|███████▊  | 69/88 [00:26<00:07,  2.46it/s]\u001b[A\n",
      " 80%|███████▉  | 70/88 [00:26<00:07,  2.49it/s]\u001b[A\n",
      " 81%|████████  | 71/88 [00:26<00:06,  2.72it/s]\u001b[A\n",
      " 82%|████████▏ | 72/88 [00:27<00:05,  2.75it/s]\u001b[A\n",
      " 83%|████████▎ | 73/88 [00:27<00:05,  2.77it/s]\u001b[A\n",
      " 84%|████████▍ | 74/88 [00:27<00:04,  2.82it/s]\u001b[A\n",
      " 85%|████████▌ | 75/88 [00:28<00:04,  2.90it/s]\u001b[A\n",
      " 86%|████████▋ | 76/88 [00:28<00:04,  3.00it/s]\u001b[A\n",
      " 88%|████████▊ | 77/88 [00:28<00:03,  3.10it/s]\u001b[A\n",
      " 89%|████████▊ | 78/88 [00:29<00:03,  2.87it/s]\u001b[A\n",
      " 90%|████████▉ | 79/88 [00:29<00:03,  2.91it/s]\u001b[A\n",
      " 91%|█████████ | 80/88 [00:29<00:02,  3.01it/s]\u001b[A\n",
      " 92%|█████████▏| 81/88 [00:30<00:02,  2.81it/s]\u001b[A\n",
      " 93%|█████████▎| 82/88 [00:30<00:02,  2.72it/s]\u001b[A\n",
      " 94%|█████████▍| 83/88 [00:31<00:01,  2.66it/s]\u001b[A\n",
      " 95%|█████████▌| 84/88 [00:31<00:01,  2.77it/s]\u001b[A\n",
      " 97%|█████████▋| 85/88 [00:31<00:01,  2.87it/s]\u001b[A\n",
      " 98%|█████████▊| 86/88 [00:32<00:00,  2.95it/s]\u001b[A\n",
      " 99%|█████████▉| 87/88 [00:32<00:00,  3.02it/s]\u001b[A\n",
      "100%|██████████| 88/88 [00:32<00:00,  2.69it/s]\u001b[A\n",
      " 62%|██████▎   | 5/8 [02:55<01:43, 34.40s/it]\n",
      "  0%|          | 0/88 [00:00<?, ?it/s]\u001b[A\n",
      "  1%|          | 1/88 [00:00<00:29,  2.99it/s]\u001b[A\n",
      "  2%|▏         | 2/88 [00:00<00:29,  2.87it/s]\u001b[A\n",
      "  3%|▎         | 3/88 [00:01<00:29,  2.89it/s]\u001b[A\n",
      "  5%|▍         | 4/88 [00:01<00:27,  3.03it/s]\u001b[A\n",
      "  6%|▌         | 5/88 [00:01<00:28,  2.96it/s]\u001b[A\n",
      "  7%|▋         | 6/88 [00:01<00:26,  3.13it/s]\u001b[A\n",
      "  8%|▊         | 7/88 [00:02<00:25,  3.20it/s]\u001b[A\n",
      "  9%|▉         | 8/88 [00:02<00:25,  3.17it/s]\u001b[A\n",
      " 10%|█         | 9/88 [00:03<00:27,  2.93it/s]\u001b[A\n",
      " 11%|█▏        | 10/88 [00:03<00:27,  2.82it/s]\u001b[A\n",
      " 12%|█▎        | 11/88 [00:03<00:26,  2.96it/s]\u001b[A\n",
      " 14%|█▎        | 12/88 [00:04<00:27,  2.75it/s]\u001b[A\n",
      " 15%|█▍        | 13/88 [00:04<00:27,  2.70it/s]\u001b[A\n",
      " 16%|█▌        | 14/88 [00:04<00:28,  2.60it/s]\u001b[A\n",
      " 17%|█▋        | 15/88 [00:05<00:29,  2.52it/s]\u001b[A\n",
      " 18%|█▊        | 16/88 [00:05<00:28,  2.55it/s]\u001b[A\n",
      " 19%|█▉        | 17/88 [00:06<00:29,  2.42it/s]\u001b[A\n",
      " 20%|██        | 18/88 [00:06<00:27,  2.52it/s]\u001b[A\n",
      " 22%|██▏       | 19/88 [00:06<00:24,  2.81it/s]\u001b[A\n",
      " 23%|██▎       | 20/88 [00:07<00:24,  2.72it/s]\u001b[A\n",
      " 24%|██▍       | 21/88 [00:07<00:24,  2.77it/s]\u001b[A\n",
      " 25%|██▌       | 22/88 [00:07<00:22,  2.99it/s]\u001b[A\n",
      " 26%|██▌       | 23/88 [00:08<00:20,  3.13it/s]\u001b[A\n",
      " 27%|██▋       | 24/88 [00:08<00:19,  3.29it/s]\u001b[A\n",
      " 28%|██▊       | 25/88 [00:08<00:18,  3.44it/s]\u001b[A\n",
      " 30%|██▉       | 26/88 [00:08<00:17,  3.50it/s]\u001b[A\n",
      " 31%|███       | 27/88 [00:09<00:17,  3.44it/s]\u001b[A\n",
      " 32%|███▏      | 28/88 [00:09<00:17,  3.43it/s]\u001b[A\n",
      " 33%|███▎      | 29/88 [00:09<00:18,  3.26it/s]\u001b[A\n",
      " 34%|███▍      | 30/88 [00:10<00:17,  3.22it/s]\u001b[A\n",
      " 35%|███▌      | 31/88 [00:10<00:17,  3.18it/s]\u001b[A\n",
      " 36%|███▋      | 32/88 [00:10<00:18,  2.98it/s]\u001b[A\n",
      " 38%|███▊      | 33/88 [00:11<00:21,  2.58it/s]\u001b[A\n",
      " 39%|███▊      | 34/88 [00:11<00:21,  2.48it/s]\u001b[A\n",
      " 40%|███▉      | 35/88 [00:12<00:20,  2.54it/s]\u001b[A\n",
      " 41%|████      | 36/88 [00:12<00:20,  2.54it/s]\u001b[A\n",
      " 42%|████▏     | 37/88 [00:12<00:19,  2.61it/s]\u001b[A\n",
      " 43%|████▎     | 38/88 [00:13<00:18,  2.73it/s]\u001b[A\n",
      " 44%|████▍     | 39/88 [00:13<00:16,  2.93it/s]\u001b[A\n",
      " 45%|████▌     | 40/88 [00:13<00:15,  3.05it/s]\u001b[A\n",
      " 47%|████▋     | 41/88 [00:14<00:15,  3.11it/s]\u001b[A\n",
      " 48%|████▊     | 42/88 [00:14<00:14,  3.07it/s]\u001b[A\n",
      " 49%|████▉     | 43/88 [00:14<00:14,  3.06it/s]\u001b[A\n",
      " 50%|█████     | 44/88 [00:15<00:15,  2.90it/s]\u001b[A\n",
      " 51%|█████     | 45/88 [00:15<00:14,  2.95it/s]\u001b[A\n",
      " 52%|█████▏    | 46/88 [00:15<00:14,  2.96it/s]\u001b[A\n",
      " 53%|█████▎    | 47/88 [00:16<00:13,  2.96it/s]\u001b[A\n",
      " 55%|█████▍    | 48/88 [00:16<00:14,  2.84it/s]\u001b[A\n",
      " 56%|█████▌    | 49/88 [00:16<00:13,  2.94it/s]\u001b[A\n",
      " 57%|█████▋    | 50/88 [00:17<00:12,  3.03it/s]\u001b[A\n",
      " 58%|█████▊    | 51/88 [00:17<00:12,  2.98it/s]\u001b[A\n",
      " 59%|█████▉    | 52/88 [00:17<00:11,  3.16it/s]\u001b[A\n",
      " 60%|██████    | 53/88 [00:18<00:11,  3.12it/s]\u001b[A\n",
      " 61%|██████▏   | 54/88 [00:18<00:10,  3.20it/s]\u001b[A\n",
      " 62%|██████▎   | 55/88 [00:18<00:10,  3.26it/s]\u001b[A\n",
      " 64%|██████▎   | 56/88 [00:19<00:10,  3.05it/s]\u001b[A\n",
      " 65%|██████▍   | 57/88 [00:19<00:10,  3.03it/s]\u001b[A\n",
      " 66%|██████▌   | 58/88 [00:19<00:10,  3.00it/s]\u001b[A\n",
      " 67%|██████▋   | 59/88 [00:20<00:10,  2.80it/s]\u001b[A\n",
      " 68%|██████▊   | 60/88 [00:20<00:10,  2.69it/s]\u001b[A\n",
      " 69%|██████▉   | 61/88 [00:21<00:11,  2.36it/s]\u001b[A\n",
      " 70%|███████   | 62/88 [00:21<00:10,  2.49it/s]\u001b[A\n",
      " 72%|███████▏  | 63/88 [00:21<00:09,  2.60it/s]\u001b[A\n",
      " 73%|███████▎  | 64/88 [00:22<00:10,  2.33it/s]\u001b[A\n",
      " 74%|███████▍  | 65/88 [00:22<00:09,  2.51it/s]\u001b[A\n",
      " 75%|███████▌  | 66/88 [00:22<00:07,  2.77it/s]\u001b[A\n",
      " 76%|███████▌  | 67/88 [00:23<00:06,  3.02it/s]\u001b[A\n",
      " 77%|███████▋  | 68/88 [00:23<00:06,  3.24it/s]\u001b[A\n",
      " 78%|███████▊  | 69/88 [00:23<00:05,  3.20it/s]\u001b[A\n",
      " 80%|███████▉  | 70/88 [00:24<00:05,  3.41it/s]\u001b[A\n",
      " 81%|████████  | 71/88 [00:24<00:04,  3.45it/s]\u001b[A\n",
      " 82%|████████▏ | 72/88 [00:24<00:04,  3.35it/s]\u001b[A\n",
      " 83%|████████▎ | 73/88 [00:24<00:04,  3.33it/s]\u001b[A\n",
      " 84%|████████▍ | 74/88 [00:25<00:04,  3.20it/s]\u001b[A\n",
      " 85%|████████▌ | 75/88 [00:25<00:04,  3.16it/s]\u001b[A\n",
      " 86%|████████▋ | 76/88 [00:26<00:04,  2.89it/s]\u001b[A\n",
      " 88%|████████▊ | 77/88 [00:26<00:04,  2.70it/s]\u001b[A\n",
      " 89%|████████▊ | 78/88 [00:26<00:03,  2.86it/s]\u001b[A\n",
      " 90%|████████▉ | 79/88 [00:27<00:03,  2.53it/s]\u001b[A\n",
      " 91%|█████████ | 80/88 [00:27<00:03,  2.41it/s]\u001b[A\n",
      " 92%|█████████▏| 81/88 [00:28<00:02,  2.50it/s]\u001b[A\n",
      " 93%|█████████▎| 82/88 [00:28<00:02,  2.67it/s]\u001b[A\n",
      " 94%|█████████▍| 83/88 [00:28<00:01,  2.86it/s]\u001b[A\n",
      " 95%|█████████▌| 84/88 [00:29<00:01,  3.03it/s]\u001b[A\n",
      " 97%|█████████▋| 85/88 [00:29<00:00,  3.18it/s]\u001b[A\n",
      " 98%|█████████▊| 86/88 [00:29<00:00,  3.37it/s]\u001b[A\n",
      " 99%|█████████▉| 87/88 [00:29<00:00,  3.43it/s]\u001b[A\n",
      "100%|██████████| 88/88 [00:30<00:00,  2.92it/s]\u001b[A\n",
      " 75%|███████▌  | 6/8 [03:25<01:06, 33.11s/it]\n",
      "  0%|          | 0/88 [00:00<?, ?it/s]\u001b[A\n",
      "  1%|          | 1/88 [00:00<00:26,  3.30it/s]\u001b[A\n",
      "  2%|▏         | 2/88 [00:00<00:27,  3.15it/s]\u001b[A\n",
      "  3%|▎         | 3/88 [00:00<00:26,  3.25it/s]\u001b[A\n",
      "  5%|▍         | 4/88 [00:01<00:24,  3.43it/s]\u001b[A\n",
      "  6%|▌         | 5/88 [00:01<00:24,  3.34it/s]\u001b[A\n",
      "  7%|▋         | 6/88 [00:01<00:23,  3.51it/s]\u001b[A\n",
      "  8%|▊         | 7/88 [00:02<00:24,  3.33it/s]\u001b[A\n",
      "  9%|▉         | 8/88 [00:02<00:23,  3.45it/s]\u001b[A\n",
      " 10%|█         | 9/88 [00:02<00:24,  3.22it/s]\u001b[A\n",
      " 11%|█▏        | 10/88 [00:03<00:25,  3.12it/s]\u001b[A\n",
      " 12%|█▎        | 11/88 [00:03<00:24,  3.14it/s]\u001b[A\n",
      " 14%|█▎        | 12/88 [00:03<00:26,  2.84it/s]\u001b[A\n",
      " 15%|█▍        | 13/88 [00:04<00:26,  2.88it/s]\u001b[A\n",
      " 16%|█▌        | 14/88 [00:04<00:23,  3.09it/s]\u001b[A\n",
      " 17%|█▋        | 15/88 [00:04<00:22,  3.20it/s]\u001b[A\n",
      " 18%|█▊        | 16/88 [00:05<00:22,  3.21it/s]\u001b[A\n",
      " 19%|█▉        | 17/88 [00:05<00:20,  3.43it/s]\u001b[A\n",
      " 20%|██        | 18/88 [00:05<00:20,  3.48it/s]\u001b[A\n",
      " 22%|██▏       | 19/88 [00:05<00:18,  3.65it/s]\u001b[A\n",
      " 23%|██▎       | 20/88 [00:06<00:18,  3.77it/s]\u001b[A\n",
      " 24%|██▍       | 21/88 [00:06<00:18,  3.65it/s]\u001b[A\n",
      " 25%|██▌       | 22/88 [00:06<00:17,  3.69it/s]\u001b[A\n",
      " 26%|██▌       | 23/88 [00:06<00:18,  3.58it/s]\u001b[A\n",
      " 27%|██▋       | 24/88 [00:07<00:20,  3.05it/s]\u001b[A\n",
      " 28%|██▊       | 25/88 [00:07<00:21,  3.00it/s]\u001b[A\n",
      " 30%|██▉       | 26/88 [00:08<00:23,  2.61it/s]\u001b[A\n",
      " 31%|███       | 27/88 [00:08<00:21,  2.82it/s]\u001b[A\n",
      " 32%|███▏      | 28/88 [00:08<00:20,  2.88it/s]\u001b[A\n",
      " 33%|███▎      | 29/88 [00:09<00:19,  3.09it/s]\u001b[A\n",
      " 34%|███▍      | 30/88 [00:09<00:18,  3.07it/s]\u001b[A\n",
      " 35%|███▌      | 31/88 [00:09<00:18,  3.15it/s]\u001b[A\n",
      " 36%|███▋      | 32/88 [00:10<00:18,  2.97it/s]\u001b[A\n",
      " 38%|███▊      | 33/88 [00:10<00:19,  2.76it/s]\u001b[A\n",
      " 39%|███▊      | 34/88 [00:10<00:21,  2.51it/s]\u001b[A\n",
      " 40%|███▉      | 35/88 [00:11<00:21,  2.49it/s]\u001b[A\n",
      " 41%|████      | 36/88 [00:11<00:20,  2.59it/s]\u001b[A\n",
      " 42%|████▏     | 37/88 [00:12<00:19,  2.63it/s]\u001b[A\n",
      " 43%|████▎     | 38/88 [00:12<00:18,  2.77it/s]\u001b[A\n",
      " 44%|████▍     | 39/88 [00:12<00:16,  2.95it/s]\u001b[A\n",
      " 45%|████▌     | 40/88 [00:13<00:16,  2.90it/s]\u001b[A\n",
      " 47%|████▋     | 41/88 [00:13<00:15,  3.12it/s]\u001b[A\n",
      " 48%|████▊     | 42/88 [00:13<00:14,  3.27it/s]\u001b[A\n",
      " 49%|████▉     | 43/88 [00:13<00:13,  3.25it/s]\u001b[A\n",
      " 50%|█████     | 44/88 [00:14<00:12,  3.41it/s]\u001b[A\n",
      " 51%|█████     | 45/88 [00:14<00:13,  3.26it/s]\u001b[A\n",
      " 52%|█████▏    | 46/88 [00:14<00:13,  3.19it/s]\u001b[A\n",
      " 53%|█████▎    | 47/88 [00:15<00:12,  3.16it/s]\u001b[A\n",
      " 55%|█████▍    | 48/88 [00:15<00:12,  3.09it/s]\u001b[A\n",
      " 56%|█████▌    | 49/88 [00:15<00:14,  2.71it/s]\u001b[A\n",
      " 57%|█████▋    | 50/88 [00:16<00:14,  2.66it/s]\u001b[A\n",
      " 58%|█████▊    | 51/88 [00:16<00:13,  2.79it/s]\u001b[A\n",
      " 59%|█████▉    | 52/88 [00:16<00:12,  2.91it/s]\u001b[A\n",
      " 60%|██████    | 53/88 [00:17<00:11,  2.95it/s]\u001b[A\n",
      " 61%|██████▏   | 54/88 [00:17<00:12,  2.79it/s]\u001b[A\n",
      " 62%|██████▎   | 55/88 [00:18<00:11,  2.87it/s]\u001b[A\n",
      " 64%|██████▎   | 56/88 [00:18<00:11,  2.81it/s]\u001b[A\n",
      " 65%|██████▍   | 57/88 [00:18<00:10,  2.89it/s]\u001b[A\n",
      " 66%|██████▌   | 58/88 [00:19<00:10,  2.98it/s]\u001b[A\n",
      " 67%|██████▋   | 59/88 [00:19<00:09,  3.17it/s]\u001b[A\n",
      " 68%|██████▊   | 60/88 [00:19<00:08,  3.38it/s]\u001b[A\n",
      " 69%|██████▉   | 61/88 [00:19<00:07,  3.48it/s]\u001b[A\n",
      " 70%|███████   | 62/88 [00:20<00:07,  3.67it/s]\u001b[A\n",
      " 72%|███████▏  | 63/88 [00:20<00:06,  3.69it/s]\u001b[A\n",
      " 73%|███████▎  | 64/88 [00:20<00:06,  3.72it/s]\u001b[A\n",
      " 74%|███████▍  | 65/88 [00:20<00:06,  3.81it/s]\u001b[A\n",
      " 75%|███████▌  | 66/88 [00:21<00:05,  3.78it/s]\u001b[A\n",
      " 76%|███████▌  | 67/88 [00:21<00:05,  3.59it/s]\u001b[A\n",
      " 77%|███████▋  | 68/88 [00:21<00:06,  3.30it/s]\u001b[A\n",
      " 78%|███████▊  | 69/88 [00:22<00:06,  3.13it/s]\u001b[A\n",
      " 80%|███████▉  | 70/88 [00:22<00:06,  2.89it/s]\u001b[A\n",
      " 81%|████████  | 71/88 [00:22<00:05,  3.04it/s]\u001b[A\n",
      " 82%|████████▏ | 72/88 [00:23<00:05,  3.19it/s]\u001b[A\n",
      " 83%|████████▎ | 73/88 [00:23<00:04,  3.23it/s]\u001b[A\n",
      " 84%|████████▍ | 74/88 [00:23<00:04,  3.24it/s]\u001b[A\n",
      " 85%|████████▌ | 75/88 [00:24<00:04,  3.22it/s]\u001b[A\n",
      " 86%|████████▋ | 76/88 [00:24<00:03,  3.16it/s]\u001b[A\n",
      " 88%|████████▊ | 77/88 [00:24<00:03,  3.20it/s]\u001b[A\n",
      " 89%|████████▊ | 78/88 [00:25<00:03,  3.10it/s]\u001b[A\n",
      " 90%|████████▉ | 79/88 [00:25<00:03,  2.79it/s]\u001b[A\n",
      " 91%|█████████ | 80/88 [00:25<00:02,  2.85it/s]\u001b[A\n",
      " 92%|█████████▏| 81/88 [00:26<00:02,  3.10it/s]\u001b[A\n",
      " 93%|█████████▎| 82/88 [00:26<00:01,  3.18it/s]\u001b[A\n",
      " 94%|█████████▍| 83/88 [00:26<00:01,  3.12it/s]\u001b[A\n",
      " 95%|█████████▌| 84/88 [00:26<00:01,  3.27it/s]\u001b[A\n",
      " 97%|█████████▋| 85/88 [00:27<00:00,  3.01it/s]\u001b[A\n",
      " 98%|█████████▊| 86/88 [00:27<00:00,  2.84it/s]\u001b[A\n",
      " 99%|█████████▉| 87/88 [00:28<00:00,  2.68it/s]\u001b[A\n",
      "100%|██████████| 88/88 [00:28<00:00,  3.09it/s]\u001b[A\n",
      " 88%|████████▊ | 7/8 [03:54<00:31, 31.73s/it]\n",
      "  0%|          | 0/88 [00:00<?, ?it/s]\u001b[A\n",
      "  1%|          | 1/88 [00:00<00:53,  1.63it/s]\u001b[A\n",
      "  2%|▏         | 2/88 [00:01<00:48,  1.76it/s]\u001b[A\n",
      "  3%|▎         | 3/88 [00:01<00:43,  1.97it/s]\u001b[A\n",
      "  5%|▍         | 4/88 [00:01<00:38,  2.19it/s]\u001b[A\n",
      "  6%|▌         | 5/88 [00:02<00:34,  2.40it/s]\u001b[A\n",
      "  7%|▋         | 6/88 [00:02<00:31,  2.63it/s]\u001b[A\n",
      "  8%|▊         | 7/88 [00:02<00:28,  2.85it/s]\u001b[A\n",
      "  9%|▉         | 8/88 [00:02<00:26,  3.03it/s]\u001b[A\n",
      " 10%|█         | 9/88 [00:03<00:24,  3.24it/s]\u001b[A\n",
      " 11%|█▏        | 10/88 [00:03<00:27,  2.88it/s]\u001b[A\n",
      " 12%|█▎        | 11/88 [00:04<00:26,  2.86it/s]\u001b[A\n",
      " 14%|█▎        | 12/88 [00:04<00:26,  2.88it/s]\u001b[A\n",
      " 15%|█▍        | 13/88 [00:04<00:24,  3.05it/s]\u001b[A\n",
      " 16%|█▌        | 14/88 [00:04<00:23,  3.17it/s]\u001b[A\n",
      " 17%|█▋        | 15/88 [00:05<00:22,  3.29it/s]\u001b[A\n",
      " 18%|█▊        | 16/88 [00:05<00:21,  3.39it/s]\u001b[A\n",
      " 19%|█▉        | 17/88 [00:05<00:20,  3.42it/s]\u001b[A\n",
      " 20%|██        | 18/88 [00:06<00:20,  3.41it/s]\u001b[A\n",
      " 22%|██▏       | 19/88 [00:06<00:20,  3.44it/s]\u001b[A\n",
      " 23%|██▎       | 20/88 [00:06<00:19,  3.48it/s]\u001b[A\n",
      " 24%|██▍       | 21/88 [00:06<00:18,  3.60it/s]\u001b[A\n",
      " 25%|██▌       | 22/88 [00:07<00:19,  3.38it/s]\u001b[A\n",
      " 26%|██▌       | 23/88 [00:07<00:19,  3.29it/s]\u001b[A\n",
      " 27%|██▋       | 24/88 [00:07<00:22,  2.89it/s]\u001b[A\n",
      " 28%|██▊       | 25/88 [00:08<00:23,  2.69it/s]\u001b[A\n",
      " 30%|██▉       | 26/88 [00:08<00:22,  2.74it/s]\u001b[A\n",
      " 31%|███       | 27/88 [00:09<00:22,  2.66it/s]\u001b[A\n",
      " 32%|███▏      | 28/88 [00:09<00:21,  2.77it/s]\u001b[A\n",
      " 33%|███▎      | 29/88 [00:09<00:20,  2.94it/s]\u001b[A\n",
      " 34%|███▍      | 30/88 [00:10<00:18,  3.12it/s]\u001b[A\n",
      " 35%|███▌      | 31/88 [00:10<00:17,  3.18it/s]\u001b[A\n",
      " 36%|███▋      | 32/88 [00:10<00:16,  3.31it/s]\u001b[A\n",
      " 38%|███▊      | 33/88 [00:10<00:16,  3.39it/s]\u001b[A\n",
      " 39%|███▊      | 34/88 [00:11<00:16,  3.19it/s]\u001b[A\n",
      " 40%|███▉      | 35/88 [00:11<00:18,  2.84it/s]\u001b[A\n",
      " 41%|████      | 36/88 [00:12<00:18,  2.81it/s]\u001b[A\n",
      " 42%|████▏     | 37/88 [00:12<00:17,  2.89it/s]\u001b[A\n",
      " 43%|████▎     | 38/88 [00:12<00:17,  2.85it/s]\u001b[A\n",
      " 44%|████▍     | 39/88 [00:13<00:16,  2.98it/s]\u001b[A\n",
      " 45%|████▌     | 40/88 [00:13<00:16,  2.98it/s]\u001b[A\n",
      " 47%|████▋     | 41/88 [00:13<00:15,  3.04it/s]\u001b[A\n",
      " 48%|████▊     | 42/88 [00:14<00:15,  2.95it/s]\u001b[A\n",
      " 49%|████▉     | 43/88 [00:14<00:14,  3.12it/s]\u001b[A\n",
      " 50%|█████     | 44/88 [00:14<00:15,  2.85it/s]\u001b[A\n",
      " 51%|█████     | 45/88 [00:15<00:14,  2.99it/s]\u001b[A\n",
      " 52%|█████▏    | 46/88 [00:15<00:13,  3.19it/s]\u001b[A\n",
      " 53%|█████▎    | 47/88 [00:15<00:12,  3.22it/s]\u001b[A\n",
      " 55%|█████▍    | 48/88 [00:15<00:11,  3.35it/s]\u001b[A\n",
      " 56%|█████▌    | 49/88 [00:16<00:11,  3.40it/s]\u001b[A\n",
      " 57%|█████▋    | 50/88 [00:16<00:11,  3.27it/s]\u001b[A\n",
      " 58%|█████▊    | 51/88 [00:16<00:11,  3.20it/s]\u001b[A\n",
      " 59%|█████▉    | 52/88 [00:17<00:12,  2.92it/s]\u001b[A\n",
      " 60%|██████    | 53/88 [00:17<00:13,  2.64it/s]\u001b[A\n",
      " 61%|██████▏   | 54/88 [00:17<00:11,  2.89it/s]\u001b[A\n",
      " 62%|██████▎   | 55/88 [00:18<00:11,  2.81it/s]\u001b[A\n",
      " 64%|██████▎   | 56/88 [00:18<00:11,  2.76it/s]\u001b[A\n",
      " 65%|██████▍   | 57/88 [00:19<00:10,  2.90it/s]\u001b[A\n",
      " 66%|██████▌   | 58/88 [00:19<00:10,  3.00it/s]\u001b[A\n",
      " 67%|██████▋   | 59/88 [00:19<00:09,  3.11it/s]\u001b[A\n",
      " 68%|██████▊   | 60/88 [00:19<00:08,  3.28it/s]\u001b[A\n",
      " 69%|██████▉   | 61/88 [00:20<00:07,  3.41it/s]\u001b[A\n",
      " 70%|███████   | 62/88 [00:20<00:07,  3.52it/s]\u001b[A\n",
      " 72%|███████▏  | 63/88 [00:20<00:07,  3.56it/s]\u001b[A\n",
      " 73%|███████▎  | 64/88 [00:20<00:06,  3.61it/s]\u001b[A\n",
      " 74%|███████▍  | 65/88 [00:21<00:06,  3.40it/s]\u001b[A\n",
      " 75%|███████▌  | 66/88 [00:21<00:06,  3.58it/s]\u001b[A\n",
      " 76%|███████▌  | 67/88 [00:21<00:06,  3.44it/s]\u001b[A\n",
      " 77%|███████▋  | 68/88 [00:22<00:05,  3.38it/s]\u001b[A\n",
      " 78%|███████▊  | 69/88 [00:22<00:05,  3.27it/s]\u001b[A\n",
      " 80%|███████▉  | 70/88 [00:22<00:05,  3.31it/s]\u001b[A\n",
      " 81%|████████  | 71/88 [00:23<00:05,  3.35it/s]\u001b[A\n",
      " 82%|████████▏ | 72/88 [00:23<00:04,  3.25it/s]\u001b[A\n",
      " 83%|████████▎ | 73/88 [00:23<00:04,  3.43it/s]\u001b[A\n",
      " 84%|████████▍ | 74/88 [00:24<00:04,  3.17it/s]\u001b[A\n",
      " 85%|████████▌ | 75/88 [00:24<00:04,  3.14it/s]\u001b[A\n",
      " 86%|████████▋ | 76/88 [00:24<00:03,  3.06it/s]\u001b[A\n",
      " 88%|████████▊ | 77/88 [00:25<00:03,  2.94it/s]\u001b[A\n",
      " 89%|████████▊ | 78/88 [00:25<00:03,  2.80it/s]\u001b[A\n",
      " 90%|████████▉ | 79/88 [00:25<00:03,  2.92it/s]\u001b[A\n",
      " 91%|█████████ | 80/88 [00:26<00:02,  3.14it/s]\u001b[A\n",
      " 92%|█████████▏| 81/88 [00:26<00:02,  3.23it/s]\u001b[A\n",
      " 93%|█████████▎| 82/88 [00:26<00:01,  3.36it/s]\u001b[A\n",
      " 94%|█████████▍| 83/88 [00:26<00:01,  3.82it/s]\u001b[A\n",
      " 95%|█████████▌| 84/88 [00:27<00:01,  3.84it/s]\u001b[A\n",
      " 97%|█████████▋| 85/88 [00:27<00:00,  3.65it/s]\u001b[A\n",
      " 98%|█████████▊| 86/88 [00:27<00:00,  3.22it/s]\u001b[A\n",
      " 99%|█████████▉| 87/88 [00:28<00:00,  3.20it/s]\u001b[A\n",
      "100%|██████████| 88/88 [00:28<00:00,  3.10it/s]\u001b[A\n",
      "100%|██████████| 8/8 [04:22<00:00, 32.83s/it]\n",
      "  0%|          | 0/8 [00:00<?, ?it/s]\n",
      "  0%|          | 0/86 [00:00<?, ?it/s]\u001b[A\n",
      "  1%|          | 1/86 [00:00<00:49,  1.71it/s]\u001b[A\n",
      "  2%|▏         | 2/86 [00:01<00:50,  1.66it/s]\u001b[A\n",
      "  3%|▎         | 3/86 [00:01<00:51,  1.60it/s]\u001b[A\n",
      "  5%|▍         | 4/86 [00:02<00:51,  1.58it/s]\u001b[A\n",
      "  6%|▌         | 5/86 [00:03<00:53,  1.52it/s]\u001b[A\n",
      "  7%|▋         | 6/86 [00:03<00:52,  1.53it/s]\u001b[A\n",
      "  8%|▊         | 7/86 [00:04<00:50,  1.56it/s]\u001b[A\n",
      "  9%|▉         | 8/86 [00:05<00:49,  1.57it/s]\u001b[A\n",
      " 10%|█         | 9/86 [00:05<00:48,  1.59it/s]\u001b[A\n",
      " 12%|█▏        | 10/86 [00:06<00:48,  1.55it/s]\u001b[A\n",
      " 13%|█▎        | 11/86 [00:06<00:45,  1.64it/s]\u001b[A\n",
      " 14%|█▍        | 12/86 [00:07<00:43,  1.72it/s]\u001b[A\n",
      " 15%|█▌        | 13/86 [00:08<00:41,  1.76it/s]\u001b[A\n",
      " 16%|█▋        | 14/86 [00:08<00:41,  1.73it/s]\u001b[A\n",
      " 17%|█▋        | 15/86 [00:09<00:40,  1.73it/s]\u001b[A\n",
      " 19%|█▊        | 16/86 [00:09<00:41,  1.69it/s]\u001b[A\n",
      " 20%|█▉        | 17/86 [00:10<00:41,  1.64it/s]\u001b[A\n",
      " 21%|██        | 18/86 [00:11<00:41,  1.64it/s]\u001b[A\n",
      " 22%|██▏       | 19/86 [00:11<00:39,  1.70it/s]\u001b[A\n",
      " 23%|██▎       | 20/86 [00:12<00:37,  1.77it/s]\u001b[A\n",
      " 24%|██▍       | 21/86 [00:12<00:35,  1.82it/s]\u001b[A\n",
      " 26%|██▌       | 22/86 [00:13<00:35,  1.80it/s]\u001b[A\n",
      " 27%|██▋       | 23/86 [00:13<00:35,  1.80it/s]\u001b[A\n",
      " 28%|██▊       | 24/86 [00:14<00:35,  1.74it/s]\u001b[A\n",
      " 29%|██▉       | 25/86 [00:15<00:38,  1.58it/s]\u001b[A\n",
      " 30%|███       | 26/86 [00:16<00:41,  1.45it/s]\u001b[A\n",
      " 31%|███▏      | 27/86 [00:16<00:38,  1.52it/s]\u001b[A\n",
      " 33%|███▎      | 28/86 [00:17<00:41,  1.40it/s]\u001b[A\n",
      " 34%|███▎      | 29/86 [00:18<00:39,  1.45it/s]\u001b[A\n",
      " 35%|███▍      | 30/86 [00:18<00:37,  1.50it/s]\u001b[A\n",
      " 36%|███▌      | 31/86 [00:19<00:39,  1.41it/s]\u001b[A\n",
      " 37%|███▋      | 32/86 [00:20<00:39,  1.38it/s]\u001b[A\n",
      " 38%|███▊      | 33/86 [00:20<00:36,  1.46it/s]\u001b[A\n",
      " 40%|███▉      | 34/86 [00:21<00:34,  1.52it/s]\u001b[A\n",
      " 41%|████      | 35/86 [00:22<00:32,  1.58it/s]\u001b[A\n",
      " 42%|████▏     | 36/86 [00:22<00:30,  1.65it/s]\u001b[A\n",
      " 43%|████▎     | 37/86 [00:23<00:29,  1.64it/s]\u001b[A\n",
      " 44%|████▍     | 38/86 [00:23<00:30,  1.57it/s]\u001b[A\n",
      " 45%|████▌     | 39/86 [00:24<00:29,  1.61it/s]\u001b[A\n",
      " 47%|████▋     | 40/86 [00:25<00:29,  1.55it/s]\u001b[A\n",
      " 48%|████▊     | 41/86 [00:25<00:28,  1.58it/s]\u001b[A\n",
      " 49%|████▉     | 42/86 [00:26<00:26,  1.69it/s]\u001b[A\n",
      " 50%|█████     | 43/86 [00:26<00:26,  1.61it/s]\u001b[A\n",
      " 51%|█████     | 44/86 [00:27<00:25,  1.68it/s]\u001b[A\n",
      " 52%|█████▏    | 45/86 [00:28<00:23,  1.72it/s]\u001b[A\n",
      " 53%|█████▎    | 46/86 [00:28<00:22,  1.81it/s]\u001b[A\n",
      " 55%|█████▍    | 47/86 [00:29<00:21,  1.85it/s]\u001b[A\n",
      " 56%|█████▌    | 48/86 [00:29<00:20,  1.84it/s]\u001b[A\n",
      " 57%|█████▋    | 49/86 [00:30<00:21,  1.76it/s]\u001b[A\n",
      " 58%|█████▊    | 50/86 [00:30<00:21,  1.71it/s]\u001b[A\n",
      " 59%|█████▉    | 51/86 [00:31<00:22,  1.56it/s]\u001b[A\n",
      " 60%|██████    | 52/86 [00:32<00:22,  1.54it/s]\u001b[A\n",
      " 62%|██████▏   | 53/86 [00:32<00:21,  1.56it/s]\u001b[A\n",
      " 63%|██████▎   | 54/86 [00:33<00:20,  1.58it/s]\u001b[A\n",
      " 64%|██████▍   | 55/86 [00:34<00:18,  1.66it/s]\u001b[A\n",
      " 65%|██████▌   | 56/86 [00:34<00:17,  1.69it/s]\u001b[A\n",
      " 66%|██████▋   | 57/86 [00:35<00:16,  1.75it/s]\u001b[A\n",
      " 67%|██████▋   | 58/86 [00:35<00:16,  1.68it/s]\u001b[A\n",
      " 69%|██████▊   | 59/86 [00:36<00:17,  1.57it/s]\u001b[A\n",
      " 70%|██████▉   | 60/86 [00:37<00:16,  1.55it/s]\u001b[A\n",
      " 71%|███████   | 61/86 [00:37<00:15,  1.57it/s]\u001b[A\n",
      " 72%|███████▏  | 62/86 [00:38<00:15,  1.58it/s]\u001b[A\n",
      " 73%|███████▎  | 63/86 [00:39<00:14,  1.56it/s]\u001b[A\n",
      " 74%|███████▍  | 64/86 [00:39<00:13,  1.65it/s]\u001b[A\n",
      " 76%|███████▌  | 65/86 [00:40<00:12,  1.64it/s]\u001b[A\n",
      " 77%|███████▋  | 66/86 [00:40<00:11,  1.70it/s]\u001b[A\n",
      " 78%|███████▊  | 67/86 [00:41<00:11,  1.70it/s]\u001b[A\n",
      " 79%|███████▉  | 68/86 [00:41<00:10,  1.75it/s]\u001b[A\n",
      " 80%|████████  | 69/86 [00:42<00:09,  1.72it/s]\u001b[A\n",
      " 81%|████████▏ | 70/86 [00:42<00:08,  1.79it/s]\u001b[A\n",
      " 83%|████████▎ | 71/86 [00:43<00:08,  1.68it/s]\u001b[A\n",
      " 84%|████████▎ | 72/86 [00:44<00:08,  1.60it/s]\u001b[A\n",
      " 85%|████████▍ | 73/86 [00:44<00:07,  1.65it/s]\u001b[A\n",
      " 86%|████████▌ | 74/86 [00:45<00:06,  1.75it/s]\u001b[A\n",
      " 87%|████████▋ | 75/86 [00:46<00:06,  1.71it/s]\u001b[A\n",
      " 88%|████████▊ | 76/86 [00:46<00:06,  1.66it/s]\u001b[A\n",
      " 90%|████████▉ | 77/86 [00:47<00:05,  1.57it/s]\u001b[A\n",
      " 91%|█████████ | 78/86 [00:48<00:05,  1.53it/s]\u001b[A\n",
      " 92%|█████████▏| 79/86 [00:48<00:04,  1.64it/s]\u001b[A\n",
      " 93%|█████████▎| 80/86 [00:49<00:03,  1.70it/s]\u001b[A\n",
      " 94%|█████████▍| 81/86 [00:49<00:03,  1.67it/s]\u001b[A\n",
      " 95%|█████████▌| 82/86 [00:50<00:02,  1.67it/s]\u001b[A\n",
      " 97%|█████████▋| 83/86 [00:51<00:01,  1.57it/s]\u001b[A\n",
      " 98%|█████████▊| 84/86 [00:51<00:01,  1.63it/s]\u001b[A\n",
      " 99%|█████████▉| 85/86 [00:52<00:00,  1.66it/s]\u001b[A\n",
      "100%|██████████| 86/86 [00:52<00:00,  1.63it/s]\u001b[A\n",
      " 12%|█▎        | 1/8 [00:52<06:09, 52.75s/it]\n",
      "  0%|          | 0/86 [00:00<?, ?it/s]\u001b[A\n",
      "  1%|          | 1/86 [00:00<00:44,  1.91it/s]\u001b[A\n",
      "  2%|▏         | 2/86 [00:01<00:44,  1.88it/s]\u001b[A\n",
      "  3%|▎         | 3/86 [00:01<00:45,  1.82it/s]\u001b[A\n",
      "  5%|▍         | 4/86 [00:02<00:45,  1.80it/s]\u001b[A\n",
      "  6%|▌         | 5/86 [00:02<00:45,  1.78it/s]\u001b[A\n",
      "  7%|▋         | 6/86 [00:03<00:45,  1.76it/s]\u001b[A\n",
      "  8%|▊         | 7/86 [00:03<00:44,  1.77it/s]\u001b[A\n",
      "  9%|▉         | 8/86 [00:04<00:43,  1.79it/s]\u001b[A\n",
      " 10%|█         | 9/86 [00:05<00:44,  1.73it/s]\u001b[A\n",
      " 12%|█▏        | 10/86 [00:05<00:45,  1.66it/s]\u001b[A\n",
      " 13%|█▎        | 11/86 [00:06<00:45,  1.64it/s]\u001b[A\n",
      " 14%|█▍        | 12/86 [00:06<00:44,  1.66it/s]\u001b[A\n",
      " 15%|█▌        | 13/86 [00:07<00:43,  1.69it/s]\u001b[A\n",
      " 16%|█▋        | 14/86 [00:08<00:44,  1.62it/s]\u001b[A\n",
      " 17%|█▋        | 15/86 [00:08<00:45,  1.55it/s]\u001b[A\n",
      " 19%|█▊        | 16/86 [00:09<00:43,  1.62it/s]\u001b[A\n",
      " 20%|█▉        | 17/86 [00:10<00:42,  1.63it/s]\u001b[A\n",
      " 21%|██        | 18/86 [00:10<00:39,  1.71it/s]\u001b[A\n",
      " 22%|██▏       | 19/86 [00:11<00:38,  1.74it/s]\u001b[A\n",
      " 23%|██▎       | 20/86 [00:11<00:36,  1.79it/s]\u001b[A\n",
      " 24%|██▍       | 21/86 [00:12<00:35,  1.82it/s]\u001b[A\n",
      " 26%|██▌       | 22/86 [00:12<00:35,  1.81it/s]\u001b[A\n",
      " 27%|██▋       | 23/86 [00:13<00:38,  1.64it/s]\u001b[A\n",
      " 28%|██▊       | 24/86 [00:14<00:39,  1.58it/s]\u001b[A\n",
      " 29%|██▉       | 25/86 [00:14<00:37,  1.63it/s]\u001b[A\n",
      " 30%|███       | 26/86 [00:15<00:34,  1.73it/s]\u001b[A\n",
      " 31%|███▏      | 27/86 [00:15<00:33,  1.78it/s]\u001b[A\n",
      " 33%|███▎      | 28/86 [00:16<00:33,  1.74it/s]\u001b[A\n",
      " 34%|███▎      | 29/86 [00:17<00:33,  1.70it/s]\u001b[A\n",
      " 35%|███▍      | 30/86 [00:17<00:33,  1.65it/s]\u001b[A\n",
      " 36%|███▌      | 31/86 [00:18<00:34,  1.62it/s]\u001b[A\n",
      " 37%|███▋      | 32/86 [00:18<00:31,  1.70it/s]\u001b[A\n",
      " 38%|███▊      | 33/86 [00:19<00:29,  1.78it/s]\u001b[A\n",
      " 40%|███▉      | 34/86 [00:19<00:29,  1.74it/s]\u001b[A\n",
      " 41%|████      | 35/86 [00:20<00:29,  1.71it/s]\u001b[A\n",
      " 42%|████▏     | 36/86 [00:21<00:28,  1.76it/s]\u001b[A\n",
      " 43%|████▎     | 37/86 [00:21<00:29,  1.67it/s]\u001b[A\n",
      " 44%|████▍     | 38/86 [00:22<00:27,  1.72it/s]\u001b[A\n",
      " 45%|████▌     | 39/86 [00:23<00:30,  1.54it/s]\u001b[A\n",
      " 47%|████▋     | 40/86 [00:23<00:32,  1.41it/s]\u001b[A\n",
      " 48%|████▊     | 41/86 [00:24<00:31,  1.42it/s]\u001b[A\n",
      " 49%|████▉     | 42/86 [00:25<00:29,  1.50it/s]\u001b[A\n",
      " 50%|█████     | 43/86 [00:25<00:27,  1.57it/s]\u001b[A\n",
      " 51%|█████     | 44/86 [00:26<00:26,  1.60it/s]\u001b[A\n",
      " 52%|█████▏    | 45/86 [00:26<00:24,  1.65it/s]\u001b[A\n",
      " 53%|█████▎    | 46/86 [00:27<00:23,  1.70it/s]\u001b[A\n",
      " 55%|█████▍    | 47/86 [00:27<00:22,  1.77it/s]\u001b[A\n",
      " 56%|█████▌    | 48/86 [00:28<00:20,  1.83it/s]\u001b[A\n",
      " 57%|█████▋    | 49/86 [00:29<00:21,  1.74it/s]\u001b[A\n",
      " 58%|█████▊    | 50/86 [00:29<00:21,  1.71it/s]\u001b[A\n",
      " 59%|█████▉    | 51/86 [00:30<00:20,  1.68it/s]\u001b[A\n",
      " 60%|██████    | 52/86 [00:30<00:19,  1.70it/s]\u001b[A\n",
      " 62%|██████▏   | 53/86 [00:31<00:19,  1.72it/s]\u001b[A\n",
      " 63%|██████▎   | 54/86 [00:32<00:18,  1.74it/s]\u001b[A\n",
      " 64%|██████▍   | 55/86 [00:32<00:17,  1.81it/s]\u001b[A\n",
      " 65%|██████▌   | 56/86 [00:33<00:16,  1.86it/s]\u001b[A\n",
      " 66%|██████▋   | 57/86 [00:33<00:16,  1.74it/s]\u001b[A\n",
      " 67%|██████▋   | 58/86 [00:34<00:17,  1.59it/s]\u001b[A\n",
      " 69%|██████▊   | 59/86 [00:35<00:17,  1.56it/s]\u001b[A\n",
      " 70%|██████▉   | 60/86 [00:35<00:16,  1.55it/s]\u001b[A\n",
      " 71%|███████   | 61/86 [00:36<00:15,  1.61it/s]\u001b[A\n",
      " 72%|███████▏  | 62/86 [00:36<00:14,  1.70it/s]\u001b[A\n",
      " 73%|███████▎  | 63/86 [00:37<00:13,  1.77it/s]\u001b[A\n",
      " 74%|███████▍  | 64/86 [00:37<00:12,  1.78it/s]\u001b[A\n",
      " 76%|███████▌  | 65/86 [00:38<00:11,  1.84it/s]\u001b[A\n",
      " 77%|███████▋  | 66/86 [00:39<00:11,  1.78it/s]\u001b[A\n",
      " 78%|███████▊  | 67/86 [00:39<00:11,  1.63it/s]\u001b[A\n",
      " 79%|███████▉  | 68/86 [00:40<00:11,  1.59it/s]\u001b[A\n",
      " 80%|████████  | 69/86 [00:41<00:10,  1.57it/s]\u001b[A\n",
      " 81%|████████▏ | 70/86 [00:41<00:09,  1.61it/s]\u001b[A\n",
      " 83%|████████▎ | 71/86 [00:42<00:08,  1.67it/s]\u001b[A\n",
      " 84%|████████▎ | 72/86 [00:42<00:08,  1.71it/s]\u001b[A\n",
      " 85%|████████▍ | 73/86 [00:43<00:07,  1.68it/s]\u001b[A\n",
      " 86%|████████▌ | 74/86 [00:44<00:07,  1.67it/s]\u001b[A\n",
      " 87%|████████▋ | 75/86 [00:44<00:06,  1.65it/s]\u001b[A\n",
      " 88%|████████▊ | 76/86 [00:45<00:05,  1.67it/s]\u001b[A\n",
      " 90%|████████▉ | 77/86 [00:45<00:05,  1.70it/s]\u001b[A\n",
      " 91%|█████████ | 78/86 [00:46<00:04,  1.70it/s]\u001b[A\n",
      " 92%|█████████▏| 79/86 [00:46<00:03,  1.75it/s]\u001b[A\n",
      " 93%|█████████▎| 80/86 [00:47<00:03,  1.68it/s]\u001b[A\n",
      " 94%|█████████▍| 81/86 [00:48<00:03,  1.57it/s]\u001b[A\n",
      " 95%|█████████▌| 82/86 [00:48<00:02,  1.58it/s]\u001b[A\n",
      " 97%|█████████▋| 83/86 [00:49<00:01,  1.52it/s]\u001b[A\n",
      " 98%|█████████▊| 84/86 [00:50<00:01,  1.50it/s]\u001b[A\n",
      " 99%|█████████▉| 85/86 [00:50<00:00,  1.57it/s]\u001b[A\n",
      "100%|██████████| 86/86 [00:51<00:00,  1.67it/s]\u001b[A\n",
      " 25%|██▌       | 2/8 [01:44<05:14, 52.36s/it]\n",
      "  0%|          | 0/86 [00:00<?, ?it/s]\u001b[A\n",
      "  1%|          | 1/86 [00:00<00:47,  1.79it/s]\u001b[A\n",
      "  2%|▏         | 2/86 [00:01<00:46,  1.79it/s]\u001b[A\n",
      "  3%|▎         | 3/86 [00:01<00:49,  1.69it/s]\u001b[A\n",
      "  5%|▍         | 4/86 [00:02<00:48,  1.71it/s]\u001b[A\n",
      "  6%|▌         | 5/86 [00:02<00:46,  1.74it/s]\u001b[A\n",
      "  7%|▋         | 6/86 [00:03<00:45,  1.76it/s]\u001b[A\n",
      "  8%|▊         | 7/86 [00:04<00:44,  1.78it/s]\u001b[A\n",
      "  9%|▉         | 8/86 [00:04<00:42,  1.84it/s]\u001b[A\n",
      " 10%|█         | 9/86 [00:05<00:41,  1.86it/s]\u001b[A\n",
      " 12%|█▏        | 10/86 [00:05<00:40,  1.87it/s]\u001b[A\n",
      " 13%|█▎        | 11/86 [00:06<00:40,  1.87it/s]\u001b[A\n",
      " 14%|█▍        | 12/86 [00:06<00:41,  1.79it/s]\u001b[A\n",
      " 15%|█▌        | 13/86 [00:07<00:41,  1.75it/s]\u001b[A\n",
      " 16%|█▋        | 14/86 [00:07<00:40,  1.79it/s]\u001b[A\n",
      " 17%|█▋        | 15/86 [00:08<00:41,  1.71it/s]\u001b[A\n",
      " 19%|█▊        | 16/86 [00:09<00:43,  1.61it/s]\u001b[A\n",
      " 20%|█▉        | 17/86 [00:09<00:43,  1.57it/s]\u001b[A\n",
      " 21%|██        | 18/86 [00:10<00:42,  1.60it/s]\u001b[A\n",
      " 22%|██▏       | 19/86 [00:10<00:39,  1.70it/s]\u001b[A\n",
      " 23%|██▎       | 20/86 [00:11<00:37,  1.75it/s]\u001b[A\n",
      " 24%|██▍       | 21/86 [00:12<00:36,  1.78it/s]\u001b[A\n",
      " 26%|██▌       | 22/86 [00:12<00:36,  1.78it/s]\u001b[A\n",
      " 27%|██▋       | 23/86 [00:13<00:37,  1.70it/s]\u001b[A\n",
      " 28%|██▊       | 24/86 [00:14<00:40,  1.54it/s]\u001b[A\n",
      " 29%|██▉       | 25/86 [00:14<00:38,  1.57it/s]\u001b[A\n",
      " 30%|███       | 26/86 [00:15<00:36,  1.62it/s]\u001b[A\n",
      " 31%|███▏      | 27/86 [00:15<00:35,  1.67it/s]\u001b[A\n",
      " 33%|███▎      | 28/86 [00:16<00:33,  1.72it/s]\u001b[A\n",
      " 34%|███▎      | 29/86 [00:16<00:32,  1.74it/s]\u001b[A\n",
      " 35%|███▍      | 30/86 [00:17<00:31,  1.76it/s]\u001b[A\n",
      " 36%|███▌      | 31/86 [00:18<00:31,  1.73it/s]\u001b[A\n",
      " 37%|███▋      | 32/86 [00:18<00:33,  1.61it/s]\u001b[A\n",
      " 38%|███▊      | 33/86 [00:19<00:32,  1.65it/s]\u001b[A\n",
      " 40%|███▉      | 34/86 [00:19<00:31,  1.68it/s]\u001b[A\n",
      " 41%|████      | 35/86 [00:20<00:31,  1.60it/s]\u001b[A\n",
      " 42%|████▏     | 36/86 [00:21<00:33,  1.50it/s]\u001b[A\n",
      " 43%|████▎     | 37/86 [00:22<00:34,  1.43it/s]\u001b[A\n",
      " 44%|████▍     | 38/86 [00:22<00:32,  1.47it/s]\u001b[A\n",
      " 45%|████▌     | 39/86 [00:23<00:30,  1.55it/s]\u001b[A\n",
      " 47%|████▋     | 40/86 [00:23<00:28,  1.62it/s]\u001b[A\n",
      " 48%|████▊     | 41/86 [00:24<00:26,  1.70it/s]\u001b[A\n",
      " 49%|████▉     | 42/86 [00:24<00:25,  1.75it/s]\u001b[A\n",
      " 50%|█████     | 43/86 [00:25<00:26,  1.62it/s]\u001b[A\n",
      " 51%|█████     | 44/86 [00:26<00:27,  1.52it/s]\u001b[A\n",
      " 52%|█████▏    | 45/86 [00:26<00:25,  1.61it/s]\u001b[A\n",
      " 53%|█████▎    | 46/86 [00:27<00:24,  1.64it/s]\u001b[A\n",
      " 55%|█████▍    | 47/86 [00:28<00:24,  1.57it/s]\u001b[A\n",
      " 56%|█████▌    | 48/86 [00:28<00:24,  1.58it/s]\u001b[A\n",
      " 57%|█████▋    | 49/86 [00:29<00:22,  1.63it/s]\u001b[A\n",
      " 58%|█████▊    | 50/86 [00:30<00:22,  1.61it/s]\u001b[A\n",
      " 59%|█████▉    | 51/86 [00:30<00:22,  1.55it/s]\u001b[A\n",
      " 60%|██████    | 52/86 [00:31<00:22,  1.53it/s]\u001b[A\n",
      " 62%|██████▏   | 53/86 [00:31<00:20,  1.61it/s]\u001b[A\n",
      " 63%|██████▎   | 54/86 [00:32<00:18,  1.70it/s]\u001b[A\n",
      " 64%|██████▍   | 55/86 [00:33<00:17,  1.73it/s]\u001b[A\n",
      " 65%|██████▌   | 56/86 [00:33<00:17,  1.75it/s]\u001b[A\n",
      " 66%|██████▋   | 57/86 [00:34<00:16,  1.74it/s]\u001b[A\n",
      " 67%|██████▋   | 58/86 [00:34<00:17,  1.57it/s]\u001b[A\n",
      " 69%|██████▊   | 59/86 [00:35<00:17,  1.53it/s]\u001b[A\n",
      " 70%|██████▉   | 60/86 [00:36<00:16,  1.60it/s]\u001b[A\n",
      " 71%|███████   | 61/86 [00:36<00:14,  1.71it/s]\u001b[A\n",
      " 72%|███████▏  | 62/86 [00:37<00:13,  1.76it/s]\u001b[A\n",
      " 73%|███████▎  | 63/86 [00:37<00:12,  1.78it/s]\u001b[A\n",
      " 74%|███████▍  | 64/86 [00:38<00:12,  1.73it/s]\u001b[A\n",
      " 76%|███████▌  | 65/86 [00:39<00:12,  1.67it/s]\u001b[A\n",
      " 77%|███████▋  | 66/86 [00:39<00:12,  1.62it/s]\u001b[A\n",
      " 78%|███████▊  | 67/86 [00:40<00:11,  1.64it/s]\u001b[A\n",
      " 79%|███████▉  | 68/86 [00:40<00:10,  1.64it/s]\u001b[A\n",
      " 80%|████████  | 69/86 [00:41<00:09,  1.70it/s]\u001b[A\n",
      " 81%|████████▏ | 70/86 [00:42<00:09,  1.68it/s]\u001b[A\n",
      " 83%|████████▎ | 71/86 [00:42<00:09,  1.56it/s]\u001b[A\n",
      " 84%|████████▎ | 72/86 [00:43<00:09,  1.54it/s]\u001b[A\n",
      " 85%|████████▍ | 73/86 [00:44<00:08,  1.49it/s]\u001b[A\n",
      " 86%|████████▌ | 74/86 [00:44<00:07,  1.56it/s]\u001b[A\n",
      " 87%|████████▋ | 75/86 [00:45<00:06,  1.67it/s]\u001b[A\n",
      " 88%|████████▊ | 76/86 [00:45<00:05,  1.71it/s]\u001b[A\n",
      " 90%|████████▉ | 77/86 [00:46<00:05,  1.69it/s]\u001b[A\n",
      " 91%|█████████ | 78/86 [00:46<00:04,  1.72it/s]\u001b[A\n",
      " 92%|█████████▏| 79/86 [00:47<00:03,  1.77it/s]\u001b[A\n",
      " 93%|█████████▎| 80/86 [00:48<00:03,  1.82it/s]\u001b[A\n",
      " 94%|█████████▍| 81/86 [00:48<00:02,  1.84it/s]\u001b[A\n",
      " 95%|█████████▌| 82/86 [00:49<00:02,  1.85it/s]\u001b[A\n",
      " 97%|█████████▋| 83/86 [00:49<00:01,  1.70it/s]\u001b[A\n",
      " 98%|█████████▊| 84/86 [00:50<00:01,  1.56it/s]\u001b[A\n",
      " 99%|█████████▉| 85/86 [00:51<00:00,  1.57it/s]\u001b[A\n",
      "100%|██████████| 86/86 [00:51<00:00,  1.66it/s]\u001b[A\n",
      " 38%|███▊      | 3/8 [02:35<04:20, 52.17s/it]\n",
      "  0%|          | 0/86 [00:00<?, ?it/s]\u001b[A\n",
      "  1%|          | 1/86 [00:00<00:44,  1.90it/s]\u001b[A\n",
      "  2%|▏         | 2/86 [00:01<00:45,  1.86it/s]\u001b[A\n",
      "  3%|▎         | 3/86 [00:01<00:45,  1.83it/s]\u001b[A\n",
      "  5%|▍         | 4/86 [00:02<00:51,  1.59it/s]\u001b[A\n",
      "  6%|▌         | 5/86 [00:03<00:52,  1.55it/s]\u001b[A\n",
      "  7%|▋         | 6/86 [00:03<00:51,  1.56it/s]\u001b[A\n",
      "  8%|▊         | 7/86 [00:04<00:50,  1.57it/s]\u001b[A\n",
      "  9%|▉         | 8/86 [00:04<00:47,  1.65it/s]\u001b[A\n",
      " 10%|█         | 9/86 [00:05<00:45,  1.68it/s]\u001b[A\n",
      " 12%|█▏        | 10/86 [00:06<00:44,  1.70it/s]\u001b[A\n",
      " 13%|█▎        | 11/86 [00:06<00:45,  1.64it/s]\u001b[A\n",
      " 14%|█▍        | 12/86 [00:07<00:48,  1.52it/s]\u001b[A\n",
      " 15%|█▌        | 13/86 [00:08<00:51,  1.43it/s]\u001b[A\n",
      " 16%|█▋        | 14/86 [00:08<00:47,  1.51it/s]\u001b[A\n",
      " 17%|█▋        | 15/86 [00:09<00:44,  1.59it/s]\u001b[A\n",
      " 19%|█▊        | 16/86 [00:10<00:44,  1.59it/s]\u001b[A\n",
      " 20%|█▉        | 17/86 [00:10<00:46,  1.49it/s]\u001b[A\n",
      " 21%|██        | 18/86 [00:11<00:45,  1.50it/s]\u001b[A\n",
      " 22%|██▏       | 19/86 [00:12<00:45,  1.47it/s]\u001b[A\n",
      " 23%|██▎       | 20/86 [00:12<00:43,  1.52it/s]\u001b[A\n",
      " 24%|██▍       | 21/86 [00:13<00:43,  1.51it/s]\u001b[A\n",
      " 26%|██▌       | 22/86 [00:14<00:43,  1.48it/s]\u001b[A\n",
      " 27%|██▋       | 23/86 [00:14<00:41,  1.51it/s]\u001b[A\n",
      " 28%|██▊       | 24/86 [00:15<00:39,  1.56it/s]\u001b[A\n",
      " 29%|██▉       | 25/86 [00:16<00:39,  1.53it/s]\u001b[A\n",
      " 30%|███       | 26/86 [00:16<00:40,  1.50it/s]\u001b[A\n",
      " 31%|███▏      | 27/86 [00:17<00:37,  1.55it/s]\u001b[A\n",
      " 33%|███▎      | 28/86 [00:17<00:35,  1.63it/s]\u001b[A\n",
      " 34%|███▎      | 29/86 [00:18<00:33,  1.68it/s]\u001b[A\n",
      " 35%|███▍      | 30/86 [00:19<00:34,  1.61it/s]\u001b[A\n",
      " 36%|███▌      | 31/86 [00:19<00:36,  1.53it/s]\u001b[A\n",
      " 37%|███▋      | 32/86 [00:20<00:35,  1.50it/s]\u001b[A\n",
      " 38%|███▊      | 33/86 [00:21<00:33,  1.59it/s]\u001b[A\n",
      " 40%|███▉      | 34/86 [00:21<00:30,  1.71it/s]\u001b[A\n",
      " 41%|████      | 35/86 [00:22<00:28,  1.77it/s]\u001b[A\n",
      " 42%|████▏     | 36/86 [00:22<00:27,  1.79it/s]\u001b[A\n",
      " 43%|████▎     | 37/86 [00:23<00:27,  1.76it/s]\u001b[A\n",
      " 44%|████▍     | 38/86 [00:24<00:30,  1.60it/s]\u001b[A\n",
      " 45%|████▌     | 39/86 [00:24<00:30,  1.53it/s]\u001b[A\n",
      " 47%|████▋     | 40/86 [00:25<00:29,  1.56it/s]\u001b[A\n",
      " 48%|████▊     | 41/86 [00:25<00:27,  1.63it/s]\u001b[A\n",
      " 49%|████▉     | 42/86 [00:26<00:26,  1.65it/s]\u001b[A\n",
      " 50%|█████     | 43/86 [00:27<00:26,  1.63it/s]\u001b[A\n",
      " 51%|█████     | 44/86 [00:27<00:26,  1.60it/s]\u001b[A\n",
      " 52%|█████▏    | 45/86 [00:28<00:25,  1.59it/s]\u001b[A\n",
      " 53%|█████▎    | 46/86 [00:29<00:24,  1.62it/s]\u001b[A\n",
      " 55%|█████▍    | 47/86 [00:29<00:24,  1.57it/s]\u001b[A\n",
      " 56%|█████▌    | 48/86 [00:30<00:25,  1.49it/s]\u001b[A\n",
      " 57%|█████▋    | 49/86 [00:31<00:25,  1.48it/s]\u001b[A\n",
      " 58%|█████▊    | 50/86 [00:31<00:23,  1.56it/s]\u001b[A\n",
      " 59%|█████▉    | 51/86 [00:32<00:21,  1.64it/s]\u001b[A\n",
      " 60%|██████    | 52/86 [00:32<00:20,  1.65it/s]\u001b[A\n",
      " 62%|██████▏   | 53/86 [00:33<00:20,  1.59it/s]\u001b[A\n",
      " 63%|██████▎   | 54/86 [00:34<00:19,  1.67it/s]\u001b[A\n",
      " 64%|██████▍   | 55/86 [00:34<00:18,  1.71it/s]\u001b[A\n",
      " 65%|██████▌   | 56/86 [00:35<00:18,  1.64it/s]\u001b[A\n",
      " 66%|██████▋   | 57/86 [00:35<00:18,  1.57it/s]\u001b[A\n",
      " 67%|██████▋   | 58/86 [00:36<00:19,  1.46it/s]\u001b[A\n",
      " 69%|██████▊   | 59/86 [00:37<00:17,  1.51it/s]\u001b[A\n",
      " 70%|██████▉   | 60/86 [00:37<00:16,  1.58it/s]\u001b[A\n",
      " 71%|███████   | 61/86 [00:38<00:15,  1.64it/s]\u001b[A\n",
      " 72%|███████▏  | 62/86 [00:39<00:14,  1.65it/s]\u001b[A\n",
      " 73%|███████▎  | 63/86 [00:39<00:13,  1.74it/s]\u001b[A\n",
      " 74%|███████▍  | 64/86 [00:40<00:12,  1.79it/s]\u001b[A\n",
      " 76%|███████▌  | 65/86 [00:40<00:11,  1.79it/s]\u001b[A\n",
      " 77%|███████▋  | 66/86 [00:41<00:11,  1.79it/s]\u001b[A\n",
      " 78%|███████▊  | 67/86 [00:42<00:11,  1.61it/s]\u001b[A\n",
      " 79%|███████▉  | 68/86 [00:42<00:11,  1.57it/s]\u001b[A\n",
      " 80%|████████  | 69/86 [00:43<00:10,  1.61it/s]\u001b[A\n",
      " 81%|████████▏ | 70/86 [00:43<00:09,  1.69it/s]\u001b[A\n",
      " 83%|████████▎ | 71/86 [00:44<00:08,  1.76it/s]\u001b[A\n",
      " 84%|████████▎ | 72/86 [00:44<00:07,  1.79it/s]\u001b[A\n",
      " 85%|████████▍ | 73/86 [00:45<00:07,  1.70it/s]\u001b[A\n",
      " 86%|████████▌ | 74/86 [00:46<00:06,  1.76it/s]\u001b[A\n",
      " 87%|████████▋ | 75/86 [00:46<00:06,  1.74it/s]\u001b[A\n",
      " 88%|████████▊ | 76/86 [00:47<00:05,  1.68it/s]\u001b[A\n",
      " 90%|████████▉ | 77/86 [00:47<00:05,  1.67it/s]\u001b[A\n",
      " 91%|█████████ | 78/86 [00:48<00:05,  1.59it/s]\u001b[A\n",
      " 92%|█████████▏| 79/86 [00:49<00:04,  1.65it/s]\u001b[A\n",
      " 93%|█████████▎| 80/86 [00:49<00:03,  1.57it/s]\u001b[A\n",
      " 94%|█████████▍| 81/86 [00:50<00:03,  1.62it/s]\u001b[A\n",
      " 95%|█████████▌| 82/86 [00:50<00:02,  1.64it/s]\u001b[A\n",
      " 97%|█████████▋| 83/86 [00:51<00:01,  1.61it/s]\u001b[A\n",
      " 98%|█████████▊| 84/86 [00:52<00:01,  1.59it/s]\u001b[A\n",
      " 99%|█████████▉| 85/86 [00:52<00:00,  1.65it/s]\u001b[A\n",
      "100%|██████████| 86/86 [00:53<00:00,  1.61it/s]\u001b[A\n",
      " 50%|█████     | 4/8 [03:29<03:30, 52.54s/it]\n",
      "  0%|          | 0/86 [00:00<?, ?it/s]\u001b[A\n",
      "  1%|          | 1/86 [00:00<00:51,  1.66it/s]\u001b[A\n",
      "  2%|▏         | 2/86 [00:01<00:51,  1.63it/s]\u001b[A\n",
      "  3%|▎         | 3/86 [00:01<00:51,  1.60it/s]\u001b[A\n",
      "  5%|▍         | 4/86 [00:02<00:50,  1.64it/s]\u001b[A\n",
      "  6%|▌         | 5/86 [00:03<00:50,  1.59it/s]\u001b[A\n",
      "  7%|▋         | 6/86 [00:03<00:53,  1.50it/s]\u001b[A\n",
      "  8%|▊         | 7/86 [00:04<00:50,  1.56it/s]\u001b[A\n",
      "  9%|▉         | 8/86 [00:04<00:47,  1.66it/s]\u001b[A\n",
      " 10%|█         | 9/86 [00:05<00:45,  1.69it/s]\u001b[A\n",
      " 12%|█▏        | 10/86 [00:06<00:44,  1.72it/s]\u001b[A\n",
      " 13%|█▎        | 11/86 [00:06<00:43,  1.74it/s]\u001b[A\n",
      " 14%|█▍        | 12/86 [00:07<00:41,  1.77it/s]\u001b[A\n",
      " 15%|█▌        | 13/86 [00:07<00:44,  1.66it/s]\u001b[A\n",
      " 16%|█▋        | 14/86 [00:08<00:45,  1.59it/s]\u001b[A\n",
      " 17%|█▋        | 15/86 [00:09<00:45,  1.57it/s]\u001b[A\n",
      " 19%|█▊        | 16/86 [00:09<00:44,  1.56it/s]\u001b[A\n",
      " 20%|█▉        | 17/86 [00:10<00:43,  1.58it/s]\u001b[A\n",
      " 21%|██        | 18/86 [00:11<00:41,  1.62it/s]\u001b[A\n",
      " 22%|██▏       | 19/86 [00:11<00:40,  1.67it/s]\u001b[A\n",
      " 23%|██▎       | 20/86 [00:12<00:41,  1.58it/s]\u001b[A\n",
      " 24%|██▍       | 21/86 [00:13<00:42,  1.54it/s]\u001b[A\n",
      " 26%|██▌       | 22/86 [00:13<00:42,  1.51it/s]\u001b[A\n",
      " 27%|██▋       | 23/86 [00:14<00:40,  1.56it/s]\u001b[A\n",
      " 28%|██▊       | 24/86 [00:14<00:37,  1.67it/s]\u001b[A\n",
      " 29%|██▉       | 25/86 [00:15<00:36,  1.68it/s]\u001b[A\n",
      " 30%|███       | 26/86 [00:15<00:33,  1.76it/s]\u001b[A\n",
      " 31%|███▏      | 27/86 [00:16<00:33,  1.78it/s]\u001b[A\n",
      " 33%|███▎      | 28/86 [00:17<00:33,  1.75it/s]\u001b[A\n",
      " 34%|███▎      | 29/86 [00:17<00:33,  1.68it/s]\u001b[A\n",
      " 35%|███▍      | 30/86 [00:18<00:34,  1.64it/s]\u001b[A\n",
      " 36%|███▌      | 31/86 [00:19<00:35,  1.54it/s]\u001b[A\n",
      " 37%|███▋      | 32/86 [00:19<00:33,  1.62it/s]\u001b[A\n",
      " 38%|███▊      | 33/86 [00:20<00:31,  1.67it/s]\u001b[A\n",
      " 40%|███▉      | 34/86 [00:20<00:30,  1.71it/s]\u001b[A\n",
      " 41%|████      | 35/86 [00:21<00:34,  1.49it/s]\u001b[A\n",
      " 42%|████▏     | 36/86 [00:22<00:33,  1.50it/s]\u001b[A\n",
      " 43%|████▎     | 37/86 [00:22<00:31,  1.58it/s]\u001b[A\n",
      " 44%|████▍     | 38/86 [00:23<00:28,  1.68it/s]\u001b[A\n",
      " 45%|████▌     | 39/86 [00:23<00:27,  1.71it/s]\u001b[A\n",
      " 47%|████▋     | 40/86 [00:24<00:26,  1.76it/s]\u001b[A\n",
      " 48%|████▊     | 41/86 [00:25<00:25,  1.74it/s]\u001b[A\n",
      " 49%|████▉     | 42/86 [00:25<00:26,  1.65it/s]\u001b[A\n",
      " 50%|█████     | 43/86 [00:26<00:29,  1.46it/s]\u001b[A\n",
      " 51%|█████     | 44/86 [00:27<00:27,  1.50it/s]\u001b[A\n",
      " 52%|█████▏    | 45/86 [00:27<00:26,  1.55it/s]\u001b[A\n",
      " 53%|█████▎    | 46/86 [00:28<00:24,  1.65it/s]\u001b[A\n",
      " 55%|█████▍    | 47/86 [00:28<00:22,  1.71it/s]\u001b[A\n",
      " 56%|█████▌    | 48/86 [00:29<00:21,  1.75it/s]\u001b[A\n",
      " 57%|█████▋    | 49/86 [00:29<00:21,  1.75it/s]\u001b[A\n",
      " 58%|█████▊    | 50/86 [00:30<00:20,  1.72it/s]\u001b[A\n",
      " 59%|█████▉    | 51/86 [00:31<00:20,  1.72it/s]\u001b[A\n",
      " 60%|██████    | 52/86 [00:31<00:20,  1.69it/s]\u001b[A\n",
      " 62%|██████▏   | 53/86 [00:32<00:20,  1.61it/s]\u001b[A\n",
      " 63%|██████▎   | 54/86 [00:33<00:20,  1.53it/s]\u001b[A\n",
      " 64%|██████▍   | 55/86 [00:33<00:20,  1.50it/s]\u001b[A\n",
      " 65%|██████▌   | 56/86 [00:34<00:19,  1.57it/s]\u001b[A\n",
      " 66%|██████▋   | 57/86 [00:35<00:19,  1.52it/s]\u001b[A\n",
      " 67%|██████▋   | 58/86 [00:35<00:18,  1.54it/s]\u001b[A\n",
      " 69%|██████▊   | 59/86 [00:36<00:17,  1.53it/s]\u001b[A\n",
      " 70%|██████▉   | 60/86 [00:37<00:16,  1.55it/s]\u001b[A\n",
      " 71%|███████   | 61/86 [00:37<00:15,  1.60it/s]\u001b[A\n",
      " 72%|███████▏  | 62/86 [00:38<00:14,  1.64it/s]\u001b[A\n",
      " 73%|███████▎  | 63/86 [00:38<00:14,  1.58it/s]\u001b[A\n",
      " 74%|███████▍  | 64/86 [00:39<00:15,  1.46it/s]\u001b[A\n",
      " 76%|███████▌  | 65/86 [00:40<00:14,  1.45it/s]\u001b[A\n",
      " 77%|███████▋  | 66/86 [00:41<00:13,  1.51it/s]\u001b[A\n",
      " 78%|███████▊  | 67/86 [00:41<00:12,  1.58it/s]\u001b[A\n",
      " 79%|███████▉  | 68/86 [00:42<00:11,  1.57it/s]\u001b[A\n",
      " 80%|████████  | 69/86 [00:42<00:10,  1.56it/s]\u001b[A\n",
      " 81%|████████▏ | 70/86 [00:43<00:10,  1.53it/s]\u001b[A\n",
      " 83%|████████▎ | 71/86 [00:44<00:10,  1.48it/s]\u001b[A\n",
      " 84%|████████▎ | 72/86 [00:44<00:09,  1.50it/s]\u001b[A\n",
      " 85%|████████▍ | 73/86 [00:45<00:08,  1.54it/s]\u001b[A\n",
      " 86%|████████▌ | 74/86 [00:46<00:08,  1.49it/s]\u001b[A\n",
      " 87%|████████▋ | 75/86 [00:46<00:07,  1.47it/s]\u001b[A\n",
      " 88%|████████▊ | 76/86 [00:47<00:06,  1.59it/s]\u001b[A\n",
      " 90%|████████▉ | 77/86 [00:48<00:05,  1.62it/s]\u001b[A\n",
      " 91%|█████████ | 78/86 [00:48<00:04,  1.63it/s]\u001b[A\n",
      " 92%|█████████▏| 79/86 [00:49<00:04,  1.67it/s]\u001b[A\n",
      " 93%|█████████▎| 80/86 [00:49<00:03,  1.63it/s]\u001b[A\n",
      " 94%|█████████▍| 81/86 [00:50<00:03,  1.51it/s]\u001b[A\n",
      " 95%|█████████▌| 82/86 [00:51<00:02,  1.52it/s]\u001b[A\n",
      " 97%|█████████▋| 83/86 [00:51<00:01,  1.61it/s]\u001b[A\n",
      " 98%|█████████▊| 84/86 [00:52<00:01,  1.69it/s]\u001b[A\n",
      " 99%|█████████▉| 85/86 [00:52<00:00,  1.66it/s]\u001b[A\n",
      "100%|██████████| 86/86 [00:53<00:00,  1.60it/s]\u001b[A\n",
      " 62%|██████▎   | 5/8 [04:23<02:38, 52.88s/it]\n",
      "  0%|          | 0/86 [00:00<?, ?it/s]\u001b[A\n",
      "  1%|          | 1/86 [00:00<00:51,  1.65it/s]\u001b[A\n",
      "  2%|▏         | 2/86 [00:01<00:51,  1.63it/s]\u001b[A\n",
      "  3%|▎         | 3/86 [00:01<00:49,  1.66it/s]\u001b[A\n",
      "  5%|▍         | 4/86 [00:02<00:51,  1.60it/s]\u001b[A\n",
      "  6%|▌         | 5/86 [00:03<00:50,  1.59it/s]\u001b[A\n",
      "  7%|▋         | 6/86 [00:03<00:49,  1.60it/s]\u001b[A\n",
      "  8%|▊         | 7/86 [00:04<00:46,  1.68it/s]\u001b[A\n",
      "  9%|▉         | 8/86 [00:04<00:45,  1.72it/s]\u001b[A\n",
      " 10%|█         | 9/86 [00:05<00:50,  1.52it/s]\u001b[A\n",
      " 12%|█▏        | 10/86 [00:06<00:50,  1.52it/s]\u001b[A\n",
      " 13%|█▎        | 11/86 [00:06<00:49,  1.51it/s]\u001b[A\n",
      " 14%|█▍        | 12/86 [00:07<00:47,  1.56it/s]\u001b[A\n",
      " 15%|█▌        | 13/86 [00:08<00:43,  1.70it/s]\u001b[A\n",
      " 16%|█▋        | 14/86 [00:08<00:43,  1.67it/s]\u001b[A\n",
      " 17%|█▋        | 15/86 [00:09<00:45,  1.55it/s]\u001b[A\n",
      " 19%|█▊        | 16/86 [00:10<00:47,  1.48it/s]\u001b[A\n",
      " 20%|█▉        | 17/86 [00:10<00:46,  1.48it/s]\u001b[A\n",
      " 21%|██        | 18/86 [00:11<00:44,  1.54it/s]\u001b[A\n",
      " 22%|██▏       | 19/86 [00:12<00:42,  1.59it/s]\u001b[A\n",
      " 23%|██▎       | 20/86 [00:12<00:46,  1.43it/s]\u001b[A\n",
      " 24%|██▍       | 21/86 [00:13<00:45,  1.42it/s]\u001b[A\n",
      " 26%|██▌       | 22/86 [00:14<00:48,  1.33it/s]\u001b[A\n",
      " 27%|██▋       | 23/86 [00:15<00:47,  1.32it/s]\u001b[A\n",
      " 28%|██▊       | 24/86 [00:15<00:45,  1.35it/s]\u001b[A\n",
      " 29%|██▉       | 25/86 [00:16<00:43,  1.41it/s]\u001b[A\n",
      " 30%|███       | 26/86 [00:17<00:39,  1.51it/s]\u001b[A\n",
      " 31%|███▏      | 27/86 [00:17<00:37,  1.56it/s]\u001b[A\n",
      " 33%|███▎      | 28/86 [00:18<00:36,  1.58it/s]\u001b[A\n",
      " 34%|███▎      | 29/86 [00:18<00:34,  1.64it/s]\u001b[A\n",
      " 35%|███▍      | 30/86 [00:19<00:35,  1.60it/s]\u001b[A\n",
      " 36%|███▌      | 31/86 [00:20<00:34,  1.58it/s]\u001b[A\n",
      " 37%|███▋      | 32/86 [00:20<00:34,  1.57it/s]\u001b[A\n",
      " 38%|███▊      | 33/86 [00:21<00:32,  1.65it/s]\u001b[A\n",
      " 40%|███▉      | 34/86 [00:21<00:30,  1.69it/s]\u001b[A\n",
      " 41%|████      | 35/86 [00:22<00:32,  1.57it/s]\u001b[A\n",
      " 42%|████▏     | 36/86 [00:23<00:33,  1.47it/s]\u001b[A\n",
      " 43%|████▎     | 37/86 [00:24<00:33,  1.48it/s]\u001b[A\n",
      " 44%|████▍     | 38/86 [00:24<00:30,  1.58it/s]\u001b[A\n",
      " 45%|████▌     | 39/86 [00:25<00:28,  1.63it/s]\u001b[A\n",
      " 47%|████▋     | 40/86 [00:25<00:27,  1.64it/s]\u001b[A\n",
      " 48%|████▊     | 41/86 [00:26<00:27,  1.63it/s]\u001b[A\n",
      " 49%|████▉     | 42/86 [00:27<00:27,  1.58it/s]\u001b[A\n",
      " 50%|█████     | 43/86 [00:27<00:27,  1.56it/s]\u001b[A\n",
      " 51%|█████     | 44/86 [00:28<00:27,  1.52it/s]\u001b[A\n",
      " 52%|█████▏    | 45/86 [00:29<00:25,  1.59it/s]\u001b[A\n",
      " 53%|█████▎    | 46/86 [00:29<00:24,  1.62it/s]\u001b[A\n",
      " 55%|█████▍    | 47/86 [00:30<00:22,  1.70it/s]\u001b[A\n",
      " 56%|█████▌    | 48/86 [00:30<00:21,  1.77it/s]\u001b[A\n",
      " 57%|█████▋    | 49/86 [00:31<00:23,  1.60it/s]\u001b[A\n",
      " 58%|█████▊    | 50/86 [00:32<00:23,  1.55it/s]\u001b[A\n",
      " 59%|█████▉    | 51/86 [00:32<00:23,  1.50it/s]\u001b[A\n",
      " 60%|██████    | 52/86 [00:33<00:22,  1.51it/s]\u001b[A\n",
      " 62%|██████▏   | 53/86 [00:34<00:21,  1.56it/s]\u001b[A\n",
      " 63%|██████▎   | 54/86 [00:34<00:19,  1.60it/s]\u001b[A\n",
      " 64%|██████▍   | 55/86 [00:35<00:19,  1.61it/s]\u001b[A\n",
      " 65%|██████▌   | 56/86 [00:35<00:17,  1.67it/s]\u001b[A\n",
      " 66%|██████▋   | 57/86 [00:36<00:17,  1.67it/s]\u001b[A\n",
      " 67%|██████▋   | 58/86 [00:36<00:16,  1.72it/s]\u001b[A\n",
      " 69%|██████▊   | 59/86 [00:37<00:15,  1.71it/s]\u001b[A\n",
      " 70%|██████▉   | 60/86 [00:38<00:15,  1.64it/s]\u001b[A\n",
      " 71%|███████   | 61/86 [00:38<00:14,  1.67it/s]\u001b[A\n",
      " 72%|███████▏  | 62/86 [00:39<00:13,  1.75it/s]\u001b[A\n",
      " 73%|███████▎  | 63/86 [00:39<00:13,  1.71it/s]\u001b[A\n",
      " 74%|███████▍  | 64/86 [00:40<00:14,  1.52it/s]\u001b[A\n",
      " 76%|███████▌  | 65/86 [00:41<00:14,  1.50it/s]\u001b[A\n",
      " 77%|███████▋  | 66/86 [00:41<00:12,  1.58it/s]\u001b[A\n",
      " 78%|███████▊  | 67/86 [00:42<00:11,  1.61it/s]\u001b[A\n",
      " 79%|███████▉  | 68/86 [00:43<00:11,  1.60it/s]\u001b[A\n",
      " 80%|████████  | 69/86 [00:43<00:11,  1.54it/s]\u001b[A\n",
      " 81%|████████▏ | 70/86 [00:44<00:10,  1.46it/s]\u001b[A\n",
      " 83%|████████▎ | 71/86 [00:45<00:10,  1.48it/s]\u001b[A\n",
      " 84%|████████▎ | 72/86 [00:45<00:09,  1.55it/s]\u001b[A\n",
      " 85%|████████▍ | 73/86 [00:46<00:07,  1.65it/s]\u001b[A\n",
      " 86%|████████▌ | 74/86 [00:46<00:07,  1.71it/s]\u001b[A\n",
      " 87%|████████▋ | 75/86 [00:47<00:06,  1.76it/s]\u001b[A\n",
      " 88%|████████▊ | 76/86 [00:48<00:05,  1.79it/s]\u001b[A\n",
      " 90%|████████▉ | 77/86 [00:48<00:05,  1.69it/s]\u001b[A\n",
      " 91%|█████████ | 78/86 [00:49<00:04,  1.61it/s]\u001b[A\n",
      " 92%|█████████▏| 79/86 [00:49<00:04,  1.62it/s]\u001b[A\n",
      " 93%|█████████▎| 80/86 [00:50<00:03,  1.61it/s]\u001b[A\n",
      " 94%|█████████▍| 81/86 [00:51<00:03,  1.62it/s]\u001b[A\n",
      " 95%|█████████▌| 82/86 [00:51<00:02,  1.62it/s]\u001b[A\n",
      " 97%|█████████▋| 83/86 [00:52<00:01,  1.68it/s]\u001b[A\n",
      " 98%|█████████▊| 84/86 [00:52<00:01,  1.70it/s]\u001b[A\n",
      " 99%|█████████▉| 85/86 [00:53<00:00,  1.76it/s]\u001b[A\n",
      "100%|██████████| 86/86 [00:54<00:00,  1.59it/s]\u001b[A\n",
      " 75%|███████▌  | 6/8 [05:17<01:46, 53.24s/it]\n",
      "  0%|          | 0/86 [00:00<?, ?it/s]\u001b[A\n",
      "  1%|          | 1/86 [00:00<00:41,  2.05it/s]\u001b[A\n",
      "  2%|▏         | 2/86 [00:01<00:43,  1.91it/s]\u001b[A\n",
      "  3%|▎         | 3/86 [00:01<00:45,  1.84it/s]\u001b[A\n",
      "  5%|▍         | 4/86 [00:02<00:50,  1.61it/s]\u001b[A\n",
      "  6%|▌         | 5/86 [00:03<00:55,  1.45it/s]\u001b[A\n",
      "  7%|▋         | 6/86 [00:04<00:56,  1.42it/s]\u001b[A\n",
      "  8%|▊         | 7/86 [00:04<00:52,  1.52it/s]\u001b[A\n",
      "  9%|▉         | 8/86 [00:05<00:48,  1.60it/s]\u001b[A\n",
      " 10%|█         | 9/86 [00:05<00:50,  1.54it/s]\u001b[A\n",
      " 12%|█▏        | 10/86 [00:06<00:49,  1.54it/s]\u001b[A\n",
      " 13%|█▎        | 11/86 [00:07<00:47,  1.59it/s]\u001b[A\n",
      " 14%|█▍        | 12/86 [00:07<00:45,  1.62it/s]\u001b[A\n",
      " 15%|█▌        | 13/86 [00:08<00:45,  1.61it/s]\u001b[A\n",
      " 16%|█▋        | 14/86 [00:08<00:44,  1.61it/s]\u001b[A\n",
      " 17%|█▋        | 15/86 [00:09<00:43,  1.62it/s]\u001b[A\n",
      " 19%|█▊        | 16/86 [00:10<00:44,  1.57it/s]\u001b[A\n",
      " 20%|█▉        | 17/86 [00:10<00:43,  1.58it/s]\u001b[A\n",
      " 21%|██        | 18/86 [00:11<00:44,  1.54it/s]\u001b[A\n",
      " 22%|██▏       | 19/86 [00:12<00:43,  1.53it/s]\u001b[A\n",
      " 23%|██▎       | 20/86 [00:12<00:41,  1.59it/s]\u001b[A\n",
      " 24%|██▍       | 21/86 [00:13<00:40,  1.61it/s]\u001b[A\n",
      " 26%|██▌       | 22/86 [00:14<00:41,  1.55it/s]\u001b[A\n",
      " 27%|██▋       | 23/86 [00:14<00:43,  1.44it/s]\u001b[A\n",
      " 28%|██▊       | 24/86 [00:15<00:42,  1.46it/s]\u001b[A\n",
      " 29%|██▉       | 25/86 [00:16<00:40,  1.51it/s]\u001b[A\n",
      " 30%|███       | 26/86 [00:16<00:38,  1.58it/s]\u001b[A\n",
      " 31%|███▏      | 27/86 [00:17<00:35,  1.68it/s]\u001b[A\n",
      " 33%|███▎      | 28/86 [00:17<00:34,  1.68it/s]\u001b[A\n",
      " 34%|███▎      | 29/86 [00:18<00:34,  1.63it/s]\u001b[A\n",
      " 35%|███▍      | 30/86 [00:19<00:35,  1.56it/s]\u001b[A\n",
      " 36%|███▌      | 31/86 [00:19<00:37,  1.46it/s]\u001b[A\n",
      " 37%|███▋      | 32/86 [00:20<00:38,  1.42it/s]\u001b[A\n",
      " 38%|███▊      | 33/86 [00:21<00:34,  1.52it/s]\u001b[A\n",
      " 40%|███▉      | 34/86 [00:21<00:34,  1.52it/s]\u001b[A\n",
      " 41%|████      | 35/86 [00:22<00:32,  1.56it/s]\u001b[A\n",
      " 42%|████▏     | 36/86 [00:23<00:30,  1.64it/s]\u001b[A\n",
      " 43%|████▎     | 37/86 [00:23<00:30,  1.60it/s]\u001b[A\n",
      " 44%|████▍     | 38/86 [00:24<00:30,  1.57it/s]\u001b[A\n",
      " 45%|████▌     | 39/86 [00:24<00:28,  1.63it/s]\u001b[A\n",
      " 47%|████▋     | 40/86 [00:25<00:31,  1.46it/s]\u001b[A\n",
      " 48%|████▊     | 41/86 [00:26<00:30,  1.47it/s]\u001b[A\n",
      " 49%|████▉     | 42/86 [00:27<00:28,  1.55it/s]\u001b[A\n",
      " 50%|█████     | 43/86 [00:27<00:26,  1.61it/s]\u001b[A\n",
      " 51%|█████     | 44/86 [00:28<00:28,  1.50it/s]\u001b[A\n",
      " 52%|█████▏    | 45/86 [00:29<00:28,  1.46it/s]\u001b[A\n",
      " 53%|█████▎    | 46/86 [00:29<00:26,  1.54it/s]\u001b[A\n",
      " 55%|█████▍    | 47/86 [00:30<00:24,  1.62it/s]\u001b[A\n",
      " 56%|█████▌    | 48/86 [00:30<00:23,  1.59it/s]\u001b[A\n",
      " 57%|█████▋    | 49/86 [00:31<00:22,  1.67it/s]\u001b[A\n",
      " 58%|█████▊    | 50/86 [00:31<00:21,  1.71it/s]\u001b[A\n",
      " 59%|█████▉    | 51/86 [00:32<00:21,  1.61it/s]\u001b[A\n",
      " 60%|██████    | 52/86 [00:33<00:22,  1.52it/s]\u001b[A\n",
      " 62%|██████▏   | 53/86 [00:34<00:21,  1.53it/s]\u001b[A\n",
      " 63%|██████▎   | 54/86 [00:34<00:20,  1.56it/s]\u001b[A\n",
      " 64%|██████▍   | 55/86 [00:35<00:18,  1.66it/s]\u001b[A\n",
      " 65%|██████▌   | 56/86 [00:35<00:17,  1.73it/s]\u001b[A\n",
      " 66%|██████▋   | 57/86 [00:36<00:17,  1.65it/s]\u001b[A\n",
      " 67%|██████▋   | 58/86 [00:37<00:17,  1.61it/s]\u001b[A\n",
      " 69%|██████▊   | 59/86 [00:37<00:16,  1.64it/s]\u001b[A\n",
      " 70%|██████▉   | 60/86 [00:38<00:15,  1.71it/s]\u001b[A\n",
      " 71%|███████   | 61/86 [00:38<00:14,  1.74it/s]\u001b[A\n",
      " 72%|███████▏  | 62/86 [00:39<00:14,  1.68it/s]\u001b[A\n",
      " 73%|███████▎  | 63/86 [00:39<00:13,  1.72it/s]\u001b[A\n",
      " 74%|███████▍  | 64/86 [00:40<00:12,  1.75it/s]\u001b[A\n",
      " 76%|███████▌  | 65/86 [00:41<00:12,  1.74it/s]\u001b[A\n",
      " 77%|███████▋  | 66/86 [00:41<00:11,  1.72it/s]\u001b[A\n",
      " 78%|███████▊  | 67/86 [00:42<00:11,  1.70it/s]\u001b[A\n",
      " 79%|███████▉  | 68/86 [00:42<00:10,  1.65it/s]\u001b[A\n",
      " 80%|████████  | 69/86 [00:43<00:09,  1.71it/s]\u001b[A\n",
      " 81%|████████▏ | 70/86 [00:43<00:09,  1.71it/s]\u001b[A\n",
      " 83%|████████▎ | 71/86 [00:44<00:08,  1.68it/s]\u001b[A\n",
      " 84%|████████▎ | 72/86 [00:45<00:08,  1.72it/s]\u001b[A\n",
      " 85%|████████▍ | 73/86 [00:45<00:07,  1.74it/s]\u001b[A\n",
      " 86%|████████▌ | 74/86 [00:46<00:07,  1.67it/s]\u001b[A\n",
      " 87%|████████▋ | 75/86 [00:47<00:06,  1.63it/s]\u001b[A\n",
      " 88%|████████▊ | 76/86 [00:47<00:05,  1.71it/s]\u001b[A\n",
      " 90%|████████▉ | 77/86 [00:48<00:05,  1.73it/s]\u001b[A\n",
      " 91%|█████████ | 78/86 [00:48<00:04,  1.70it/s]\u001b[A\n",
      " 92%|█████████▏| 79/86 [00:49<00:04,  1.58it/s]\u001b[A\n",
      " 93%|█████████▎| 80/86 [00:50<00:03,  1.58it/s]\u001b[A\n",
      " 94%|█████████▍| 81/86 [00:50<00:03,  1.64it/s]\u001b[A\n",
      " 95%|█████████▌| 82/86 [00:51<00:02,  1.66it/s]\u001b[A\n",
      " 97%|█████████▋| 83/86 [00:51<00:01,  1.67it/s]\u001b[A\n",
      " 98%|█████████▊| 84/86 [00:52<00:01,  1.62it/s]\u001b[A\n",
      " 99%|█████████▉| 85/86 [00:53<00:00,  1.56it/s]\u001b[A\n",
      "100%|██████████| 86/86 [00:54<00:00,  1.59it/s]\u001b[A\n",
      " 88%|████████▊ | 7/8 [06:11<00:53, 53.49s/it]\n",
      "  0%|          | 0/86 [00:00<?, ?it/s]\u001b[A\n",
      "  1%|          | 1/86 [00:00<00:55,  1.53it/s]\u001b[A\n",
      "  2%|▏         | 2/86 [00:01<00:53,  1.57it/s]\u001b[A\n",
      "  3%|▎         | 3/86 [00:01<00:50,  1.64it/s]\u001b[A\n",
      "  5%|▍         | 4/86 [00:02<00:48,  1.68it/s]\u001b[A\n",
      "  6%|▌         | 5/86 [00:03<00:49,  1.64it/s]\u001b[A\n",
      "  7%|▋         | 6/86 [00:03<00:46,  1.72it/s]\u001b[A\n",
      "  8%|▊         | 7/86 [00:04<00:46,  1.70it/s]\u001b[A\n",
      "  9%|▉         | 8/86 [00:04<00:45,  1.70it/s]\u001b[A\n",
      " 10%|█         | 9/86 [00:05<00:46,  1.66it/s]\u001b[A\n",
      " 12%|█▏        | 10/86 [00:06<00:47,  1.60it/s]\u001b[A\n",
      " 13%|█▎        | 11/86 [00:06<00:46,  1.62it/s]\u001b[A\n",
      " 14%|█▍        | 12/86 [00:07<00:45,  1.62it/s]\u001b[A\n",
      " 15%|█▌        | 13/86 [00:07<00:46,  1.58it/s]\u001b[A\n",
      " 16%|█▋        | 14/86 [00:08<00:47,  1.52it/s]\u001b[A\n",
      " 17%|█▋        | 15/86 [00:09<00:47,  1.49it/s]\u001b[A\n",
      " 19%|█▊        | 16/86 [00:09<00:44,  1.57it/s]\u001b[A\n",
      " 20%|█▉        | 17/86 [00:10<00:44,  1.56it/s]\u001b[A\n",
      " 21%|██        | 18/86 [00:11<00:43,  1.57it/s]\u001b[A\n",
      " 22%|██▏       | 19/86 [00:11<00:42,  1.57it/s]\u001b[A\n",
      " 23%|██▎       | 20/86 [00:12<00:39,  1.66it/s]\u001b[A\n",
      " 24%|██▍       | 21/86 [00:12<00:38,  1.70it/s]\u001b[A\n",
      " 26%|██▌       | 22/86 [00:13<00:37,  1.72it/s]\u001b[A\n",
      " 27%|██▋       | 23/86 [00:14<00:36,  1.74it/s]\u001b[A\n",
      " 28%|██▊       | 24/86 [00:14<00:40,  1.55it/s]\u001b[A\n",
      " 29%|██▉       | 25/86 [00:15<00:39,  1.53it/s]\u001b[A\n",
      " 30%|███       | 26/86 [00:16<00:38,  1.55it/s]\u001b[A\n",
      " 31%|███▏      | 27/86 [00:16<00:36,  1.62it/s]\u001b[A\n",
      " 33%|███▎      | 28/86 [00:17<00:34,  1.71it/s]\u001b[A\n",
      " 34%|███▎      | 29/86 [00:17<00:32,  1.73it/s]\u001b[A\n",
      " 35%|███▍      | 30/86 [00:18<00:31,  1.77it/s]\u001b[A\n",
      " 36%|███▌      | 31/86 [00:18<00:31,  1.72it/s]\u001b[A\n",
      " 37%|███▋      | 32/86 [00:19<00:30,  1.79it/s]\u001b[A\n",
      " 38%|███▊      | 33/86 [00:19<00:28,  1.84it/s]\u001b[A\n",
      " 40%|███▉      | 34/86 [00:20<00:29,  1.78it/s]\u001b[A\n",
      " 41%|████      | 35/86 [00:21<00:28,  1.77it/s]\u001b[A\n",
      " 42%|████▏     | 36/86 [00:21<00:29,  1.69it/s]\u001b[A\n",
      " 43%|████▎     | 37/86 [00:22<00:30,  1.61it/s]\u001b[A\n",
      " 44%|████▍     | 38/86 [00:22<00:28,  1.67it/s]\u001b[A\n",
      " 45%|████▌     | 39/86 [00:23<00:27,  1.73it/s]\u001b[A\n",
      " 47%|████▋     | 40/86 [00:24<00:25,  1.77it/s]\u001b[A\n",
      " 48%|████▊     | 41/86 [00:24<00:25,  1.73it/s]\u001b[A\n",
      " 49%|████▉     | 42/86 [00:25<00:24,  1.78it/s]\u001b[A\n",
      " 50%|█████     | 43/86 [00:25<00:25,  1.70it/s]\u001b[A\n",
      " 51%|█████     | 44/86 [00:26<00:25,  1.63it/s]\u001b[A\n",
      " 52%|█████▏    | 45/86 [00:27<00:26,  1.53it/s]\u001b[A\n",
      " 53%|█████▎    | 46/86 [00:27<00:25,  1.59it/s]\u001b[A\n",
      " 55%|█████▍    | 47/86 [00:28<00:23,  1.63it/s]\u001b[A\n",
      " 56%|█████▌    | 48/86 [00:28<00:23,  1.63it/s]\u001b[A\n",
      " 57%|█████▋    | 49/86 [00:29<00:22,  1.61it/s]\u001b[A\n",
      " 58%|█████▊    | 50/86 [00:30<00:21,  1.68it/s]\u001b[A\n",
      " 59%|█████▉    | 51/86 [00:30<00:20,  1.74it/s]\u001b[A\n",
      " 60%|██████    | 52/86 [00:31<00:19,  1.77it/s]\u001b[A\n",
      " 62%|██████▏   | 53/86 [00:31<00:18,  1.74it/s]\u001b[A\n",
      " 63%|██████▎   | 54/86 [00:32<00:17,  1.79it/s]\u001b[A\n",
      " 64%|██████▍   | 55/86 [00:32<00:17,  1.81it/s]\u001b[A\n",
      " 65%|██████▌   | 56/86 [00:33<00:16,  1.77it/s]\u001b[A\n",
      " 66%|██████▋   | 57/86 [00:34<00:16,  1.75it/s]\u001b[A\n",
      " 67%|██████▋   | 58/86 [00:34<00:16,  1.68it/s]\u001b[A\n",
      " 69%|██████▊   | 59/86 [00:35<00:17,  1.56it/s]\u001b[A\n",
      " 70%|██████▉   | 60/86 [00:36<00:17,  1.52it/s]\u001b[A\n",
      " 71%|███████   | 61/86 [00:36<00:16,  1.55it/s]\u001b[A\n",
      " 72%|███████▏  | 62/86 [00:37<00:15,  1.59it/s]\u001b[A\n",
      " 73%|███████▎  | 63/86 [00:38<00:14,  1.57it/s]\u001b[A\n",
      " 74%|███████▍  | 64/86 [00:38<00:13,  1.63it/s]\u001b[A\n",
      " 76%|███████▌  | 65/86 [00:39<00:13,  1.53it/s]\u001b[A\n",
      " 77%|███████▋  | 66/86 [00:40<00:13,  1.51it/s]\u001b[A\n",
      " 78%|███████▊  | 67/86 [00:40<00:12,  1.51it/s]\u001b[A\n",
      " 79%|███████▉  | 68/86 [00:41<00:11,  1.60it/s]\u001b[A\n",
      " 80%|████████  | 69/86 [00:41<00:11,  1.53it/s]\u001b[A\n",
      " 81%|████████▏ | 70/86 [00:42<00:10,  1.50it/s]\u001b[A\n",
      " 83%|████████▎ | 71/86 [00:43<00:09,  1.60it/s]\u001b[A\n",
      " 84%|████████▎ | 72/86 [00:43<00:08,  1.66it/s]\u001b[A\n",
      " 85%|████████▍ | 73/86 [00:44<00:07,  1.66it/s]\u001b[A\n",
      " 86%|████████▌ | 74/86 [00:45<00:07,  1.58it/s]\u001b[A\n",
      " 87%|████████▋ | 75/86 [00:45<00:07,  1.43it/s]\u001b[A\n",
      " 88%|████████▊ | 76/86 [00:46<00:07,  1.38it/s]\u001b[A\n",
      " 90%|████████▉ | 77/86 [00:47<00:06,  1.41it/s]\u001b[A\n",
      " 91%|█████████ | 78/86 [00:47<00:05,  1.53it/s]\u001b[A\n",
      " 92%|█████████▏| 79/86 [00:48<00:04,  1.60it/s]\u001b[A\n",
      " 93%|█████████▎| 80/86 [00:49<00:03,  1.57it/s]\u001b[A\n",
      " 94%|█████████▍| 81/86 [00:49<00:02,  1.71it/s]\u001b[A\n",
      " 95%|█████████▌| 82/86 [00:50<00:02,  1.78it/s]\u001b[A\n",
      " 97%|█████████▋| 83/86 [00:50<00:01,  1.88it/s]\u001b[A\n",
      " 98%|█████████▊| 84/86 [00:51<00:01,  1.88it/s]\u001b[A\n",
      " 99%|█████████▉| 85/86 [00:51<00:00,  1.79it/s]\u001b[A\n",
      "100%|██████████| 86/86 [00:52<00:00,  1.64it/s]\u001b[A\n",
      "100%|██████████| 8/8 [07:03<00:00, 52.94s/it]\n",
      "  0%|          | 0/8 [00:00<?, ?it/s]\n",
      "  0%|          | 0/84 [00:00<?, ?it/s]\u001b[A\n",
      "  1%|          | 1/84 [00:00<01:17,  1.07it/s]\u001b[A\n",
      "  2%|▏         | 2/84 [00:01<01:17,  1.05it/s]\u001b[A\n",
      "  4%|▎         | 3/84 [00:02<01:15,  1.07it/s]\u001b[A\n",
      "  5%|▍         | 4/84 [00:03<01:13,  1.09it/s]\u001b[A\n",
      "  6%|▌         | 5/84 [00:04<01:16,  1.04it/s]\u001b[A\n",
      "  7%|▋         | 6/84 [00:05<01:12,  1.08it/s]\u001b[A\n",
      "  8%|▊         | 7/84 [00:06<01:08,  1.12it/s]\u001b[A\n",
      " 10%|▉         | 8/84 [00:07<01:08,  1.11it/s]\u001b[A\n",
      " 11%|█         | 9/84 [00:08<01:10,  1.06it/s]\u001b[A\n",
      " 12%|█▏        | 10/84 [00:09<01:08,  1.08it/s]\u001b[A\n",
      " 13%|█▎        | 11/84 [00:10<01:04,  1.13it/s]\u001b[A\n",
      " 14%|█▍        | 12/84 [00:10<01:04,  1.12it/s]\u001b[A\n",
      " 15%|█▌        | 13/84 [00:11<01:05,  1.08it/s]\u001b[A\n",
      " 17%|█▋        | 14/84 [00:12<01:05,  1.06it/s]\u001b[A\n",
      " 18%|█▊        | 15/84 [00:13<01:05,  1.06it/s]\u001b[A\n",
      " 19%|█▉        | 16/84 [00:14<01:04,  1.05it/s]\u001b[A\n",
      " 20%|██        | 17/84 [00:15<01:01,  1.09it/s]\u001b[A\n",
      " 21%|██▏       | 18/84 [00:16<00:58,  1.13it/s]\u001b[A\n",
      " 23%|██▎       | 19/84 [00:17<00:58,  1.12it/s]\u001b[A\n",
      " 24%|██▍       | 20/84 [00:18<00:58,  1.09it/s]\u001b[A\n",
      " 25%|██▌       | 21/84 [00:19<00:57,  1.09it/s]\u001b[A\n",
      " 26%|██▌       | 22/84 [00:20<00:58,  1.06it/s]\u001b[A\n",
      " 27%|██▋       | 23/84 [00:21<00:57,  1.06it/s]\u001b[A\n",
      " 29%|██▊       | 24/84 [00:22<01:02,  1.03s/it]\u001b[A\n",
      " 30%|██▉       | 25/84 [00:23<00:59,  1.02s/it]\u001b[A\n",
      " 31%|███       | 26/84 [00:24<00:58,  1.01s/it]\u001b[A\n",
      " 32%|███▏      | 27/84 [00:25<00:55,  1.03it/s]\u001b[A\n",
      " 33%|███▎      | 28/84 [00:26<00:54,  1.03it/s]\u001b[A\n",
      " 35%|███▍      | 29/84 [00:27<00:50,  1.09it/s]\u001b[A\n",
      " 36%|███▌      | 30/84 [00:27<00:48,  1.11it/s]\u001b[A\n",
      " 37%|███▋      | 31/84 [00:29<00:48,  1.10it/s]\u001b[A\n",
      " 38%|███▊      | 32/84 [00:30<00:50,  1.04it/s]\u001b[A\n",
      " 39%|███▉      | 33/84 [00:31<00:52,  1.02s/it]\u001b[A\n",
      " 40%|████      | 34/84 [00:32<00:52,  1.06s/it]\u001b[A\n",
      " 42%|████▏     | 35/84 [00:33<00:51,  1.05s/it]\u001b[A\n",
      " 43%|████▎     | 36/84 [00:34<00:53,  1.10s/it]\u001b[A\n",
      " 44%|████▍     | 37/84 [00:35<00:51,  1.11s/it]\u001b[A\n",
      " 45%|████▌     | 38/84 [00:36<00:47,  1.04s/it]\u001b[A\n",
      " 46%|████▋     | 39/84 [00:37<00:44,  1.00it/s]\u001b[A\n",
      " 48%|████▊     | 40/84 [00:38<00:46,  1.05s/it]\u001b[A\n",
      " 49%|████▉     | 41/84 [00:39<00:44,  1.03s/it]\u001b[A\n",
      " 50%|█████     | 42/84 [00:40<00:41,  1.01it/s]\u001b[A\n",
      " 51%|█████     | 43/84 [00:41<00:39,  1.04it/s]\u001b[A\n",
      " 52%|█████▏    | 44/84 [00:42<00:37,  1.06it/s]\u001b[A\n",
      " 54%|█████▎    | 45/84 [00:43<00:36,  1.07it/s]\u001b[A\n",
      " 55%|█████▍    | 46/84 [00:44<00:35,  1.08it/s]\u001b[A\n",
      " 56%|█████▌    | 47/84 [00:45<00:34,  1.07it/s]\u001b[A\n",
      " 57%|█████▋    | 48/84 [00:46<00:34,  1.05it/s]\u001b[A\n",
      " 58%|█████▊    | 49/84 [00:47<00:33,  1.03it/s]\u001b[A\n",
      " 60%|█████▉    | 50/84 [00:48<00:33,  1.01it/s]\u001b[A\n",
      " 61%|██████    | 51/84 [00:48<00:30,  1.07it/s]\u001b[A\n",
      " 62%|██████▏   | 52/84 [00:49<00:29,  1.10it/s]\u001b[A\n",
      " 63%|██████▎   | 53/84 [00:50<00:28,  1.08it/s]\u001b[A\n",
      " 64%|██████▍   | 54/84 [00:51<00:27,  1.08it/s]\u001b[A\n",
      " 65%|██████▌   | 55/84 [00:52<00:28,  1.03it/s]\u001b[A\n",
      " 67%|██████▋   | 56/84 [00:53<00:26,  1.04it/s]\u001b[A\n",
      " 68%|██████▊   | 57/84 [00:54<00:26,  1.00it/s]\u001b[A\n",
      " 69%|██████▉   | 58/84 [00:55<00:24,  1.05it/s]\u001b[A\n",
      " 70%|███████   | 59/84 [00:56<00:23,  1.08it/s]\u001b[A\n",
      " 71%|███████▏  | 60/84 [00:57<00:22,  1.06it/s]\u001b[A\n",
      " 73%|███████▎  | 61/84 [00:58<00:22,  1.01it/s]\u001b[A\n",
      " 74%|███████▍  | 62/84 [00:59<00:23,  1.05s/it]\u001b[A\n",
      " 75%|███████▌  | 63/84 [01:00<00:21,  1.04s/it]\u001b[A\n",
      " 76%|███████▌  | 64/84 [01:01<00:20,  1.01s/it]\u001b[A\n",
      " 77%|███████▋  | 65/84 [01:02<00:18,  1.00it/s]\u001b[A\n",
      " 79%|███████▊  | 66/84 [01:03<00:17,  1.05it/s]\u001b[A\n",
      " 80%|███████▉  | 67/84 [01:04<00:15,  1.08it/s]\u001b[A\n",
      " 81%|████████  | 68/84 [01:05<00:16,  1.00s/it]\u001b[A\n",
      " 82%|████████▏ | 69/84 [01:06<00:15,  1.04s/it]\u001b[A\n",
      " 83%|████████▎ | 70/84 [01:07<00:13,  1.03it/s]\u001b[A\n",
      " 85%|████████▍ | 71/84 [01:08<00:11,  1.10it/s]\u001b[A\n",
      " 86%|████████▌ | 72/84 [01:09<00:11,  1.03it/s]\u001b[A\n",
      " 87%|████████▋ | 73/84 [01:10<00:10,  1.03it/s]\u001b[A\n",
      " 88%|████████▊ | 74/84 [01:11<00:09,  1.08it/s]\u001b[A\n",
      " 89%|████████▉ | 75/84 [01:12<00:08,  1.11it/s]\u001b[A\n",
      " 90%|█████████ | 76/84 [01:12<00:06,  1.16it/s]\u001b[A\n",
      " 92%|█████████▏| 77/84 [01:13<00:05,  1.19it/s]\u001b[A\n",
      " 93%|█████████▎| 78/84 [01:14<00:05,  1.08it/s]\u001b[A\n",
      " 94%|█████████▍| 79/84 [01:15<00:04,  1.09it/s]\u001b[A\n",
      " 95%|█████████▌| 80/84 [01:16<00:03,  1.10it/s]\u001b[A\n",
      " 96%|█████████▋| 81/84 [01:17<00:02,  1.12it/s]\u001b[A\n",
      " 98%|█████████▊| 82/84 [01:18<00:01,  1.20it/s]\u001b[A\n",
      " 99%|█████████▉| 83/84 [01:19<00:00,  1.11it/s]\u001b[A\n",
      "100%|██████████| 84/84 [01:20<00:00,  1.05it/s]\u001b[A\n",
      " 12%|█▎        | 1/8 [01:20<09:21, 80.15s/it]\n",
      "  0%|          | 0/84 [00:00<?, ?it/s]\u001b[A\n",
      "  1%|          | 1/84 [00:01<01:31,  1.11s/it]\u001b[A\n",
      "  2%|▏         | 2/84 [00:01<01:25,  1.04s/it]\u001b[A\n",
      "  4%|▎         | 3/84 [00:02<01:19,  1.01it/s]\u001b[A\n",
      "  5%|▍         | 4/84 [00:03<01:17,  1.03it/s]\u001b[A\n",
      "  6%|▌         | 5/84 [00:04<01:12,  1.09it/s]\u001b[A\n",
      "  7%|▋         | 6/84 [00:05<01:09,  1.13it/s]\u001b[A\n",
      "  8%|▊         | 7/84 [00:06<01:12,  1.07it/s]\u001b[A\n",
      " 10%|▉         | 8/84 [00:07<01:13,  1.04it/s]\u001b[A\n",
      " 11%|█         | 9/84 [00:08<01:11,  1.04it/s]\u001b[A\n",
      " 12%|█▏        | 10/84 [00:09<01:08,  1.08it/s]\u001b[A\n",
      " 13%|█▎        | 11/84 [00:10<01:08,  1.06it/s]\u001b[A\n",
      " 14%|█▍        | 12/84 [00:11<01:04,  1.11it/s]\u001b[A\n",
      " 15%|█▌        | 13/84 [00:11<01:02,  1.14it/s]\u001b[A\n",
      " 17%|█▋        | 14/84 [00:12<01:01,  1.14it/s]\u001b[A\n",
      " 18%|█▊        | 15/84 [00:13<01:03,  1.09it/s]\u001b[A\n",
      " 19%|█▉        | 16/84 [00:14<01:07,  1.01it/s]\u001b[A\n",
      " 20%|██        | 17/84 [00:15<01:03,  1.06it/s]\u001b[A\n",
      " 21%|██▏       | 18/84 [00:16<00:58,  1.13it/s]\u001b[A\n",
      " 23%|██▎       | 19/84 [00:17<00:55,  1.18it/s]\u001b[A\n",
      " 24%|██▍       | 20/84 [00:18<00:53,  1.20it/s]\u001b[A\n",
      " 25%|██▌       | 21/84 [00:18<00:51,  1.23it/s]\u001b[A\n",
      " 26%|██▌       | 22/84 [00:19<00:50,  1.23it/s]\u001b[A\n",
      " 27%|██▋       | 23/84 [00:20<00:50,  1.22it/s]\u001b[A\n",
      " 29%|██▊       | 24/84 [00:21<00:48,  1.25it/s]\u001b[A\n",
      " 30%|██▉       | 25/84 [00:22<00:49,  1.19it/s]\u001b[A\n",
      " 31%|███       | 26/84 [00:23<00:49,  1.16it/s]\u001b[A\n",
      " 32%|███▏      | 27/84 [00:23<00:50,  1.14it/s]\u001b[A\n",
      " 33%|███▎      | 28/84 [00:25<00:51,  1.09it/s]\u001b[A\n",
      " 35%|███▍      | 29/84 [00:25<00:47,  1.15it/s]\u001b[A\n",
      " 36%|███▌      | 30/84 [00:26<00:46,  1.17it/s]\u001b[A\n",
      " 37%|███▋      | 31/84 [00:27<00:46,  1.13it/s]\u001b[A\n",
      " 38%|███▊      | 32/84 [00:28<00:48,  1.06it/s]\u001b[A\n",
      " 39%|███▉      | 33/84 [00:29<00:46,  1.09it/s]\u001b[A\n",
      " 40%|████      | 34/84 [00:30<00:43,  1.14it/s]\u001b[A\n",
      " 42%|████▏     | 35/84 [00:31<00:47,  1.03it/s]\u001b[A\n",
      " 43%|████▎     | 36/84 [00:32<00:45,  1.05it/s]\u001b[A\n",
      " 44%|████▍     | 37/84 [00:33<00:42,  1.12it/s]\u001b[A\n",
      " 45%|████▌     | 38/84 [00:34<00:43,  1.06it/s]\u001b[A\n",
      " 46%|████▋     | 39/84 [00:35<00:42,  1.06it/s]\u001b[A\n",
      " 48%|████▊     | 40/84 [00:36<00:41,  1.05it/s]\u001b[A\n",
      " 49%|████▉     | 41/84 [00:37<00:41,  1.03it/s]\u001b[A\n",
      " 50%|█████     | 42/84 [00:38<00:41,  1.02it/s]\u001b[A\n",
      " 51%|█████     | 43/84 [00:39<00:40,  1.01it/s]\u001b[A\n",
      " 52%|█████▏    | 44/84 [00:40<00:39,  1.01it/s]\u001b[A\n",
      " 54%|█████▎    | 45/84 [00:41<00:39,  1.00s/it]\u001b[A\n",
      " 55%|█████▍    | 46/84 [00:42<00:37,  1.02it/s]\u001b[A\n",
      " 56%|█████▌    | 47/84 [00:42<00:33,  1.09it/s]\u001b[A\n",
      " 57%|█████▋    | 48/84 [00:43<00:32,  1.11it/s]\u001b[A\n",
      " 58%|█████▊    | 49/84 [00:44<00:31,  1.10it/s]\u001b[A\n",
      " 60%|█████▉    | 50/84 [00:45<00:30,  1.13it/s]\u001b[A\n",
      " 61%|██████    | 51/84 [00:46<00:27,  1.18it/s]\u001b[A\n",
      " 62%|██████▏   | 52/84 [00:47<00:26,  1.19it/s]\u001b[A\n",
      " 63%|██████▎   | 53/84 [00:47<00:26,  1.18it/s]\u001b[A\n",
      " 64%|██████▍   | 54/84 [00:48<00:24,  1.21it/s]\u001b[A\n",
      " 65%|██████▌   | 55/84 [00:49<00:23,  1.22it/s]\u001b[A\n",
      " 67%|██████▋   | 56/84 [00:50<00:24,  1.15it/s]\u001b[A\n",
      " 68%|██████▊   | 57/84 [00:51<00:23,  1.15it/s]\u001b[A\n",
      " 69%|██████▉   | 58/84 [00:52<00:22,  1.16it/s]\u001b[A\n",
      " 70%|███████   | 59/84 [00:53<00:21,  1.17it/s]\u001b[A\n",
      " 71%|███████▏  | 60/84 [00:54<00:21,  1.11it/s]\u001b[A\n",
      " 73%|███████▎  | 61/84 [00:54<00:20,  1.12it/s]\u001b[A\n",
      " 74%|███████▍  | 62/84 [00:55<00:19,  1.11it/s]\u001b[A\n",
      " 75%|███████▌  | 63/84 [00:56<00:18,  1.12it/s]\u001b[A\n",
      " 76%|███████▌  | 64/84 [00:57<00:17,  1.15it/s]\u001b[A\n",
      " 77%|███████▋  | 65/84 [00:58<00:16,  1.18it/s]\u001b[A\n",
      " 79%|███████▊  | 66/84 [00:59<00:14,  1.23it/s]\u001b[A\n",
      " 80%|███████▉  | 67/84 [01:00<00:15,  1.12it/s]\u001b[A\n",
      " 81%|████████  | 68/84 [01:01<00:14,  1.08it/s]\u001b[A\n",
      " 82%|████████▏ | 69/84 [01:02<00:14,  1.07it/s]\u001b[A\n",
      " 83%|████████▎ | 70/84 [01:02<00:12,  1.10it/s]\u001b[A\n",
      " 85%|████████▍ | 71/84 [01:03<00:11,  1.14it/s]\u001b[A\n",
      " 86%|████████▌ | 72/84 [01:04<00:10,  1.11it/s]\u001b[A\n",
      " 87%|████████▋ | 73/84 [01:05<00:09,  1.10it/s]\u001b[A\n",
      " 88%|████████▊ | 74/84 [01:06<00:09,  1.10it/s]\u001b[A\n",
      " 89%|████████▉ | 75/84 [01:07<00:08,  1.11it/s]\u001b[A\n",
      " 90%|█████████ | 76/84 [01:08<00:07,  1.08it/s]\u001b[A\n",
      " 92%|█████████▏| 77/84 [01:09<00:06,  1.04it/s]\u001b[A\n",
      " 93%|█████████▎| 78/84 [01:10<00:05,  1.04it/s]\u001b[A\n",
      " 94%|█████████▍| 79/84 [01:11<00:04,  1.06it/s]\u001b[A\n",
      " 95%|█████████▌| 80/84 [01:12<00:03,  1.10it/s]\u001b[A\n",
      " 96%|█████████▋| 81/84 [01:12<00:02,  1.13it/s]\u001b[A\n",
      " 98%|█████████▊| 82/84 [01:13<00:01,  1.14it/s]\u001b[A\n",
      " 99%|█████████▉| 83/84 [01:14<00:00,  1.04it/s]\u001b[A\n",
      "100%|██████████| 84/84 [01:15<00:00,  1.11it/s]\u001b[A\n",
      " 25%|██▌       | 2/8 [02:36<07:53, 78.91s/it]\n",
      "  0%|          | 0/84 [00:00<?, ?it/s]\u001b[A\n",
      "  1%|          | 1/84 [00:00<01:11,  1.16it/s]\u001b[A\n",
      "  2%|▏         | 2/84 [00:01<01:10,  1.16it/s]\u001b[A\n",
      "  4%|▎         | 3/84 [00:02<01:16,  1.06it/s]\u001b[A\n",
      "  5%|▍         | 4/84 [00:03<01:15,  1.06it/s]\u001b[A\n",
      "  6%|▌         | 5/84 [00:04<01:14,  1.06it/s]\u001b[A\n",
      "  7%|▋         | 6/84 [00:05<01:12,  1.08it/s]\u001b[A\n",
      "  8%|▊         | 7/84 [00:06<01:14,  1.04it/s]\u001b[A\n",
      " 10%|▉         | 8/84 [00:07<01:12,  1.04it/s]\u001b[A\n",
      " 11%|█         | 9/84 [00:08<01:09,  1.07it/s]\u001b[A\n",
      " 12%|█▏        | 10/84 [00:09<01:07,  1.10it/s]\u001b[A\n",
      " 13%|█▎        | 11/84 [00:10<01:07,  1.08it/s]\u001b[A\n",
      " 14%|█▍        | 12/84 [00:11<01:12,  1.01s/it]\u001b[A\n",
      " 15%|█▌        | 13/84 [00:12<01:12,  1.02s/it]\u001b[A\n",
      " 17%|█▋        | 14/84 [00:13<01:09,  1.01it/s]\u001b[A\n",
      " 18%|█▊        | 15/84 [00:14<01:05,  1.06it/s]\u001b[A\n",
      " 19%|█▉        | 16/84 [00:15<01:02,  1.10it/s]\u001b[A\n",
      " 20%|██        | 17/84 [00:15<00:58,  1.14it/s]\u001b[A\n",
      " 21%|██▏       | 18/84 [00:17<01:02,  1.05it/s]\u001b[A\n",
      " 23%|██▎       | 19/84 [00:17<00:59,  1.09it/s]\u001b[A\n",
      " 24%|██▍       | 20/84 [00:18<00:56,  1.13it/s]\u001b[A\n",
      " 25%|██▌       | 21/84 [00:19<00:53,  1.17it/s]\u001b[A\n",
      " 26%|██▌       | 22/84 [00:20<00:50,  1.22it/s]\u001b[A\n",
      " 27%|██▋       | 23/84 [00:21<00:53,  1.15it/s]\u001b[A\n",
      " 29%|██▊       | 24/84 [00:22<00:58,  1.03it/s]\u001b[A\n",
      " 30%|██▉       | 25/84 [00:23<00:57,  1.03it/s]\u001b[A\n",
      " 31%|███       | 26/84 [00:24<00:53,  1.08it/s]\u001b[A\n",
      " 32%|███▏      | 27/84 [00:25<00:53,  1.06it/s]\u001b[A\n",
      " 33%|███▎      | 28/84 [00:26<00:51,  1.10it/s]\u001b[A\n",
      " 35%|███▍      | 29/84 [00:26<00:49,  1.10it/s]\u001b[A\n",
      " 36%|███▌      | 30/84 [00:28<00:52,  1.03it/s]\u001b[A\n",
      " 37%|███▋      | 31/84 [00:29<00:52,  1.01it/s]\u001b[A\n",
      " 38%|███▊      | 32/84 [00:30<00:49,  1.04it/s]\u001b[A\n",
      " 39%|███▉      | 33/84 [00:30<00:46,  1.09it/s]\u001b[A\n",
      " 40%|████      | 34/84 [00:31<00:44,  1.13it/s]\u001b[A\n",
      " 42%|████▏     | 35/84 [00:32<00:43,  1.13it/s]\u001b[A\n",
      " 43%|████▎     | 36/84 [00:33<00:44,  1.07it/s]\u001b[A\n",
      " 44%|████▍     | 37/84 [00:34<00:42,  1.10it/s]\u001b[A\n",
      " 45%|████▌     | 38/84 [00:35<00:41,  1.11it/s]\u001b[A\n",
      " 46%|████▋     | 39/84 [00:36<00:41,  1.07it/s]\u001b[A\n",
      " 48%|████▊     | 40/84 [00:37<00:39,  1.12it/s]\u001b[A\n",
      " 49%|████▉     | 41/84 [00:37<00:37,  1.14it/s]\u001b[A\n",
      " 50%|█████     | 42/84 [00:39<00:39,  1.07it/s]\u001b[A\n",
      " 51%|█████     | 43/84 [00:39<00:37,  1.09it/s]\u001b[A\n",
      " 52%|█████▏    | 44/84 [00:40<00:34,  1.14it/s]\u001b[A\n",
      " 54%|█████▎    | 45/84 [00:41<00:33,  1.17it/s]\u001b[A\n",
      " 55%|█████▍    | 46/84 [00:42<00:32,  1.18it/s]\u001b[A\n",
      " 56%|█████▌    | 47/84 [00:43<00:33,  1.11it/s]\u001b[A\n",
      " 57%|█████▋    | 48/84 [00:44<00:32,  1.12it/s]\u001b[A\n",
      " 58%|█████▊    | 49/84 [00:45<00:30,  1.16it/s]\u001b[A\n",
      " 60%|█████▉    | 50/84 [00:45<00:29,  1.17it/s]\u001b[A\n",
      " 61%|██████    | 51/84 [00:46<00:29,  1.13it/s]\u001b[A\n",
      " 62%|██████▏   | 52/84 [00:47<00:29,  1.10it/s]\u001b[A\n",
      " 63%|██████▎   | 53/84 [00:48<00:28,  1.09it/s]\u001b[A\n",
      " 64%|██████▍   | 54/84 [00:49<00:29,  1.03it/s]\u001b[A\n",
      " 65%|██████▌   | 55/84 [00:50<00:26,  1.10it/s]\u001b[A\n",
      " 67%|██████▋   | 56/84 [00:51<00:24,  1.13it/s]\u001b[A\n",
      " 68%|██████▊   | 57/84 [00:52<00:24,  1.11it/s]\u001b[A\n",
      " 69%|██████▉   | 58/84 [00:53<00:24,  1.05it/s]\u001b[A\n",
      " 70%|███████   | 59/84 [00:54<00:23,  1.08it/s]\u001b[A\n",
      " 71%|███████▏  | 60/84 [00:55<00:21,  1.11it/s]\u001b[A\n",
      " 73%|███████▎  | 61/84 [00:55<00:20,  1.12it/s]\u001b[A\n",
      " 74%|███████▍  | 62/84 [00:57<00:20,  1.06it/s]\u001b[A\n",
      " 75%|███████▌  | 63/84 [00:58<00:22,  1.06s/it]\u001b[A\n",
      " 76%|███████▌  | 64/84 [00:59<00:22,  1.10s/it]\u001b[A\n",
      " 77%|███████▋  | 65/84 [01:00<00:20,  1.10s/it]\u001b[A\n",
      " 79%|███████▊  | 66/84 [01:01<00:19,  1.07s/it]\u001b[A\n",
      " 80%|███████▉  | 67/84 [01:02<00:17,  1.05s/it]\u001b[A\n",
      " 81%|████████  | 68/84 [01:03<00:15,  1.01it/s]\u001b[A\n",
      " 82%|████████▏ | 69/84 [01:04<00:14,  1.00it/s]\u001b[A\n",
      " 83%|████████▎ | 70/84 [01:05<00:13,  1.07it/s]\u001b[A\n",
      " 85%|████████▍ | 71/84 [01:06<00:11,  1.12it/s]\u001b[A\n",
      " 86%|████████▌ | 72/84 [01:06<00:10,  1.14it/s]\u001b[A\n",
      " 87%|████████▋ | 73/84 [01:07<00:09,  1.19it/s]\u001b[A\n",
      " 88%|████████▊ | 74/84 [01:08<00:08,  1.19it/s]\u001b[A\n",
      " 89%|████████▉ | 75/84 [01:09<00:07,  1.18it/s]\u001b[A\n",
      " 90%|█████████ | 76/84 [01:10<00:06,  1.19it/s]\u001b[A\n",
      " 92%|█████████▏| 77/84 [01:11<00:05,  1.18it/s]\u001b[A\n",
      " 93%|█████████▎| 78/84 [01:11<00:05,  1.17it/s]\u001b[A\n",
      " 94%|█████████▍| 79/84 [01:12<00:04,  1.21it/s]\u001b[A\n",
      " 95%|█████████▌| 80/84 [01:13<00:03,  1.14it/s]\u001b[A\n",
      " 96%|█████████▋| 81/84 [01:14<00:02,  1.03it/s]\u001b[A\n",
      " 98%|█████████▊| 82/84 [01:15<00:01,  1.08it/s]\u001b[A\n",
      " 99%|█████████▉| 83/84 [01:16<00:00,  1.11it/s]\u001b[A\n",
      "100%|██████████| 84/84 [01:17<00:00,  1.08it/s]\u001b[A\n",
      " 38%|███▊      | 3/8 [03:53<06:32, 78.49s/it]\n",
      "  0%|          | 0/84 [00:00<?, ?it/s]\u001b[A\n",
      "  1%|          | 1/84 [00:00<01:10,  1.18it/s]\u001b[A\n",
      "  2%|▏         | 2/84 [00:01<01:12,  1.14it/s]\u001b[A\n",
      "  4%|▎         | 3/84 [00:02<01:13,  1.10it/s]\u001b[A\n",
      "  5%|▍         | 4/84 [00:03<01:14,  1.08it/s]\u001b[A\n",
      "  6%|▌         | 5/84 [00:04<01:10,  1.12it/s]\u001b[A\n",
      "  7%|▋         | 6/84 [00:05<01:07,  1.16it/s]\u001b[A\n",
      "  8%|▊         | 7/84 [00:06<01:04,  1.19it/s]\u001b[A\n",
      " 10%|▉         | 8/84 [00:07<01:05,  1.16it/s]\u001b[A\n",
      " 11%|█         | 9/84 [00:08<01:10,  1.06it/s]\u001b[A\n",
      " 12%|█▏        | 10/84 [00:09<01:11,  1.03it/s]\u001b[A\n",
      " 13%|█▎        | 11/84 [00:10<01:17,  1.07s/it]\u001b[A\n",
      " 14%|█▍        | 12/84 [00:11<01:12,  1.01s/it]\u001b[A\n",
      " 15%|█▌        | 13/84 [00:12<01:22,  1.16s/it]\u001b[A\n",
      " 17%|█▋        | 14/84 [00:13<01:15,  1.07s/it]\u001b[A\n",
      " 18%|█▊        | 15/84 [00:14<01:12,  1.05s/it]\u001b[A\n",
      " 19%|█▉        | 16/84 [00:15<01:13,  1.07s/it]\u001b[A\n",
      " 20%|██        | 17/84 [00:17<01:14,  1.11s/it]\u001b[A\n",
      " 21%|██▏       | 18/84 [00:18<01:11,  1.08s/it]\u001b[A\n",
      " 23%|██▎       | 19/84 [00:18<01:05,  1.00s/it]\u001b[A\n",
      " 24%|██▍       | 20/84 [00:19<01:02,  1.03it/s]\u001b[A\n",
      " 25%|██▌       | 21/84 [00:20<01:01,  1.02it/s]\u001b[A\n",
      " 26%|██▌       | 22/84 [00:22<01:06,  1.07s/it]\u001b[A\n",
      " 27%|██▋       | 23/84 [00:23<01:03,  1.05s/it]\u001b[A\n",
      " 29%|██▊       | 24/84 [00:23<00:59,  1.00it/s]\u001b[A\n",
      " 30%|██▉       | 25/84 [00:24<00:57,  1.03it/s]\u001b[A\n",
      " 31%|███       | 26/84 [00:25<00:53,  1.07it/s]\u001b[A\n",
      " 32%|███▏      | 27/84 [00:26<00:52,  1.09it/s]\u001b[A\n",
      " 33%|███▎      | 28/84 [00:27<00:50,  1.10it/s]\u001b[A\n",
      " 35%|███▍      | 29/84 [00:28<00:51,  1.08it/s]\u001b[A\n",
      " 36%|███▌      | 30/84 [00:29<00:49,  1.09it/s]\u001b[A\n",
      " 37%|███▋      | 31/84 [00:30<00:46,  1.14it/s]\u001b[A\n",
      " 38%|███▊      | 32/84 [00:31<00:46,  1.11it/s]\u001b[A\n",
      " 39%|███▉      | 33/84 [00:32<00:50,  1.00it/s]\u001b[A\n",
      " 40%|████      | 34/84 [00:33<00:48,  1.03it/s]\u001b[A\n",
      " 42%|████▏     | 35/84 [00:34<00:44,  1.10it/s]\u001b[A\n",
      " 43%|████▎     | 36/84 [00:34<00:42,  1.12it/s]\u001b[A\n",
      " 44%|████▍     | 37/84 [00:35<00:41,  1.13it/s]\u001b[A\n",
      " 45%|████▌     | 38/84 [00:36<00:43,  1.05it/s]\u001b[A\n",
      " 46%|████▋     | 39/84 [00:37<00:44,  1.01it/s]\u001b[A\n",
      " 48%|████▊     | 40/84 [00:38<00:44,  1.01s/it]\u001b[A\n",
      " 49%|████▉     | 41/84 [00:40<00:50,  1.17s/it]\u001b[A\n",
      " 50%|█████     | 42/84 [00:41<00:48,  1.15s/it]\u001b[A\n",
      " 51%|█████     | 43/84 [00:42<00:46,  1.13s/it]\u001b[A\n",
      " 52%|█████▏    | 44/84 [00:44<00:47,  1.19s/it]\u001b[A\n",
      " 54%|█████▎    | 45/84 [00:45<00:48,  1.25s/it]\u001b[A\n",
      " 55%|█████▍    | 46/84 [00:46<00:44,  1.17s/it]\u001b[A\n",
      " 56%|█████▌    | 47/84 [00:47<00:39,  1.06s/it]\u001b[A\n",
      " 57%|█████▋    | 48/84 [00:48<00:37,  1.05s/it]\u001b[A\n",
      " 58%|█████▊    | 49/84 [00:49<00:39,  1.12s/it]\u001b[A\n",
      " 60%|█████▉    | 50/84 [00:50<00:38,  1.12s/it]\u001b[A\n",
      " 61%|██████    | 51/84 [00:51<00:36,  1.10s/it]\u001b[A\n",
      " 62%|██████▏   | 52/84 [00:52<00:36,  1.13s/it]\u001b[A\n",
      " 63%|██████▎   | 53/84 [00:53<00:33,  1.09s/it]\u001b[A\n",
      " 64%|██████▍   | 54/84 [00:54<00:32,  1.07s/it]\u001b[A\n",
      " 65%|██████▌   | 55/84 [00:55<00:30,  1.04s/it]\u001b[A\n",
      " 67%|██████▋   | 56/84 [00:57<00:31,  1.13s/it]\u001b[A\n",
      " 68%|██████▊   | 57/84 [00:58<00:30,  1.15s/it]\u001b[A\n",
      " 69%|██████▉   | 58/84 [00:59<00:28,  1.10s/it]\u001b[A\n",
      " 70%|███████   | 59/84 [01:00<00:25,  1.02s/it]\u001b[A\n",
      " 71%|███████▏  | 60/84 [01:01<00:23,  1.02it/s]\u001b[A\n",
      " 73%|███████▎  | 61/84 [01:01<00:21,  1.05it/s]\u001b[A\n",
      " 74%|███████▍  | 62/84 [01:02<00:20,  1.06it/s]\u001b[A\n",
      " 75%|███████▌  | 63/84 [01:03<00:18,  1.12it/s]\u001b[A\n",
      " 76%|███████▌  | 64/84 [01:04<00:17,  1.14it/s]\u001b[A\n",
      " 77%|███████▋  | 65/84 [01:05<00:15,  1.19it/s]\u001b[A\n",
      " 79%|███████▊  | 66/84 [01:06<00:15,  1.14it/s]\u001b[A\n",
      " 80%|███████▉  | 67/84 [01:07<00:15,  1.08it/s]\u001b[A\n",
      " 81%|████████  | 68/84 [01:08<00:15,  1.07it/s]\u001b[A\n",
      " 82%|████████▏ | 69/84 [01:09<00:14,  1.03it/s]\u001b[A\n",
      " 83%|████████▎ | 70/84 [01:10<00:14,  1.02s/it]\u001b[A\n",
      " 85%|████████▍ | 71/84 [01:11<00:12,  1.02it/s]\u001b[A\n",
      " 86%|████████▌ | 72/84 [01:12<00:11,  1.07it/s]\u001b[A\n",
      " 87%|████████▋ | 73/84 [01:13<00:10,  1.08it/s]\u001b[A\n",
      " 88%|████████▊ | 74/84 [01:13<00:08,  1.12it/s]\u001b[A\n",
      " 89%|████████▉ | 75/84 [01:14<00:08,  1.06it/s]\u001b[A\n",
      " 90%|█████████ | 76/84 [01:15<00:07,  1.03it/s]\u001b[A\n",
      " 92%|█████████▏| 77/84 [01:17<00:07,  1.02s/it]\u001b[A\n",
      " 93%|█████████▎| 78/84 [01:17<00:05,  1.04it/s]\u001b[A\n",
      " 94%|█████████▍| 79/84 [01:18<00:04,  1.09it/s]\u001b[A\n",
      " 95%|█████████▌| 80/84 [01:19<00:03,  1.11it/s]\u001b[A\n",
      " 96%|█████████▋| 81/84 [01:20<00:02,  1.10it/s]\u001b[A\n",
      " 98%|█████████▊| 82/84 [01:21<00:01,  1.01it/s]\u001b[A\n",
      " 99%|█████████▉| 83/84 [01:22<00:01,  1.01s/it]\u001b[A\n",
      "100%|██████████| 84/84 [01:23<00:00,  1.00it/s]\u001b[A\n",
      " 50%|█████     | 4/8 [05:17<05:20, 80.08s/it]\n",
      "  0%|          | 0/84 [00:00<?, ?it/s]\u001b[A\n",
      "  1%|          | 1/84 [00:01<01:38,  1.18s/it]\u001b[A\n",
      "  2%|▏         | 2/84 [00:02<01:28,  1.08s/it]\u001b[A\n",
      "  4%|▎         | 3/84 [00:02<01:22,  1.01s/it]\u001b[A\n",
      "  5%|▍         | 4/84 [00:03<01:22,  1.03s/it]\u001b[A\n",
      "  6%|▌         | 5/84 [00:05<01:26,  1.10s/it]\u001b[A\n",
      "  7%|▋         | 6/84 [00:06<01:20,  1.04s/it]\u001b[A\n",
      "  8%|▊         | 7/84 [00:06<01:14,  1.04it/s]\u001b[A\n",
      " 10%|▉         | 8/84 [00:07<01:10,  1.08it/s]\u001b[A\n",
      " 11%|█         | 9/84 [00:08<01:05,  1.15it/s]\u001b[A\n",
      " 12%|█▏        | 10/84 [00:09<01:06,  1.12it/s]\u001b[A\n",
      " 13%|█▎        | 11/84 [00:10<01:07,  1.08it/s]\u001b[A\n",
      " 14%|█▍        | 12/84 [00:11<01:07,  1.07it/s]\u001b[A\n",
      " 15%|█▌        | 13/84 [00:12<01:03,  1.11it/s]\u001b[A\n",
      " 17%|█▋        | 14/84 [00:13<01:01,  1.14it/s]\u001b[A\n",
      " 18%|█▊        | 15/84 [00:13<01:00,  1.13it/s]\u001b[A\n",
      " 19%|█▉        | 16/84 [00:14<01:03,  1.08it/s]\u001b[A\n",
      " 20%|██        | 17/84 [00:16<01:07,  1.01s/it]\u001b[A\n",
      " 21%|██▏       | 18/84 [00:17<01:08,  1.03s/it]\u001b[A\n",
      " 23%|██▎       | 19/84 [00:18<01:04,  1.01it/s]\u001b[A\n",
      " 24%|██▍       | 20/84 [00:18<00:59,  1.08it/s]\u001b[A\n",
      " 25%|██▌       | 21/84 [00:19<00:57,  1.09it/s]\u001b[A\n",
      " 26%|██▌       | 22/84 [00:20<00:57,  1.08it/s]\u001b[A\n",
      " 27%|██▋       | 23/84 [00:21<00:56,  1.08it/s]\u001b[A\n",
      " 29%|██▊       | 24/84 [00:22<00:52,  1.14it/s]\u001b[A\n",
      " 30%|██▉       | 25/84 [00:23<00:52,  1.11it/s]\u001b[A\n",
      " 31%|███       | 26/84 [00:24<00:50,  1.14it/s]\u001b[A\n",
      " 32%|███▏      | 27/84 [00:25<00:49,  1.15it/s]\u001b[A\n",
      " 33%|███▎      | 28/84 [00:25<00:50,  1.12it/s]\u001b[A\n",
      " 35%|███▍      | 29/84 [00:26<00:49,  1.12it/s]\u001b[A\n",
      " 36%|███▌      | 30/84 [00:27<00:49,  1.09it/s]\u001b[A\n",
      " 37%|███▋      | 31/84 [00:28<00:46,  1.13it/s]\u001b[A\n",
      " 38%|███▊      | 32/84 [00:29<00:44,  1.17it/s]\u001b[A\n",
      " 39%|███▉      | 33/84 [00:30<00:44,  1.13it/s]\u001b[A\n",
      " 40%|████      | 34/84 [00:31<00:44,  1.13it/s]\u001b[A\n",
      " 42%|████▏     | 35/84 [00:32<00:42,  1.16it/s]\u001b[A\n",
      " 43%|████▎     | 36/84 [00:32<00:40,  1.17it/s]\u001b[A\n",
      " 44%|████▍     | 37/84 [00:33<00:41,  1.14it/s]\u001b[A\n",
      " 45%|████▌     | 38/84 [00:35<00:46,  1.02s/it]\u001b[A\n",
      " 46%|████▋     | 39/84 [00:36<00:45,  1.02s/it]\u001b[A\n",
      " 48%|████▊     | 40/84 [00:37<00:42,  1.03it/s]\u001b[A\n",
      " 49%|████▉     | 41/84 [00:38<00:43,  1.00s/it]\u001b[A\n",
      " 50%|█████     | 42/84 [00:39<00:41,  1.02it/s]\u001b[A\n",
      " 51%|█████     | 43/84 [00:40<00:41,  1.01s/it]\u001b[A\n",
      " 52%|█████▏    | 44/84 [00:40<00:38,  1.05it/s]\u001b[A\n",
      " 54%|█████▎    | 45/84 [00:41<00:36,  1.06it/s]\u001b[A\n",
      " 55%|█████▍    | 46/84 [00:42<00:35,  1.07it/s]\u001b[A\n",
      " 56%|█████▌    | 47/84 [00:43<00:33,  1.11it/s]\u001b[A\n",
      " 57%|█████▋    | 48/84 [00:44<00:32,  1.10it/s]\u001b[A\n",
      " 58%|█████▊    | 49/84 [00:45<00:33,  1.03it/s]\u001b[A\n",
      " 60%|█████▉    | 50/84 [00:46<00:35,  1.04s/it]\u001b[A\n",
      " 61%|██████    | 51/84 [00:47<00:32,  1.01it/s]\u001b[A\n",
      " 62%|██████▏   | 52/84 [00:48<00:30,  1.04it/s]\u001b[A\n",
      " 63%|██████▎   | 53/84 [00:49<00:29,  1.05it/s]\u001b[A\n",
      " 64%|██████▍   | 54/84 [00:50<00:27,  1.11it/s]\u001b[A\n",
      " 65%|██████▌   | 55/84 [00:51<00:26,  1.11it/s]\u001b[A\n",
      " 67%|██████▋   | 56/84 [00:52<00:26,  1.04it/s]\u001b[A\n",
      " 68%|██████▊   | 57/84 [00:53<00:26,  1.01it/s]\u001b[A\n",
      " 69%|██████▉   | 58/84 [00:54<00:24,  1.05it/s]\u001b[A\n",
      " 70%|███████   | 59/84 [00:55<00:23,  1.06it/s]\u001b[A\n",
      " 71%|███████▏  | 60/84 [00:56<00:24,  1.03s/it]\u001b[A\n",
      " 73%|███████▎  | 61/84 [00:57<00:23,  1.04s/it]\u001b[A\n",
      " 74%|███████▍  | 62/84 [00:58<00:21,  1.01it/s]\u001b[A\n",
      " 75%|███████▌  | 63/84 [00:59<00:20,  1.01it/s]\u001b[A\n",
      " 76%|███████▌  | 64/84 [01:00<00:19,  1.03it/s]\u001b[A\n",
      " 77%|███████▋  | 65/84 [01:01<00:18,  1.04it/s]\u001b[A\n",
      " 79%|███████▊  | 66/84 [01:02<00:16,  1.07it/s]\u001b[A\n",
      " 80%|███████▉  | 67/84 [01:02<00:15,  1.09it/s]\u001b[A\n",
      " 81%|████████  | 68/84 [01:03<00:14,  1.08it/s]\u001b[A\n",
      " 82%|████████▏ | 69/84 [01:05<00:15,  1.00s/it]\u001b[A\n",
      " 83%|████████▎ | 70/84 [01:06<00:14,  1.01s/it]\u001b[A\n",
      " 85%|████████▍ | 71/84 [01:06<00:12,  1.07it/s]\u001b[A\n",
      " 86%|████████▌ | 72/84 [01:07<00:11,  1.09it/s]\u001b[A\n",
      " 87%|████████▋ | 73/84 [01:08<00:09,  1.11it/s]\u001b[A\n",
      " 88%|████████▊ | 74/84 [01:09<00:08,  1.15it/s]\u001b[A\n",
      " 89%|████████▉ | 75/84 [01:10<00:08,  1.11it/s]\u001b[A\n",
      " 90%|█████████ | 76/84 [01:11<00:07,  1.10it/s]\u001b[A\n",
      " 92%|█████████▏| 77/84 [01:12<00:06,  1.10it/s]\u001b[A\n",
      " 93%|█████████▎| 78/84 [01:13<00:05,  1.16it/s]\u001b[A\n",
      " 94%|█████████▍| 79/84 [01:13<00:04,  1.17it/s]\u001b[A\n",
      " 95%|█████████▌| 80/84 [01:15<00:03,  1.03it/s]\u001b[A\n",
      " 96%|█████████▋| 81/84 [01:16<00:03,  1.00s/it]\u001b[A\n",
      " 98%|█████████▊| 82/84 [01:17<00:01,  1.02it/s]\u001b[A\n",
      " 99%|█████████▉| 83/84 [01:17<00:00,  1.08it/s]\u001b[A\n",
      "100%|██████████| 84/84 [01:18<00:00,  1.07it/s]\u001b[A\n",
      " 62%|██████▎   | 5/8 [06:36<03:59, 79.70s/it]\n",
      "  0%|          | 0/84 [00:00<?, ?it/s]\u001b[A\n",
      "  1%|          | 1/84 [00:00<01:17,  1.06it/s]\u001b[A\n",
      "  2%|▏         | 2/84 [00:01<01:14,  1.11it/s]\u001b[A\n",
      "  4%|▎         | 3/84 [00:02<01:12,  1.12it/s]\u001b[A\n",
      "  5%|▍         | 4/84 [00:03<01:21,  1.01s/it]\u001b[A\n",
      "  6%|▌         | 5/84 [00:04<01:20,  1.02s/it]\u001b[A\n",
      "  7%|▋         | 6/84 [00:05<01:18,  1.01s/it]\u001b[A\n",
      "  8%|▊         | 7/84 [00:06<01:14,  1.04it/s]\u001b[A\n",
      " 10%|▉         | 8/84 [00:07<01:11,  1.06it/s]\u001b[A\n",
      " 11%|█         | 9/84 [00:09<01:22,  1.10s/it]\u001b[A\n",
      " 12%|█▏        | 10/84 [00:10<01:19,  1.08s/it]\u001b[A\n",
      " 13%|█▎        | 11/84 [00:11<01:17,  1.07s/it]\u001b[A\n",
      " 14%|█▍        | 12/84 [00:12<01:11,  1.01it/s]\u001b[A\n",
      " 15%|█▌        | 13/84 [00:12<01:07,  1.06it/s]\u001b[A\n",
      " 17%|█▋        | 14/84 [00:13<01:05,  1.07it/s]\u001b[A\n",
      " 18%|█▊        | 15/84 [00:14<01:04,  1.07it/s]\u001b[A\n",
      " 19%|█▉        | 16/84 [00:15<01:02,  1.09it/s]\u001b[A\n",
      " 20%|██        | 17/84 [00:16<01:02,  1.08it/s]\u001b[A\n",
      " 21%|██▏       | 18/84 [00:17<01:02,  1.05it/s]\u001b[A\n",
      " 23%|██▎       | 19/84 [00:18<01:07,  1.04s/it]\u001b[A\n",
      " 24%|██▍       | 20/84 [00:19<01:07,  1.06s/it]\u001b[A\n",
      " 25%|██▌       | 21/84 [00:21<01:11,  1.14s/it]\u001b[A\n",
      " 26%|██▌       | 22/84 [00:22<01:11,  1.16s/it]\u001b[A\n",
      " 27%|██▋       | 23/84 [00:23<01:13,  1.20s/it]\u001b[A\n",
      " 29%|██▊       | 24/84 [00:24<01:11,  1.19s/it]\u001b[A\n",
      " 30%|██▉       | 25/84 [00:25<01:07,  1.14s/it]\u001b[A\n",
      " 31%|███       | 26/84 [00:26<01:04,  1.11s/it]\u001b[A\n",
      " 32%|███▏      | 27/84 [00:28<01:03,  1.11s/it]\u001b[A\n",
      " 33%|███▎      | 28/84 [00:29<01:04,  1.15s/it]\u001b[A\n",
      " 35%|███▍      | 29/84 [00:30<01:05,  1.19s/it]\u001b[A\n",
      " 36%|███▌      | 30/84 [00:31<01:05,  1.20s/it]\u001b[A\n",
      " 37%|███▋      | 31/84 [00:33<01:04,  1.21s/it]\u001b[A\n",
      " 38%|███▊      | 32/84 [00:34<01:02,  1.21s/it]\u001b[A\n",
      " 39%|███▉      | 33/84 [00:35<00:56,  1.10s/it]\u001b[A\n",
      " 40%|████      | 34/84 [00:36<00:54,  1.09s/it]\u001b[A\n",
      " 42%|████▏     | 35/84 [00:37<00:55,  1.13s/it]\u001b[A\n",
      " 43%|████▎     | 36/84 [00:38<00:53,  1.12s/it]\u001b[A\n",
      " 44%|████▍     | 37/84 [00:39<00:48,  1.04s/it]\u001b[A\n",
      " 45%|████▌     | 38/84 [00:40<00:47,  1.03s/it]\u001b[A\n",
      " 46%|████▋     | 39/84 [00:41<00:46,  1.04s/it]\u001b[A\n",
      " 48%|████▊     | 40/84 [00:42<00:45,  1.03s/it]\u001b[A\n",
      " 49%|████▉     | 41/84 [00:43<00:43,  1.02s/it]\u001b[A\n",
      " 50%|█████     | 42/84 [00:44<00:48,  1.16s/it]\u001b[A\n",
      " 51%|█████     | 43/84 [00:46<00:51,  1.25s/it]\u001b[A\n",
      " 52%|█████▏    | 44/84 [00:47<00:51,  1.29s/it]\u001b[A\n",
      " 54%|█████▎    | 45/84 [00:49<00:51,  1.31s/it]\u001b[A\n",
      " 55%|█████▍    | 46/84 [00:50<00:49,  1.29s/it]\u001b[A\n",
      " 56%|█████▌    | 47/84 [00:51<00:48,  1.31s/it]\u001b[A\n",
      " 57%|█████▋    | 48/84 [00:52<00:42,  1.19s/it]\u001b[A\n",
      " 58%|█████▊    | 49/84 [00:53<00:37,  1.08s/it]\u001b[A\n",
      " 60%|█████▉    | 50/84 [00:54<00:34,  1.01s/it]\u001b[A\n",
      " 61%|██████    | 51/84 [00:55<00:32,  1.02it/s]\u001b[A\n",
      " 62%|██████▏   | 52/84 [00:56<00:31,  1.03it/s]\u001b[A\n",
      " 63%|██████▎   | 53/84 [00:56<00:28,  1.09it/s]\u001b[A\n",
      " 64%|██████▍   | 54/84 [00:58<00:29,  1.00it/s]\u001b[A\n",
      " 65%|██████▌   | 55/84 [00:59<00:28,  1.02it/s]\u001b[A\n",
      " 67%|██████▋   | 56/84 [01:00<00:27,  1.03it/s]\u001b[A\n",
      " 68%|██████▊   | 57/84 [01:00<00:26,  1.03it/s]\u001b[A\n",
      " 69%|██████▉   | 58/84 [01:01<00:25,  1.02it/s]\u001b[A\n",
      " 70%|███████   | 59/84 [01:02<00:23,  1.08it/s]\u001b[A\n",
      " 71%|███████▏  | 60/84 [01:03<00:22,  1.05it/s]\u001b[A\n",
      " 73%|███████▎  | 61/84 [01:04<00:20,  1.11it/s]\u001b[A\n",
      " 74%|███████▍  | 62/84 [01:05<00:20,  1.05it/s]\u001b[A\n",
      " 75%|███████▌  | 63/84 [01:06<00:19,  1.06it/s]\u001b[A\n",
      " 76%|███████▌  | 64/84 [01:07<00:19,  1.01it/s]\u001b[A\n",
      " 77%|███████▋  | 65/84 [01:08<00:18,  1.03it/s]\u001b[A\n",
      " 79%|███████▊  | 66/84 [01:09<00:18,  1.01s/it]\u001b[A\n",
      " 80%|███████▉  | 67/84 [01:10<00:16,  1.02it/s]\u001b[A\n",
      " 81%|████████  | 68/84 [01:11<00:14,  1.07it/s]\u001b[A\n",
      " 82%|████████▏ | 69/84 [01:12<00:13,  1.08it/s]\u001b[A\n",
      " 83%|████████▎ | 70/84 [01:13<00:13,  1.01it/s]\u001b[A\n",
      " 85%|████████▍ | 71/84 [01:14<00:12,  1.06it/s]\u001b[A\n",
      " 86%|████████▌ | 72/84 [01:15<00:11,  1.07it/s]\u001b[A\n",
      " 87%|████████▋ | 73/84 [01:16<00:10,  1.05it/s]\u001b[A\n",
      " 88%|████████▊ | 74/84 [01:17<00:09,  1.09it/s]\u001b[A\n",
      " 89%|████████▉ | 75/84 [01:18<00:08,  1.04it/s]\u001b[A\n",
      " 90%|█████████ | 76/84 [01:19<00:08,  1.05s/it]\u001b[A\n",
      " 92%|█████████▏| 77/84 [01:20<00:07,  1.05s/it]\u001b[A\n",
      " 93%|█████████▎| 78/84 [01:21<00:06,  1.03s/it]\u001b[A\n",
      " 94%|█████████▍| 79/84 [01:22<00:05,  1.01s/it]\u001b[A\n",
      " 95%|█████████▌| 80/84 [01:23<00:04,  1.04s/it]\u001b[A\n",
      " 96%|█████████▋| 81/84 [01:24<00:03,  1.05s/it]\u001b[A\n",
      " 98%|█████████▊| 82/84 [01:25<00:02,  1.01s/it]\u001b[A\n",
      " 99%|█████████▉| 83/84 [01:26<00:00,  1.05it/s]\u001b[A\n",
      "100%|██████████| 84/84 [01:27<00:00,  1.04s/it]\u001b[A\n",
      " 75%|███████▌  | 6/8 [08:03<02:43, 81.97s/it]\n",
      "  0%|          | 0/84 [00:00<?, ?it/s]\u001b[A\n",
      "  1%|          | 1/84 [00:01<01:33,  1.12s/it]\u001b[A\n",
      "  2%|▏         | 2/84 [00:02<01:26,  1.05s/it]\u001b[A\n",
      "  4%|▎         | 3/84 [00:02<01:21,  1.00s/it]\u001b[A\n",
      "  5%|▍         | 4/84 [00:03<01:19,  1.00it/s]\u001b[A\n",
      "  6%|▌         | 5/84 [00:04<01:20,  1.01s/it]\u001b[A\n",
      "  7%|▋         | 6/84 [00:05<01:17,  1.01it/s]\u001b[A\n",
      "  8%|▊         | 7/84 [00:07<01:21,  1.06s/it]\u001b[A\n",
      " 10%|▉         | 8/84 [00:08<01:19,  1.05s/it]\u001b[A\n",
      " 11%|█         | 9/84 [00:09<01:17,  1.04s/it]\u001b[A\n",
      " 12%|█▏        | 10/84 [00:10<01:13,  1.01it/s]\u001b[A\n",
      " 13%|█▎        | 11/84 [00:10<01:11,  1.02it/s]\u001b[A\n",
      " 14%|█▍        | 12/84 [00:11<01:06,  1.08it/s]\u001b[A\n",
      " 15%|█▌        | 13/84 [00:12<01:06,  1.07it/s]\u001b[A\n",
      " 17%|█▋        | 14/84 [00:13<01:05,  1.07it/s]\u001b[A\n",
      " 18%|█▊        | 15/84 [00:14<01:07,  1.02it/s]\u001b[A\n",
      " 19%|█▉        | 16/84 [00:15<01:08,  1.00s/it]\u001b[A\n",
      " 20%|██        | 17/84 [00:16<01:09,  1.04s/it]\u001b[A\n",
      " 21%|██▏       | 18/84 [00:17<01:03,  1.04it/s]\u001b[A\n",
      " 23%|██▎       | 19/84 [00:18<00:59,  1.10it/s]\u001b[A\n",
      " 24%|██▍       | 20/84 [00:19<00:57,  1.11it/s]\u001b[A\n",
      " 25%|██▌       | 21/84 [00:20<00:58,  1.07it/s]\u001b[A\n",
      " 26%|██▌       | 22/84 [00:21<00:58,  1.07it/s]\u001b[A\n",
      " 27%|██▋       | 23/84 [00:22<00:56,  1.08it/s]\u001b[A\n",
      " 29%|██▊       | 24/84 [00:23<00:55,  1.08it/s]\u001b[A\n",
      " 30%|██▉       | 25/84 [00:24<00:56,  1.05it/s]\u001b[A\n",
      " 31%|███       | 26/84 [00:24<00:52,  1.11it/s]\u001b[A\n",
      " 32%|███▏      | 27/84 [00:25<00:51,  1.11it/s]\u001b[A\n",
      " 33%|███▎      | 28/84 [00:26<00:49,  1.13it/s]\u001b[A\n",
      " 35%|███▍      | 29/84 [00:27<00:50,  1.09it/s]\u001b[A\n",
      " 36%|███▌      | 30/84 [00:28<00:53,  1.02it/s]\u001b[A\n",
      " 37%|███▋      | 31/84 [00:29<00:53,  1.00s/it]\u001b[A\n",
      " 38%|███▊      | 32/84 [00:30<00:53,  1.03s/it]\u001b[A\n",
      " 39%|███▉      | 33/84 [00:32<00:52,  1.03s/it]\u001b[A\n",
      " 40%|████      | 34/84 [00:32<00:49,  1.01it/s]\u001b[A\n",
      " 42%|████▏     | 35/84 [00:33<00:45,  1.08it/s]\u001b[A\n",
      " 43%|████▎     | 36/84 [00:34<00:44,  1.07it/s]\u001b[A\n",
      " 44%|████▍     | 37/84 [00:35<00:45,  1.04it/s]\u001b[A\n",
      " 45%|████▌     | 38/84 [00:36<00:44,  1.03it/s]\u001b[A\n",
      " 46%|████▋     | 39/84 [00:37<00:42,  1.06it/s]\u001b[A\n",
      " 48%|████▊     | 40/84 [00:38<00:39,  1.10it/s]\u001b[A\n",
      " 49%|████▉     | 41/84 [00:39<00:38,  1.12it/s]\u001b[A\n",
      " 50%|█████     | 42/84 [00:40<00:42,  1.01s/it]\u001b[A\n",
      " 51%|█████     | 43/84 [00:41<00:41,  1.02s/it]\u001b[A\n",
      " 52%|█████▏    | 44/84 [00:42<00:38,  1.03it/s]\u001b[A\n",
      " 54%|█████▎    | 45/84 [00:43<00:35,  1.10it/s]\u001b[A\n",
      " 55%|█████▍    | 46/84 [00:43<00:33,  1.14it/s]\u001b[A\n",
      " 56%|█████▌    | 47/84 [00:44<00:32,  1.16it/s]\u001b[A\n",
      " 57%|█████▋    | 48/84 [00:45<00:33,  1.08it/s]\u001b[A\n",
      " 58%|█████▊    | 49/84 [00:46<00:33,  1.03it/s]\u001b[A\n",
      " 60%|█████▉    | 50/84 [00:47<00:31,  1.08it/s]\u001b[A\n",
      " 61%|██████    | 51/84 [00:48<00:29,  1.12it/s]\u001b[A\n",
      " 62%|██████▏   | 52/84 [00:49<00:28,  1.11it/s]\u001b[A\n",
      " 63%|██████▎   | 53/84 [00:50<00:29,  1.03it/s]\u001b[A\n",
      " 64%|██████▍   | 54/84 [00:51<00:31,  1.05s/it]\u001b[A\n",
      " 65%|██████▌   | 55/84 [00:52<00:28,  1.01it/s]\u001b[A\n",
      " 67%|██████▋   | 56/84 [00:53<00:26,  1.06it/s]\u001b[A\n",
      " 68%|██████▊   | 57/84 [00:54<00:25,  1.06it/s]\u001b[A\n",
      " 69%|██████▉   | 58/84 [00:55<00:25,  1.02it/s]\u001b[A\n",
      " 70%|███████   | 59/84 [00:56<00:23,  1.05it/s]\u001b[A\n",
      " 71%|███████▏  | 60/84 [00:57<00:22,  1.09it/s]\u001b[A\n",
      " 73%|███████▎  | 61/84 [00:58<00:21,  1.09it/s]\u001b[A\n",
      " 74%|███████▍  | 62/84 [00:59<00:19,  1.14it/s]\u001b[A\n",
      " 75%|███████▌  | 63/84 [00:59<00:18,  1.14it/s]\u001b[A\n",
      " 76%|███████▌  | 64/84 [01:01<00:19,  1.01it/s]\u001b[A\n",
      " 77%|███████▋  | 65/84 [01:02<00:18,  1.05it/s]\u001b[A\n",
      " 79%|███████▊  | 66/84 [01:02<00:17,  1.05it/s]\u001b[A\n",
      " 80%|███████▉  | 67/84 [01:04<00:16,  1.02it/s]\u001b[A\n",
      " 81%|████████  | 68/84 [01:04<00:15,  1.05it/s]\u001b[A\n",
      " 82%|████████▏ | 69/84 [01:05<00:14,  1.07it/s]\u001b[A\n",
      " 83%|████████▎ | 70/84 [01:06<00:12,  1.08it/s]\u001b[A\n",
      " 85%|████████▍ | 71/84 [01:07<00:11,  1.10it/s]\u001b[A\n",
      " 86%|████████▌ | 72/84 [01:08<00:10,  1.13it/s]\u001b[A\n",
      " 87%|████████▋ | 73/84 [01:09<00:10,  1.01it/s]\u001b[A\n",
      " 88%|████████▊ | 74/84 [01:10<00:10,  1.00s/it]\u001b[A\n",
      " 89%|████████▉ | 75/84 [01:11<00:08,  1.00it/s]\u001b[A\n",
      " 90%|█████████ | 76/84 [01:12<00:07,  1.03it/s]\u001b[A\n",
      " 92%|█████████▏| 77/84 [01:13<00:06,  1.11it/s]\u001b[A\n",
      " 93%|█████████▎| 78/84 [01:14<00:05,  1.13it/s]\u001b[A\n",
      " 94%|█████████▍| 79/84 [01:15<00:04,  1.12it/s]\u001b[A\n",
      " 95%|█████████▌| 80/84 [01:16<00:03,  1.04it/s]\u001b[A\n",
      " 96%|█████████▋| 81/84 [01:17<00:02,  1.03it/s]\u001b[A\n",
      " 98%|█████████▊| 82/84 [01:18<00:01,  1.04it/s]\u001b[A\n",
      " 99%|█████████▉| 83/84 [01:18<00:00,  1.08it/s]\u001b[A\n",
      "100%|██████████| 84/84 [01:20<00:00,  1.05it/s]\u001b[A\n",
      " 88%|████████▊ | 7/8 [09:23<01:21, 81.40s/it]\n",
      "  0%|          | 0/84 [00:00<?, ?it/s]\u001b[A\n",
      "  1%|          | 1/84 [00:01<01:28,  1.06s/it]\u001b[A\n",
      "  2%|▏         | 2/84 [00:01<01:21,  1.01it/s]\u001b[A\n",
      "  4%|▎         | 3/84 [00:02<01:15,  1.08it/s]\u001b[A\n",
      "  5%|▍         | 4/84 [00:03<01:19,  1.00it/s]\u001b[A\n",
      "  6%|▌         | 5/84 [00:04<01:20,  1.02s/it]\u001b[A\n",
      "  7%|▋         | 6/84 [00:05<01:16,  1.02it/s]\u001b[A\n",
      "  8%|▊         | 7/84 [00:06<01:17,  1.00s/it]\u001b[A\n",
      " 10%|▉         | 8/84 [00:07<01:16,  1.01s/it]\u001b[A\n",
      " 11%|█         | 9/84 [00:09<01:21,  1.08s/it]\u001b[A\n",
      " 12%|█▏        | 10/84 [00:10<01:22,  1.12s/it]\u001b[A\n",
      " 13%|█▎        | 11/84 [00:11<01:18,  1.07s/it]\u001b[A\n",
      " 14%|█▍        | 12/84 [00:12<01:11,  1.01it/s]\u001b[A\n",
      " 15%|█▌        | 13/84 [00:13<01:10,  1.01it/s]\u001b[A\n",
      " 17%|█▋        | 14/84 [00:13<01:07,  1.04it/s]\u001b[A\n",
      " 18%|█▊        | 15/84 [00:15<01:09,  1.01s/it]\u001b[A\n",
      " 19%|█▉        | 16/84 [00:16<01:09,  1.02s/it]\u001b[A\n",
      " 20%|██        | 17/84 [00:17<01:09,  1.03s/it]\u001b[A\n",
      " 21%|██▏       | 18/84 [00:18<01:06,  1.01s/it]\u001b[A\n",
      " 23%|██▎       | 19/84 [00:19<01:05,  1.01s/it]\u001b[A\n",
      " 24%|██▍       | 20/84 [00:20<01:03,  1.00it/s]\u001b[A\n",
      " 25%|██▌       | 21/84 [00:21<01:00,  1.04it/s]\u001b[A\n",
      " 26%|██▌       | 22/84 [00:22<01:00,  1.03it/s]\u001b[A\n",
      " 27%|██▋       | 23/84 [00:22<00:59,  1.03it/s]\u001b[A\n",
      " 29%|██▊       | 24/84 [00:24<00:59,  1.02it/s]\u001b[A\n",
      " 30%|██▉       | 25/84 [00:24<00:55,  1.06it/s]\u001b[A\n",
      " 31%|███       | 26/84 [00:26<01:03,  1.09s/it]\u001b[A\n",
      " 32%|███▏      | 27/84 [00:27<01:11,  1.25s/it]\u001b[A\n",
      " 33%|███▎      | 28/84 [00:29<01:10,  1.26s/it]\u001b[A\n",
      " 35%|███▍      | 29/84 [00:30<01:12,  1.32s/it]\u001b[A\n",
      " 36%|███▌      | 30/84 [00:31<01:11,  1.32s/it]\u001b[A\n",
      " 37%|███▋      | 31/84 [00:33<01:07,  1.27s/it]\u001b[A\n",
      " 38%|███▊      | 32/84 [00:34<01:05,  1.27s/it]\u001b[A\n",
      " 39%|███▉      | 33/84 [00:35<01:01,  1.20s/it]\u001b[A\n",
      " 40%|████      | 34/84 [00:36<00:55,  1.12s/it]\u001b[A\n",
      " 42%|████▏     | 35/84 [00:37<00:50,  1.04s/it]\u001b[A\n",
      " 43%|████▎     | 36/84 [00:38<00:46,  1.02it/s]\u001b[A\n",
      " 44%|████▍     | 37/84 [00:39<00:46,  1.01it/s]\u001b[A\n",
      " 45%|████▌     | 38/84 [00:40<00:46,  1.00s/it]\u001b[A\n",
      " 46%|████▋     | 39/84 [00:41<00:43,  1.03it/s]\u001b[A\n",
      " 48%|████▊     | 40/84 [00:42<00:44,  1.01s/it]\u001b[A\n",
      " 49%|████▉     | 41/84 [00:43<00:43,  1.00s/it]\u001b[A\n",
      " 50%|█████     | 42/84 [00:43<00:40,  1.05it/s]\u001b[A\n",
      " 51%|█████     | 43/84 [00:44<00:40,  1.01it/s]\u001b[A\n",
      " 52%|█████▏    | 44/84 [00:45<00:38,  1.03it/s]\u001b[A\n",
      " 54%|█████▎    | 45/84 [00:46<00:36,  1.07it/s]\u001b[A\n",
      " 55%|█████▍    | 46/84 [00:47<00:36,  1.04it/s]\u001b[A\n",
      " 56%|█████▌    | 47/84 [00:49<00:39,  1.06s/it]\u001b[A\n",
      " 57%|█████▋    | 48/84 [00:49<00:36,  1.01s/it]\u001b[A\n",
      " 58%|█████▊    | 49/84 [00:50<00:33,  1.03it/s]\u001b[A\n",
      " 60%|█████▉    | 50/84 [00:51<00:33,  1.01it/s]\u001b[A\n",
      " 61%|██████    | 51/84 [00:52<00:31,  1.03it/s]\u001b[A\n",
      " 62%|██████▏   | 52/84 [00:53<00:31,  1.03it/s]\u001b[A\n",
      " 63%|██████▎   | 53/84 [00:55<00:32,  1.04s/it]\u001b[A\n",
      " 64%|██████▍   | 54/84 [00:56<00:31,  1.06s/it]\u001b[A\n",
      " 65%|██████▌   | 55/84 [00:57<00:29,  1.03s/it]\u001b[A\n",
      " 67%|██████▋   | 56/84 [00:58<00:28,  1.01s/it]\u001b[A\n",
      " 68%|██████▊   | 57/84 [00:58<00:25,  1.05it/s]\u001b[A\n",
      " 69%|██████▉   | 58/84 [00:59<00:25,  1.02it/s]\u001b[A\n",
      " 70%|███████   | 59/84 [01:01<00:26,  1.05s/it]\u001b[A\n",
      " 71%|███████▏  | 60/84 [01:02<00:24,  1.02s/it]\u001b[A\n",
      " 73%|███████▎  | 61/84 [01:02<00:22,  1.03it/s]\u001b[A\n",
      " 74%|███████▍  | 62/84 [01:03<00:20,  1.07it/s]\u001b[A\n",
      " 75%|███████▌  | 63/84 [01:04<00:18,  1.11it/s]\u001b[A\n",
      " 76%|███████▌  | 64/84 [01:05<00:18,  1.05it/s]\u001b[A\n",
      " 77%|███████▋  | 65/84 [01:06<00:19,  1.03s/it]\u001b[A\n",
      " 79%|███████▊  | 66/84 [01:07<00:17,  1.01it/s]\u001b[A\n",
      " 80%|███████▉  | 67/84 [01:08<00:15,  1.06it/s]\u001b[A\n",
      " 81%|████████  | 68/84 [01:09<00:14,  1.08it/s]\u001b[A\n",
      " 82%|████████▏ | 69/84 [01:10<00:13,  1.15it/s]\u001b[A\n",
      " 83%|████████▎ | 70/84 [01:11<00:12,  1.16it/s]\u001b[A\n",
      " 85%|████████▍ | 71/84 [01:12<00:11,  1.13it/s]\u001b[A\n",
      " 86%|████████▌ | 72/84 [01:12<00:10,  1.11it/s]\u001b[A\n",
      " 87%|████████▋ | 73/84 [01:14<00:10,  1.04it/s]\u001b[A\n",
      " 88%|████████▊ | 74/84 [01:15<00:09,  1.04it/s]\u001b[A\n",
      " 89%|████████▉ | 75/84 [01:15<00:08,  1.07it/s]\u001b[A\n",
      " 90%|█████████ | 76/84 [01:16<00:07,  1.08it/s]\u001b[A\n",
      " 92%|█████████▏| 77/84 [01:17<00:06,  1.09it/s]\u001b[A\n",
      " 93%|█████████▎| 78/84 [01:18<00:05,  1.14it/s]\u001b[A\n",
      " 94%|█████████▍| 79/84 [01:19<00:04,  1.13it/s]\u001b[A\n",
      " 95%|█████████▌| 80/84 [01:20<00:03,  1.05it/s]\u001b[A\n",
      " 96%|█████████▋| 81/84 [01:21<00:03,  1.08s/it]\u001b[A\n",
      " 98%|█████████▊| 82/84 [01:22<00:02,  1.07s/it]\u001b[A\n",
      " 99%|█████████▉| 83/84 [01:23<00:01,  1.06s/it]\u001b[A\n",
      "100%|██████████| 84/84 [01:24<00:00,  1.01s/it]\u001b[A\n",
      "100%|██████████| 8/8 [10:48<00:00, 81.07s/it]\n"
     ]
    }
   ],
   "source": [
    "n_trial = X_all.shape[0]\n",
    "T = X_all.shape[1]\n",
    "K = 10\n",
    "\n",
    "for h in [1, 2, 3]:\n",
    "    dnml_whole_list, nml_x_z_whole_list, nml_z_whole_list = \\\n",
    "        np.nan * np.ones((n_trial, T, K)), np.nan * np.ones((n_trial, T, K)), np.nan * np.ones((n_trial, T, K))\n",
    "    dnml_former_list, nml_x_z_former_list, nml_z_former_list = \\\n",
    "        np.nan * np.ones((n_trial, T, K)), np.nan * np.ones((n_trial, T, K)), np.nan * np.ones((n_trial, T, K))\n",
    "    dnml_latter_list, nml_x_z_latter_list, nml_z_latter_list = \\\n",
    "        np.nan * np.ones((n_trial, T, K)), np.nan * np.ones((n_trial, T, K)), np.nan * np.ones((n_trial, T, K))\n",
    "\n",
    "    for trial in tqdm.tqdm(range(n_trial)):\n",
    "        for t in tqdm.tqdm(range(h, T-h)):\n",
    "            for k in range(K):\n",
    "                t_start = t-h\n",
    "                t_end = t+h\n",
    "\n",
    "                # whole\n",
    "                n_whole = np.sum([[np.sum(np.argmax(Z_all[trial][tt][k], axis=1) == v) for v in range(k+1)] \n",
    "                                  for tt in range(t_start, t_end)], axis=0)\n",
    "\n",
    "                theta_hat_whole = np.sum(\n",
    "                        [[[np.sum(X_all[trial][tt][np.argmax(Z_all[trial][tt][k], axis=1) == k1, :][:, np.argmax(Z_all[trial][tt][k], axis=1) == k2])\n",
    "                           for k2 in range(k+1)] for k1 in range(k+1)] \n",
    "                           for tt in range(t_start, t_end)], axis=0) / \\\n",
    "                        np.sum(\n",
    "                            [[[np.sum(np.argmax(Z_all[trial][tt][k], axis=1) == k1) * \n",
    "                               np.sum(np.argmax(Z_all[trial][tt][k], axis=1) == k2) \n",
    "                            for k2 in range(k+1)] for k1 in range(k+1)] \n",
    "                            for tt in range(t_start, t_end)], axis=0)\n",
    "                theta_hat_whole = theta_hat_whole[n_whole !=0, :][:, n_whole !=0]\n",
    "                pi_hat_whole = n_whole[n_whole !=0] /np.sum(n_whole)\n",
    "\n",
    "                n_cluster_whole = len(pi_hat_whole)\n",
    "                res_w = np.array([calc_dnml_by_prob(X_all[trial, tt, :, :], \n",
    "                                                    Z_all[trial][tt][k], \n",
    "                                                    pi_hat_whole, theta_hat_whole,\n",
    "                                                    n_cluster_whole, n_cluster_whole) \n",
    "                                  for tt in range(t_start, t_end)])\n",
    "\n",
    "                dnml_whole = np.sum(res_w[:, 0])\n",
    "                nml_x_z_whole = np.sum(res_w[:, 1])\n",
    "                nml_z_whole = np.sum(res_w[:, 2])\n",
    "\n",
    "                val = dnml_whole_list[trial, t, n_cluster_whole-1]\n",
    "                if (np.isnan(val) | ( (np.isfinite(val)) & (dnml_whole < val) )):\n",
    "                    dnml_whole_list[trial, t, n_cluster_whole-1] = dnml_whole\n",
    "                    nml_x_z_whole_list[trial, t, n_cluster_whole-1] = nml_x_z_whole\n",
    "                    nml_z_whole_list[trial, t, n_cluster_whole-1] = nml_z_whole\n",
    "\n",
    "                # former\n",
    "                n_former = np.sum([[np.sum(np.argmax(Z_all[trial][tt][k], axis=1) == v) for v in range(k+1)] \n",
    "                                   for tt in range(t_start, t_start+h)], axis=0)\n",
    "\n",
    "                theta_hat_former = np.sum(\n",
    "                        [[[np.sum(X_all[trial][tt][np.argmax(Z_all[trial][tt][k], axis=1) == k1, :][:, np.argmax(Z_all[trial][tt][k], axis=1) == k2])\n",
    "                            for k2 in range(k+1)] for k1 in range(k+1)] \n",
    "                         for tt in range(t_start, t_start+h)], axis=0) / \\\n",
    "                        np.sum(\n",
    "                            [[[np.sum(np.argmax(Z_all[trial][tt][k], axis=1) == k1) * np.sum(np.argmax(Z_all[trial][tt][k], axis=1) == k2) \n",
    "                            for k2 in range(k+1)] for k1 in range(k+1)] \n",
    "                            for tt in range(t_start, t_start+h)], axis=0)\n",
    "\n",
    "                theta_hat_former = theta_hat_former[n_former !=0, :][:, n_former !=0]\n",
    "                pi_hat_former = n_former[n_former !=0] /np.sum(n_former)\n",
    "\n",
    "                n_cluster_former = len(pi_hat_former)\n",
    "                res_f = np.array([calc_dnml_by_prob(X_all[trial, tt, :, :], \n",
    "                                                    Z_all[trial][tt][k], \n",
    "                                                    pi_hat_former, theta_hat_former,\n",
    "                                                    n_cluster_former, n_cluster_former) \n",
    "                                  for tt in range(t_start, t_start+h)])\n",
    "\n",
    "                dnml_former = np.sum(res_f[:, 0])\n",
    "                nml_x_z_former = np.sum(res_f[:, 1])\n",
    "                nml_z_former = np.sum(res_f[:, 2])\n",
    "\n",
    "                val = dnml_former_list[trial, t, n_cluster_former-1]\n",
    "                if (np.isnan(val) | ( (np.isfinite(val)) & (dnml_former < val) )):\n",
    "                    dnml_former_list[trial, t, n_cluster_former-1] = dnml_former\n",
    "                    nml_x_z_former_list[trial, t, n_cluster_former-1] = nml_x_z_former\n",
    "                    nml_z_former_list[trial, t, n_cluster_former-1] = nml_z_former\n",
    "\n",
    "                # latter\n",
    "                n_latter = np.sum([[np.sum(np.argmax(Z_all[trial][tt][k], axis=1) == v) for v in range(k+1)]\n",
    "                                   for tt in range(t_start+h, t_end)], axis=0)\n",
    "\n",
    "                theta_hat_latter = np.sum(\n",
    "                         [[[np.sum(X_all[trial][tt][np.argmax(Z_all[trial][tt][k], axis=1) == k1, :][:, np.argmax(Z_all[trial][tt][k], axis=1) == k2])\n",
    "                            for k2 in range(k+1)] for k1 in range(k+1)] for tt in range(t_start+h, t_end)], axis=0) / \\\n",
    "                        np.sum(\n",
    "                         [[[np.sum(np.argmax(Z_all[trial][tt][k], axis=1) == k1) * \n",
    "                            np.sum(np.argmax(Z_all[trial][tt][k], axis=1) == k2) \n",
    "                            for k2 in range(k+1)] for k1 in range(k+1)] for tt in range(t_start+h, t_end)], axis=0)\n",
    "\n",
    "                theta_hat_latter = theta_hat_latter[n_latter != 0, :][:, n_latter !=0]\n",
    "                pi_hat_latter = n_latter[n_latter != 0] /np.sum(n_latter)\n",
    "\n",
    "                n_cluster_latter = len(pi_hat_latter)\n",
    "                res_l = np.array([calc_dnml_by_prob(X_all[trial, tt, :, :], \n",
    "                                                    Z_all[trial][tt][k], \n",
    "                                                    pi_hat_latter, theta_hat_latter,\n",
    "                                                    n_cluster_latter, n_cluster_latter) \n",
    "                                  for tt in range(t_start+h, t_end)])\n",
    "\n",
    "                dnml_latter = np.sum(res_l[:, 0])\n",
    "                nml_x_z_latter = np.sum(res_l[:, 1])\n",
    "                nml_z_latter = np.sum(res_l[:, 2])\n",
    "\n",
    "                val = dnml_latter_list[trial, t, n_cluster_latter-1]\n",
    "                if (np.isnan(val) | ( (np.isfinite(val)) & (dnml_latter < val) )):\n",
    "                    dnml_latter_list[trial, t, n_cluster_latter-1] = dnml_latter\n",
    "                    nml_x_z_latter_list[trial, t, n_cluster_latter-1] = nml_x_z_latter\n",
    "                    nml_z_latter_list[trial, t, n_cluster_latter-1] = nml_z_latter\n",
    "\n",
    "    with open(os.path.join(outdir, 'dnml_all_h' + str(h) + '.pkl'), 'wb') as f:\n",
    "        pickle.dump(dnml_whole_list, f)\n",
    "    with open(os.path.join(outdir, 'dnml_f_h' + str(h) + '.pkl'), 'wb') as f:\n",
    "        pickle.dump(dnml_former_list, f)\n",
    "    with open(os.path.join(outdir, 'dnml_l_h' + str(h) + '.pkl'), 'wb') as f:\n",
    "        pickle.dump(dnml_latter_list, f)\n",
    "\n",
    "    with open(os.path.join(outdir, 'nml_x_z_all_h' + str(h) + '.pkl'), 'wb') as f:\n",
    "        pickle.dump(nml_x_z_whole_list, f)\n",
    "    with open(os.path.join(outdir, 'nml_x_z_f_h' + str(h) + '.pkl'), 'wb') as f:\n",
    "        pickle.dump(nml_x_z_former_list, f)\n",
    "    with open(os.path.join(outdir, 'nml_x_z_l_h' + str(h) + '.pkl'), 'wb') as f:\n",
    "        pickle.dump(nml_x_z_latter_list, f)\n",
    "\n",
    "    with open(os.path.join(outdir, 'nml_z_all_h' + str(h) + '.pkl'), 'wb') as f:\n",
    "        pickle.dump(nml_z_whole_list, f)\n",
    "    with open(os.path.join(outdir, 'nml_z_f_h' + str(h) + '.pkl'), 'wb') as f:\n",
    "        pickle.dump(nml_z_former_list, f)\n",
    "    with open(os.path.join(outdir, 'nml_z_l_h' + str(h) + '.pkl'), 'wb') as f:\n",
    "        pickle.dump(nml_z_latter_list, f)"
   ]
  },
  {
   "cell_type": "code",
   "execution_count": null,
   "metadata": {},
   "outputs": [],
   "source": []
  }
 ],
 "metadata": {
  "kernelspec": {
   "display_name": "Python 3",
   "language": "python",
   "name": "python3"
  },
  "language_info": {
   "codemirror_mode": {
    "name": "ipython",
    "version": 3
   },
   "file_extension": ".py",
   "mimetype": "text/x-python",
   "name": "python",
   "nbconvert_exporter": "python",
   "pygments_lexer": "ipython3",
   "version": "3.7.2"
  }
 },
 "nbformat": 4,
 "nbformat_minor": 4
}
